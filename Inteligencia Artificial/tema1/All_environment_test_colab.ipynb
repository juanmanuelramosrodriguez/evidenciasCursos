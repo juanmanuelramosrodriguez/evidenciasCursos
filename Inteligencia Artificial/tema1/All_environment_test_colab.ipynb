{
  "nbformat": 4,
  "nbformat_minor": 0,
  "metadata": {
    "colab": {
      "name": "colab.ipynb",
      "provenance": [],
      "collapsed_sections": [],
      "toc_visible": true
    },
    "kernelspec": {
      "name": "python3",
      "display_name": "Python 3"
    }
  },
  "cells": [
    {
      "cell_type": "markdown",
      "metadata": {
        "id": "L1SHs6riAj1s",
        "colab_type": "text"
      },
      "source": [
        "# Clonamos el repositorio para obtener los dataSet\n",
        "\n",
        "\n",
        "\n"
      ]
    },
    {
      "cell_type": "code",
      "metadata": {
        "id": "9WFfFZvPApeD",
        "colab_type": "code",
        "colab": {
          "base_uri": "https://localhost:8080/",
          "height": 101
        },
        "outputId": "753ce598-01d9-49d8-8e35-67d7fe8e7735"
      },
      "source": [
        "!git clone https://github.com/joanby/ia-course.git"
      ],
      "execution_count": 1,
      "outputs": [
        {
          "output_type": "stream",
          "text": [
            "Cloning into 'ia-course'...\n",
            "remote: Enumerating objects: 375, done.\u001b[K\n",
            "remote: Total 375 (delta 0), reused 0 (delta 0), pack-reused 375\u001b[K\n",
            "Receiving objects: 100% (375/375), 32.53 MiB | 17.19 MiB/s, done.\n",
            "Resolving deltas: 100% (67/67), done.\n"
          ],
          "name": "stdout"
        }
      ]
    },
    {
      "cell_type": "markdown",
      "metadata": {
        "id": "BZZLJUFyA6hs",
        "colab_type": "text"
      },
      "source": [
        "# Damos acceso a nuestro Drive"
      ]
    },
    {
      "cell_type": "code",
      "metadata": {
        "id": "WMVaYKVrA92v",
        "colab_type": "code",
        "colab": {
          "base_uri": "https://localhost:8080/",
          "height": 407
        },
        "outputId": "1373eb51-c140-40d9-a714-201a5c47b791"
      },
      "source": [
        "from google.colab import drive\n",
        "drive.mount('/content/drive')"
      ],
      "execution_count": 2,
      "outputs": [
        {
          "output_type": "stream",
          "text": [
            "Go to this URL in a browser: https://accounts.google.com/o/oauth2/auth?client_id=947318989803-6bn6qk8qdgf4n4g3pfee6491hc0brc4i.apps.googleusercontent.com&redirect_uri=urn%3aietf%3awg%3aoauth%3a2.0%3aoob&scope=email%20https%3a%2f%2fwww.googleapis.com%2fauth%2fdocs.test%20https%3a%2f%2fwww.googleapis.com%2fauth%2fdrive%20https%3a%2f%2fwww.googleapis.com%2fauth%2fdrive.photos.readonly%20https%3a%2f%2fwww.googleapis.com%2fauth%2fpeopleapi.readonly&response_type=code\n",
            "\n",
            "Enter your authorization code:\n",
            "··········\n"
          ],
          "name": "stdout"
        },
        {
          "output_type": "error",
          "ename": "KeyboardInterrupt",
          "evalue": "ignored",
          "traceback": [
            "\u001b[0;31m---------------------------------------------------------------------------\u001b[0m",
            "\u001b[0;31mKeyboardInterrupt\u001b[0m                         Traceback (most recent call last)",
            "\u001b[0;32m<ipython-input-2-d5df0069828e>\u001b[0m in \u001b[0;36m<module>\u001b[0;34m()\u001b[0m\n\u001b[1;32m      1\u001b[0m \u001b[0;32mfrom\u001b[0m \u001b[0mgoogle\u001b[0m\u001b[0;34m.\u001b[0m\u001b[0mcolab\u001b[0m \u001b[0;32mimport\u001b[0m \u001b[0mdrive\u001b[0m\u001b[0;34m\u001b[0m\u001b[0;34m\u001b[0m\u001b[0m\n\u001b[0;32m----> 2\u001b[0;31m \u001b[0mdrive\u001b[0m\u001b[0;34m.\u001b[0m\u001b[0mmount\u001b[0m\u001b[0;34m(\u001b[0m\u001b[0;34m'/content/drive'\u001b[0m\u001b[0;34m)\u001b[0m\u001b[0;34m\u001b[0m\u001b[0;34m\u001b[0m\u001b[0m\n\u001b[0m",
            "\u001b[0;32m/usr/local/lib/python3.6/dist-packages/google/colab/drive.py\u001b[0m in \u001b[0;36mmount\u001b[0;34m(mountpoint, force_remount, timeout_ms, use_metadata_server)\u001b[0m\n\u001b[1;32m    223\u001b[0m         \u001b[0moauth_prompt\u001b[0m\u001b[0;34m,\u001b[0m\u001b[0;34m\u001b[0m\u001b[0;34m\u001b[0m\u001b[0m\n\u001b[1;32m    224\u001b[0m         \u001b[0mproblem_and_stopped\u001b[0m\u001b[0;34m,\u001b[0m\u001b[0;34m\u001b[0m\u001b[0;34m\u001b[0m\u001b[0m\n\u001b[0;32m--> 225\u001b[0;31m         \u001b[0mdrive_exited\u001b[0m\u001b[0;34m,\u001b[0m\u001b[0;34m\u001b[0m\u001b[0;34m\u001b[0m\u001b[0m\n\u001b[0m\u001b[1;32m    226\u001b[0m     ])\n\u001b[1;32m    227\u001b[0m     \u001b[0;32mif\u001b[0m \u001b[0mcase\u001b[0m \u001b[0;34m==\u001b[0m \u001b[0;36m0\u001b[0m\u001b[0;34m:\u001b[0m\u001b[0;34m\u001b[0m\u001b[0;34m\u001b[0m\u001b[0m\n",
            "\u001b[0;32m/usr/local/lib/python3.6/dist-packages/pexpect/spawnbase.py\u001b[0m in \u001b[0;36mexpect\u001b[0;34m(self, pattern, timeout, searchwindowsize, async_, **kw)\u001b[0m\n\u001b[1;32m    342\u001b[0m         \u001b[0mcompiled_pattern_list\u001b[0m \u001b[0;34m=\u001b[0m \u001b[0mself\u001b[0m\u001b[0;34m.\u001b[0m\u001b[0mcompile_pattern_list\u001b[0m\u001b[0;34m(\u001b[0m\u001b[0mpattern\u001b[0m\u001b[0;34m)\u001b[0m\u001b[0;34m\u001b[0m\u001b[0;34m\u001b[0m\u001b[0m\n\u001b[1;32m    343\u001b[0m         return self.expect_list(compiled_pattern_list,\n\u001b[0;32m--> 344\u001b[0;31m                 timeout, searchwindowsize, async_)\n\u001b[0m\u001b[1;32m    345\u001b[0m \u001b[0;34m\u001b[0m\u001b[0m\n\u001b[1;32m    346\u001b[0m     def expect_list(self, pattern_list, timeout=-1, searchwindowsize=-1,\n",
            "\u001b[0;32m/usr/local/lib/python3.6/dist-packages/pexpect/spawnbase.py\u001b[0m in \u001b[0;36mexpect_list\u001b[0;34m(self, pattern_list, timeout, searchwindowsize, async_, **kw)\u001b[0m\n\u001b[1;32m    370\u001b[0m             \u001b[0;32mreturn\u001b[0m \u001b[0mexpect_async\u001b[0m\u001b[0;34m(\u001b[0m\u001b[0mexp\u001b[0m\u001b[0;34m,\u001b[0m \u001b[0mtimeout\u001b[0m\u001b[0;34m)\u001b[0m\u001b[0;34m\u001b[0m\u001b[0;34m\u001b[0m\u001b[0m\n\u001b[1;32m    371\u001b[0m         \u001b[0;32melse\u001b[0m\u001b[0;34m:\u001b[0m\u001b[0;34m\u001b[0m\u001b[0;34m\u001b[0m\u001b[0m\n\u001b[0;32m--> 372\u001b[0;31m             \u001b[0;32mreturn\u001b[0m \u001b[0mexp\u001b[0m\u001b[0;34m.\u001b[0m\u001b[0mexpect_loop\u001b[0m\u001b[0;34m(\u001b[0m\u001b[0mtimeout\u001b[0m\u001b[0;34m)\u001b[0m\u001b[0;34m\u001b[0m\u001b[0;34m\u001b[0m\u001b[0m\n\u001b[0m\u001b[1;32m    373\u001b[0m \u001b[0;34m\u001b[0m\u001b[0m\n\u001b[1;32m    374\u001b[0m     def expect_exact(self, pattern_list, timeout=-1, searchwindowsize=-1,\n",
            "\u001b[0;32m/usr/local/lib/python3.6/dist-packages/pexpect/expect.py\u001b[0m in \u001b[0;36mexpect_loop\u001b[0;34m(self, timeout)\u001b[0m\n\u001b[1;32m    169\u001b[0m                 \u001b[0mincoming\u001b[0m \u001b[0;34m=\u001b[0m \u001b[0mspawn\u001b[0m\u001b[0;34m.\u001b[0m\u001b[0mread_nonblocking\u001b[0m\u001b[0;34m(\u001b[0m\u001b[0mspawn\u001b[0m\u001b[0;34m.\u001b[0m\u001b[0mmaxread\u001b[0m\u001b[0;34m,\u001b[0m \u001b[0mtimeout\u001b[0m\u001b[0;34m)\u001b[0m\u001b[0;34m\u001b[0m\u001b[0;34m\u001b[0m\u001b[0m\n\u001b[1;32m    170\u001b[0m                 \u001b[0;32mif\u001b[0m \u001b[0mself\u001b[0m\u001b[0;34m.\u001b[0m\u001b[0mspawn\u001b[0m\u001b[0;34m.\u001b[0m\u001b[0mdelayafterread\u001b[0m \u001b[0;32mis\u001b[0m \u001b[0;32mnot\u001b[0m \u001b[0;32mNone\u001b[0m\u001b[0;34m:\u001b[0m\u001b[0;34m\u001b[0m\u001b[0;34m\u001b[0m\u001b[0m\n\u001b[0;32m--> 171\u001b[0;31m                     \u001b[0mtime\u001b[0m\u001b[0;34m.\u001b[0m\u001b[0msleep\u001b[0m\u001b[0;34m(\u001b[0m\u001b[0mself\u001b[0m\u001b[0;34m.\u001b[0m\u001b[0mspawn\u001b[0m\u001b[0;34m.\u001b[0m\u001b[0mdelayafterread\u001b[0m\u001b[0;34m)\u001b[0m\u001b[0;34m\u001b[0m\u001b[0;34m\u001b[0m\u001b[0m\n\u001b[0m\u001b[1;32m    172\u001b[0m                 \u001b[0midx\u001b[0m \u001b[0;34m=\u001b[0m \u001b[0mself\u001b[0m\u001b[0;34m.\u001b[0m\u001b[0mnew_data\u001b[0m\u001b[0;34m(\u001b[0m\u001b[0mincoming\u001b[0m\u001b[0;34m)\u001b[0m\u001b[0;34m\u001b[0m\u001b[0;34m\u001b[0m\u001b[0m\n\u001b[1;32m    173\u001b[0m                 \u001b[0;31m# Keep reading until exception or return.\u001b[0m\u001b[0;34m\u001b[0m\u001b[0;34m\u001b[0m\u001b[0;34m\u001b[0m\u001b[0m\n",
            "\u001b[0;31mKeyboardInterrupt\u001b[0m: "
          ]
        }
      ]
    },
    {
      "cell_type": "markdown",
      "metadata": {
        "id": "D8CYKTxkJB53",
        "colab_type": "text"
      },
      "source": [
        "# Test it"
      ]
    },
    {
      "cell_type": "code",
      "metadata": {
        "id": "COqkUYzLJBEY",
        "colab_type": "code",
        "colab": {}
      },
      "source": [
        "!ls '/content/drive/My Drive' "
      ],
      "execution_count": null,
      "outputs": []
    },
    {
      "cell_type": "markdown",
      "metadata": {
        "id": "eas_Lb17J4jY",
        "colab_type": "text"
      },
      "source": [
        "#Google colab tools"
      ]
    },
    {
      "cell_type": "code",
      "metadata": {
        "id": "a-Kmgf5ZJ5QV",
        "colab_type": "code",
        "colab": {}
      },
      "source": [
        "from google.colab import files # Para manejar los archivos y, por ejemplo, exportar a su navegador\n",
        "import glob # Para manejar los archivos y, por ejemplo, exportar a su navegador\n",
        "from google.colab import drive # Montar tu Google drive"
      ],
      "execution_count": 15,
      "outputs": []
    },
    {
      "cell_type": "markdown",
      "metadata": {
        "id": "odNaDE1zyrL2",
        "colab_type": "text"
      },
      "source": [
        "# Instalar dependencias de Renderizado, tarda alrededor de 45 segundos\n"
      ]
    },
    {
      "cell_type": "code",
      "metadata": {
        "id": "eDPDMlDo4RqU",
        "colab_type": "code",
        "colab": {}
      },
      "source": [
        "!apt-get update > /dev/null 2>&1\n",
        "!apt-get install python-opengl -y > /dev/null 2>&1\n",
        "!apt install xvfb -y --fix-missing > /dev/null 2>&1\n",
        "!apt-get install ffmpeg > /dev/null 2>&1\n",
        "!apt-get install x11-utils > /dev/null 2>&1\n",
        "!apt-get install pyglet > /dev/null 2>&1\n"
      ],
      "execution_count": 3,
      "outputs": []
    },
    {
      "cell_type": "markdown",
      "metadata": {
        "id": "3xxsEvp14U-Q",
        "colab_type": "text"
      },
      "source": [
        "# Instalar OpenAi Gym"
      ]
    },
    {
      "cell_type": "code",
      "metadata": {
        "id": "OCuDUcBL4SCV",
        "colab_type": "code",
        "colab": {}
      },
      "source": [
        "!pip install gym pyvirtualdisplay > /dev/null 2>&1\n",
        "!pip install piglet > /dev/null 2>&1\n",
        "!pip install 'gym[box2d]' > /dev/null 2>&1\n",
        "#por si quieres algun environment en concreto\n",
        "#!pip install atari_py > /dev/null 2>&1\n",
        "#!pip install gym[atari] > /dev/null 2>&1"
      ],
      "execution_count": 14,
      "outputs": []
    },
    {
      "cell_type": "markdown",
      "metadata": {
        "id": "gkkUdIpJ5lHQ",
        "colab_type": "text"
      },
      "source": [
        "# Todos los imports necesarios en google colab y helpers para poder visualizar OpenAi"
      ]
    },
    {
      "cell_type": "code",
      "metadata": {
        "id": "sbgBYNVD5i6v",
        "colab_type": "code",
        "colab": {}
      },
      "source": [
        "import gym\n",
        "from gym import logger as gymlogger\n",
        "from gym.wrappers import Monitor\n",
        "gymlogger.set_level(40) #error only\n",
        "import numpy as np\n",
        "import random\n",
        "import matplotlib\n",
        "import matplotlib.pyplot as plt\n",
        "%matplotlib inline\n",
        "import math\n",
        "import glob\n",
        "import io\n",
        "import base64\n",
        "from IPython.display import HTML\n",
        "\n",
        "from IPython import display as ipythondisplay"
      ],
      "execution_count": 5,
      "outputs": []
    },
    {
      "cell_type": "markdown",
      "metadata": {
        "id": "r5DvRsCZ4b-G",
        "colab_type": "text"
      },
      "source": [
        "# Activamos una vista, seria como crear un plot de una grafica en python"
      ]
    },
    {
      "cell_type": "code",
      "metadata": {
        "id": "oDMnJvk-4cec",
        "colab_type": "code",
        "colab": {
          "base_uri": "https://localhost:8080/",
          "height": 34
        },
        "outputId": "f531a21c-2159-44e7-ca29-9eb9ffe2f796"
      },
      "source": [
        "from pyvirtualdisplay import Display\n",
        "display = Display(visible=0, size=(1400, 900)) #Puedes modificar el high and width de la pantalla\n",
        "display.start()"
      ],
      "execution_count": 6,
      "outputs": [
        {
          "output_type": "execute_result",
          "data": {
            "text/plain": [
              "<pyvirtualdisplay.display.Display at 0x7fa5b6e24940>"
            ]
          },
          "metadata": {
            "tags": []
          },
          "execution_count": 6
        }
      ]
    },
    {
      "cell_type": "markdown",
      "metadata": {
        "id": "x80iaLF94eOh",
        "colab_type": "text"
      },
      "source": [
        "# Este código crea una pantalla virtual para dibujar imágenes del juego. \n",
        "## Si se ejecuta localmente, simplemente ignóralo"
      ]
    },
    {
      "cell_type": "code",
      "metadata": {
        "id": "L0H-whKQ4fvA",
        "colab_type": "code",
        "colab": {}
      },
      "source": [
        "import os\n",
        "if type(os.environ.get('DISPLAY')) is not str or \\\n",
        "        len(os.environ.get('DISPLAY')) == 0:\n",
        "    !bash ../xvfb start\n",
        "    %env DISPLAY=:1"
      ],
      "execution_count": 7,
      "outputs": []
    },
    {
      "cell_type": "markdown",
      "metadata": {
        "id": "OMqg9TAA4qxy",
        "colab_type": "text"
      },
      "source": [
        "# Funciones de utilidad para permitir la grabación de video del ambiente del gimnasio y su visualización\n",
        "## Para habilitar la visualizacion por pantalla , tan solo haz \"**environment = wrap_env(environment)**\", por ejemplo: **environment = wrap_env(gym.make(\"MountainCar-v0\"))**"
      ]
    },
    {
      "cell_type": "code",
      "metadata": {
        "id": "XKFIMV_l4m2x",
        "colab_type": "code",
        "colab": {}
      },
      "source": [
        "import io\n",
        "import glob\n",
        "import base64\n",
        "from IPython.display import HTML\n",
        "from IPython import display as ipythondisplay\n",
        "\n",
        "def show_video():\n",
        "    mp4list = glob.glob('video/*.mp4')\n",
        "    if len(mp4list) > 0:\n",
        "        mp4 = mp4list[0]\n",
        "        video = io.open(mp4, 'r+b').read()\n",
        "        encoded = base64.b64encode(video)\n",
        "\n",
        "        content = ipythondisplay.display(HTML(data='''\n",
        "        <video alt=\"test\" autoplay loop controls style=\"height: 400px;\">\n",
        "            <source src=\"data:video/mp4;base64,{0}\" type=\"video/mp4\" />\n",
        "        </video>\n",
        "        '''.format(encoded.decode('ascii'))))\n",
        "    else: \n",
        "        print(\"Couldn't find video\")\n",
        "\n",
        "def wrap_env(env):\n",
        "    env = gym.wrappers.Monitor(env, './video', force=True)\n",
        "    return env"
      ],
      "execution_count": 8,
      "outputs": []
    },
    {
      "cell_type": "markdown",
      "metadata": {
        "id": "IeCCtgxDBiGi",
        "colab_type": "text"
      },
      "source": [
        "# Creamos la variable del environment"
      ]
    },
    {
      "cell_type": "code",
      "metadata": {
        "id": "bFb6dM4N4v8O",
        "colab_type": "code",
        "colab": {}
      },
      "source": [
        "environment = wrap_env(gym.make(\"MountainCar-v0\"))"
      ],
      "execution_count": 9,
      "outputs": []
    },
    {
      "cell_type": "markdown",
      "metadata": {
        "id": "P8ZPonAHBnfU",
        "colab_type": "text"
      },
      "source": [
        "#Comprueba el espacio de acción del environment!"
      ]
    },
    {
      "cell_type": "code",
      "metadata": {
        "id": "97q-1LIL5t4L",
        "colab_type": "code",
        "colab": {
          "base_uri": "https://localhost:8080/",
          "height": 34
        },
        "outputId": "45c35dbb-ecf3-485f-e2c8-5af759336251"
      },
      "source": [
        "print(environment.action_space)"
      ],
      "execution_count": 10,
      "outputs": [
        {
          "output_type": "stream",
          "text": [
            "Discrete(3)\n"
          ],
          "name": "stdout"
        }
      ]
    },
    {
      "cell_type": "code",
      "metadata": {
        "id": "oH5Cvg6P87Qh",
        "colab_type": "code",
        "colab": {
          "base_uri": "https://localhost:8080/",
          "height": 421
        },
        "outputId": "05147e48-bb2d-4f97-c15d-3c5f8e3ad059"
      },
      "source": [
        "observation = environment.reset() # Limpiamos y preparamos el entorno para tomar decisiones\n",
        "for _ in range(2000): # Durante 2000 iteraciones (veces)\n",
        "    environment.render() # Pintamos en pantalla la acción\n",
        "    action = environment.action_space.sample() # Tomamos una decisión aleatoria del conjunto de las disponibles\n",
        "    observation, reward, done, info = environment.step(action) #Ejecutamos esa accion\n",
        "    #next_state -> Object\n",
        "    #reward     -> Float\n",
        "    #done       -> Boolean\n",
        "    #info       -> Dictionary\n",
        "    #Arreglar: Trying to step environment which is currently done. While the monitor is active for MountainCar-v0, you cannot step beyond the end of an episode. Call 'env.reset()' to start the next episode.\n",
        "    if done: \n",
        "     break;\n",
        "environment.close() # Cerramos la sesión de Open AI Gym\n",
        "show_video() #IMPORTANTE: Esto es para mostrar la pantalla en google colab"
      ],
      "execution_count": 11,
      "outputs": [
        {
          "output_type": "display_data",
          "data": {
            "text/html": [
              "\n",
              "        <video alt=\"test\" autoplay loop controls style=\"height: 400px;\">\n",
              "            <source src=\"data:video/mp4;base64,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\" type=\"video/mp4\" />\n",
              "        </video>\n",
              "        "
            ],
            "text/plain": [
              "<IPython.core.display.HTML object>"
            ]
          },
          "metadata": {
            "tags": []
          }
        }
      ]
    },
    {
      "cell_type": "markdown",
      "metadata": {
        "id": "zAUV_qjHIFAK",
        "colab_type": "text"
      },
      "source": [
        "# Test Instalacion Pytorch\n",
        "### Pytorch viene preinstalado en google colab pero ejecuta la siguiente celda para tener la ultima version"
      ]
    },
    {
      "cell_type": "code",
      "metadata": {
        "id": "-3orD7VGIHHD",
        "colab_type": "code",
        "colab": {
          "base_uri": "https://localhost:8080/",
          "height": 101
        },
        "outputId": "07694456-46ca-498a-bc89-9d8e813ff670"
      },
      "source": [
        "pip install torch torchvision"
      ],
      "execution_count": 12,
      "outputs": [
        {
          "output_type": "stream",
          "text": [
            "Requirement already satisfied: torch in /usr/local/lib/python3.6/dist-packages (1.6.0+cu101)\n",
            "Requirement already satisfied: torchvision in /usr/local/lib/python3.6/dist-packages (0.7.0+cu101)\n",
            "Requirement already satisfied: future in /usr/local/lib/python3.6/dist-packages (from torch) (0.16.0)\n",
            "Requirement already satisfied: numpy in /usr/local/lib/python3.6/dist-packages (from torch) (1.18.5)\n",
            "Requirement already satisfied: pillow>=4.1.1 in /usr/local/lib/python3.6/dist-packages (from torchvision) (7.0.0)\n"
          ],
          "name": "stdout"
        }
      ]
    },
    {
      "cell_type": "markdown",
      "metadata": {
        "id": "SQFKx1VBIXhf",
        "colab_type": "text"
      },
      "source": [
        "# Test de pytorch"
      ]
    },
    {
      "cell_type": "code",
      "metadata": {
        "id": "bJLWysRMIYjQ",
        "colab_type": "code",
        "colab": {
          "base_uri": "https://localhost:8080/",
          "height": 67
        },
        "outputId": "50a4d037-0039-41af-b7ea-43e18c75a320"
      },
      "source": [
        "import torch\n",
        "\n",
        "t = torch.Tensor(3,3)\n",
        "print(t)"
      ],
      "execution_count": 13,
      "outputs": [
        {
          "output_type": "stream",
          "text": [
            "tensor([[3.8532e-33, 0.0000e+00, 3.7835e-44],\n",
            "        [0.0000e+00,        nan, 0.0000e+00],\n",
            "        [1.3733e-14, 6.4069e+02, 4.3066e+21]])\n"
          ],
          "name": "stdout"
        }
      ]
    }
  ]
}