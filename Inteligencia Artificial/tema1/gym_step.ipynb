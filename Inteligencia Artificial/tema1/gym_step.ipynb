{
  "nbformat": 4,
  "nbformat_minor": 0,
  "metadata": {
    "colab": {
      "name": "colab.ipynb",
      "provenance": [],
      "collapsed_sections": [],
      "toc_visible": true
    },
    "kernelspec": {
      "name": "python3",
      "display_name": "Python 3"
    }
  },
  "cells": [
    {
      "cell_type": "markdown",
      "metadata": {
        "id": "L1SHs6riAj1s",
        "colab_type": "text"
      },
      "source": [
        "# Clonamos el repositorio para obtener los dataSet\n",
        "\n",
        "\n",
        "\n"
      ]
    },
    {
      "cell_type": "code",
      "metadata": {
        "id": "9WFfFZvPApeD",
        "colab_type": "code",
        "colab": {
          "base_uri": "https://localhost:8080/",
          "height": 101
        },
        "outputId": "753ce598-01d9-49d8-8e35-67d7fe8e7735"
      },
      "source": [
        "!git clone https://github.com/joanby/ia-course.git"
      ],
      "execution_count": 1,
      "outputs": [
        {
          "output_type": "stream",
          "text": [
            "Cloning into 'ia-course'...\n",
            "remote: Enumerating objects: 375, done.\u001b[K\n",
            "remote: Total 375 (delta 0), reused 0 (delta 0), pack-reused 375\u001b[K\n",
            "Receiving objects: 100% (375/375), 32.53 MiB | 17.19 MiB/s, done.\n",
            "Resolving deltas: 100% (67/67), done.\n"
          ],
          "name": "stdout"
        }
      ]
    },
    {
      "cell_type": "markdown",
      "metadata": {
        "id": "BZZLJUFyA6hs",
        "colab_type": "text"
      },
      "source": [
        "# Damos acceso a nuestro Drive"
      ]
    },
    {
      "cell_type": "code",
      "metadata": {
        "id": "WMVaYKVrA92v",
        "colab_type": "code",
        "colab": {
          "base_uri": "https://localhost:8080/",
          "height": 407
        },
        "outputId": "1373eb51-c140-40d9-a714-201a5c47b791"
      },
      "source": [
        "from google.colab import drive\n",
        "drive.mount('/content/drive')"
      ],
      "execution_count": 2,
      "outputs": [
        {
          "output_type": "stream",
          "text": [
            "Go to this URL in a browser: https://accounts.google.com/o/oauth2/auth?client_id=947318989803-6bn6qk8qdgf4n4g3pfee6491hc0brc4i.apps.googleusercontent.com&redirect_uri=urn%3aietf%3awg%3aoauth%3a2.0%3aoob&scope=email%20https%3a%2f%2fwww.googleapis.com%2fauth%2fdocs.test%20https%3a%2f%2fwww.googleapis.com%2fauth%2fdrive%20https%3a%2f%2fwww.googleapis.com%2fauth%2fdrive.photos.readonly%20https%3a%2f%2fwww.googleapis.com%2fauth%2fpeopleapi.readonly&response_type=code\n",
            "\n",
            "Enter your authorization code:\n",
            "··········\n"
          ],
          "name": "stdout"
        },
        {
          "output_type": "error",
          "ename": "KeyboardInterrupt",
          "evalue": "ignored",
          "traceback": [
            "\u001b[0;31m---------------------------------------------------------------------------\u001b[0m",
            "\u001b[0;31mKeyboardInterrupt\u001b[0m                         Traceback (most recent call last)",
            "\u001b[0;32m<ipython-input-2-d5df0069828e>\u001b[0m in \u001b[0;36m<module>\u001b[0;34m()\u001b[0m\n\u001b[1;32m      1\u001b[0m \u001b[0;32mfrom\u001b[0m \u001b[0mgoogle\u001b[0m\u001b[0;34m.\u001b[0m\u001b[0mcolab\u001b[0m \u001b[0;32mimport\u001b[0m \u001b[0mdrive\u001b[0m\u001b[0;34m\u001b[0m\u001b[0;34m\u001b[0m\u001b[0m\n\u001b[0;32m----> 2\u001b[0;31m \u001b[0mdrive\u001b[0m\u001b[0;34m.\u001b[0m\u001b[0mmount\u001b[0m\u001b[0;34m(\u001b[0m\u001b[0;34m'/content/drive'\u001b[0m\u001b[0;34m)\u001b[0m\u001b[0;34m\u001b[0m\u001b[0;34m\u001b[0m\u001b[0m\n\u001b[0m",
            "\u001b[0;32m/usr/local/lib/python3.6/dist-packages/google/colab/drive.py\u001b[0m in \u001b[0;36mmount\u001b[0;34m(mountpoint, force_remount, timeout_ms, use_metadata_server)\u001b[0m\n\u001b[1;32m    223\u001b[0m         \u001b[0moauth_prompt\u001b[0m\u001b[0;34m,\u001b[0m\u001b[0;34m\u001b[0m\u001b[0;34m\u001b[0m\u001b[0m\n\u001b[1;32m    224\u001b[0m         \u001b[0mproblem_and_stopped\u001b[0m\u001b[0;34m,\u001b[0m\u001b[0;34m\u001b[0m\u001b[0;34m\u001b[0m\u001b[0m\n\u001b[0;32m--> 225\u001b[0;31m         \u001b[0mdrive_exited\u001b[0m\u001b[0;34m,\u001b[0m\u001b[0;34m\u001b[0m\u001b[0;34m\u001b[0m\u001b[0m\n\u001b[0m\u001b[1;32m    226\u001b[0m     ])\n\u001b[1;32m    227\u001b[0m     \u001b[0;32mif\u001b[0m \u001b[0mcase\u001b[0m \u001b[0;34m==\u001b[0m \u001b[0;36m0\u001b[0m\u001b[0;34m:\u001b[0m\u001b[0;34m\u001b[0m\u001b[0;34m\u001b[0m\u001b[0m\n",
            "\u001b[0;32m/usr/local/lib/python3.6/dist-packages/pexpect/spawnbase.py\u001b[0m in \u001b[0;36mexpect\u001b[0;34m(self, pattern, timeout, searchwindowsize, async_, **kw)\u001b[0m\n\u001b[1;32m    342\u001b[0m         \u001b[0mcompiled_pattern_list\u001b[0m \u001b[0;34m=\u001b[0m \u001b[0mself\u001b[0m\u001b[0;34m.\u001b[0m\u001b[0mcompile_pattern_list\u001b[0m\u001b[0;34m(\u001b[0m\u001b[0mpattern\u001b[0m\u001b[0;34m)\u001b[0m\u001b[0;34m\u001b[0m\u001b[0;34m\u001b[0m\u001b[0m\n\u001b[1;32m    343\u001b[0m         return self.expect_list(compiled_pattern_list,\n\u001b[0;32m--> 344\u001b[0;31m                 timeout, searchwindowsize, async_)\n\u001b[0m\u001b[1;32m    345\u001b[0m \u001b[0;34m\u001b[0m\u001b[0m\n\u001b[1;32m    346\u001b[0m     def expect_list(self, pattern_list, timeout=-1, searchwindowsize=-1,\n",
            "\u001b[0;32m/usr/local/lib/python3.6/dist-packages/pexpect/spawnbase.py\u001b[0m in \u001b[0;36mexpect_list\u001b[0;34m(self, pattern_list, timeout, searchwindowsize, async_, **kw)\u001b[0m\n\u001b[1;32m    370\u001b[0m             \u001b[0;32mreturn\u001b[0m \u001b[0mexpect_async\u001b[0m\u001b[0;34m(\u001b[0m\u001b[0mexp\u001b[0m\u001b[0;34m,\u001b[0m \u001b[0mtimeout\u001b[0m\u001b[0;34m)\u001b[0m\u001b[0;34m\u001b[0m\u001b[0;34m\u001b[0m\u001b[0m\n\u001b[1;32m    371\u001b[0m         \u001b[0;32melse\u001b[0m\u001b[0;34m:\u001b[0m\u001b[0;34m\u001b[0m\u001b[0;34m\u001b[0m\u001b[0m\n\u001b[0;32m--> 372\u001b[0;31m             \u001b[0;32mreturn\u001b[0m \u001b[0mexp\u001b[0m\u001b[0;34m.\u001b[0m\u001b[0mexpect_loop\u001b[0m\u001b[0;34m(\u001b[0m\u001b[0mtimeout\u001b[0m\u001b[0;34m)\u001b[0m\u001b[0;34m\u001b[0m\u001b[0;34m\u001b[0m\u001b[0m\n\u001b[0m\u001b[1;32m    373\u001b[0m \u001b[0;34m\u001b[0m\u001b[0m\n\u001b[1;32m    374\u001b[0m     def expect_exact(self, pattern_list, timeout=-1, searchwindowsize=-1,\n",
            "\u001b[0;32m/usr/local/lib/python3.6/dist-packages/pexpect/expect.py\u001b[0m in \u001b[0;36mexpect_loop\u001b[0;34m(self, timeout)\u001b[0m\n\u001b[1;32m    169\u001b[0m                 \u001b[0mincoming\u001b[0m \u001b[0;34m=\u001b[0m \u001b[0mspawn\u001b[0m\u001b[0;34m.\u001b[0m\u001b[0mread_nonblocking\u001b[0m\u001b[0;34m(\u001b[0m\u001b[0mspawn\u001b[0m\u001b[0;34m.\u001b[0m\u001b[0mmaxread\u001b[0m\u001b[0;34m,\u001b[0m \u001b[0mtimeout\u001b[0m\u001b[0;34m)\u001b[0m\u001b[0;34m\u001b[0m\u001b[0;34m\u001b[0m\u001b[0m\n\u001b[1;32m    170\u001b[0m                 \u001b[0;32mif\u001b[0m \u001b[0mself\u001b[0m\u001b[0;34m.\u001b[0m\u001b[0mspawn\u001b[0m\u001b[0;34m.\u001b[0m\u001b[0mdelayafterread\u001b[0m \u001b[0;32mis\u001b[0m \u001b[0;32mnot\u001b[0m \u001b[0;32mNone\u001b[0m\u001b[0;34m:\u001b[0m\u001b[0;34m\u001b[0m\u001b[0;34m\u001b[0m\u001b[0m\n\u001b[0;32m--> 171\u001b[0;31m                     \u001b[0mtime\u001b[0m\u001b[0;34m.\u001b[0m\u001b[0msleep\u001b[0m\u001b[0;34m(\u001b[0m\u001b[0mself\u001b[0m\u001b[0;34m.\u001b[0m\u001b[0mspawn\u001b[0m\u001b[0;34m.\u001b[0m\u001b[0mdelayafterread\u001b[0m\u001b[0;34m)\u001b[0m\u001b[0;34m\u001b[0m\u001b[0;34m\u001b[0m\u001b[0m\n\u001b[0m\u001b[1;32m    172\u001b[0m                 \u001b[0midx\u001b[0m \u001b[0;34m=\u001b[0m \u001b[0mself\u001b[0m\u001b[0;34m.\u001b[0m\u001b[0mnew_data\u001b[0m\u001b[0;34m(\u001b[0m\u001b[0mincoming\u001b[0m\u001b[0;34m)\u001b[0m\u001b[0;34m\u001b[0m\u001b[0;34m\u001b[0m\u001b[0m\n\u001b[1;32m    173\u001b[0m                 \u001b[0;31m# Keep reading until exception or return.\u001b[0m\u001b[0;34m\u001b[0m\u001b[0;34m\u001b[0m\u001b[0;34m\u001b[0m\u001b[0m\n",
            "\u001b[0;31mKeyboardInterrupt\u001b[0m: "
          ]
        }
      ]
    },
    {
      "cell_type": "markdown",
      "metadata": {
        "id": "D8CYKTxkJB53",
        "colab_type": "text"
      },
      "source": [
        "# Test it"
      ]
    },
    {
      "cell_type": "code",
      "metadata": {
        "id": "COqkUYzLJBEY",
        "colab_type": "code",
        "colab": {}
      },
      "source": [
        "!ls '/content/drive/My Drive' "
      ],
      "execution_count": null,
      "outputs": []
    },
    {
      "cell_type": "markdown",
      "metadata": {
        "id": "eas_Lb17J4jY",
        "colab_type": "text"
      },
      "source": [
        "#Google colab tools"
      ]
    },
    {
      "cell_type": "code",
      "metadata": {
        "id": "a-Kmgf5ZJ5QV",
        "colab_type": "code",
        "colab": {}
      },
      "source": [
        "from google.colab import files # Para manejar los archivos y, por ejemplo, exportar a su navegador\n",
        "import glob # Para manejar los archivos y, por ejemplo, exportar a su navegador\n",
        "from google.colab import drive # Montar tu Google drive"
      ],
      "execution_count": 15,
      "outputs": []
    },
    {
      "cell_type": "markdown",
      "metadata": {
        "id": "odNaDE1zyrL2",
        "colab_type": "text"
      },
      "source": [
        "# Instalar dependencias de Renderizado, tarda alrededor de 45 segundos\n"
      ]
    },
    {
      "cell_type": "code",
      "metadata": {
        "id": "eDPDMlDo4RqU",
        "colab_type": "code",
        "colab": {}
      },
      "source": [
        "!apt-get update > /dev/null 2>&1\n",
        "!apt-get install python-opengl -y > /dev/null 2>&1\n",
        "!apt install xvfb -y --fix-missing > /dev/null 2>&1\n",
        "!apt-get install ffmpeg > /dev/null 2>&1\n",
        "!apt-get install x11-utils > /dev/null 2>&1\n",
        "!apt-get install pyglet > /dev/null 2>&1\n"
      ],
      "execution_count": 3,
      "outputs": []
    },
    {
      "cell_type": "markdown",
      "metadata": {
        "id": "3xxsEvp14U-Q",
        "colab_type": "text"
      },
      "source": [
        "# Instalar OpenAi Gym"
      ]
    },
    {
      "cell_type": "code",
      "metadata": {
        "id": "OCuDUcBL4SCV",
        "colab_type": "code",
        "colab": {}
      },
      "source": [
        "!pip install gym pyvirtualdisplay > /dev/null 2>&1\n",
        "!pip install piglet > /dev/null 2>&1\n",
        "!pip install 'gym[box2d]' > /dev/null 2>&1\n",
        "#por si quieres algun environment en concreto\n",
        "#!pip install atari_py > /dev/null 2>&1\n",
        "#!pip install gym[atari] > /dev/null 2>&1"
      ],
      "execution_count": 14,
      "outputs": []
    },
    {
      "cell_type": "markdown",
      "metadata": {
        "id": "gkkUdIpJ5lHQ",
        "colab_type": "text"
      },
      "source": [
        "# Todos los imports necesarios en google colab y helpers para poder visualizar OpenAi"
      ]
    },
    {
      "cell_type": "code",
      "metadata": {
        "id": "sbgBYNVD5i6v",
        "colab_type": "code",
        "colab": {}
      },
      "source": [
        "import gym\n",
        "from gym import logger as gymlogger\n",
        "from gym.wrappers import Monitor\n",
        "gymlogger.set_level(40) #error only\n",
        "import numpy as np\n",
        "import random\n",
        "import matplotlib\n",
        "import matplotlib.pyplot as plt\n",
        "%matplotlib inline\n",
        "import math\n",
        "import glob\n",
        "import io\n",
        "import base64\n",
        "from IPython.display import HTML\n",
        "\n",
        "from IPython import display as ipythondisplay"
      ],
      "execution_count": 5,
      "outputs": []
    },
    {
      "cell_type": "markdown",
      "metadata": {
        "id": "r5DvRsCZ4b-G",
        "colab_type": "text"
      },
      "source": [
        "# Activamos una vista, seria como crear un plot de una grafica en python"
      ]
    },
    {
      "cell_type": "code",
      "metadata": {
        "id": "oDMnJvk-4cec",
        "colab_type": "code",
        "colab": {
          "base_uri": "https://localhost:8080/",
          "height": 34
        },
        "outputId": "f531a21c-2159-44e7-ca29-9eb9ffe2f796"
      },
      "source": [
        "from pyvirtualdisplay import Display\n",
        "display = Display(visible=0, size=(1400, 900)) #Puedes modificar el high and width de la pantalla\n",
        "display.start()"
      ],
      "execution_count": 6,
      "outputs": [
        {
          "output_type": "execute_result",
          "data": {
            "text/plain": [
              "<pyvirtualdisplay.display.Display at 0x7fa5b6e24940>"
            ]
          },
          "metadata": {
            "tags": []
          },
          "execution_count": 6
        }
      ]
    },
    {
      "cell_type": "markdown",
      "metadata": {
        "id": "x80iaLF94eOh",
        "colab_type": "text"
      },
      "source": [
        "# Este código crea una pantalla virtual para dibujar imágenes del juego. \n",
        "## Si se ejecuta localmente, simplemente ignóralo"
      ]
    },
    {
      "cell_type": "code",
      "metadata": {
        "id": "L0H-whKQ4fvA",
        "colab_type": "code",
        "colab": {}
      },
      "source": [
        "import os\n",
        "if type(os.environ.get('DISPLAY')) is not str or \\\n",
        "        len(os.environ.get('DISPLAY')) == 0:\n",
        "    !bash ../xvfb start\n",
        "    %env DISPLAY=:1"
      ],
      "execution_count": 7,
      "outputs": []
    },
    {
      "cell_type": "markdown",
      "metadata": {
        "id": "OMqg9TAA4qxy",
        "colab_type": "text"
      },
      "source": [
        "# Funciones de utilidad para permitir la grabación de video del ambiente del gimnasio y su visualización\n",
        "## Para habilitar la visualizacion por pantalla , tan solo haz \"**environment = wrap_env(environment)**\", por ejemplo: **environment = wrap_env(gym.make(\"MountainCar-v0\"))**"
      ]
    },
    {
      "cell_type": "code",
      "metadata": {
        "id": "XKFIMV_l4m2x",
        "colab_type": "code",
        "colab": {}
      },
      "source": [
        "import io\n",
        "import glob\n",
        "import base64\n",
        "from IPython.display import HTML\n",
        "from IPython import display as ipythondisplay\n",
        "\n",
        "def show_video():\n",
        "    mp4list = glob.glob('video/*.mp4')\n",
        "    if len(mp4list) > 0:\n",
        "        mp4 = mp4list[0]\n",
        "        video = io.open(mp4, 'r+b').read()\n",
        "        encoded = base64.b64encode(video)\n",
        "\n",
        "        content = ipythondisplay.display(HTML(data='''\n",
        "        <video alt=\"test\" autoplay loop controls style=\"height: 400px;\">\n",
        "            <source src=\"data:video/mp4;base64,{0}\" type=\"video/mp4\" />\n",
        "        </video>\n",
        "        '''.format(encoded.decode('ascii'))))\n",
        "    else: \n",
        "        print(\"Couldn't find video\")\n",
        "\n",
        "def wrap_env(env):\n",
        "    env = gym.wrappers.Monitor(env, './video', force=True)\n",
        "    return env"
      ],
      "execution_count": 8,
      "outputs": []
    },
    {
      "cell_type": "markdown",
      "metadata": {
        "id": "IeCCtgxDBiGi",
        "colab_type": "text"
      },
      "source": [
        "# Creamos la variable del environment"
      ]
    },
    {
      "cell_type": "code",
      "metadata": {
        "id": "bFb6dM4N4v8O",
        "colab_type": "code",
        "colab": {}
      },
      "source": [
        "environment = wrap_env(gym.make(\"Qbert-v0\"))"
      ],
      "execution_count": 16,
      "outputs": []
    },
    {
      "cell_type": "markdown",
      "metadata": {
        "id": "P8ZPonAHBnfU",
        "colab_type": "text"
      },
      "source": [
        "#Comprueba el espacio de acción del environment!"
      ]
    },
    {
      "cell_type": "code",
      "metadata": {
        "id": "97q-1LIL5t4L",
        "colab_type": "code",
        "colab": {
          "base_uri": "https://localhost:8080/",
          "height": 34
        },
        "outputId": "b1388afc-5c2b-4da3-fb21-f4ef08c269ec"
      },
      "source": [
        "print(environment.action_space)"
      ],
      "execution_count": 21,
      "outputs": [
        {
          "output_type": "stream",
          "text": [
            "Discrete(6)\n"
          ],
          "name": "stdout"
        }
      ]
    },
    {
      "cell_type": "code",
      "metadata": {
        "id": "prmeCAHARcZA",
        "colab_type": "code",
        "colab": {}
      },
      "source": [
        "MAX_NUM_EPISODES = 10\n",
        "MAX_STEPS_PER_EPISODE = 500"
      ],
      "execution_count": 22,
      "outputs": []
    },
    {
      "cell_type": "code",
      "metadata": {
        "id": "oH5Cvg6P87Qh",
        "colab_type": "code",
        "colab": {
          "base_uri": "https://localhost:8080/",
          "height": 690
        },
        "outputId": "6b2e5e35-e5fa-453e-ceab-bf0870dc06be"
      },
      "source": [
        "for episode in range(MAX_NUM_EPISODES):\n",
        "    obs = environment.reset()\n",
        "    for step in range(MAX_STEPS_PER_EPISODE):\n",
        "        environment.render()\n",
        "        action = environment.action_space.sample()## Tomamos una decisión aleatoria...\n",
        "        next_state, reward, done, info = environment.step(action)\n",
        "        obs = next_state\n",
        "        \n",
        "        if done is True:\n",
        "            print(\"\\n Episodio #{} terminado en {} steps.\".format(episode, step+1))\n",
        "            break\n",
        "environment.close()\n",
        "show_video() #IMPORTANTE: Esto es para mostrar la pantalla en google colab"
      ],
      "execution_count": 23,
      "outputs": [
        {
          "output_type": "stream",
          "text": [
            "\n",
            " Episodio #0 terminado en 359 steps.\n",
            "\n",
            " Episodio #1 terminado en 492 steps.\n",
            "\n",
            " Episodio #2 terminado en 340 steps.\n",
            "\n",
            " Episodio #3 terminado en 435 steps.\n",
            "\n",
            " Episodio #5 terminado en 439 steps.\n",
            "\n",
            " Episodio #6 terminado en 374 steps.\n",
            "\n",
            " Episodio #7 terminado en 483 steps.\n",
            "\n",
            " Episodio #9 terminado en 428 steps.\n"
          ],
          "name": "stdout"
        },
        {
          "output_type": "display_data",
          "data": {
            "text/html": [
              "\n",
              "        <video alt=\"test\" autoplay loop controls style=\"height: 400px;\">\n",
              "            <source src=\"data:video/mp4;base64,AAAAIGZ0eXBpc29tAAACAGlzb21pc28yYXZjMW1wNDEAAAAIZnJlZQAAkFltZGF0AAACrgYF//+q3EXpvebZSLeWLNgg2SPu73gyNjQgLSBjb3JlIDE1MiByMjg1NCBlOWE1OTAzIC0gSC4yNjQvTVBFRy00IEFWQyBjb2RlYyAtIENvcHlsZWZ0IDIwMDMtMjAxNyAtIGh0dHA6Ly93d3cudmlkZW9sYW4ub3JnL3gyNjQuaHRtbCAtIG9wdGlvbnM6IGNhYmFjPTEgcmVmPTMgZGVibG9jaz0xOjA6MCBhbmFseXNlPTB4MzoweDExMyBtZT1oZXggc3VibWU9NyBwc3k9MSBwc3lfcmQ9MS4wMDowLjAwIG1peGVkX3JlZj0xIG1lX3JhbmdlPTE2IGNocm9tYV9tZT0xIHRyZWxsaXM9MSA4eDhkY3Q9MSBjcW09MCBkZWFkem9uZT0yMSwxMSBmYXN0X3Bza2lwPTEgY2hyb21hX3FwX29mZnNldD0tMiB0aHJlYWRzPTMgbG9va2FoZWFkX3RocmVhZHM9MSBzbGljZWRfdGhyZWFkcz0wIG5yPTAgZGVjaW1hdGU9MSBpbnRlcmxhY2VkPTAgYmx1cmF5X2NvbXBhdD0wIGNvbnN0cmFpbmVkX2ludHJhPTAgYmZyYW1lcz0zIGJfcHlyYW1pZD0yIGJfYWRhcHQ9MSBiX2JpYXM9MCBkaXJlY3Q9MSB3ZWlnaHRiPTEgb3Blbl9nb3A9MCB3ZWlnaHRwPTIga2V5aW50PTI1MCBrZXlpbnRfbWluPTI1IHNjZW5lY3V0PTQwIGludHJhX3JlZnJlc2g9MCByY19sb29rYWhlYWQ9NDAgcmM9Y3JmIG1idHJlZT0xIGNyZj0yMy4wIHFjb21wPTAuNjAgcXBtaW49MCBxcG1heD02OSBxcHN0ZXA9NCBpcF9yYXRpbz0xLjQwIGFxPTE6MS4wMACAAAANGGWIhAA3//728P4FNlYEUJcRzeidMx+/Fbi9ZlP5kuArLqcCmfzmCr4HoIBB7X+bKuQ9Swm50v8lrqrjQaJXy39jcZ9tTYuM7te/QbL+NID67bcDK3Kgruly3I/qI8GdoRH/RAQ1eW/hlAt+nDdzF69QOdQEhRZMGQIDUMEHygwLAOEIAh2vkXYBTGxcnr7v+RIYEG63cKG5zJFTmG1exUtsqfRuXssQCJIa2eoUqnB6l6JrPun3ecRHqh2FwTrMnjT0cDOeIH/ABDZbexctam7LVSkSN7E+4PEHvodql45FyEOnsahWcytJslyTwMI+MbhQQG7+DjTCvP7iI2nN41AiaSOuLsp5dkq/K412cTn2wYsEtYdbjw4AiY5ZzzKDFMC5empNIEHKLZXCrg82jfFus940uEQFUI6QuomXlzQeAYhCZ2b4anXnfQ6arRmefw5OAPB6hzMI0RnZ5JjZrXSnWJ8TlTtaOD6cFt64IgGaSDhut2RYVnL7MkYt9gUpBVpqajkHeWb2hrHzuQPGlspvEne9tlD4v4XQOtuxVIxdJHZ8x4abgYOrqoPoTX47UK4q6Fo3OK2ZSgHdcw013qqi3MKE6SBbeX3/95cXkDpuf/jsr6UAPXLSKcoEMPGz8GiTMlJr1TeXXQ2d9sSyqmOG6i3+Hi4n+Yn0/RnQAL/IWpWLy/wtPXPuQEi2IgFHQ6y0+nnERy9rFBLdlGsDQA5ckEQDVG16jRH+z1PZkqFWTzORgbJGP1lJGp+V7T5CR4YaRfvgIUDipvLu5Q16q5zYNRPJwCiUEuG02F56mgHTocU89NJa+AzyAlSLIZSJ7asfnsF6copY3jtGTg5tnkXS+PDeVVcYJ6/aLv6n8P2NVOw5X2hI6r1BrkfSV4fxnYdYeXxvc5ThWQq5i4Hwvw94YWOqdw4oCxoBWJ1zsCgHNOpwbbXnSCGTgIIunengQk4Zzpxo8TUUzqrk818M1iG27M+qdFq/3xVXywaX+s5hRRTvLXATss6WIYWXcyH6DUcGdf6NzX+PPZvlXOOewOi/y7jh9qLP9otAw2qn+kKQ5PvEKYfYTCbIkKF5hXZiuQY3f+8ah982ELMHeDpnEZtH+XjBEChEGLvLPlbLfVHBkNIQ1bCAhS8jXc//d7Y9LHu+3+2pmRt+AF3VNuNt+eHFBGskXtglWDVobD0Zg4Y25wcg778KMZVUUDqcCRR5UipHnyzfGXsfTATHC3/YJ6AXdw1AZ3UouZkIk3tnBe7sgdhSVB5xtZVsQHtTevrN+8KRDvCC80usnFYJsGjAjn3sRDtkzX0PBHz7hctj/ZqcldgOJX6P6S5mutEFOCy9Oi1F1DUiBaHMx+hpvEjmrOh9LzOs34ZSZHZoBFVWJEEDnYcXBgizpHFYJmf+jmVSsFzgjaIFsO5ifs1CpYnnaipcD5s3Qe99M2brpeoYISzlimwNTIi/8WTlG2bOkesKabB4IeXHBD+ap/cFp9P22W0ORS5X2cbWYKd/1I9xbbm58cJtcdRs8piFkMZ9JLl+xy2fQbrYwSz7dM8zBrQ9Yw+1KOZNgKof0QgjuwrKZ09oU2GujcAKoo2Dp9Y9rDOFPqyy3gAnFMxjsdhpVKiyMa+IpCSY9UtEm/OuIrDrLeDDJYAdikRrpj4kQdP9rTa45eP8RX5uX3QV8Ho3MK7S+Blkc8XWuQfJ+8vNkOklbrWhKPXj7Xg0+bD4i2iNupy2fjJD8wCBn5gEXnP58takbJo+XyOFB7R5P1IfTi1ZZLVikLLQYzc2zTy9ka80MFgKjHwjJhz574/DnuZxj7NIGy6dgwvAoyEhJnYOoQ7vEaKahgRtXnHnkHVelPbtaGfgb5TJpjeixzaZlOYISuWtT/RsOVybX5hYzr+h+hLftO/y2k7gJtT4qC4XSxBiknMLd62EnWwtYs7OKWhpbVxsyFkWifIhqf3nIop8O0ttvb5ikNjzGY3mf7X/ueWg5ZuOMD/q8JzCbNzbDklv76fE0NflqYxaiZwmEVl5hL1mohMniZf9FXeuqbza1QuhKonphKJ3T+qJdiZAhUkPZ3S0GdE28g3+evYPyVrSNeg7pGRgfeW+ajNwOGuaXl5igFcftotveJnNSe4L3VkNU/5RrdWOpRtZtfPwv40enOfrUGzRdRZJw62imTFxmK17AmVFW+4KfpbflrB7PY95U0eKBYrnW72VAj2Do3yURUCt+RqzoMFW7yjHt+/e1GQ4iMZ+JTxBVuyiT0tXjlSfep1/DjGhdaLCPWYgppFR1UWdtZfGr7RnzzNsboEnbWu41twwAE14Z+4shrG8pXflbx3IhfhVEittMFjf6Pz2DQsaQzdLpNksg3NF+NZFLsIO6i3Ri2WSGbp7fX7pKs9WjnUyGlQYIA9cmhLWQTqkOJcCO6apa4cFpkPVWzmMFZU9FbU1ayChsd7boE6IY4uWVzZVuwvXnO1hOTKNhXvBpCltDwg14LtKAWwSt4Y8ORFEBDKOpzicKBf2Pe2pzpZj6lC8pbuWqTj7kTCJhs8apAPtA/zWhEeP+tNZutTnNEhvSlEGLMCVzbC2WVyfCCeXICx/CkeWdq1uRs3EZ5rY00Nnz9KognVdQZwWm+K9auO5scGT+dQVOcwCCCCFvehiWUucswxiMmN0sIkW+QPa92ETSzlaFrFpiy99z9CfXlhIMyCjEft1JIq6O4xDvzMqFrJN4CDAOwK0Wb+C2OTTgesJKeVip9PKDt7G1jNteKO+rCx68fsXbqn8U8uiuQCU0ZHoIikFHp29TSiJgqcZB0DY35/u5Uy2NSqPfBpWCCIRoNlsd+wpRRUdC/tVOVo0EYsFc4b6r0S94Is/OXida373KbPRyhLtDEbkc0iiZrfmAXJTO+CqrfNyhNTpoYv8sQ8RbiHHmKMpMs31cxG8W5/BwXtA4VO1AHunNm4JjV1uGthOBWz824iCHo9/4Zfn0ZkUO7wmkOA07+iZnbO6TmuCbjt9kBl6+xozY+Tw/Y4kLFrlhaMYsMqQFV3ZfMqDvaVv2epxIpT5mRSIbpsJKTyaJ7pCYmn7IiN+qbdw60c+l+//IzOy0YAtd5SolRbRdpE9wHV0/816XL0/3DyHD3gb5o6s7NwSqf+YRYGrKc7AuwUdZkZvJvASH6suwH026Fv21O2V+q1dccXhGAEa9n7LVfLN0XmxavvdWbuWdUITLzLL72HvRC9hAl8x0oeFXG3LN+i3bdbPtMhBlbrx16ilZv5hGwZxtvyaQowbG9Rjzs+ZIEqufx6gH+Mhy4mXkG4WZGTsz92/YaFEAaB9tQhOTipkhuIWueS+uDUoW3HWa8FhFrQUFEX8fFagMu8uffRihnW8fuCJ7PrD53yAF+WWRFGSu1XIseozZj9PM/BCjWNJ8v6zZhs22txRnK5vLQtUIjuB/z9KnckEWXjTsVVnZT9IuxaNzZcMUNV6MLf3wT7VfCMJUJ07onZ3EWiDkJTQ8rMtpNs7I+GlLKXKpyqlYRSfcmaEwoeUA98IFda5CydL7uB/AP4lqnlLENt3pMrfPP/PKL+snA8+Y1NQnZHYaPRdtyd1Aw//4Tnv4niAY1eHgTXXD486Yx6c976tzKsemOZcjBogwD7H91Zobmlz7a0qfKAbHgS7RDdkjHRsxQlvBu4rzUb75bStrimURxWKLq42l/UaSoHFald+brMlE5KG0nqd4CM/nY1s4OW9wP+7X9/Mo36Iq3kC1szZx9WyrZ27Dg7t3NbVaehC5e0qLoi0FqniweDxKc0a+tESoslIk+JzuCnMx1eRcsDvQKvDQkf4PbdJWh+sK2BkrEaJwumdjMGU3T5h4KETnqGYR8ZbUSKcFxIpbFGkSOvew3Awrhpy4QIEA3j9F2ivUhH0OFOY+mW081aIKJotMle1P+6BfS3T767W375loobNKO2GK4ArIr/SMVLBIhqZg55o6dGxTKDzeW7h4KthIzbmDXqXBzYeDL0Ighs1hqJ6W9jnXijkLpBTlELcnVC8WyGQqvfZNl7wFPHi7v1ZzjgjiwNIYmF25g7PIcfBH8tarbSDifnyOpkT9738kA3JRgEtH/Fa2tban9djxKY1cUiCV5/QE7yBZnA3N2zox8S/1tTY9BmiSLXglXGMF0oPO1ny/a0n6RvGbjvbz/RQi/irRhPeGKDKArcgBzkqZnBH59Hl6beOy5jFW6A5kdYm2re5/Yge3QnvgCtxQfeVyiPvKGDPDfVSpCxb7s9RqfXdD2Ile5E53KccYf1xY8VQZ46AvgKqPMf9LhtaoX+vW8JsyR6e04vFm1E2tPR3SmtKd886pg5OqhSzvwm+viO9COPxlVq1qSrY82GlmcsmfOASuKo1ZvLjup85HQGXbGT4m3AiHEos559UjsJofGXg7B9/Lmywbj7u2xCqb20EP7hsO3O0kzBh4GMJLQMfjuaECXjD1lW6NMEuWrX2JZS4hxqn5hqkUxCRTTvj8dEAAADGQZojbEN//qeEEX7kgEIz9DwLepbs8C4WEFcQnITz4b18jBN5a+qZZl92Ed+XZL7WCzC9yb8++hQg0Y6EXUpZ7F1S+CPcWH0MYpFbuQ4faUGr4CyI3rzWrbG9mL2dNhxJkiZX0nBVzVH/RJiI+xVCUVspeLr1x3SQXOxFnk9vcAgZ6bnKqAhVFg86Zb/StcGhHSm19qNC4HH68g2SRMjRx3A7akpKbl49IZhGrEC61+iKPOrtmIVXG7tiiVy7crDZhqMhQ6F4AAAANEGeQXiFfwLtqTcTgDHByxWqqAEUJsyc3mbDKcyV/06Vy+KBRbVO3GX1xKRqcBtmrwgMOkkAAAAkAZ5iakJ/AP735gBAfjapWvFWcCuHxZ+Q9B+oSYOu2WMp/sAcAAAAS0GaZ0moQWiZTAhv//6nhADxqhpiANddnQqOaDZ/gZrVR/yhLRKbohrK7Ei8lZTK0aOcFSALmdbCE4XYS2lkO0G/knOFwjZ+8AcS0wAAAA9BnoVFESwr/wA3VoWNGSEAAAAJAZ6kdEJ/ADehAAAADgGepmpCfwD4vLZSYpSNAAAALEGaq0moQWyZTAhv//6nhADxqh3SALwMU4NsJEVuOx9JldKVjdNOC+Wu+QnkAAAAFkGeyUUVLCv/AMjLNez/OUwbclrGvjAAAAAiAZ7odEJ/AP735gBAfjap1AbVA6Xn3369t5kjX63Mwu8SwQAAABABnupqQn8A/kKw2392eAHAAAAAMkGa70moQWyZTAhv//6nhADxqg4YAQuKj9jE7t33glqfW08y8n2wa1WtQdt3dTgP0oTyAAAAJ0GfDUUVLCv/AMjLRWIA4SZvnMh4mhBnuQP02/k5MtfyPNTws51N0wAAAAkBnyx0Qn8AN6EAAAAlAZ8uakJ/AP735gBAfjecVrIKzgXUvjz7+RDqOiC1OGkr6f7AHQAAADdBmzNJqEFsmUwIb//+p4QA8Za8CADgSzuDfYMNyS+PC3HYsxNevC6ZH+a9ygtuyi+WtUvnggOAAAAAKEGfUUUVLCv/AMl21YAqn7NIbLXJqXMlfaoxfFApOJ83M954V66T45AAAAAJAZ9wdEJ/ADehAAAAJQGfcmpCfwD9xCYfDwBm/P+4HxrExdH5elsjkSlb3/grUJ5fjQ4AAAASQZt0SahBbJlMCG///qeEADUgAAAAMEGbmEnhClJlMCG//qeEAPGWkEACSMnRFkbT7qopPRyy2s3MUtQ40tleIs0oXJfEBwAAADBBn7ZFNEwr/wDJd2hAFU/ZpreBbpmggEMbjGqt7bTXB0E74Mnk6nO3In9hK5H+2fQAAAAJAZ/VdEJ/ADehAAAAJwGf12pCfwD9xCYfDwBlb4kvJba9WnslpV1oBtlKhu4Aayy53owBwQAAAHNBm9xJqEFomUwIb//+p4QA8YLC3YgDXXZkDjxqwhGUdP6F4bxOK+FN1H40QSZXIhdg60bctWAay9LyLic/MBI8NmArgR/+IIlTzzwNutO6c3jDjoI9Cc6VcVQOkhVm2d41FMG+cd9PgdpKN+P5AYJrjxs0AAAAD0Gf+kURLCv/ADdWhY0ZIQAAAAkBnhl0Qn8AN6AAAAAJAZ4bakJ/ADehAAAAPkGaAEmoQWyZTAhv//6nhADxqhpiAEVUjbAWDDYCic5mnWw1JhwKZVeu0QxKpdp8zOC9v9g9oKKqH3D7ogOBAAAAKUGePkUVLCv/AMl21YAqn7JW1sYHgJenn3tUYvaRC+qyHsu82Er10nxyAAAADwGeXXRCfwD992Ly7Q9mhwAAAAkBnl9qQn8AN6EAAAAtQZpESahBbJlMCG///qeEAPGWxtAAuOzlkyqmmd9I/lbmm/A5UD+mgtOYjEJ5AAAAKEGeYkUVLCv/AMl21YAbUfkncSXJqJk9G1Ri9zVD4nxrs7PCvXSfHIEAAAAhAZ6BdEJ/AP5Y/MAEZHMgoT7goYHxtPxjs2y7nNUL/vEsAAAACQGeg2pCfwA3oQAAADtBmohJqEFsmUwIb//+p4QA8bDYGgBrrs/bwb70zkYi05DpmX9Jx2mm9h3MyyVlDhgynPiYqIW0wQIDgQAAAA9BnqZFFSwr/wA3VoWNGSEAAAAJAZ7FdEJ/ADehAAAACQGex2pCfwA3oAAAAEJBmsxJqEFsmUwIb//+p4QA8bDSuACzfqxMR/CZmEOc3iCxT6q3yt56Xvk4kDfuT06GNxmsb9sM2/A1YAKxiZMQnkAAAAApQZ7qRRUsK/8AyJ3LEAQ4mx8idTQTUUQnPHmDhIA7krRD25D2EwQ165UAAAAPAZ8JdEJ/AP33YvLtD2aHAAAACQGfC2pCfwA3oAAAAEZBmxBJqEFsmUwIb//+p4QA8Za8CAFblncG+uCfmtInRlUw9Lbmd7B1qDGehTHcdclBV6t+oOj9r+QMbxRoVmdgmUkGYTyBAAAALkGfLkUVLCv/AMjLP9ABtfoKKcCSADMg9JltgtSbywj1BHv9DjGl42NeWjp+d6EAAAAJAZ9NdEJ/ADehAAAAHwGfT2pCfwD+F2AAAuBHw6++zGwKvq3jhDDQdFEF4lgAAACqQZtUSahBbJlMCG///qek37h18kgN8AIQRMmf50jrGdx/nJB6pfpY9tnGQ5A8QTA67pvTJrqjyIuvAxA+yWSZHw1+25wyfqp13kQ9bprmlh20fCCxxnBV+lVWnRj0goUWV7HIWg6hgzZIBaPu7WTXnp1nLp9tx8Z3S/ReC1kN8DnEzTz1jlohiSajLMfh7BtpmrWvKB83weX/b1MzziQcjux89vAV+l5SkcAAAAAxQZ9yRRUsK/8OLMczbUypY+06YA5DbC/0g8vhiv+FSANgc9FndtvO7XoS/sU4JELtkQAAAAkBn5F0Qn8AN6AAAAAdAZ+TakJ/EYTJByzofRcIANGTtOuILtolO4ygVYYAAACbQZuYSahBbJlMCG///nx9G73X5cALK4In6NmpCBF2Hzzd7VgCkoa3ux67XNEXNX7hlZrCOSCR9Yu+14pL/K9CbOXWaLECbKLjQaIQwAlYyGC4e7n3W2MnBZ0UglIZLjiHF3H7zkAUfKNe66aB2XQOL4uFSnfMcIU2pXlNSdrQUHyOwQ5XiWYtVqaDKrJ3iIiw9quIR8UjZqjnExMAAABBQZ+2RRUsK/9XvIHt8epsBRMfUAJLqQqOxnxVxEGNYgzkVlpButQczaQSeOdEzceEiuBptsZDdXy7Jk3xpYrMl2AAAAANAZ/VdEJ/YFNM5WIL3QAAABgBn9dqQn9fp2bpmYLcJb+/l691lqXd2B8AAABpQZvaSahBbJlMFEw3//6Asv9PapgVgn+WTawoAGcP2h/00veLqtkno45v3yK1yQ0N4d9nTK9WIHiCPNxQXrSQq3m2hzbneS16JhYev5fGIgozjjvSfgu14KStKxXPkv/2cxVgQLkwx99EAAAAIwGf+WpCf0rOrnusRkmg6FsDv+ZsAJkiswr1PwE6G7E01PQhAAAAnUGb/knhClJlMCG//qeWeCESKJKwAZKT7eW0bEVBQdRm3V1SQyTyqJ/oN3FkJeUcZRYxKoWZb32BgLslU2qpFi266+RyvjqyayZVM403roPUBbwm+neRAFDdi9F9++23l3LM0yMw6zW/+TxVrUZvjJYyAJ4iYSJ25IJmyz88kxSSKLz0g0qcpUNQa7F9j+qq5K7Nbqu0Qp/WOleZPuAAAACGQZ4cRTRMK/8OLMc2lEP4ko+6ZPjSsoAIbyJHlpRwbopONNsVVCoqposB/ndfQ1Ohfaf8ZQggwR63v/Facrc0vGe7BIM79scxm6ZAtPkoPh7FO0bQj8CEi6oDnS8TtVQ8ZL1dv+LgD2KwQEcfQADMG69So6wqJ6QUGBXZlqEeT5LYivlIGV8AAAArAZ47dEJ/EXv6YqPwntaeSG4UAEy4TMVVAzSDMxZ1H8OG52U7+8fwu5A7gQAAAEcBnj1qQn8Rnfiv0mpm7c2HQeF4AH7+zsbAvUEWpawYhYsXh3vBY84MD9nidXkedgQITkdE1i3iNAsUoXf4LrFq4VYx0diHgAAAAQxBmiJJqEFomUwIZ//+nhGB63kABzRSps5LN4ebTAIngxVsQg8NT6Uj9hobaFuFAGgjz0r9/A32BGnkDscLSjdRKEBR8ar9L4JD4aXzwLqoBIUpoCRMTGJ8rYyAdv6ODcNX6AF/iXAwZNDTISQHXg0vI68ObKN+cygNjpvBfx9f5G6OFugb8Ol6jGlYqLMIJ9oquzJFgpI8xIXIpkz9wIQClz57JbwuddsVfZSKzlNWn3T3xDRfNBlYR2pgZE6MPLC9HVwFnKSA4/LJgUsxIBJ4+v0PJyOs6JN1ebODzsnyaMh9tB500tFq7N+Sm6Ky7qjo2+BTowsfY+sk7YFpIBVTiUzBEy3Jdl6fkC5AAAAAfUGeQEURLCv/DzknnbzHDUABxvKijebB/q/hDwewB+muzuZyVIbU4Pjo562AwFOrAdozitQZgGJclZtnUe+131rksh8NIa+ovYyQzK1xZkFNybgoq4nahyBsqhIOiN+c9ZOupusNpGv1OAPhKxPwoA23aRPtRfTqDP9EXNBtAAAAFAGef3RCfxF86XENeVY7b8EiTvPQAAAAHgGeYWpCfxGeOYJOs0/hc3e3Eppod1x6d9Blv8bRIQAAAJBBmmNJqEFsmUwIb//+p4R4Y75mAAUCv6aNlifSuFm8JNxkZYlAmbbW1fGIQwdAVtoylfKMXMb+gw1P/rpB0yYI42UAoBevf5yfaRJXdcfRouyV8b6L3yIlyhHcZL3xX0qRRX3wt1bT2upGD15gDDYt/7lKHoO7txbwuB0DttXR5NpJ5Xnl3jxZS1hQxKoswqYAAADqQZqHSeEKUmUwIZ/+nj2udCX4TqigATPXC0GW5WuibMF/VPcmRnZefchpaZ9bbKJ9KcZ8zGNPkgBnl0LiiB9Aw9UN9+PXGHOtnt5qx8LTYH8i4B+MauiQFfLqudoDXbs/Due9jr+wxatD0TiXO6x+AI7c5YrtDX8JUTYD/cNRcMwQPQgwbmCxIakqe5+MVa5RxFj9opUqX68cKZyD5hAO0Cfd/oMdWhe386UIsa0yFpZWmoNnrVlKTRg5UWjXH+bT/SsHV6tL9sP8ZW8Edp0IzGFtY4QohkcAba2DluN1s0zGY08i5bsB49fVAAAAWUGepUU0TCv/DzNAbuBmZbgBa56Msx060/gmzMh3NMgxB4XKK7O7PlSv2mXIV6NYrHYZYOucQMj4AmSJJd9enWFsyY49Qkvz5KxcWFEE1mwsg/S11Vb/oBV5AAAAJgGexHRCfxCFoQ2Uj+IrfbDmiALBOmt9ncL2eh6JwaQ5A54ETmcJAAAAJgGexmpCfxFMqhlHDNEABWpeQffvgJIwIT/VhTjMXlfQqEsk4gpxAAAAfEGayUmoQWiZTBTwz/5+feDvYmOUwAuPkj/UorVD5p1N7KWRF5IOPX2YOJMmk5IK1D4pQLbd5yqkLcEwyxdWWIQzP640QfINBvNvDTyy87I4mpFw+R8NzDENvPfc0WK+2iZ802qd5wmJSZG4WRjicOVK+DPLsame50g18qIAAAAbAZ7oakJ/TA0zK2da8jRJ47+l4QpxwLl+vLiEAAAAPUGa6knhClJlMCGf/n+ClK4ECTWneeZToQxIYaGeOrZF0pT5nWyflKdqAK2cqL4CD3+iN0jqhvZgY2ua5OEAAAA2QZsLSeEOiZTAhv/+lTJ3FvdDHjs7FnNRTaRp6LzeKq6gCqy2RuPPwr4H0UxMjiO15cSIm6mJAAAAMEGbL0nhDyZTAhn//olZf1ob2ctf3LnGuc0bNiUAF0F3l9C6WC39zZ01bByXgYkJUQAAAC5Bn01FETwr/zlV7c9Gn/YDmtUBf3AwA5CbPFKOZ5Aeat7irs792GefmUpX/qFJAAAAEAGfbHRCfz7uJ+WiOlbqWL8AAAAhAZ9uakJ/DfvxGSndiNTt1y6IAVWctipa5EUMr82VPDNhAAAAQkGbcEmoQWiZTAhv//6njlHDjbMvESAG/wAJx16rNdRDEuFfkiLIQmYrmJPUo3Zz42gj5NchGIHfDQxKuQS+mgPcRAAAADtBm5NJ4QpSZTAhn/6eLbp6Rm7jtDuXwAF1A8Lz5ZyGcswV5IaBxM9Ng1k/usE612GbqEuzF3mVGsMHzQAAACdBn7FFNEwr/wvl5jJGPnahNT/ylQA2vGfII5ImXo4iTR1z0TZ3iscAAAAtAZ/SakJ/BcruL8ksg9Xr9nVOABoksHwTwbpQ5GRTiwFXCJikjvlJiah0/FYwAAAASEGb1EmoQWiZTAhv//6nhFuN4EFFjRq7YawAbRdD/yGjkQDrAcFRmOyI2pU05qVzpwP+faFqq94AvZ0+IFu2QbxqH6z/YsAwOgAAAD9Bm/VJ4QpSZTAhv/6nhFuRLELYvAQAOyuh/tyPjoDfnwgmrZdfQ4qspzFwWbpSTEJvsWvPB743PcyOXXXMHyEAAAKLQZoZSeEOiZTAhv/634J1LOQfJgE2Mh/r+/f6juj/ZdjDehPtCEkMeCbuGM7CAdFq9cixTSYrA0PoKpCg0PZKzcrKL4SNoLFmyLf5JWVsNcPQNDh1UxJoWph/urXZdld0q/xqmRJq+hbmTMpHvrRNRDYArnjgLVAVk2upwc6at/+al8+T23P8uft6HWXUj+ohIcmQ1iZGLTAJj4+JrayX5YjSLSciSPWqED59qxjFB7xtC8qA0KMTMFvf0VEXYOVblJUv8QSfLcgWX7AHib/sz/8AQgytLB+3mj0Sl2o2Xz4HTG52bPIcaM6aijmoeXcXx+CNbDDtoEje2STo7T9c9SnPX3Ja+Fu9opA8gFZDzenrA6M2XtLE3NyafJVSwMH0S6tCkfP1EwR8u1mBm25WJWIAdqWqVC3NuIErKr4RQy83ZzdICUQeIogRrAvaF6u8HPKj5pjKcApwMFyqmmg7VMMIkFK5EGfSgba2CDbu5XuhduPo0pBL/4/Y5kmmOOQ9zfgJN4sMMyxUPICYmTcp10PbCpDIeVSMRHSMrhzoI2FXy52rv6xgI1l0zy2uGlzoipXgb2hmmufmJWKieuDC9xB17fg7o2Mx8klKJBx/Aw+GbWQVfbBf5SZrEqBKz0/QXBJyS9AF3cqMQKaxAc0RDIuMoj3WBvzhhLNwrBh5c9nrOs4SFb6qYv3s3ivZg450mAB64JOCMpxSv+hZCH6Z1tkyXohl1/6xo4ZX2I5YkqbK0noB4QezzpIabM2C9pIADJbvoaovagK8llY1FLgIPcoGXKTuVrBRjfMYSfTNmfmnVxV/whYLkIq1rWbJoIbqh8eHYcUayy1m5LwaDmwFxmQa013pFDvu0yQSAAAAb0GeN0URPCv/jTwMy468EpjABM7yVo+rRGdkVTO+CC7lPm8ZWuh/8j/hM7ovVPQ4dAfgAjtT7LmxUP/i0X7elK0aUqQJrt1cLQMAe9K5iaLMfHHeO0u62tmla1EN9Ijd2BVcuQQjqYCbz3izdmwG4QAAACUBnlZ0Qn+R0UfcB/voDMRpFxxLkz2gAmrjEUjlpp4Q8QWqTgu7AAAAVAGeWGpCfxtW5WRzXQi+/BLIALndOfSki/1M9c/zW4pWj/l/SHAtxuMZukCcvEqoLrHDyc8NfaWf6gPJg74NA0munTeU6LN+lhb2EJqV6KubuuZkgAAAANFBml1JqEFomUwIb//4Np4kAmk/nfzlYgD98H5Kg0iXMJQV3bS1d3ux2H5/zQ80GXPXcvapr+j970PyDGKUza9fgOIR+IqSGWsmFM/apwZo+FrQEjIv8hAJhKBWHMwb+IESYg+uXUBhPNjYu/eNVeFinYWLyYdLfL8VnJCfLBeYhWwM7SDUtSYTYYN90INFsmYzcKQJGnOxsPpDv6fY6Xobwl/g89kZwksbaedH/DDLaG5EMnvqqvDIcMD8VXSjbQE3Dk9/QTQTeSZruMDECLLbHQAAAERBnntFESwr/408DRpdxWvpoRHl05pgBDdbIIh9WdGQUUHo2yWeV+1dm9bVUGnHl4SQqnygH/+f7ibuSv50InR/QsdkygAAADkBnpp0Qn+R0VnqpcwIXwANoJ1OAxgcZfj6qDs1Ll4malpoE9UmdzqwOvcz2PFuNG53P2Yw3xDdxbMAAAAfAZ6cakJ/G1bKXjzfCeYMAAbFVnIXsIHO+d5rzGCJgQAAAMZBmoFJqEFsmUwIb//+qFCRbxW6YAh5bsbNi8eR18EoXAyf7WPbOgOq+YsIy9+cIKD5XecoqniNOPDgU8TJzBv2aljELvnD6Ea6mi6g3X6hvUf36m2DQOGuMwzLFVf2uoIIuPO6jjSFeWPCMsC8gxErmVJ7701tNFAAvM+e2t42vOHSYkvI313e0PdPTFjSDd1k/MzNUL2AJFOjCjqtINEbU7eDGuvn7qW5WNYEAd7V+jGEi4oH0ChCipSa1O3pi1WBGPYt9EAAAABnQZ6/RRUsK/8XVnq3CC7JS2EoAIb1CnOzJlSDL+tKsdu/IyNKS4MNHibn9AJHxHHXRZ8fpZAH3ij4mBycf6Df+e0iUcr94JcmJFUSbXKes/zD54ztDiSRhm7u0WAzmpDkE4xzaRxCeAAAAEsBnt50Qn8bFCg4AzTfSMTsQAIayf8Pn+Dc5cY7tLFy0ocqlyMFrHCZvR6/dJSDvCxD+Sc62hFsU75DNXc381vEibn7dN2onNM7FqkAAABCAZ7AakJ/EZ4zChIMjOAEtqNV/PEQn5ZyweH8kxgdEuCG7/3fPUZwV6brg+F2mpR2oZ3COExzDHvi/p0qoEdMDG8cAAAAqEGaxUmoQWyZTAhv//6nhADxqg4YAV/nYkEUfHend+YKM6IfxE7iBDYXx0EFKT/nQukKzvLXzWcVNkrJOCsBi6ScUlxhZbl6zoaiwl7/7kp8ozJGR0NTGAvGgJpoLfArMlwmyslv+J9GLgLf0nMOpusPobtYBaTc+bRDH/Ak8epZo+EWBbxA3vDedf1EMqoSEMudMRWVUAx7E6Ld18xalyBJoPpLwr782wAAAE5BnuNFFSwr/xdWercIIw9gQAOQmzLUjvC+9Zl1LtwuY3gpk/kOgW5Gevn8DRbXkwXQD10G9uUB+e+OFi93zKDu7kA18XSwHgUZLfbhtCAAAAA7AZ8CdEJ/EXzi4NNaSbIAJxyrE1BfqdTGMHVjE85Qz6Zdp3p23x+2OnqXBbTJ+nqY54/98LA9UM/0OkEAAAA3AZ8EakJ/EZ4y+MWIR/VUCmEjzjgAffp0KtIeImnbFN2hNICwi8kHddXW49iBUWYSqrzxgSUvbwAAAD9BmwlJqEFsmUwIZ//+nhADsDw8ABWEMYpJuZriVwIDrVqI7ij76hTqf25Hrjs3ghzOm5z9q/v6BseLizx3U9kAAABOQZ8nRRUsK/8XVnq3CCMPYEACtfs0tmgl7ymQXzrxtPg/F6aItnR94r0+Avt7mSxw0AFx0Qppnj/IiEf5BpFoudboQBFaPBEVKU+5WQNBAAAAPAGfRnRCfxF84pu6yUUABqr1bV73DAcGYD0GmjNmHCFFZs5E//Xo4eA0vQH3C2XNy+Nd5o6/eY0zvN8/sAAAACwBn0hqQn8RnjL35WbrhABT6RQ+AB3rf96EvVWp/S2F9Os3PR/DAAueplDLyAAAAD1Bm01JqEFsmUwIX//+jLADujk7YAqpqbNHTWOJu5x6c6p7Bf5lLno/balMwEq8M+7kAQ06gz+l3XzhTMyZAAAALEGfa0UVLCv/F1Z6twgjD2qEAVT9mlsznv+tLt65BPPOr+fBtIkwPbwodQpAAAAACwGfinRCfxF84oBgAAAALQGfjGpCfxGeMviEzYXDAFHXHqWD4LehlQjuvTxSSWhC8lCC2DgaptVb+XtcMQAAAC1Bm5FJqEFsmUwIb//+p4QA8aoOGAJcea7dBfKYhVsOqQOPL2mcxxHmuPrIhPMAAAAPQZ+vRRUsK/8XVnq3CA3dAAAACwGfznRCfxF84oBgAAAACwGf0GpCfxGeMoBgAAAAJUGb1UmoQWyZTAhv//6nhADxqhWZyIA5S0Ls8vxrGH0MG2RIEB0AAAAWQZ/zRRUsK/8XVnq3CCL5YLlPLdzEPAAAACoBnhJ0Qn8RfOL4hM2FwwBlaf8U/VP2jkMvJNiFVjNJazejVN5xWvH7XDAAAAALAZ4UakJ/EZ4ygGEAAABHQZoZSahBbJlMCG///qeEAPGWvAgBFdnLNYPoCTjxFT50a9rSqpt2kFiw7HIvL3yPrFm5jxFLcJdnXif/66URZhTUkcchPIAAAAAsQZ43RRUsK/8XVnq3CCMPYEADkJs8UKpKAf8b1LwPrZeqfBc/Xdn87aO9QpEAAAALAZ5WdEJ/EXzigGEAAAAhAZ5YakJ/EZ4y+MYNcAFwI+HXQ8rGQDwJo4Qv3Dos3BYwAAAAM0GaW0moQWyZTBRMN//+p4QA8ZbAUgC8DIWWj8hzsOtDAfDVX/FsbeivUyhJ5LZiH+QnkQAAAA0BnnpqQn8beRwGf+bQAAAAPEGaf0nhClJlMCG//qeEAPGWvAgBW5Z0Eb67iNY5ePOzpTQuwdaZle6SvnbDPRV8j7pqYCdAdXtpBuIDgQAAACpBnp1FNEwr/xdK13mUEYewIAC4E2PtkNAX3n6fC86wvHp5ik0Q9l7dQpEAAAAfAZ68dEJ/EXzi+ITNg3W3ACzAbziMsg+KJFWKCyInDAAAAAsBnr5qQn8RnjKAYAAAAD5BmqJJqEFomUwIb//+p4QA8Za8CAEV2cs0sv4KUZWbLCmFEfeXrpz4mn9Ys3iN1EntxwrT/rqnGCNm7tQnkQAAACJBnsBFESwr/xdWercIIw9gQAHAwUgYZhvjOsR0K60QI3Q8AAAAFAGe4WpCfxGeMvcgXWGUjqGTTWGBAAAAM0Ga5kmoQWyZTAhv//6nhADxlrwIAOBLasIZbJMHawsiP+no+kfk/oehV7aY1WdXj5CeQAAAACtBnwRFFSwr/xdWercIIvz9RoA4SbMgLblneuh/694vJzReql2s/jaEvuh5AAAACwGfI3RCfxF84oBhAAAAHAGfJWpCfxGeMvflZuiS4uY2K5kooA8GWpUAsYEAAAAzQZspSahBbJlMCG///qeEAPGw1uuAI188DyyVlDlUns3FPxfk06jCCETrK/ou0Sdn8hPJAAAAD0GfR0UVLCv/F1Z6twgN3AAAAAsBn2hqQn8RnjKAYAAAADxBm21JqEFsmUwIb//+p4QA8Za+KABAlRW9jpedgbqa7kEXzYWck+BTtFsBxvtT1HdxI4oDtTfC5cSyE8kAAAA0QZ+LRRUsK/8XVnq3CCMPYEAGsPz76COkJS95XEekbeDyCNlePRp5zfsMOZpszlqeLmYU1gAAAAsBn6p0Qn8RfOKAYAAAACcBn6xqQn8RnjL5e9SADf/Glke+mtVixv3jWAMPJAlyAwJyM4HWnb8AAABEQZuxSahBbJlMCG///qeEAPGWvAgAuKk8cQvxxid1Wl4Z+/en3+DzFpw0fVwqOz+SwS/cEoPPH0A+204lHOASiX+6tncAAAAvQZ/PRRUsK/8XVnq3CCL8/UaAOEmb5ypjnhAz2veLyeLFMpkzsTDoFnAPjHqdtEEAAAAPAZ/udEJ/EXzi1TL5OQmkAAAAGwGf8GpCfxGeMviEzYHoQy5kGF2PLrEN3XAwgAAAACBBm/VJqEFsmUwIb//+p4QA8ZaXgACbrh4XcjwBO+mldwAAAC5BnhNFFSwr/xdWercIIw9gQAK1+zzij8UveVeE33142nwCJ5poiyu9t7XPB8soAAAADwGeMnRCfxF84tQRlmbJ8AAAADABnjRqQn8RnjL4o+D1IAnKyahkg+/YYKSSZaQu1oWz75IeyP0y4CDCrzlxfLchh80AAABJQZo5SahBbJlMCG///qeEAPGqGmIAcqk+em+P6p+az1PogShLWslbgcs7c7LUlaWx/wlu2xwsOlozsHWnHPEbxNgFG50UE0BAcAAAABZBnldFFSwr/xdWercIHMVJCSUieisxAAAAEQGednRCfxF84vT8WAzSrJWxAAAAEQGeeGpCfxGeMvTqFsha8XFEAAAAhEGafUmoQWyZTAhv//6nhHYKNIAe8lLgNEx0hcdp8MCOFLnUon6NwI8ncSBClbhcxnooXrOL+6/+Pf5J3t4zwpLVhzEHsAf/SxnNl92BBmpYzLlHQXJkg4Q+MUHlWSzSvvgnKOcPIqxg64v7K5rUUS+WzT9/Xn18OoSg4v7iYoCJttUjgQAAACxBnptFFSwr/xdWercLBDCQQWr9R0ALOPyVR77+Q2OhOdQJ5Ke7S1ZixjB5gAAAACUBnrp0Qn8RfOmGvH2mCTINu8plft96DYDUAjhksfgyBj4Im2PZAAAACwGevGpCfxGeMoBhAAAAaEGaoUmoQWyZTAhv//6nhADxo2tSBAGuuzHpOxDuAbvmtRNwa2hUBiBaMJWkd7B1o3GPi6EUhfNFt34tY/CNssxFv+nnpIw+MxREYEKXrBJ9jMlXEqMah4h6S5QqbQohWhnv8Xp44gOAAAAAEkGe30UVLCv/F1Z6twgdDgDeyAAAAAsBnv50Qn8RfOKAYQAAAAsBnuBqQn8RnjKAYAAAACZBmuVJqEFsmUwIb//+p4QA8aoXzQ6ACDtz/chD0qyw/VZVzFITyQAAACpBnwNFFSwr/xdWercIIvlhE+2AFNOx9shsxyBF2FrxfnlHIhgif/qugEAAAAARAZ8idEJ/EXzi+K2A2/kcqxkAAAAOAZ8kakJ/EZ4y1WJFNYEAAAAwQZspSahBbJlMCG///qeEAPGqGmIAJxUbBc1TOrYqzeDK2qoZJjYEPyDZ/b2XniA5AAAAMUGfR0UVLCv/F1Z6twgi+WUCAFAaubQU0ZBEtVGA9eskV9KaiZXDfSI6C1fpuzJ2lTkAAAANAZ9mdEJ/EXzi1TL2HwAAABwBn2hqQn8RnjL4xYhIDFIAN/8H7BiVMY/W+4PmAAAA6UGbbUmoQWyZTAhv//sBtuDxuYWQIG0CQUdQZ2D3XoqXizTXrCtGlSfvO99DWn1gsW9kps8hBe5uXpL+m2Kve4m3umEUJJS/azha0EwziKQi28Blkg/rqf/bWlFg6RmH4ELHPddGWidjgsjcE+V5mJ+8jARt2JncfcfKz+R7AmWT96b/I9rv8nypxgvbTYLc/zTBBkEF8H5VifDo7Yzf5nuwhjQxk0003rH0mvLEomnRdY8UdCXKch9tC8OixDP6HGgKXiCatTf2kzKys03ad8OYXKCBoQbazCBtLbPqxm/zbIHff8zas5PBAAAAJUGfi0UVLCv/jTzrd7yCrHeLzyhELxAA9jlb+FFDZz+7jv8Lu0AAAAAYAZ+qdEJ/lJWU+mCokBDiJ07DDgJirTUQAAAAIQGfrGpCf1+cI0KcCeI5tf8AF1BRwGAELvdIp/D91VquYQAAANpBm7FJqEFsmUwIb//+Qzf9Pdi4Tg2IwLcYAFtIPhsnk1Z7tpTmaeRBOSLKkqvgd6AeHQj5B0Eh93uuKlXHCosP5DbHQO0HJM5rR746JUV8fHSFrgwF6Tartu7fiPqFAul7y36QzfB4V0hS+JYVvdi6vX2iNUnTEzcdUahoI2ifabzG6oDzuAUS58TNeVrpEM1I/kt8CrXXi1n2x8cWQDytblWNvYgp7cYMYrNJkaR/nExMB/WCgN8goEeFFAIFGYH3vEc6vj+11JPebQvezfx9XA+9DlrmnaqolwAAAGBBn89FFSwr/1b9mtMYIIqE1fSnQAj4zqUmDQdxcpeOQKFwQE4Liw6RBiq0nQe5s158fxbKzThdvX2OeU8izxhF6ywysK5/KxNv0hVRarEwKqVLygFWH56RLGu2fH33TXEAAAAxAZ/udEJ/XnVebZ6PBUNccqTapOpbUeaACEE9GznaRpswZKvHtq1GDJ2EHndsGAjMkAAAAEYBn/BqQn8SsdysdcGEBaogBGIuZ6HGwHjUc2eWbDk1IKNxnf/ov1InKoo50nmtc/9uRWdlLcnZRjmp9VwTuNeivAKuim5gAAABoEGb9UmoQWyZTAhv//6nhN4g+CDf3ABy2naT6FAfsoCSFnPMI6hDqvmN3vqYvOwCG7MXWZyEVNJTV8SID5HDUTYYNBpMI3Upez6CL9LAbSSE2/l1B4Z4GQN5QqYyx1OG9js3K1CmEnzoyujea1J3xX/FAGmu49BjXfzZ8cnHxd/C2sZFQZXntPbZFw25BoPJrldC6cv10OvdEg8CPBb1dBd8bqz7uVXKniuLJKVv780CO0ZxQLisOh4hJFnSDaj8jEh7gGlPtb6KYldM+N+jNjfhIGbHjCWH4vPzJPjPVinxRKhBxykP0JoTC7CwP3XKevwefEsc+wWqzIhVjLHziO9uGS0VZDLnjBwbUbHoeXX79XHcT7IdM9ZnXxDtGXoWYNWTs/QCSARLWK7Bq0rnX4N4sfIfKnCpOgAy3IWSzP1yUWDJVSECUk+9/vQ5FoO38wuu3eo6KGU7VJsfA/0g9S0qpp6Z3S6oRNTNKX3JL0uaINOR5scAHfF0L4FpNiXmHu2um5OXpCEa3oPssGu4a7a2+NhgSRxclWgBoORfLIXZAAAAhUGeE0UVLCv/F1Z3V+b+lQpVRGQAud3dl22bgCe76xUab8Q/HVikNsFF89SI5cGSM7wvApdy2KZGSQA02zxPWTk33vKbAAXDa1nLbicW1h0/iJVzZ04/FRGaM9Lvq4T5zpE3ZoWJddfNX3cmf7nd8hzUGswGqNLqWnW1x9TTvOsVW6k5EuAAAABGAZ4ydEJ/BuezjWa91K+EAEIvPF6UhzzvPx7oEmsX2e4hysxcAPem+M/NFlxxIgpDY0+Kb51KMOTHRBPgH3KIOd3ov7Y+DwAAAFABnjRqQn8QhaQbUkZ7ugAh3A6Dp1ROWftQ+fQOlBLH8xBSIK3zxL+r1B+BCeT33QdHLBz1BDI4wbu8QI4IcowowC/TK6h4tRA95fI/MGH99QAAAMxBmjlJqEFsmUwIb//+p76QcOTb18ANvkZynOvCaMlCVCIsKsrgpZ4y1ISQZ/0u3scYyxYZiS3qXpOYpOdbA7OZHiTkd4Pa8bhU/cBnfYtrZaxiAP59kojEaGOm+Riq+TdCw/oJsmtL/WiMloB4tRqWLF/xnze/Aa9RePcAKvJQh5pN27ePN/6RKz/MFUUVHo4Qei2fLn/6YB7DoTex09i5Gzzu1Sfbjn1tYG914sIO6CDc9rlDyQ4jqTp8s/SE8JppnH6Lc/kkowtgocAAAABcQZ5XRRUsK/8XVoCRS4FQneQHS3K9kAQ/T9NaWwXfNTialL55umvtFcQ8Wv+RdiHF9FxYLFXUUEW3qijGf6EX9js4o/zZnz6naHxFI2/eKHXqmIp+k0yMsqUzdD0AAAA+AZ52dEJ/ErHbUxGqKWKrPADbIZovnlW1tTzD0fQL+VMqLb/K+ZQtqlca1dTjcXnwD5D+jobURNj7qhxEo4EAAAAvAZ54akJ/FAy4BmT8ztRjRCgxS3P4AIQw6x26V8/qnHnITMD4ZQhhJVfi8RXCFwwAAAB+QZp7SahBbJlMFEw3//4CRvOYrjnFLxUdpr/Dvm/GLbmADmzGHSUGl+ck6BTtFzJep81quL1F7bxY54YhDCVcaWz68emD1oTi7gpxWvBW83oadAjCiGkDLG2OCjeNdy9vf+YcZZbldcAtxJyd2MQQUb8LpmV/+aJC3rsU2VunAAAAGQGemmpCf15fjcwjrcdTZDEQMtFw8iqectwAAAGNQZqfSeEKUmUwIb/+Qzf9wgALUCbyUHjInLUOeJmpJ42DtwTSWEIk1vYbCyGOE3D6/FAXv16siCacAvnaxC4uBrLwqXn1HKprURM+B93bR3rShjr4llx2HtJHDe/X9dtScz3oeagui6goYCDS8y5ktW9RcKngptjZ0kTjw+rQW8kOUFV1Fbn1oDYxE0YhMCO9C/sudkAEeYRf6Al0ucK7IcfdnrPNLs5+fVGoL3a+lDHwme6CA2ALKuIf6c6rXnU3YUYtdhfRGUkJ7yimSGXEQpe7weGInLAAd6JVzS8YncfIC97pMHw2KMJ0vXqPXfUM723XYqyv8UhuxbqYflSfkf4L9rypqaxoJMTCV7Osuc4wyqZLGmSMMHtS6YkHpEBPNgaaIKoaXGPo6qMpzabxc2VLuUk57UTehRMlbz7QrokL8hmJil6rgI+hvruwyGxjbGD8DpgsM/3H7sF8FjMjEMH8zz34gPlaMkfgUUFEpIGJTH6W84sdW9RGOlMkcfKjMRy5P9/1kA8NTEidfQAAAEVBnr1FNEwr/1goP9dSARQiNvAALaC93jggd4JXkuVwwzB2o75EtpTayKS2OUXdjMX3usTYXpLFFgT7kKwgmm6jJG/hfuEAAAA9AZ7cdEJ/XnVMhGI0YABNTcDVBFLFbnCXMJ4ktlelHHync7O+zGPmWVYgz/8gvNfc/wrDkXtsCupfMnMyQAAAACYBnt5qQn9f9N6kYC7wAXF2zHomsOFmt5pQwkUb9AKE9R7UT/E1KAAAAa1BmsNJqEFomUwIb//634Fk4rhTUQAP61KZX9QCTlxHtDb2BTFLy0Jh5Hy9KcI5M2O6LiLGQt0yrcQdVlMWhc/SANLeJBahWudSiP812DQuMQgHHX7F3tizNC5BgNeNzvGGv+y1ZPbze/F0IRDikXuJ1ONek9i1d23Ja0PqGyvT5EutnjybZTsP9JjFDJjJGN7Af9exbvjcuVVZ9xQm6arOCGydPc8Y6zOg5/jKL2cAqR9Nj2KvmuUCxA5OPT2qEpRbuTL5N/plhlw2z2xE+ePT6ZBhJ/JxxMP/7xPZ9sWZQMqjsSZuVFjwdGwRt1SRSVbH5tyMM8BU/AzZoCNVrpUQ9pnyCIpFqzKSGGXmIKX7seMgb32nT9nvt9b84wRb6DGAsGm/go7UOSTAMHiLfuFdZOKC7XKy5x32ToGLLjRuBJWXIoZB5VYwYWnfX1sy0JLBgsOHFHAoXRAf4BxzUhBD+Wt4tYGm8xP+TZeqqaq8eEQHMVW37dkEZYGpUICh6EHjN1IoP7CEeZ/KD8g9P1dcVcDj5iYQtHH58aZp6tPLG9PMxA0Ene6mCUdAAX0AAABBQZ7hRREsK/+gEOGaL1+MAEaqtJgO8jqQzalVpwEBcuXxfsHXuPGP/AVYXrJRf1Cc5EjPgvN1puF/67VAnpNoiTAAAAA6AZ8AdEJ/XYhrD/wIAN/6bLqRI13lgvWRCUrJkaqi5GeYakca8mHhHufQTF8okXSMmbfeHPZMx0We2QAAACgBnwJqQn+/yP4kYEHClIWFhcOQAjiytR1fQmgXeromg9Ayqrx52gW4AAAASEGbB0moQWyZTAhv//6oUJGuIOuNbaASRqSLHJf2dxoBLRunvudS4QOpukdzMX96eUPDRXPwa3+Sbn0ldP0+8a2qKqY7e8Hj7wAAABpBnyVFFSwr/72hkucGLOm5Fpamcx9b26FjDwAAAAwBn0R0Qn+8yo+r3U0AAAALAZ9GakJ/v8m4rFkAAAD/QZtLSahBbJlMCGf/+p2HgbqP9gPkOo86yAGyB/eU5875FflPrn5DbyEqfhbPvwk/a3lPZvsG7KLcxNOTGq8LCZVH7oz8U4QxEu2rH+rTJUwls7YqWbTjWmYR8D9NJK/rBiE5+RtWQXHG7nADDcn+rhz45gIEHtnD+B2H808qL+PP6wUMWmiOaomFkO5mMLJoS79EsG+embFx7aMwEVLDAOwuhaEisdXi9UD8nbjU/5Ai045Xg46ZPBg1vrzg0OewOJzfMqegcEwVIu5ycP7suKW2jraDkqdleBJrPLUuqxA6UWcvQWmkxrBBepn07gx4cLKI9TrLLx/eg7wo769QAAAAVEGfaUUVLCv/vaGS+JZVF9AAGwDdQYhhZgg5DFBxr0V5oA3gL97K0bx8l47ZFPcKBcrxwsoHEVBA/TSbi0l9agyFFmZwRfSjLID3jVdSAnqKSpi/BQAAABkBn4h0Qn+8y2/3/JmXo8UcNmTVtRmUulkxAAAAIwGfimpCf7/KZGJ3dwmsAQgDNRtNcGtQHrRvWM8+NOql26s3AAAAc0GbjEmoQWyZTAhn//zc7St6cACF8etBqJy++/PzZBe+W6gXiZbnJATr4+AoDtj/jByUiN7iLqTbdrl7GFsibA576rwOvgu1iYjfSR/bQSUA6CYPNwqFACVzeQE6wT0+tZnW41BB43Sa4RfWwHV78hTSIqIAAACTQZutSeEKUmUwIb/8vVxb65ACMrZ1kTe4Flz4UYGHB0WIfFRBTqV7aeTNiyN2qfxB2+x3ypNL7yblnlqpobKi/KGzVBbQzDAhy93RNu1a73bVz3tsUlZeCKqyp7Ore6oim1Fz8/Fe9T/l3edcsEVdXc0BzSypaFosnU5IayhesxMyuie4Ad8AqfR3tH6lOt95m+uBAAAAcUGb0EnhDomUwIb//X5xf3/f3ngf/qceyZfXiIoQChOXdWCBsk9Gf2cmGPEC3PHGO/IeT7Z+YEu+zGvNFNN6jwc3S1lukH7TQSgDR8PfMBPFcjsandTsHWRjLjof1FadReXIZCl7/+Ez6sUZukLIhRLBAAAAGEGf7kURPCv/vOY7M0r41S4oZ5grTj/mpQAAACIBng9qQn+/ymhSU6kgyVEAK+8vliQqhn47paLRTZBFldAOAAAA5UGaFEmoQWiZTAhv//6nvuRq3gV57iJ4Ajw9894YWFEtaxbCCksLMOmGBsA1MHegqbLM0ObgO/7B4TOxg8rA9P+wNk1NIKK/7M9RA2sj/G+Xin//w68tki0LgDfLrlmxJHh++gO3p83vL9JDTwwPxC3cWg2ZKEI5WwiRcL9XPtb6BQoJs0aRbIjw4uKkGjkXG8hB3ISS+NIqoWg5lOaSc5fbriKQyqyFQ/wSy6py+WM0dHlQCKAxt854L4FQkx30hWHvQlCvi8nWVc9h2OaRRjHL2jv6/IVixSbxKmEBB1pSRt6qkMAAAABeQZ4yRREsK/+9oekEbEMAxc5kXcnUANtTSIe0ZSpEHQ7olzR+sEpPowkCjChcbje0M4fl+7A0rUhoziLZFg2QCMe6PKwClftEuerFomJBXqeFec6ENCV1fVrX4jc/+QAAADcBnlF0Qn+8yqY2YAEEqEmKuyw9XseQABqcJYAho/Pi2I+eGMpaxBkOo1c/0x70HNK3A3QIqurIAAAAXQGeU2pCf7/Jwj/EJfuBxgMgBXM7spk9/0yMg2Yd16GEugMHprgWUhKGD6Uinb5LPk94msY5CkjfKqGvwhcX7WznaTZAJns+XwFtahZTcw13Gyl3BOvF9QIA4pInKAAAAlpBmlhJqEFsmUwIb//634J1LOQfJgE2Mh/r+/f6juj/ZdjDehPtCEkMeCbuGM7CAdFq9cixTSYrA0PoKpCg0PZKzcrKL4SNoLFmyLf5JWVsNcPQLEjqpkmVF46i+pcmnlbsl/xofNRWcE84TMoXP1ol0BnYK5437RgTITg1Rq01b/81L58ntuf5c/b0OsupH9RCQ4q2OryhHrn+MfHxNbWS/LEaRaSeU3nCu5c/awpwqOcScjf51Q0s+kw9npWBJy6GMREaU5r6wHlKmYABnPWMeMfrcmUOawfsORIkpq+nl0n6OrbzoiqMvhBBHtw5QYVHHsC0enPX4owrbcxjLMvz+n8N+s+R2MJ1vab1NLR/klIERGJ7bGN87AlF5sBoxomG/71kfxQvvOadwjzWMAf9bmN9L9BQf0tF10p4Q7XsAROhR8KKuV9Fc81e7D22nZX5oZ8PWTVhKmMuHiyH/0sbOJuoe5IkDFpjm9G20l8cZPnh8ndVxROQ85B9U5YoGu9mqWRfgVqleh331R6igTn1kgSkDPrqENq9MxKNCGUJI6F44VnirxE6iHivQIDIJgDif0b6/x477a/UKTRkF9vP2dir2dI9QXLfCoazetoAm5CdEEBSjgoptGqF8Lbgq+bHYVedMITrtpV0JXdXTl9hQGBAmrhkmBqpQrIEdl/n4uEmwOlEnD+mt4MBml1mlJVwKsRfr2PM5b0NsJzLzFAXwgMWWBDedDH9PjYclgVJxjrRNmGCEUHGQ6hGa4n7LbEqkFoL+aazES+DmveDM08pyrdLBrLp1Be+oQAAAFtBnnZFFSwr/72hkudUcCHzUG2dXMH+ADlL2K7H4LZbWBWn04f+LmA5Cwf0ewBgzBvCZBXytCQlYFo2Kt4TPYr97vdP6sw8zTTfdF4ecCGedBTJ+HO6dOohPS/cAAAAXgGelXRCf7zKDikC+fW2eHAA43lotthlWAPeINI3FfubQNJCMP2jchqn4WllHyIF8n4fAia9oOdcs2zcpDJ1yrRYaOpsusRwOnU3ToSUyfwaBOGLvngRlt/Z6D/UJYkAAAAqAZ6XakJ/v8m1L+zm0CSwfhEUABDc/osErnNShrE3XCMQnPi+9wzehrehAAAA0kGanEmoQWyZTAhn//esxwAavq1Jub5fGb1LIm3ONHNqD0chMG7mTp5tnk7l/RM7FvhaP2DMgd/9BUc/uM3t4C5pdNzKX8Qzk8yo61Tq8Vuix4PlEbHiH/lKsD2YZ0dvI8MWgzaRfEzlYevw4cVZDlfLDbpiYyHHr1TPpBgIvvywoc6n3MVUMog7Rp7+30e6jUEC8BtiOJn1JdbiCR31miEL2GdyeAChhlhPyMfTGQRBTb8e7hmRdzlhjo/ICXmBbQnSyrI2vUIhK+xWDVvfVFaFtAAAAGhBnrpFFSwr/72hkudBkS94OTqUtl/VQAB2h0NMtvTSLChABYVLQb/eIfb+LS/AJsAa3/1y2KO0cMypxl3y/wxY2P6hmLzX6brEcSXwiRXIfJ/Q7sk7ULqyLc87Q7l+vCTx4A9xqi4ojQAAAFIBntl0Qn+8yo+tDLs/w2gAnGnPZ+9maYqjmrpbhWzbWErXMsdwd4E0ulXIyIDZk9v0O///vYcQN4x0nxz7EG0nYDC0r1App/euzaMtC5mKvzmOAAAAQwGe22pCf7/JtS/s5oryaTAAh9FfqR/40kFaqaxU5Rfc8rhAVsFjeyMySp46FyIB/Kg14yhoHCEA6ZrP15wgb6RCM1EAAACVQZrdSahBbJlMCG///qfhBW6IArRt/spYfcsS0KXjN9uoSB0TGhIuEubAKvYLdS8UWLS/CZv3wwDc0TGccgXFXYs7370BN7CiE9Ip1SbOIdYqBwOMHfMASn1uMWSd3krpR2owl+MROFeW9ojaw1Tijr46olOZNoCDStUyaGFfEdyrRatTlzLxMEQ/OsJJ+a4Fccds7uEAAAB/QZrhSeEKUmUwIb/+qFCRriAAsihTI9P5TWhCmwxWKvkC5FwBfj/0V8ZyVrvjAPAHNzW+8TKZJnAk3JX32LVuA8bG+MckIMUNqNnE7jdO+0gNxAs/Qgm///uEIyGpn4dXa/iTiZsw1Kfy2Z0Wpd3gBTSkGmk/KYxQxlAm1u3/QAAAAHBBnx9FNEwr/7zl/PzUXG6wQX38aAj0AcNrcJmJ/+KKB88mdw7Bn7s9z1quA3WD2YpsOKTcSa0IeDm9FHDfcfXE6oyhypP75hQq0OxRc9qYQSTXwH3YvRobJlFK+/eFd0VQbcBT5qoCxHKpp9KdON9oAAAAKAGfPnRCf7zKj60MuwKwzmbnVACAkB2RWDQdmgKqCUZ+dbKteFTepV0AAABeAZ8gakJ/v8nCYNLFV1uxQAIzwjfWCv3ThfTiWAZ79PoEd16HjrzHI+0tjFui9HPhf//xyhjFy3g4f2/nPxu5bmBQvI3lYyVLL3YATCVrrHghQ6F/khOZcK/8MNv5zgAAAI9BmyJJqEFomUwIb//+p4QArAhniCgzwBG8jN+XoS42QAQFMQ50gbBlLe/tfe7U+v71eSLg4Xb9umnHQpgInNxWFxtxAGpThVWPxCNreETZI/YqnVdH2av0CU30+hndYBH1CRJpMSHVYgOqAcFm6C8aPoLgvRfrqhTWgObJIW3APwrrG2pWrhXDWVd8owsc4QAAAIVBm0ZJ4QpSZTAhv/6nhADxgv2XYgFBpPww44GaxxRj78uyDnewdZspdkq/CcfN6dyPpR3W1okDeVjbtNKlbW3aKWK2ZYcq4XDLddrSdOxUwp5nRL9WZEhdS15MGXqIYBVDdtEFClW5tSVDtKJiuupUGGHfBXswd7VsXCtt1EEQK6S+lQLAAAAATEGfZEU0TCv/vOYAMqyQcN58bMX02QADs7sVzz5lko3d2nn/93lixcneQdmwXNAkaoNvMnnEeZRszX+Zq5Wn1seg9y55dHlpVApP5EEAAABSAZ+DdEJ/vMqmfEkAVVDLhYgAnbKWYfUs/UqbR1IHcRkVD/zuObEYVjCy1qPDkK1am7lWpCwVhWj/b0FW4X18YZL62k8igI7rBWTGo1mc+cpv/wAAACMBn4VqQn+/ycJg0sUlGNRz6dZQANi7XM2UWrMyA4aGoGHtwQAAAE1Bm4pJqEFomUwIb//+p4QA8aoaYgByqTpC5j1LuCk3bLLs8JZMNiiJoun8sH74UytGjkD8hEWic6WD2mbCaYfBwxxdAr2MnCg52PJxQQAAADBBn6hFESwr/72hwDUb7myDe4GAEUJs3lcavdehULVkFnEugvHT30wHH9cOptt9kGAAAAAWAZ/HdEJ/vMqmfEkAgHSQD3Edyp16MAAAAA4Bn8lqQn+/ycJg0sUSsQAAAC1Bm85JqEFsmUwIb//+p4QA8ZbG0AEVUjlAUe4it2Pi9I+0M2B/tm2+Rv/kJ5AAAAAwQZ/sRRUsK/+9ocA1G+5sgtI/YAavFN08A/w0vOGxdoIxXEHA20fgb9A8FlEM+ludAAAADgGeC3RCf7zKpnxJAA7RAAAAIgGeDWpCf7/JwmDSxVcogoACz8MVeJCiATXc0ynWOvuqFIEAAAAoQZoSSahBbJlMCG///qeEAPGWxtAAnFRsHaKmmd9I+1B7qzp1F8hPIQAAABpBnjBFFSwr/72hwDUb7myC0heYwOntpH18aAAAAA4Bnk90Qn+8yqZ8SQAO0AAAACsBnlFqQn+/ycJg0sVXvjZADkJExSVdufy0UXnSOh1+bsHwV8xWWOvTsvZJAAAAZ0GaVkmoQWyZTAhv//6nhADxo32EgQCg0n4YccEQZWaSCRj+GcIKIrA2VP4v2DrRvMgB//rmIQPkE7OWGGDncX8hXpkk3lZDd5ycg5Rv3Y4SVX97SLcy0+KVVdjI88/nLiNgurDAgOAAAAApQZ50RRUsK/+9ocA1G+5sg3uBgBWv0OLdegNyLnOsXXVL+6tqNBEySIAAAAAOAZ6TdEJ/vMqmfEkADtEAAAAOAZ6VakJ/v8nCYNLFErAAAAAZQZqZSahBbJlMCE///fEAI8dzig9g/08g8QAAAC1BnrdFFSwn/8DpabCivcsz7FAAWcc0sjk9yaYPxMuMsJ9y8/TU4a5ErqTTpoEAAAAOAZ7YakJ/v8nCYNLFErAAABDMZYiCAAQ//veBvzLLZD+qxlpVdhSQN0AcyaUMAE14Wc1SpYZehjAuqHHSVgwS7/r9ENEsd2bS9UiWzTCAq5jBbtlHWrv/UjntUmgSJLJsBxCJUe8/lWTVznjSPF1ScrGSsJn/nakfCsE0nUy64uZCRxRR6qgHshyeIiBIkkLnvBgjClaLAeetxG7YkB8TdzvW336RzwaE9xkUCvgmmQ4avziZ+a6z7Ks43RBs2haNu3kR1CI/vDXzCVfJSRVzDJCeqXavFJSuNNXk5/nLYnVUEIXwtz8J026Nzfe1CPfEzIxupbNGhShOZ159yrpz7CGyshHxgjR1i0XPVAKSCl9dC54WWIkn/hBi6q1Fq8hbDDOID1s+qshrmYJQWDsk88kMlsxHrsSgQdC64DI9XP3FsQ0Dtn5h8MhuQjr7KQEIurtambH7UKQogK0PjaVY6Z86w11ci51MSfJit9hekHLgbBQTT/8qf6iBDW64zSaG8a5yXGxD9zVUORbmCMLTkMvg/Ojyl+XHwMb9e1A6TxWMwJPC8IS/POxDt08cYwsIHyAMH+WMfXML26QDkbnoObWVYl1BjWeplYLVlmBOg6xTd11Z46hzm4w3oMFOiaT/0kpUcvRZFRjREDZ3jl7U8OxZIXvY1aB0mRCQCUpy+xSVP3s1VX/yt5UBt0cH8db1BF3PLdHfJnS24vNyX/Ey09I23vZ4rHZdkbO2bP4o88CZgdW/EDkbsRBdEueco81YhEdFIRGxruWmG7/4sFFAhgp4d+f+dTnF3nErgb1WZqLdCplsuv/+AU5UnYWs/JPAJyZSxLVY1PYaN4Vf5xwp+YsekNjEZOtctsZYUFU733C+Ddob7nu4xqNJL83D7A9GOwXFg02BeGgGH+kKIP8TwmX9jAyDkZ0dP5opAJoi0fNaMHeJh3M5W7CyuW9/QNgsxs1KzUUm321ZllBGCHyLcZZ3Pf+0AkLD+ij6aDct6hm/X49YutIiOYwUny3R+3Oytd35GROV/P7JM1Jv/ZQvGA3Sk14o+rfHxLOileeD43kLETXuezSfw+cniMnWO1CY1gcfn2/mWOBEbzKSw+l6u6IAreWBGpe1U5FUcsppPaQUlb/VhAflJq2IJHTZ8O3rG0z8kbBa6vL/3GZRHhsQKz40Y/qvpK11Ynpx3MT38QQZ4Hob+3+KgOQjqjfdlXC/PzIu2O12/WI4zpwBxDn/8RbmqzCbyYrw7WSXJeIQHliRAH7EHnGx8gpN0WhGO0S39lKqz98+DIN2VmFRbr/D3+ztkNIN60Gv2kMXICJxxYa59sEfiDZRsJFokTuepriBFJ8/b75pi2WbSfNIgYq+l0A80LDGLjDRbH72M1xLhrgXEwTjsWuc3GYD3HS86ndgjqGMnOSXnpoEEQiINAdcc5BNstNR9YQ7DWYpe2L8DeLGNEbhpEixhDggN6HK+Al61AGzX334jWuSNGI5DeOGwQqhgrbZRFuhjRVcT5kXqDu0vQa6G7b4TXdsnxwFgpKr/zLWN4Ro0s7LDU54LdxFQiL7YC0V96rBHpIh5qQuHCKjAjsDXh8AvsG3/djEXscahuFyoB0xchAh08OvfkXJCiAsSvTG/eAgL18kKapFwDNlqKE3iV+U4/XP6hEzJBOUH9bOag1U/Rw6hDh5cvXhM0VMA+XBoOpZUUkn2QKMt/iCxoyA2krgvTbcmqdV7XpGOH4FezhT7qCQag099I0n9+zMeen1VpWlMG2qzrWKzKXJHfy8sD8ssdjVJjW0fFRdQU32+qUBWIXJjIvrXVLSQIUYA+wsgcU+FJYDbbfsp02XLZB7gpNLhDlj3J/fIymqPLJejmDvjqt3eGkDerTS+LwpHVeKO6YqwELg0VrnIZFLD7gChpDZ8uImPrBgFdr6n1OLR7APwcQZvP6yTph41JdBklKL3Nr7YhA+TYleIIVoJLx2kED8bEoMv9cZF5jpkdJb3ICl1LC6N1VeotN843/b2gIguRcElWoljoNNGfgMfPctXISZeXqQYbFjCu0rbLZtbd0u1m3l2RWyZoP0HdETMCS0gTGDP0YQal6gXYMjcnL6g96VJBjjGDbcu0IqDJVW7sXlboMLTR1d12D5/D/2wj2y5dZ3AbzE4wXn75mjCmiutwGQsn8XtbyumPR08AxJoUFuD1thFAA4xi06C1A8Ehc6NSbUSRAgHkzI0bX5PbTrTHpM2Bl5uXTCS4NOIAZBGsfKS9Wp/lFUMotRgtGYt5TsBypB7zuHqjdlYycibAb2X3pn/R0zu5p+G+ZiCc7AawRKd998LRNAgzJ+LI94XFRCR2jQSQWToznbZaMLjmQBp+lRrqlPBFLg0LI3OFtSUtTCzNQ3lukddoEe851azwt0a3tPJfyjToTAKdmW5zMLkRiwd36g9QVlZH+bEIHSHvjvWZ0oSw+U2HwEh8t5CTrrPFZrs/ekiSDkRaFox0ZZAFzeTLh/wzimiCbQ9H6aZ80hmzvANqG2Z6di5EACLw7qB0Cfp2hALTPj+B2MQitp2qmtPwQ+arOWJ4oTVRJQTrJZDu+e2+UZ8/6qgAGIc9eGnCklP+4C72wmvFn1/nftFeXYOL1sMUWJAOnhm7zRE4TwoQ1AkXK0zcI2r/J0v/YZV15D35eVhiAv6TM3gVoOqhyl2Z/j+5d77LXy2qBQ/+AIErxL/l8wby0/6+fB1lXXYnxeSLiWJXbl+0Ocke++F48x2GDMSU9cLxwn2AEht3RJPKbk5hd5vg0DfQn3zgvsj9trlYswklcIBC31SwYx5LcvhT1nn+emQB//tQLluZcNfrVih9nSspj39TeZJ3RHiohHGSX644tuzdGv0y6c6YWhCLfA8qkuj4h64HaWDvn8+p7/PPZzmWo0+ZRZ9RFLxZU2P2q+Q0wb929d6N8W0plXKNeb5WR+Mq92HFwdGlwziFMSyvkjNc5mGvEz9DsI+gaolMsu3xF3s4oZBX1aFwrEV/NKrB/lZUT9Wr27hDsl5p+w8HnmcioSqTYnzmyl9Rl2wKaTBClUM1992J+KVSugF/a0J9eRiliXeAtIG6lmVnF2TY7ftCPIZB+r+GRIBrJNNBE2w8uQZeqqyT/DKc5q5YyCeBIAvFcMiGtUm6scT8TMKcAM/j+exEIr9BEeUdKiXb1MrBW+B3Vd0D3DIPAtspTHgI5W67svoy+785U6VXUz+gF4d4GLyDZjaIj1nDHQHom+DLkkqA0QLaSIB2SmE+p1qKdomkh1PfNtfVyRumT1xhqxFa4jqyCM2W/yxjD0XI5M4yiB8tB+TC5Qk6ZqgUIgL163rQTbuTGI4Pv0pr3LeAghQidPBUF2EWeerKo9gd05iD82P1su7tjsvfUJhyL3Pqo5zFcUhymzYJaslAZW/HvFlkKrYyHaO4wkNjHNZi8iP0rl1AFEiW0vZLVVyifeoVR4FEHGlDecVLCIjs1676UN5NKHxw/z6lqcVJ0KqGa/Rkd13UpgON+dwx5T76dogbpTmQd0bOj8qVo9We4ECK2QOSSeUJYiiUt4dmjF/8GuTYSEWuyjGPdKxU8ccM7DLChLk4lBFJ/UFQBLLfs7zF+q/ceSNn4VlEesO4+duzw0ee7HjCyDm/absTHj1iuJgeQPFZIXjDDrwmYc5TofR8svsriHorcSv/qiGWKH9DhEMF/D6smpHEol5JAmDvUe1ObYSynEen/5rjsfG7YIq69iGedSDf/039x5xeVDeno+KSld8zSIXNPjg3T+2u4/FhpS2wCN2eK3xBPNiUmoHXqbOorP14OtOsVzDtR2HA5rIOwxea7vm0Fo9QwyLLNKsfArKO31+J1cNm2toAfCQiJ51zwO1LtIZ1b/J3FPwa/F1wDg6rIOcNFeHP/YAx4PXWwrWgCNEimM5aPQJHqcADm0cZkP+lbUFb8R+04WEiiQ4yvGkf3QYhc+NrmVsVnpbJuoP00IjgZPMsHJu2UZbDN6fPTdQ37FdqacY6ttDbP+dQ2MYBBCh/y0q7QQzCUP+6KIzTqbJQGOWGQHL7kjMTcHPFFjhUTysj1Aai67xCb0PgxfErjE0Eprshh9QP+MFC/SSozkuLM1Aebp6OkLvlHj0blsxlOjjdf6rcI1VcmrfphpEQFDbqhWAv4biS9TfE8Lz/feN6mjZsU6rDFI4RmFXCr8BQzqzi7H5gMkJF6eiAAKGJEHZWC1sMgbr+V/SLvTY5Tah/86f5fNyQjIL/e1B/kb8rG1KNbNLCDPVYScZ8UxRQXXyKtL/rbXARTpfmmzYebT7GrM5BSpEdGffbPFANhKtdd/ZxU+s1GxrIXs/cyXoKp0DC+RBgFqwLL8iuV/WkXJpOHMLX4Z/rV3MwHUR5oeIEKufmOsgIUxA0GGCXacIPLcMONNYOYJK0rtMkBJ17xSft22eBkA3iKbGWJO8tiA+afRY4qGgaIndSfv913YrkQ0kAo2RubUMzSi/gOFdGswz9guB2+DcOmren0SDuagAna+OLFpEJIEcOLPP3OFUZNoPJmO80EWdZ9Y3kFM8UrTRTLSa75HvViQeT/ZWnBrRtRZnoyliyK52MM/ojQ3Vx2NOSUUg73DmDEiiqs7RBXPdRWicKSKxk3pgPCygUQxnZhAO8y8dZJOgV8QR5A9LObuP8/c+csCAQXSyfcRU/YdIB6fS4uDf4m1hrVBVCSvVQlbmq78EV2MIflHN1aVUmqf3wLNzhfufX/9qEAtbY8JuwsFQcp6aNmMtDSpbNyJEHMgUIHIyZwWHg0qq1+MQvptG/rSJ5uUToPKW3dOjQOkui37VNYwox9mJm7/9BpB7l1BK634VQocxQNtFkm243NIvX9USIP4JgtH2X5MWK4UPdkXj1vrkUwI54vpiXs8Hz1WSV6buBxYGaFOxjLu2zufqDUzDy2eGKWn1EAaUjaStOflgcpqaS/+2i1/6n+6Qjb9A2Wfs1XtMWKCV0fOteRGEyIq3NAepNEOy5MAUAnb6hzkiD13fdU3XbJ7jhDrIldnI2paYzHnBM7iW8sx2unVTNrCdQVnssB8TAGGzIuCNjSj1cRWLMw6BZ/CB+0bMPLZMD4WZTXSsT/8woo6buESaGHgzztgtoL+KRSnsSLcWgQeMIGG+ZdlCHl2SytUxigBUm+OXJZfeeITSDZnXF98DMxQoWb8r4fPk84e9KPYQtbiyRcgaVNAMjwWjBGA4t411588RayA8SRn/LJ5krRBF1NXIL2d+alm0wN4e41Wvdq9Ys7PqIQHuQrRbesHK/VEHn4NoX/11wDsbP0FjVruvIbTN92dEDz/MvkvPPcWcz+xoL80SdaFvH34ObIfye1O6DefUnKd5RSfsXZb949W4QLgtEVqA6j/bkWQAQkoAY9e/BWz0QrHlYog1EzmZKz04qD0iXd0HJqsN25DGdzlitgO9lB1zxu0Ph01oZ7ysGwnGLzuVhcfbofDSNQ2lfpTN7Ga13MyCVE/gKxg7kiKuNO3o2Zru5z5Sjjs8QUTal8TAAb/ZDHDhTR4+YSmMT+K5qXF8xP6OX7EBSeg9JnVCfeeVbBVFvdPrwjahNe1w7WF2NhMpfIs+JhUb87H+pGSXj+X0qMpwurBtzYhwFcKnsbof0Pao9Tfkm+tXT12+enyDeq3JnSqsNk5TSwT6ImdQoL8fy7/ythcjLQWJl51TrJPbTyBu2Idvnd4k17EhhGsaHQsB/G8Z9QfsXmf8b7elesyj/00D9GoVHSZmNfgd/LevXgFKFDjY4eEwQAAALdBmiRsQ3/4e94gBQDpATYf9p0xNKV0+W4dcenx3Q5LMZrzLHLNtb/SJ/Wp+Oh9HQNBKu7ehRZhs7J2cET9Y/Tn64ui79CFUFJV8dXcDpJ92WwLxOjUYya7NVQUk/gnDdt/DUkPVfFc7HMCgPsJWSEQlDuhctDdX/WHhpwwLpjwTSz49byz60xM51zGhaVYtPtekxOOubb4QA9oq5OyB6Np4Jxa8F5wM80cNLI141PFZ7Ol19fO9fgAAAA1QZ5CeIV/jTwM8QWjqdnGxSb0sM5WAG1H5KZ5/tlRRD0fiIwxIBBPyAPb3F40+2VFUWf1r3EAAAAwAZ5hdEJ/kdFM37rR4d3cuOgAchIdAFSegyh38wt17qaJk4GkuFgFbOzCL3F6dkCZAAAADgGeY2pCfxtWYJj4TnS2AAAAPkGaaEmoQWiZTAhv//6nhADxqhpiADgS2RuVgYSEoUonhK+BigD5axNKZWjRoNx9inChSHYS03lyLm0PvhAcAAAAKkGehkURLCv/F1Zki96rQAnK93OCqSg8vqbwdyvoyqAym/ryQjc38PgsYQAAAAsBnqV0Qn8bE8BXoAAAAB0BnqdqQn8bVmEcCM0gA4F4PtwXjFeeS33+t5yKxwAAAEFBmqxJqEFsmUwIb//+p4QA8Za8CAC47OWawYfUeGqlMKYUR7G+nbgF2lu8/rFm8RbBxlnmUCX/9dUujlpiKOE8gAAAADFBnspFFSwr/xdWZIvewFgDhJs8UUbQbpULu9ypvBNKeQ8oDKYpaLV2fEYN8VEt6uGBAAAACwGe6XRCfxsTwFehAAAAHwGe62pCfxtWYRxE5pADks3S4kGIX0SKlwa4qdoYLGEAAAASQZrtSahBbJlMCG///qeEADUhAAAAaUGbEUnhClJlMCG//qeEAPGw1uuAWOk6d/OT9JeMfwx3OyXdjjtCx8xxO9g60bbYolGxINQT8oWWiRuzVTp2ZSW80yQJ/9A/jaPaP9PdapgUEAcD2agUMnlvunhFu+2rBo4wA2Dg1fEBwAAAAB9Bny9FNEwr/xdKxKBPOiAF4Tuby56C9GVsYUEpl8VjAAAACwGfTnRCfxsTwFehAAAACwGfUGpCfxtWYFegAAAAP0GbVUmoQWiZTAhv//6nhADxqhpiAHLs6bdgw/GKKUBlXqrhB0JpprtEOuu1SzDIMDI9/2+j7ta/pWX/pTxs0AAAACVBn3NFESwr/xdWZIu904kAPwaar4vfcF20N+nQy3KdILbAFKtjAAAAJQGfknRCfxsTwRvmU0QArOzzz6qcI04avfBmeGlHlQusCg11WGEAAAALAZ+UakJ/G1ZgV6EAAAArQZuZSahBbJlMCG///qeEAPGqHdIAWj5hkMc8RR/F58raFX+jbNC8b8hPIAAAACVBn7dFFSwr/xdWZIvDIaIALOPhxdOhEG5GRnoJfYL8DF0mSYLGAAAAJQGf1nRCfxsTwRrou12OGAOGzdFlPfiawcSAaFz6j3njVLC3iscAAAALAZ/YakJ/G1ZgV6AAAAAqQZvdSahBbJlMCG///qeEAPGqEIoANgBB7X4mM1L5eZJkpsVzfE9UthAcAAAAFEGf+0UVLCv/F1Zki73QyPiRPNljAAAACwGeGnRCfxsTwFegAAAAGAGeHGpCfxtWYRulmwPQhlzIMLseGUjhgQAAAExBmgFJqEFsmUwIZ//+nhADsJA6WAWGT+VR+JuVyRFvXNK/rB/MOE7X2Lx1rYX1pkJiPn//0PoPb19DlAsW5JNgezSR34rz47KSwgOBAAAADUGeP0UVLCv/F1Zkb6QAAAALAZ5edEJ/GxPAV6EAAAALAZ5AakJ/G1ZgV6AAAAA2QZpFSahBbJlMCF///oywA7qaAAAIyLervv0VUOdmrTIF6DUzdyZwRPj0Zu/A0wk/03nvC9OBAAAAKEGeY0UVLCv/F1Zki96rQARQmx9seLcvqHp596MqgHIhfEhCgWW4LGEAAAAhAZ6CdEJ/GxPBG+ZTRACs7PPNf1YF7pvzOAY6pCdgPPsMAAAACwGehGpCfxtWYFegAAAAdkGaiUmoQWyZTAhv//6nhN4g+CLf3ANLIzla9ck6OcBOPdIc2f0LClLUC6iY3JqWcGN8Wd5WQlQWDhV+37//h9l5F3EtZG+DLBv3SrpRavj8twViT4pyGIbABxq/s7Ssf3yBciO9dKay50VvUx1OjKyTJJfItEEAAAApQZ6nRRUsK/8XVmaAg1jBg/2JQAb/9EyIR27rTyHOPO+CJ3ObxZD1CkAAAAAjAZ7GdEJ/GxPMn1wRyc+CvxAFRodMcDq4aNRfgqkh723YwD0AAAALAZ7IakJ/G1ZgV6AAAAAbQZrNSahBbJlMCG///qeEAPGqFZcDSQlsggOBAAAAKEGe60UVLCv/F1Zki96rQALgTY+2Q0SxyXp8L2LF3tIiKkhCgXA4LGEAAAAYAZ8KdEJ/GxPBG6fvzPaG/sult/8JbLDBAAAACwGfDGpCfxtWYFehAAAA1EGbEEmoQWyZTAhv//sBtuC9azsrn8H96z2BWLSXNoeZjWDP5+hDGzCGkr1A055RL8o0xcmR509bYMle7hqzTm1eiz3DhV5aGCjLePqG5cvLu03LKZFpAMnV+f04tGm7loybjnAvYbvoRH9uSn9gq7Jq50b1ghCQtrvGUj3GHOA9JFeGOzelif8VjZEMd8xdH5knI6knGbittH3txI7MccOG5zKWkC+rZJz2vZOeNUNXXPQBsF+YQNU0mumEgT2feCPDVuhbdp/+7nkN4uM5fkFrdrtgAAAAKEGfLkUVLCv/jTyq6n4iD0h7jJUP1AuR9zYAOnVfbB5UtkCZS2UsA7oAAAAaAZ9PakJ/XO5GrgZe3Ai9hEXZOXlIDanbhpkAAABRQZtSSahBbJlMFEw3//5vwvnhKUwkvTBv83t0nABxHLGdk0e9l4vTd+L+uLCNWDFTcnqLdm/sVy+2LhTiOnKgqeTp/MxjseNfMgzOSLLds2hwAAAANQGfcWpCf0wbogfb5HFuchBm7Jy1YAQfA9YnkoWIWMmupuOyAnCOnILHm+FwWLm4Fwo0qZkgAAABCkGbdknhClJlMCG//qeWeRrpZ2s3QMAU2rNfi1QIhH/B1tacwxNIVrH//D3KuxrQXQ4btgCkfsCrqBPJIfZDkPB4ZnzoPjbOmTyd76mfLdWu7cIuxhA2cYQlPliIw8LAfvUUqcnCsUjWGkp6Mg6h7aJoICSX2kxobIy1mrwkQOQ4npM5nUkae89V3jhb68TDe+k2PljW15XAfcH5glAmEd3KNRitxiPg44xINFkKCkPeTHM+JkshdbBPN2P4oKdGiGTjo/ov8C610L3LERGjK9QSIwpnErrWkSIBg6q1ib9FGa4L3jNPXF9QKhufSgFYSyaP0SBOjJ/xfN9yKi2WY2aJjn4eg0rZvakRAAAALkGflEU0TCv/FEGBq8DKlUXQmKzG+IYEAIO8++ROK5X230LvyreF1nZUmwcYHlMAAAAnAZ+zdEJ/FzWLk1HVZ77W40UB2uIACG78w2gpJt8QbjzN5SE1DkKBAAAAUwGftWpCfxduSXL5mKh/7icDjx9L4AIg37cuPMETt3A+0TzzCHYwu7IKeWXdx6RJeHBhqsk78j7+7pImzFndt47M/oYTK7IsovdhEo9EqJqk7WOAAAAAi0GbukmoQWiZTAhn//6eEXsCASNKAHHtqe9H6T1lt5m0RKyDqDt+SYpz1ix8F4fd9YzLXhTmGjoO+YSsdHrU9dSthOPv8TbTehU1llQz8fl+aVfADhcEM/C8gGHQ3IggcG6Ujcd/ksuOygLVDQjjrlBwsCXRD/yNxxCsAGF2oLiSj48APN68UwM4YkAAAAB1QZ/YRREsK/8USdMS3n0TUJGUO8gBB+eWXq2PxdOQ/qZoGqzmZF2rJ0I7L/Aj77TQJJQjFnznzXxwdGt7ZOYxcOKm5dQX7fnUrlFOdSqVpy6NdQ793P0OcLj31vs88/dxgccDPK4EfMRv+m7k0AA1/q+RczMlAAAAQAGf93RCfxc1KpQ2917NpEWABtRx5nNc0jatDb/1xZ4I9wJcR4EMRUOswfYrtATkVUIiRPSOwiN9J7kVQ7LgFIAAAAA4AZ/5akJ/F24GvF4eGAEHjJDpPXxpb2KnT8yeCiWsJYKsgu3O7io0l/25So7Iz9Il4Ts+nt33yMkAAAFBQZv+SahBbJlMCF///ozpG/kt+3v7ABdBNLM7Iu41/1npEFWMIrHbYvMO01vpchLtfPNQGq6rXF5TQ4tbLFIIWihY+aRorXSiEwsy7ZO58sPeTYv536qoNeSMeXIkq0R7docG4tk8g6aNwnKsaOlU5fKBjFmBky8fMtrQKOeFWiZhhnRPmwzaEUqsDuAu/TrU8BVg4xvcZ+JoIkSTaESSKRTetPkrWzmlI+IqRfgdsfiAeae/yBzlRmRMtBb8+/YhkZlxJ6xppCQsm+HY3ursMTNrd1met5GLRFSziVtod15zWD9NEN3Vy+Q9U0tTv1pBSqgyhk7S6/g7/4ksbmfnpWBg5dLC2fCkgBidlUXSzNZa30fabr4DveQSTnKxMafYf0l5d9q0iBZ5dPWIY7obCJ0InWWVZjhK/YPuuU3MLeP5AAAASUGeHEUVLCv/FEne6+CLGA/biocUfL3gBBWEuLKN4kzgYTWHsPUUpmkRr9UYv84EkDm/PRUQ1imlLIpwNJJJdI3EFDGDJQ1DtZcAAAA+AZ47dEJ/FzV9CAJrvxVfU3ju2TmoAqEiyk6v0ALeWAID7+VX/OhVaCBwvAAX40mZumRQBNkkbWc+zOiNROEAAAAhAZ49akJ/F25RVD4+3SG5EkcjmnEPvvUhhi2MI5weKd+ZAAAAZ0GaIEmoQWyZTBRMJ//9V0MikeGVwLj0pZUN2AMZGHwhNaype6p4hFmiOitg5JF3gtzLlqoo4PScwP+tYyJQlkA55P2r3BktXyM+GPQOhZphjyT0c1xuKuEFSmPL7vBNrJv+OjNLbgMAAAAcAZ5fakJ/TRBmbANH+73ENKAABrzg13C8A+s5gQAAAFNBmkFJ4QpSZTAhv/6Asv8uaB1yCELavowW+5VYehTPaJPY3u8pkgUdt9dAHKpP5Gj8Z/UwZtt4BULdMdGbX6VGtFmwZwE71MjZ5yQ+i0ShmlJbUAAAACJBmmVJ4Q6JlMCGf/6JWX9aG9jqsypc41zmjZfoHeBfHweBAAAALkGeg0URPCv/OVYJMgqZHQTSWd2JLmhqqgCqfoklcXfvk4zQg+gFqsQzxi+lCkEAAAApAZ6idEJ/Pu5CaRqw5BRyT09bCXRkAFn4YrBHYrLC3xUnOO7ShUcDoeAAAAAUAZ6kakJ/F25CjvgRSyya0C8H3nUAAABeQZqmSahBaJlMCGf//p4rUOtG1DjezY126wALjDIAdOJ9Iu6UWwwLqUFuC95srbxIN1YFKt3mh77hOKQrwG15g2o7iDAGF4NhteRgzz33ks+NYahb21vA7MOthUTcRQAAANlBmslJ4QpSZTAhn/6eLbp6Rm8wQ23ooW7MAXEaKlrzxLN0AmlLhZ2A2C94QPxun4Nf+ApOq8vxKgL4hXMDQF3kwJjtuJwx0TA02GN0Eg/uLEqT76Km+UVarj35oJ9c3e/kcTzeqoaWAC5gNlBe0wI475YRAI/Mq2ALmIC0+ePEHP0DRDXk4kuownAGJ6vWnPCMJPhm36Ag89fHjUQSKmGKF6sHwJQXfkj7BTelghElbHUR4Cde44SsWj4GHsvB/wdXImvVhSWVSk+y9CmtQawT9vPmViJInsfAAAAAH0Ge50U0TCv/FEF/LSRSWlRH2T/NYwKyqXyjZFdSRt8AAAAWAZ8IakJ/F24F3TIDsFUMSGSenYc+sAAAADhBmwpJqEFomUwIZ//+nhEbCCrmD3UKuLO6abkAFnUaLFjeJwWxPdxA+B5gGX1jsivY61RfDgSWIQAAAG9BmytJ4QpSZTAhv/6nhF1hsiToCeihEADsrof7cj45/+OcZQx/XKHfVVGlw0+UxFIH5FGlQXbdpPNEdmYygxDEBiQm4dDnfAvGMYxgHwm2gfOMXJDuFBpQTYVCPEnOvOtCZaUyGOFCnQcRayA0VEEAAAILQZtNSeEOiZTBTRMN//rfgnUs5B8mATYyH+v79/qO6P9l2MN6E+0ISQx4Ju4YzsIB0Wr1yLFNJisDQ+gqkKDQ9krNysovhI2gsWbIt/klZWw1w9A0OHVTEmhamH+6tdl2V3Sr/GqZEmr6FuZMyke+tE1ENgCueOAtUBWTa6nBzpq3/5qXz5Pbc/y5+3odZdSP6iEhxVsdXlCPXQCY+Pia2sl+WI0i0nIkj1qhA+fawpw7xd6PvRaHgeWfDoyc81VHfp5OlPaSbFHysPxFXJ6bgeq3jJxCx2f9aiS54tho5gJd95IM46bczm0qtXPE7cjIS/uGIeLR6c9fijCttzGMsy/P6fw36z5HYwnW9pvU0tH+SUiM3G5Q5u7nbC74ZgBFsgp2nZtx1ygrCDTdL/cA9B35zrTQueWfUOiod8fCI69gCJ0KPhWlyvornmr3YU4S7O/NDPh6yasJUxlw8WQ/+pG8vGlXlUFYUY2rfhrf62IVueAxjISDG3vELe4bs9lIFusORgBlcrcPSYomEB3tinbhK/thKHr7XmchP6LIu2FqgcDn09SH6HD14vEFtTYXYR30Bo0j7cbZPgT4XsO4uj4Ii/v3MwLxCG3hQesN5/Cb9SwADOlYlmaQ9wv9laELFK+OzhGKp8w58bjANBDI8bDmPhQZmByVDfij5+LXqRt1BrWw9P/LYELLAwAAAGoBn2xqQn+SinjssgA9XPrHABCJIEJL7p5+9UBq6h4T6hv/u+8ZFANh4L6ATMcnCBZH3ePi539zXL1rN3aGpM1NkAp/IMXK6qy33tDeKY3YZk/T8bcDQbMlfXROZb9VUEn2/XIrHxEUiKlvAAAAvEGbcUnhDyZTAhv/+DaIgAoBhXfzlYgD5Cqoimly8AeKOMZdhm+l5h8R7Y6LjjZ29VoFArBOb/mW9IC29AViRfg2e1gm4q5uLMyup8UKgtaZiP6Ml4uyRawH3+JRpnxvFg3schlN3ps2p6HlAnxiMOrWRT1iKGwTOZAS0X2/QpNpGjWCFdpAJmhvnL+rCez+fCbcVFidz7r+P2yN/J/NucXmR7Ys00/mHFMQvaUhZBsqt2x2cPKAlCSk79p5AAAAU0Gfj0URPCv/jTv2ii5rXNAF5W3CAEJzhsK4x1qV8t9fsUxhUvmAE6uwfr7/4yikBRxkjm24yRP8AxTBN1eiIoKK6BmQ5dWOZM5S8GAV4BbbKCOAAAAAJAGfrnRCf5HRR9YgaVBaNABxvK7QxA/rL/0+XazJAk1qI93ZewAAADMBn7BqQn8XbazPBr5t88AITmid0YwOMvx9VB2P0UxrlUPQ2vK4QQeBeaQ/BbPRvZqc3pIAAACkQZu1SahBaJlMCG///qfgo8zoj3N2ngBIUYAjeRnKc6+GI93SfvHvMMBZSmYZmdR+atcWh+OFA0JBsBI3MwV09eTVwJk8ITZI1AtDp8yoapXx4EZp2O1Cts7flmjzAQekuDdk7Fa/2tamdtVMjZCClKZfjAmaqK/C+8xJ9ewlQ8LzweEZI3a31PCp4X1VWPokQhku97RviaAY1CSs7zAZaDzWUIAAAABCQZ/TRREsK/8UG4B2wtSs+QUqADj4DrAEr2s1yBRVWKvgMqypcVZZ6HvGxsyl1SZIQzaxtFdzfH3ftcwrDiZrYukpAAAAUgGf8nRCfxc0neR0V97TAA/nbitO4/9JLJKzf3eZ8V77Dx5B8YnOCj7BjwYdJfIfXylLL3o3qNT6rfzjmIMU2Toid3UsMfpWv/h3hn/FBdVuu3EAAABEAZ/0akJ/FDfl3b1DWDngAbUYiLlpID2HPIU4y4dBzIF9hFJFuksQxMrOADZYQzltLIczKPmwtluzF3OKQuYwlf2p5EEAAACTQZv5SahBbJlMCG///qeEAQxbTxJw5EAIqpHKAlEwFE9/h3+t0zgFnnAs5Sj7gKLD93DBLiWCEBRvj3WxzB1mwkViEwj5Dso/AN9bvQ4S8qZcnQHY8DBalyFiDAWHPGV+3AorerfFGESUADWcStgR9Y93XDbiZGTgDlQ9CCAKZWVLz6NF36XiFu54swuo8fpPYjCAAAAAdEGeF0UVLCv/EWvFoGClFT8d0ALOPyVR78dw2OhOaRyv4zW5EPoqS0qaTMCjjM8W1nkt0TpuygiWZm5di/PaPUU8/BNvM9dr26U8QE7xUjGv/kfeAALmR6yau1W0HDEpvaTlzwNSoG3JF2kQs4KHPJg+gB+AAAAAXAGeNnRCfxQFvnjzoTjEqGC5V8IzpABNF/1neM61ATdnuuVhU3omX3DR8WMERFSnK1dyCQ3465KZ8YNx+em6R0Cwovylqiq0B8OEZcRWAFP1UsEc3Sb4R/Py1oPRAAAARgGeOGpCfxQ35d2XG6tMuAEytBYVs2d+9hchxTAHzpokHxVoJ/vC7VhQ4aC3Wl+2pcFtc0Ad2HjxlJBQkN303AoGGioezg8AAAB9QZo9SahBbJlMCG///qeEAPGWvAgAuKkcXFmDD81oZ8BeJa3cD49jfOPqYqkVdMFhV35kW7VK3EvVHiUv9c1S6zZl6mRcst9by/J+3VRtF49oSC/UZQmQ+hV/SILrd9uJY92/J8wtqzFsXFVq5woj9lTjAL0A9ynZdHk48c4AAABlQZ5bRRUsK/8Ra8WgYCvdGgEu/ZplayBc6b2gzC+dS3k0Egs8BG9Hpey9RgbFIMKBuQj3hhoMUNbe6LHUEpKeb9asO+mWnyxiIrs4/iJkskYJ5+6nJuPG5WgzNm531AFm9mg2IBsAAABAAZ56dEJ/FAW+eLX6MmABO3FOeiCw6ZERcfojCgXzWlF5SNCQK/wPOA4In5AD+faThaWiZ/HOI54YrjHXQMZsoAAAAEwBnnxqQn8UN+Xdn5mocAFnHD9g3428gy8tEh4wCetfNG/Pkqnzg74MNS1upcpX20ymdUsDPz275/t9sHZ6Q3BkeWfB6f1IEHjvpQKrAAAAZUGaYUmoQWyZTAhv//6nhADxqhpiANf58XDYQhZ3nRiZ5gbCDMHXkAuJV7hQ2sl2/RVbRXulQ8RD6tRqi86t/hZ1hnlk3VbYmSD1S+QPLLZ/4BUylZGG47BL+LG6oPoX4mdp+kSpAAAAEUGen0UVLCv/EWvFoF1LHqU+AAAADwGevnRCfxQFvnifuAWIoQAAAAwBnqBqQn8UN+XdbegAAABBQZqlSahBbJlMCG///qeEAPGqGmIAcqkcXFmDD5f4kEnhJRdizE3xpxOlMrRoNGdBbqozYSXuyTrql2MFdVwcIDkAAAApQZ7DRRUsK/8Ra8WgYCvdGgCHE2PtkNCB8l6fC9SlvHp5icDklrdFWmUAAAASAZ7idEJ/FAW+eOk2NW2sVYkgAAAADAGe5GpCfxQ35d1t6AAAADxBmulJqEFsmUwIb//+p4QA8aoaYgBFdmaJARBIEIq9Edsp1XaHvGYmQEXnVsl3OKZiDnu5og2uR7hLiA8AAAAmQZ8HRRUsK/8Ra8WgYCvdGgBtR8TIhLnStPIdSlu/qXW4OTkPWmQAAAAlAZ8mdEJ/FAW+eOlvaHACMjmQMMZnyihDqe8u6D0jTAdKdRvWmQAAAAwBnyhqQn8UN+XdbegAAABVQZstSahBbJlMCG///qeEAPGqGmIALipHFxZgw/NaGf1i/6tyT0jsWYnCq+ag4bCeTK0aDG7ovtiW6TC+a6KOnkf/wZDjKK4Ubcge5NtTW1VweriScQAAACVBn0tFFSwr/xFrxaBgJ4VJyAIQacpyb4om1JEhEKuapWLE5jzZAAAADAGfanRCfxQFvniW0QAAACMBn2xqQn8UN+Xdn/5R4A4SRO8CqSdtKRfafghRTrB+9+T/OQAAACtBm25JqEFsmUwIb//+p4QA8ZbG0AC47PwuT5548F+056aMklvLNqEP/kJ5AAAANEGbkknhClJlMCG//qeEAPGqDhgAhi4J+az1PogC8CzSce89m6ZAGhJuLBxfqICZP0uiA4AAAAAqQZ+wRTRMK/8RY2yZcBXujQBVP2ecUfiudN6mNtPOpbyYcVI8BG5Ikd7XAAAADAGfz3RCfxQFvniW0AAAACABn9FqQn8UN+Xdn7RIcAIzwkwvB5CmssnIBd8/2TWmQAAAAD5Bm9ZJqEFomUwIb//+p4QA8YLC60gC8DIeHIIYayi9g608od47Jpp9VKOlJjZ8S1OnT10jBlrjwXKhjJZ6dQAAAA9Bn/RFESwr/xFrxaBc5oEAAAAMAZ4TdEJ/FAW+eJbRAAAADAGeFWpCfxQ35d1t6AAAAENBmhpJqEFsmUwIb//+p4QA8Za8CANddnPTeFCMWZRRomL2DrR1Eq/0/yKKNCmSShKvbYcntLmAIzAGjtZRY2cJZCeQAAAAL0GeOEUVLCv/EWvFoGAr3RoAqn7JVHJ+UqokAJ/64p0KxYOe0xPeA6HPaJJyBrTJAAAAIwGeV3RCfxQFvnjpNohwAWccRAsBaJkgfwDHFtjMRTaT5paZAAAADAGeWWpCfxQ35d1t6AAAADZBml5JqEFsmUwIb//+p4QA8osNJ0AHKpOkLjOG5hgIVP/0j9O9FHfjFdL5q/jXhyxwbGviA4EAAAAqQZ58RRUsK/8Ra8WgYCvdGgCHE2by8cDJ9G5BRRUDT3fo1xWhH1w+l482AAAAEgGem3RCfxQFvnjpNjVtrFWJIQAAAAwBnp1qQn8UN+XdbekAAABBQZqCSahBbJlMCG///qeEAPGqGmIAOBLZwjrOfzsJw0DY07PV/rOJbOoDJlaNHAlfO7PY/gqHT2qHsNSAYXZshPIAAAAoQZ6gRRUsK/8Ra8WgYCvdGgBaibHyMUOdNlE9GdS3j9qrbhCkb1WmQQAAACIBnt90Qn8UBb546W9ocAIyOYBDGZ8lNNQbhc6uze5NzWmQAAAADAGewWpCfxQ35d1t6QAAADBBmsZJqEFsmUwIb//+p4QA8aoOGACUAZg7QMe1UwDROVX/2ZKUv0L73M+D3kkITyEAAAAsQZ7kRRUsK/8Ra8WgYCvdGgDhJs+0hb5QXOm+4AEH8I6T5pDQ3bhHWkCvrTIAAAAMAZ8DdEJ/FAW+eJbQAAAAHAGfBWpCfxQ35d2fc8V0mdF2FIBH2ZVCvV2qokkAAABHQZsKSahBbJlMCG///qeEAPGqGmIBQaT56VbF4xO65YvYOtF8vsqzy9tmpT9JRgGSSMPbKJy4X2kPMou0+pjPKnmrUXHjZoAAAAAgQZ8oRRUsK/8Ra8WgYCeETrGgBDLM1GFHQJaY+Xo7EyEAAAAMAZ9HdEJ/FAW+eJbQAAAADAGfSWpCfxQ35d1t6QAAAEhBm05JqEFsmUwIb//+p4QA8Za8CAJ0MU9phrgn5rSJz+x2qT0sfEiJouleVu6rpgsKwP/QiLRGaFpYU/PJKNgmMcVvgdTkJ5EAAAArQZ9sRRUsK/8Ra8WgYCvdGgCHE2by8cDXOm7OW5HaxafHFGyNwjKAezWmQQAAACABn4t0Qn8UBb546TaIcAEppbrAuGoNmqKvYeDxca9rgQAAAAwBn41qQn8UN+XdbegAAAAvQZuSSahBbJlMCG///qeEAPGWxtABFVI5aH8aJRKX9/9I+0NGCRf27yZDnM+QnkAAAAAVQZ+wRRUsK/8Ra8WgYChdjxunAo5tAAAAIQGfz3RCfxQFvnjpNovwAGnk88wf98/40pcRuvwzjP6CSAAAAAwBn9FqQn8UN+XdbegAAAASQZvWSahBbJlMCG///qeEADUhAAAAPUGf9EUVLCv/EWvFoGAr31kA0B+ecFUwnKA/f9hISh/ycUGPJYao5NL3jHJ7F+ARbPRu2b94gjsNvELfkkEAAAAMAZ4TdEJ/FAW+eJbRAAAAJAGeFWpCfxQ35d2f/lHgCHEiNOGfF/KVj0Z17XYFBacgXw1pkAAAAG5BmhpJqEFsmUwIb//+p4QA8vkxECh+k99VV4ohASNsP5tYOa1E39LSPrOfwG4XqWv3Y/ohCHQZV5bdinaYHyh62bUjAG2qWOEle5oluyFdWEl5TAP2hYjyacsVrAlb2AHnqWbcMVzqTest+H4gOAAAAA9BnjhFFSwr/xFrxaBc5oEAAAAMAZ5XdEJ/FAW+eJbQAAAADAGeWWpCfxQ35d1t6AAAAJhBml5JqEFsmUwIb//7AbbgvWjbqhHHZ94NNMADNS1Q7bfsNOAzgin86ZjV4mqNAUTOsCdsEUC+xL6NW0X+Uv8aj9KvETdxJtSdpmOCsr35Kws5z0uol+zI8cYRfq4KQ5CTbSJ4Bx1cUQ1hSiAGMab7FFob4+6TnlnaUerWw9fRdN0grgbP6wuLqeiC5anN6DYtRs2PeqZCwQAAAC5BnnxFFSwr/45PNE+dVFiS4vxVQBVP2cbuNXuu0qFqvv3PCBLx0985xx/XDqFIAAAAIgGem3RCfxQFvnjpNohwAWccP2DOpGwKpqKLahOU2iza0yEAAAAPAZ6dakJ/k+ZUxJyUpOnBAAAAYUGagkmoQWyZTAhv//hcZJqLMH+qBc+feq7d5vE5eALgEDBoXcuPF39cUUqZDHx26ZkWO1xbkfoKAM2M5tnpI2UQGd5DQBR7j6QkOJZbnl/1enCAxx7xEYfPThnDErDG+SIAAAB0QZ6gRRUsK/+OT5B8xkZ67AAsAcrSzEvxgvV8U/7e5dKxffdBJq0HSezbPd9faLBNQjb0yzybdHB3WgkLUJYPtTkPLxxe5js/TAY3tSRaTJMv7y/rvsqbtZ1/MiG1qWOFtrHDqg6XfU1g3mVoRGB9pFFXQ8EAAAApAZ7fdEJ/YH4zr1zTn51m3laaOTN/rLAAOBexWVg6g2R+K336LZaihSAAAAAkAZ7BakJ/k+cAEiuABwVln6gznLjXhlxB/1LNXF9G+4Ao7lw9AAAAUUGaxkmoQWyZTAhv//6nhADxlrwIAVuW1Y5DVYMNgKJ8Bnq7mpQDmEy0GeOPScrNJMqTMUaMDqMuGzC5EqF8xKLutnrx2AnHpa/uWjI5/2QnkQAAACdBnuRFFSwr/xFr0eV+q0ADf/slM0m5fUUQnO9noJAHcqQhSKm1WGAAAAAWAZ8DdEJ/AP3EJhvcqawAi61Kd6XQ4AAAAAkBnwVqQn8AN6EAAAD0QZsKSahBbJlMCGf/+pnug/8Ij/6sAKCO9BxvogJC0DscxldAf41Pq6UbvtLaalZGNiz1f+SQzaUzW7t77lvgot+kJBhPGouwYDk+ejp9Sf4bxbctam5PqJurkFqU9/1DWJzoYV7omqR5PnKPNTBv2IzXt1jljl4/H3UqY38sXIUYxCuC+Ow317S39Lv3xcBcYH6F6NoO0b2XD/4hmmWkZn4/Z71iLSn68xXuqq2U7t27fBKuBRqoTitR40k6GJcVGBwu3RYMTGKAXHWp0vNdXuggGM9N6RT0w1Dw8NcPxrcn4O2qUkzlnnSgImpn/pytPr6/aAAAAEVBnyhFFSwr/4088MyTMxACHaDRQd+PoQBIXqlWfI4dVnS2P+6+V+39HJkZecIBsPRyQpy1NxnVQd30W1Mf9l/xY2Z36yUAAAATAZ9HdEJ/lJaRGmPrXY41wdcRgAAAACkBn0lqQn92CjmHASTQA0aYkbrkY4E2hNxJKVCd1T48lqdmlAp657NkgQAAAFxBm0xJqEFsmUwUTDP//GPP8uP5sgvf+rABt62xRGBkX/IZ+wFMpZef/5Q19eIdFxZf1KRfcP6xIGmAEP7I8ExjYxoYmI3VCeDFKwuZS+uS9cwNrzG0Ci+b9tT7gQAAACEBn2tqQn93IBtBDSYACQ3wBBZrBBQOt58Ul89wrG9mGH0AAAB8QZtuSeEKUmUwUsM//FC0e6dwA6MK+emaRwlBub1kREDPU1G4od1W3+q4qg8zl+NAnniY1d/NtNHvwmO/7MuMhUjp4pdDYF7jt0q8BRkzv9VR+92aVAMwnptxwjzC/a8J0CKdTeQaUtAj1T5N1Ypj6qFNESRoLcZkgjNRoQAAABsBn41qQn9zoo513vr6YACQWe0xzl+GRtJZeVAAAABPQZuPSeEOiZTAhn/8XnEWCyD+WN4V3xmbmenYcZ+DwCX+uw3NqK1w1ywycsr0sOls0/jas518Q0TuvUg5DBXvrzj86yPbdCcA1ANVR+vDEQAAAFRBm7JJ4Q8mUwIX//ytNw8Uf7dpDX7Y5nQIDUQ0ANj4DXFRQgdqulSWqmJHbXIN+FESLYM+1i08pNudLauVhX5U1GZtdl/5nSbjh550R0oGZUDmAcEAAAA7QZ/QRRE8K/9uoFnJEDWcDjtTKACZqeG0TuPzaXUAeyPOUqYQbzIMZLQzdkEEHpx2yo6Wfyr3Ow3rMCQAAAAhAZ/xakJ/FD+xc2ZRKt1X+5tACAaO4IuJmyCtfzuJ+BMOAAAAMUGb9EmoQWiZTBTwn/3zCEJTw2ONriJ7PEyB3oAIg5f4v09g6RH26a5MA3UUyaeWdZUAAAAPAZ4TakJ/FBV7QcOnBrAhAAAW421vb3YAAABsbXZoZAAAAAAAAAAAAAAAAAAAA+gAADgfAAEAAAEAAAAAAAAAAAAAAAABAAAAAAAAAAAAAAAAAAAAAQAAAAAAAAAAAAAAAAAAQAAAAAAAAAAAAAAAAAAAAAAAAAAAAAAAAAAAAAAAAAIAABYNdHJhawAAAFx0a2hkAAAAAwAAAAAAAAAAAAAAAQAAAAAAADgfAAAAAAAAAAAAAAAAAAAAAAABAAAAAAAAAAAAAAAAAAAAAQAAAAAAAAAAAAAAAAAAQAAAAACgAAAA0gAAAAAAJGVkdHMAAAAcZWxzdAAAAAAAAAABAAA4HwAABAAAAQAAAAAVhW1kaWEAAAAgbWRoZAAAAAAAAAAAAAAAAAAAPAAAA14AVcQAAAAAAC1oZGxyAAAAAAAAAAB2aWRlAAAAAAAAAAAAAAAAVmlkZW9IYW5kbGVyAAAAFTBtaW5mAAAAFHZtaGQAAAABAAAAAAAAAAAAAAAkZGluZgAAABxkcmVmAAAAAAAAAAEAAAAMdXJsIAAAAAEAABTwc3RibAAAAJhzdHNkAAAAAAAAAAEAAACIYXZjMQAAAAAAAAABAAAAAAAAAAAAAAAAAAAAAACgANIASAAAAEgAAAAAAAAAAQAAAAAAAAAAAAAAAAAAAAAAAAAAAAAAAAAAAAAAAAAAABj//wAAADJhdmNDAWQADP/hABlnZAAMrNlCh34iEAAAAwAQAAADA8DxQplgAQAGaOvjyyLAAAAAGHN0dHMAAAAAAAAAAQAAAa8AAAIAAAAAGHN0c3MAAAAAAAAAAgAAAAEAAAD7AAANIGN0dHMAAAAAAAABogAAAAEAAAQAAAAAAQAACAAAAAACAAACAAAAAAEAAAoAAAAAAQAABAAAAAABAAAAAAAAAAEAAAIAAAAAAQAACgAAAAABAAAEAAAAAAEAAAAAAAAAAQAAAgAAAAABAAAKAAAAAAEAAAQAAAAAAQAAAAAAAAABAAACAAAAAAEAAAoAAAAAAQAABAAAAAABAAAAAAAAAAEAAAIAAAAAAQAABAAAAAABAAAKAAAAAAEAAAQAAAAAAQAAAAAAAAABAAACAAAAAAEAAAoAAAAAAQAABAAAAAABAAAAAAAAAAEAAAIAAAAAAQAACgAAAAABAAAEAAAAAAEAAAAAAAAAAQAAAgAAAAABAAAKAAAAAAEAAAQAAAAAAQAAAAAAAAABAAACAAAAAAEAAAoAAAAAAQAABAAAAAABAAAAAAAAAAEAAAIAAAAAAQAACgAAAAABAAAEAAAAAAEAAAAAAAAAAQAAAgAAAAABAAAKAAAAAAEAAAQAAAAAAQAAAAAAAAABAAACAAAAAAEAAAoAAAAAAQAABAAAAAABAAAAAAAAAAEAAAIAAAAAAQAACgAAAAABAAAEAAAAAAEAAAAAAAAAAQAAAgAAAAABAAAGAAAAAAEAAAIAAAAAAQAACgAAAAABAAAEAAAAAAEAAAAAAAAAAQAAAgAAAAABAAAKAAAAAAEAAAQAAAAAAQAAAAAAAAABAAACAAAAAAEAAAQAAAAAAQAACgAAAAABAAAEAAAAAAEAAAAAAAAAAQAAAgAAAAABAAAGAAAAAAEAAAIAAAAAAgAABAAAAAABAAAKAAAAAAEAAAQAAAAAAQAAAAAAAAABAAACAAAAAAEAAAQAAAAAAQAACAAAAAACAAACAAAAAAIAAAQAAAAAAQAACgAAAAABAAAEAAAAAAEAAAAAAAAAAQAAAgAAAAABAAAKAAAAAAEAAAQAAAAAAQAAAAAAAAABAAACAAAAAAEAAAoAAAAAAQAABAAAAAABAAAAAAAAAAEAAAIAAAAAAQAACgAAAAABAAAEAAAAAAEAAAAAAAAAAQAAAgAAAAABAAAKAAAAAAEAAAQAAAAAAQAAAAAAAAABAAACAAAAAAEAAAoAAAAAAQAABAAAAAABAAAAAAAAAAEAAAIAAAAAAQAACgAAAAABAAAEAAAAAAEAAAAAAAAAAQAAAgAAAAABAAAKAAAAAAEAAAQAAAAAAQAAAAAAAAABAAACAAAAAAEAAAoAAAAAAQAABAAAAAABAAAAAAAAAAEAAAIAAAAAAQAABgAAAAABAAACAAAAAAEAAAoAAAAAAQAABAAAAAABAAAAAAAAAAEAAAIAAAAAAQAACAAAAAACAAACAAAAAAEAAAoAAAAAAQAABAAAAAABAAAAAAAAAAEAAAIAAAAAAQAACAAAAAACAAACAAAAAAEAAAoAAAAAAQAABAAAAAABAAAAAAAAAAEAAAIAAAAAAQAACgAAAAABAAAEAAAAAAEAAAAAAAAAAQAAAgAAAAABAAAKAAAAAAEAAAQAAAAAAQAAAAAAAAABAAACAAAAAAEAAAoAAAAAAQAABAAAAAABAAAAAAAAAAEAAAIAAAAAAQAACgAAAAABAAAEAAAAAAEAAAAAAAAAAQAAAgAAAAABAAAKAAAAAAEAAAQAAAAAAQAAAAAAAAABAAACAAAAAAEAAAoAAAAAAQAABAAAAAABAAAAAAAAAAEAAAIAAAAAAQAACgAAAAABAAAEAAAAAAEAAAAAAAAAAQAAAgAAAAABAAAKAAAAAAEAAAQAAAAAAQAAAAAAAAABAAACAAAAAAEAAAoAAAAAAQAABAAAAAABAAAAAAAAAAEAAAIAAAAAAQAACgAAAAABAAAEAAAAAAEAAAAAAAAAAQAAAgAAAAABAAAKAAAAAAEAAAQAAAAAAQAAAAAAAAABAAACAAAAAAEAAAYAAAAAAQAAAgAAAAABAAAKAAAAAAEAAAQAAAAAAQAAAAAAAAABAAACAAAAAAEAAAoAAAAAAQAABAAAAAABAAAAAAAAAAEAAAIAAAAAAQAACgAAAAABAAAEAAAAAAEAAAAAAAAAAQAAAgAAAAABAAAKAAAAAAEAAAQAAAAAAQAAAAAAAAABAAACAAAAAAIAAAQAAAAAAQAACAAAAAACAAACAAAAAAEAAAoAAAAAAQAABAAAAAABAAAAAAAAAAEAAAIAAAAAAQAACgAAAAABAAAEAAAAAAEAAAAAAAAAAQAAAgAAAAABAAAKAAAAAAEAAAQAAAAAAQAAAAAAAAABAAACAAAAAAEAAAQAAAAAAQAACgAAAAABAAAEAAAAAAEAAAAAAAAAAQAAAgAAAAABAAAEAAAAAAEAAAoAAAAAAQAABAAAAAABAAAAAAAAAAEAAAIAAAAAAQAACgAAAAABAAAEAAAAAAEAAAAAAAAAAQAAAgAAAAABAAAKAAAAAAEAAAQAAAAAAQAAAAAAAAABAAACAAAAAAEAAAoAAAAAAQAABAAAAAABAAAAAAAAAAEAAAIAAAAAAQAACgAAAAABAAAEAAAAAAEAAAAAAAAAAQAAAgAAAAABAAAIAAAAAAIAAAIAAAAAAQAABAAAAAABAAAKAAAAAAEAAAQAAAAAAQAAAAAAAAABAAACAAAAAAEAAAoAAAAAAQAABAAAAAABAAAAAAAAAAEAAAIAAAAAAQAACgAAAAABAAAEAAAAAAEAAAAAAAAAAQAAAgAAAAABAAAEAAAAAAEAAAoAAAAAAQAABAAAAAABAAAAAAAAAAEAAAIAAAAAAQAACgAAAAABAAAEAAAAAAEAAAAAAAAAAQAAAgAAAAABAAAKAAAAAAEAAAQAAAAAAQAAAAAAAAABAAACAAAAAAEAAAoAAAAAAQAABAAAAAABAAAAAAAAAAEAAAIAAAAAAQAACgAAAAABAAAEAAAAAAEAAAAAAAAAAQAAAgAAAAABAAAKAAAAAAEAAAQAAAAAAQAAAAAAAAABAAACAAAAAAEAAAoAAAAAAQAABAAAAAABAAAAAAAAAAEAAAIAAAAAAQAACgAAAAABAAAEAAAAAAEAAAAAAAAAAQAAAgAAAAABAAAIAAAAAAIAAAIAAAAAAQAABgAAAAABAAACAAAAAAEAAAoAAAAAAQAABAAAAAABAAAAAAAAAAEAAAIAAAAAAQAACgAAAAABAAAEAAAAAAEAAAAAAAAAAQAAAgAAAAABAAAKAAAAAAEAAAQAAAAAAQAAAAAAAAABAAACAAAAAAEAAAYAAAAAAQAAAgAAAAABAAAEAAAAAAEAAAoAAAAAAQAABAAAAAABAAAAAAAAAAEAAAIAAAAAAQAABAAAAAABAAAIAAAAAAIAAAIAAAAAAgAABAAAAAABAAAGAAAAAAEAAAIAAAAAAQAACgAAAAABAAAEAAAAAAEAAAAAAAAAAQAAAgAAAAABAAAKAAAAAAEAAAQAAAAAAQAAAAAAAAABAAACAAAAAAEAAAoAAAAAAQAABAAAAAABAAAAAAAAAAEAAAIAAAAAAQAACgAAAAABAAAEAAAAAAEAAAAAAAAAAQAAAgAAAAABAAAKAAAAAAEAAAQAAAAAAQAAAAAAAAABAAACAAAAAAEAAAoAAAAAAQAABAAAAAABAAAAAAAAAAEAAAIAAAAAAQAACgAAAAABAAAEAAAAAAEAAAAAAAAAAQAAAgAAAAABAAAKAAAAAAEAAAQAAAAAAQAAAAAAAAABAAACAAAAAAEAAAQAAAAAAQAACgAAAAABAAAEAAAAAAEAAAAAAAAAAQAAAgAAAAABAAAKAAAAAAEAAAQAAAAAAQAAAAAAAAABAAACAAAAAAEAAAoAAAAAAQAABAAAAAABAAAAAAAAAAEAAAIAAAAAAQAACgAAAAABAAAEAAAAAAEAAAAAAAAAAQAAAgAAAAABAAAKAAAAAAEAAAQAAAAAAQAAAAAAAAABAAACAAAAAAEAAAoAAAAAAQAABAAAAAABAAAAAAAAAAEAAAIAAAAAAQAACgAAAAABAAAEAAAAAAEAAAAAAAAAAQAAAgAAAAABAAAKAAAAAAEAAAQAAAAAAQAAAAAAAAABAAACAAAAAAEAAAoAAAAAAQAABAAAAAABAAAAAAAAAAEAAAIAAAAAAQAACgAAAAABAAAEAAAAAAEAAAAAAAAAAQAAAgAAAAABAAAKAAAAAAEAAAQAAAAAAQAAAAAAAAABAAACAAAAAAEAAAoAAAAAAQAABAAAAAABAAAAAAAAAAEAAAIAAAAAAQAACgAAAAABAAAEAAAAAAEAAAAAAAAAAQAAAgAAAAABAAAKAAAAAAEAAAQAAAAAAQAAAAAAAAABAAACAAAAAAEAAAoAAAAAAQAABAAAAAABAAAAAAAAAAEAAAIAAAAAAQAABgAAAAABAAACAAAAAAEAAAYAAAAAAQAAAgAAAAABAAAEAAAAAAEAAAgAAAAAAgAAAgAAAAABAAAGAAAAAAEAAAIAAAAAHHN0c2MAAAAAAAAAAQAAAAEAAAGvAAAAAQAABtBzdHN6AAAAAAAAAAAAAAGvAAAPzgAAAMoAAAA4AAAAKAAAAE8AAAATAAAADQAAABIAAAAwAAAAGgAAACYAAAAUAAAANgAAACsAAAANAAAAKQAAADsAAAAsAAAADQAAACkAAAAWAAAANAAAADQAAAANAAAAKwAAAHcAAAATAAAADQAAAA0AAABCAAAALQAAABMAAAANAAAAMQAAACwAAAAlAAAADQAAAD8AAAATAAAADQAAAA0AAABGAAAALQAAABMAAAANAAAASgAAADIAAAANAAAAIwAAAK4AAAA1AAAADQAAACEAAACfAAAARQAAABEAAAAcAAAAbQAAACcAAAChAAAAigAAAC8AAABLAAABEAAAAIEAAAAYAAAAIgAAAJQAAADuAAAAXQAAACoAAAAqAAAAgAAAAB8AAABBAAAAOgAAADQAAAAyAAAAFAAAACUAAABGAAAAPwAAACsAAAAxAAAATAAAAEMAAAKPAAAAcwAAACkAAABYAAAA1QAAAEgAAAA9AAAAIwAAAMoAAABrAAAATwAAAEYAAACsAAAAUgAAAD8AAAA7AAAAQwAAAFIAAABAAAAAMAAAAEEAAAAwAAAADwAAADEAAAAxAAAAEwAAAA8AAAAPAAAAKQAAABoAAAAuAAAADwAAAEsAAAAwAAAADwAAACUAAAA3AAAAEQAAAEAAAAAuAAAAIwAAAA8AAABCAAAAJgAAABgAAAA3AAAALwAAAA8AAAAgAAAANwAAABMAAAAPAAAAQAAAADgAAAAPAAAAKwAAAEgAAAAzAAAAEwAAAB8AAAAkAAAAMgAAABMAAAA0AAAATQAAABoAAAAVAAAAFQAAAIgAAAAwAAAAKQAAAA8AAABsAAAAFgAAAA8AAAAPAAAAKgAAAC4AAAAVAAAAEgAAADQAAAA1AAAAEQAAACAAAADtAAAAKQAAABwAAAAlAAAA3gAAAGQAAAA1AAAASgAAAaQAAACJAAAASgAAAFQAAADQAAAAYAAAAEIAAAAzAAAAggAAAB0AAAGRAAAASQAAAEEAAAAqAAABsQAAAEUAAAA+AAAALAAAAEwAAAAeAAAAEAAAAA8AAAEDAAAAWAAAAB0AAAAnAAAAdwAAAJcAAAB1AAAAHAAAACYAAADpAAAAYgAAADsAAABhAAACXgAAAF8AAABiAAAALgAAANYAAABsAAAAVgAAAEcAAACZAAAAgwAAAHQAAAAsAAAAYgAAAJMAAACJAAAAUAAAAFYAAAAnAAAAUQAAADQAAAAaAAAAEgAAADEAAAA0AAAAEgAAACYAAAAsAAAAHgAAABIAAAAvAAAAawAAAC0AAAASAAAAEgAAAB0AAAAxAAAAEgAAENAAAAC7AAAAOQAAADQAAAASAAAAQgAAAC4AAAAPAAAAIQAAAEUAAAA1AAAADwAAACMAAAAWAAAAbQAAACMAAAAPAAAADwAAAEMAAAApAAAAKQAAAA8AAAAvAAAAKQAAACkAAAAPAAAALgAAABgAAAAPAAAAHAAAAFAAAAARAAAADwAAAA8AAAA6AAAALAAAACUAAAAPAAAAegAAAC0AAAAnAAAADwAAAB8AAAAsAAAAHAAAAA8AAADYAAAALAAAAB4AAABVAAAAOQAAAQ4AAAAyAAAAKwAAAFcAAACPAAAAeQAAAEQAAAA8AAABRQAAAE0AAABCAAAAJQAAAGsAAAAgAAAAVwAAACYAAAAyAAAALQAAABgAAABiAAAA3QAAACMAAAAaAAAAPAAAAHMAAAIPAAAAbgAAAMAAAABXAAAAKAAAADcAAACoAAAARgAAAFYAAABIAAAAlwAAAHgAAABgAAAASgAAAIEAAABpAAAARAAAAFAAAABpAAAAFQAAABMAAAAQAAAARQAAAC0AAAAWAAAAEAAAAEAAAAAqAAAAKQAAABAAAABZAAAAKQAAABAAAAAnAAAALwAAADgAAAAuAAAAEAAAACQAAABCAAAAEwAAABAAAAAQAAAARwAAADMAAAAnAAAAEAAAADoAAAAuAAAAFgAAABAAAABFAAAALAAAACYAAAAQAAAANAAAADAAAAAQAAAAIAAAAEsAAAAkAAAAEAAAABAAAABMAAAALwAAACQAAAAQAAAAMwAAABkAAAAlAAAAEAAAABYAAABBAAAAEAAAACgAAAByAAAAEwAAABAAAAAQAAAAnAAAADIAAAAmAAAAEwAAAGUAAAB4AAAALQAAACgAAABVAAAAKwAAABoAAAANAAAA+AAAAEkAAAAXAAAALQAAAGAAAAAlAAAAgAAAAB8AAABTAAAAWAAAAD8AAAAlAAAANQAAABMAAAAUc3RjbwAAAAAAAAABAAAAMAAAAGJ1ZHRhAAAAWm1ldGEAAAAAAAAAIWhkbHIAAAAAAAAAAG1kaXJhcHBsAAAAAAAAAAAAAAAALWlsc3QAAAAlqXRvbwAAAB1kYXRhAAAAAQAAAABMYXZmNTcuODMuMTAw\" type=\"video/mp4\" />\n",
              "        </video>\n",
              "        "
            ],
            "text/plain": [
              "<IPython.core.display.HTML object>"
            ]
          },
          "metadata": {
            "tags": []
          }
        }
      ]
    }
  ]
}