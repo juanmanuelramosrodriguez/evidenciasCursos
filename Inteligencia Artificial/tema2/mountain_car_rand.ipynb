{
  "nbformat": 4,
  "nbformat_minor": 0,
  "metadata": {
    "colab": {
      "name": "mountain_car_rand.ipynb",
      "provenance": [],
      "collapsed_sections": []
    },
    "kernelspec": {
      "name": "python3",
      "display_name": "Python 3"
    }
  },
  "cells": [
    {
      "cell_type": "markdown",
      "metadata": {
        "id": "L1SHs6riAj1s",
        "colab_type": "text"
      },
      "source": [
        "# Clonamos el repositorio para obtener los dataSet\n",
        "\n",
        "\n",
        "\n"
      ]
    },
    {
      "cell_type": "code",
      "metadata": {
        "id": "9WFfFZvPApeD",
        "colab_type": "code",
        "colab": {
          "base_uri": "https://localhost:8080/",
          "height": 34
        },
        "outputId": "90743504-3c09-431d-8e91-aa388a0454e9"
      },
      "source": [
        "!git clone https://github.com/joanby/ia-course.git"
      ],
      "execution_count": null,
      "outputs": [
        {
          "output_type": "stream",
          "text": [
            "fatal: destination path 'ia-course' already exists and is not an empty directory.\n"
          ],
          "name": "stdout"
        }
      ]
    },
    {
      "cell_type": "markdown",
      "metadata": {
        "id": "BZZLJUFyA6hs",
        "colab_type": "text"
      },
      "source": [
        "# Damos acceso a nuestro Drive"
      ]
    },
    {
      "cell_type": "code",
      "metadata": {
        "id": "WMVaYKVrA92v",
        "colab_type": "code",
        "colab": {}
      },
      "source": [
        "from google.colab import drive\n",
        "drive.mount('/content/drive')"
      ],
      "execution_count": null,
      "outputs": []
    },
    {
      "cell_type": "markdown",
      "metadata": {
        "id": "D8CYKTxkJB53",
        "colab_type": "text"
      },
      "source": [
        "# Test it"
      ]
    },
    {
      "cell_type": "code",
      "metadata": {
        "id": "COqkUYzLJBEY",
        "colab_type": "code",
        "colab": {}
      },
      "source": [
        "!ls '/content/drive/My Drive' "
      ],
      "execution_count": null,
      "outputs": []
    },
    {
      "cell_type": "markdown",
      "metadata": {
        "id": "eas_Lb17J4jY",
        "colab_type": "text"
      },
      "source": [
        "#Google colab tools"
      ]
    },
    {
      "cell_type": "code",
      "metadata": {
        "id": "a-Kmgf5ZJ5QV",
        "colab_type": "code",
        "colab": {}
      },
      "source": [
        "from google.colab import files # Para manejar los archivos y, por ejemplo, exportar a su navegador\n",
        "import glob # Para manejar los archivos y, por ejemplo, exportar a su navegador\n",
        "from google.colab import drive # Montar tu Google drive"
      ],
      "execution_count": 1,
      "outputs": []
    },
    {
      "cell_type": "markdown",
      "metadata": {
        "id": "odNaDE1zyrL2",
        "colab_type": "text"
      },
      "source": [
        "# Instalar dependencias de Renderizado, tarda alrededor de 45 segundos\n"
      ]
    },
    {
      "cell_type": "code",
      "metadata": {
        "id": "eDPDMlDo4RqU",
        "colab_type": "code",
        "colab": {}
      },
      "source": [
        "!apt-get update > /dev/null 2>&1\n",
        "!apt-get install python-opengl -y > /dev/null 2>&1\n",
        "!apt install xvfb -y --fix-missing > /dev/null 2>&1\n",
        "!apt-get install ffmpeg > /dev/null 2>&1\n",
        "!apt-get install x11-utils > /dev/null 2>&1\n",
        "!apt-get install pyglet > /dev/null 2>&1\n"
      ],
      "execution_count": 2,
      "outputs": []
    },
    {
      "cell_type": "markdown",
      "metadata": {
        "id": "3xxsEvp14U-Q",
        "colab_type": "text"
      },
      "source": [
        "# Instalar OpenAi Gym"
      ]
    },
    {
      "cell_type": "code",
      "metadata": {
        "id": "OCuDUcBL4SCV",
        "colab_type": "code",
        "colab": {}
      },
      "source": [
        "!pip install gym pyvirtualdisplay > /dev/null 2>&1\n",
        "!pip install piglet > /dev/null 2>&1\n",
        "!pip install 'gym[box2d]' > /dev/null 2>&1\n",
        "#por si quieres algun environment en concreto\n",
        "#!pip install atari_py > /dev/null 2>&1\n",
        "#!pip install gym[atari] > /dev/null 2>&1"
      ],
      "execution_count": 3,
      "outputs": []
    },
    {
      "cell_type": "markdown",
      "metadata": {
        "id": "gkkUdIpJ5lHQ",
        "colab_type": "text"
      },
      "source": [
        "# Todos los imports necesarios en google colab y helpers para poder visualizar OpenAi"
      ]
    },
    {
      "cell_type": "code",
      "metadata": {
        "id": "sbgBYNVD5i6v",
        "colab_type": "code",
        "colab": {}
      },
      "source": [
        "import gym\n",
        "from gym import logger as gymlogger\n",
        "from gym.wrappers import Monitor\n",
        "gymlogger.set_level(40) #error only\n",
        "import numpy as np\n",
        "import random\n",
        "import matplotlib\n",
        "import matplotlib.pyplot as plt\n",
        "%matplotlib inline\n",
        "import math\n",
        "import glob\n",
        "import io\n",
        "import base64\n",
        "from IPython.display import HTML\n",
        "\n",
        "from IPython import display as ipythondisplay"
      ],
      "execution_count": 4,
      "outputs": []
    },
    {
      "cell_type": "markdown",
      "metadata": {
        "id": "r5DvRsCZ4b-G",
        "colab_type": "text"
      },
      "source": [
        "# Activamos una vista, seria como crear un plot de una grafica en python"
      ]
    },
    {
      "cell_type": "code",
      "metadata": {
        "id": "oDMnJvk-4cec",
        "colab_type": "code",
        "colab": {
          "base_uri": "https://localhost:8080/",
          "height": 34
        },
        "outputId": "9b5be3bd-6d8a-481c-e007-390e8d84db52"
      },
      "source": [
        "from pyvirtualdisplay import Display\n",
        "display = Display(visible=0, size=(1400, 900)) #Puedes modificar el high and width de la pantalla\n",
        "display.start()"
      ],
      "execution_count": 5,
      "outputs": [
        {
          "output_type": "execute_result",
          "data": {
            "text/plain": [
              "<pyvirtualdisplay.display.Display at 0x7f774e737fd0>"
            ]
          },
          "metadata": {
            "tags": []
          },
          "execution_count": 5
        }
      ]
    },
    {
      "cell_type": "markdown",
      "metadata": {
        "id": "x80iaLF94eOh",
        "colab_type": "text"
      },
      "source": [
        "# Este código crea una pantalla virtual para dibujar imágenes del juego. \n",
        "## Si se ejecuta localmente, simplemente ignóralo"
      ]
    },
    {
      "cell_type": "code",
      "metadata": {
        "id": "L0H-whKQ4fvA",
        "colab_type": "code",
        "colab": {}
      },
      "source": [
        "import os\n",
        "if type(os.environ.get('DISPLAY')) is not str or \\\n",
        "        len(os.environ.get('DISPLAY')) == 0:\n",
        "    !bash ../xvfb start\n",
        "    %env DISPLAY=:1"
      ],
      "execution_count": 6,
      "outputs": []
    },
    {
      "cell_type": "markdown",
      "metadata": {
        "id": "OMqg9TAA4qxy",
        "colab_type": "text"
      },
      "source": [
        "# Funciones de utilidad para permitir la grabación de video del ambiente del gimnasio y su visualización\n",
        "## Para habilitar la visualizacion por pantalla , tan solo haz \"**environment = wrap_env(environment)**\", por ejemplo: **environment = wrap_env(gym.make(\"MountainCar-v0\"))**"
      ]
    },
    {
      "cell_type": "code",
      "metadata": {
        "id": "XKFIMV_l4m2x",
        "colab_type": "code",
        "colab": {}
      },
      "source": [
        "import io\n",
        "import glob\n",
        "import base64\n",
        "from IPython.display import HTML\n",
        "from IPython import display as ipythondisplay\n",
        "from pathlib import Path\n",
        "\n",
        "def show_one_video():\n",
        "    mp4list = glob.glob('video/*.mp4')\n",
        "    if len(mp4list) > 0:\n",
        "        mp4 = mp4list[0]\n",
        "        video = io.open(mp4, 'r+b').read()\n",
        "        encoded = base64.b64encode(video)\n",
        "\n",
        "        content = ipythondisplay.display(HTML(data='''\n",
        "        <video alt=\"test\" autoplay loop controls style=\"height: 400px;\">\n",
        "            <source src=\"data:video/mp4;base64,{0}\" type=\"video/mp4\" />\n",
        "        </video>\n",
        "        '''.format(encoded.decode('ascii'))))\n",
        "    else: \n",
        "        print(\"Couldn't find video\")\n",
        "\n",
        "def show_videos(video_path='video', prefix=''):\n",
        "  html = []\n",
        "  for mp4 in Path(video_path).glob(\"{}*.mp4\".format(prefix)):\n",
        "      video_b64 = base64.b64encode(mp4.read_bytes())\n",
        "      html.append('''<video alt=\"{}\" autoplay \n",
        "                    loop controls style=\"height: 400px;\">\n",
        "                    <source src=\"data:video/mp4;base64,{}\" type=\"video/mp4\" />\n",
        "                </video>'''.format(mp4, video_b64.decode('ascii')))\n",
        "  ipythondisplay.display(ipythondisplay.HTML(data=\"<br>\".join(html)))\n",
        "\n",
        "def wrap_env(env):\n",
        "    env = gym.wrappers.Monitor(env, './video', force=True)\n",
        "    return env"
      ],
      "execution_count": 7,
      "outputs": []
    },
    {
      "cell_type": "markdown",
      "metadata": {
        "id": "IeCCtgxDBiGi",
        "colab_type": "text"
      },
      "source": [
        "# Nuestro Script"
      ]
    },
    {
      "cell_type": "code",
      "metadata": {
        "id": "bFb6dM4N4v8O",
        "colab_type": "code",
        "colab": {}
      },
      "source": [
        "environment = wrap_env(gym.make(\"MountainCar-v0\"))"
      ],
      "execution_count": 8,
      "outputs": []
    },
    {
      "cell_type": "code",
      "metadata": {
        "id": "pz_f45yTWK5O",
        "colab_type": "code",
        "colab": {
          "base_uri": "https://localhost:8080/",
          "height": 1000
        },
        "outputId": "6d70a22d-d068-4c06-9feb-e9fe06edd4d1"
      },
      "source": [
        "import gym\n",
        "from tqdm import tqdm\n",
        "MAX_NUM_EPISODES = 1000\n",
        "\n",
        "for episode in tqdm(range(MAX_NUM_EPISODES)):\n",
        "    done = False\n",
        "    obs = environment.reset()\n",
        "    total_reward = 0.0 ## Variable para guardar la recompensa total obtenida en cada episodio\n",
        "    step = 0\n",
        "    while not done:\n",
        "        environment.render()\n",
        "        action = environment.action_space.sample()## Acción aleatoria, que posteriormente reemplazaremos por la decisión de nuestro agente inteligente\n",
        "        next_state, reward, done, info = environment.step(action)\n",
        "        total_reward += reward\n",
        "        step += 1\n",
        "        obs = next_state\n",
        "        \n",
        "    print(\"\\n Episodio número {} finalizado con {} iteraciones. Recompensa final={}\".format(episode, step+1, total_reward))\n",
        "environment.close()"
      ],
      "execution_count": 9,
      "outputs": [
        {
          "output_type": "stream",
          "text": [
            "  0%|          | 1/1000 [00:04<1:11:29,  4.29s/it]"
          ],
          "name": "stderr"
        },
        {
          "output_type": "stream",
          "text": [
            "\n",
            " Episodio número 0 finalizado con 201 iteraciones. Recompensa final=-200.0\n"
          ],
          "name": "stdout"
        },
        {
          "output_type": "stream",
          "text": [
            "\r  0%|          | 2/1000 [00:07<1:05:18,  3.93s/it]"
          ],
          "name": "stderr"
        },
        {
          "output_type": "stream",
          "text": [
            "\n",
            " Episodio número 1 finalizado con 201 iteraciones. Recompensa final=-200.0\n"
          ],
          "name": "stdout"
        },
        {
          "output_type": "stream",
          "text": [
            "\r  0%|          | 3/1000 [00:07<48:02,  2.89s/it]  "
          ],
          "name": "stderr"
        },
        {
          "output_type": "stream",
          "text": [
            "\n",
            " Episodio número 2 finalizado con 201 iteraciones. Recompensa final=-200.0\n"
          ],
          "name": "stdout"
        },
        {
          "output_type": "stream",
          "text": [
            "\r  0%|          | 4/1000 [00:08<35:28,  2.14s/it]"
          ],
          "name": "stderr"
        },
        {
          "output_type": "stream",
          "text": [
            "\n",
            " Episodio número 3 finalizado con 201 iteraciones. Recompensa final=-200.0\n"
          ],
          "name": "stdout"
        },
        {
          "output_type": "stream",
          "text": [
            "\r  0%|          | 5/1000 [00:08<26:41,  1.61s/it]"
          ],
          "name": "stderr"
        },
        {
          "output_type": "stream",
          "text": [
            "\n",
            " Episodio número 4 finalizado con 201 iteraciones. Recompensa final=-200.0\n"
          ],
          "name": "stdout"
        },
        {
          "output_type": "stream",
          "text": [
            "\r  1%|          | 6/1000 [00:08<20:37,  1.24s/it]"
          ],
          "name": "stderr"
        },
        {
          "output_type": "stream",
          "text": [
            "\n",
            " Episodio número 5 finalizado con 201 iteraciones. Recompensa final=-200.0\n"
          ],
          "name": "stdout"
        },
        {
          "output_type": "stream",
          "text": [
            "\r  1%|          | 7/1000 [00:09<16:21,  1.01it/s]"
          ],
          "name": "stderr"
        },
        {
          "output_type": "stream",
          "text": [
            "\n",
            " Episodio número 6 finalizado con 201 iteraciones. Recompensa final=-200.0\n"
          ],
          "name": "stdout"
        },
        {
          "output_type": "stream",
          "text": [
            "\r  1%|          | 8/1000 [00:09<13:13,  1.25it/s]"
          ],
          "name": "stderr"
        },
        {
          "output_type": "stream",
          "text": [
            "\n",
            " Episodio número 7 finalizado con 201 iteraciones. Recompensa final=-200.0\n"
          ],
          "name": "stdout"
        },
        {
          "output_type": "stream",
          "text": [
            "\r  1%|          | 9/1000 [00:12<24:04,  1.46s/it]"
          ],
          "name": "stderr"
        },
        {
          "output_type": "stream",
          "text": [
            "\n",
            " Episodio número 8 finalizado con 201 iteraciones. Recompensa final=-200.0\n"
          ],
          "name": "stdout"
        },
        {
          "output_type": "stream",
          "text": [
            "\r  1%|          | 10/1000 [00:13<19:13,  1.16s/it]"
          ],
          "name": "stderr"
        },
        {
          "output_type": "stream",
          "text": [
            "\n",
            " Episodio número 9 finalizado con 201 iteraciones. Recompensa final=-200.0\n"
          ],
          "name": "stdout"
        },
        {
          "output_type": "stream",
          "text": [
            "\r  1%|          | 11/1000 [00:13<15:21,  1.07it/s]"
          ],
          "name": "stderr"
        },
        {
          "output_type": "stream",
          "text": [
            "\n",
            " Episodio número 10 finalizado con 201 iteraciones. Recompensa final=-200.0\n"
          ],
          "name": "stdout"
        },
        {
          "output_type": "stream",
          "text": [
            "\r  1%|          | 12/1000 [00:13<12:38,  1.30it/s]"
          ],
          "name": "stderr"
        },
        {
          "output_type": "stream",
          "text": [
            "\n",
            " Episodio número 11 finalizado con 201 iteraciones. Recompensa final=-200.0\n"
          ],
          "name": "stdout"
        },
        {
          "output_type": "stream",
          "text": [
            "\r  1%|▏         | 13/1000 [00:14<10:39,  1.54it/s]"
          ],
          "name": "stderr"
        },
        {
          "output_type": "stream",
          "text": [
            "\n",
            " Episodio número 12 finalizado con 201 iteraciones. Recompensa final=-200.0\n"
          ],
          "name": "stdout"
        },
        {
          "output_type": "stream",
          "text": [
            "\r  1%|▏         | 14/1000 [00:14<09:13,  1.78it/s]"
          ],
          "name": "stderr"
        },
        {
          "output_type": "stream",
          "text": [
            "\n",
            " Episodio número 13 finalizado con 201 iteraciones. Recompensa final=-200.0\n"
          ],
          "name": "stdout"
        },
        {
          "output_type": "stream",
          "text": [
            "\r  2%|▏         | 15/1000 [00:15<08:15,  1.99it/s]"
          ],
          "name": "stderr"
        },
        {
          "output_type": "stream",
          "text": [
            "\n",
            " Episodio número 14 finalizado con 201 iteraciones. Recompensa final=-200.0\n"
          ],
          "name": "stdout"
        },
        {
          "output_type": "stream",
          "text": [
            "\r  2%|▏         | 16/1000 [00:15<07:31,  2.18it/s]"
          ],
          "name": "stderr"
        },
        {
          "output_type": "stream",
          "text": [
            "\n",
            " Episodio número 15 finalizado con 201 iteraciones. Recompensa final=-200.0\n"
          ],
          "name": "stdout"
        },
        {
          "output_type": "stream",
          "text": [
            "\r  2%|▏         | 17/1000 [00:15<07:06,  2.30it/s]"
          ],
          "name": "stderr"
        },
        {
          "output_type": "stream",
          "text": [
            "\n",
            " Episodio número 16 finalizado con 201 iteraciones. Recompensa final=-200.0\n"
          ],
          "name": "stdout"
        },
        {
          "output_type": "stream",
          "text": [
            "\r  2%|▏         | 18/1000 [00:16<06:53,  2.38it/s]"
          ],
          "name": "stderr"
        },
        {
          "output_type": "stream",
          "text": [
            "\n",
            " Episodio número 17 finalizado con 201 iteraciones. Recompensa final=-200.0\n"
          ],
          "name": "stdout"
        },
        {
          "output_type": "stream",
          "text": [
            "\r  2%|▏         | 19/1000 [00:16<06:36,  2.47it/s]"
          ],
          "name": "stderr"
        },
        {
          "output_type": "stream",
          "text": [
            "\n",
            " Episodio número 18 finalizado con 201 iteraciones. Recompensa final=-200.0\n"
          ],
          "name": "stdout"
        },
        {
          "output_type": "stream",
          "text": [
            "\r  2%|▏         | 20/1000 [00:16<06:34,  2.48it/s]"
          ],
          "name": "stderr"
        },
        {
          "output_type": "stream",
          "text": [
            "\n",
            " Episodio número 19 finalizado con 201 iteraciones. Recompensa final=-200.0\n"
          ],
          "name": "stdout"
        },
        {
          "output_type": "stream",
          "text": [
            "\r  2%|▏         | 21/1000 [00:17<06:24,  2.54it/s]"
          ],
          "name": "stderr"
        },
        {
          "output_type": "stream",
          "text": [
            "\n",
            " Episodio número 20 finalizado con 201 iteraciones. Recompensa final=-200.0\n"
          ],
          "name": "stdout"
        },
        {
          "output_type": "stream",
          "text": [
            "\r  2%|▏         | 22/1000 [00:17<06:15,  2.61it/s]"
          ],
          "name": "stderr"
        },
        {
          "output_type": "stream",
          "text": [
            "\n",
            " Episodio número 21 finalizado con 201 iteraciones. Recompensa final=-200.0\n"
          ],
          "name": "stdout"
        },
        {
          "output_type": "stream",
          "text": [
            "\r  2%|▏         | 23/1000 [00:18<06:12,  2.62it/s]"
          ],
          "name": "stderr"
        },
        {
          "output_type": "stream",
          "text": [
            "\n",
            " Episodio número 22 finalizado con 201 iteraciones. Recompensa final=-200.0\n"
          ],
          "name": "stdout"
        },
        {
          "output_type": "stream",
          "text": [
            "\r  2%|▏         | 24/1000 [00:18<06:07,  2.66it/s]"
          ],
          "name": "stderr"
        },
        {
          "output_type": "stream",
          "text": [
            "\n",
            " Episodio número 23 finalizado con 201 iteraciones. Recompensa final=-200.0\n"
          ],
          "name": "stdout"
        },
        {
          "output_type": "stream",
          "text": [
            "\r  2%|▎         | 25/1000 [00:18<06:04,  2.68it/s]"
          ],
          "name": "stderr"
        },
        {
          "output_type": "stream",
          "text": [
            "\n",
            " Episodio número 24 finalizado con 201 iteraciones. Recompensa final=-200.0\n"
          ],
          "name": "stdout"
        },
        {
          "output_type": "stream",
          "text": [
            "\r  3%|▎         | 26/1000 [00:19<06:06,  2.66it/s]"
          ],
          "name": "stderr"
        },
        {
          "output_type": "stream",
          "text": [
            "\n",
            " Episodio número 25 finalizado con 201 iteraciones. Recompensa final=-200.0\n"
          ],
          "name": "stdout"
        },
        {
          "output_type": "stream",
          "text": [
            "\r  3%|▎         | 27/1000 [00:19<06:07,  2.65it/s]"
          ],
          "name": "stderr"
        },
        {
          "output_type": "stream",
          "text": [
            "\n",
            " Episodio número 26 finalizado con 201 iteraciones. Recompensa final=-200.0\n"
          ],
          "name": "stdout"
        },
        {
          "output_type": "stream",
          "text": [
            "\r  3%|▎         | 28/1000 [00:22<18:42,  1.15s/it]"
          ],
          "name": "stderr"
        },
        {
          "output_type": "stream",
          "text": [
            "\n",
            " Episodio número 27 finalizado con 201 iteraciones. Recompensa final=-200.0\n"
          ],
          "name": "stdout"
        },
        {
          "output_type": "stream",
          "text": [
            "\r  3%|▎         | 29/1000 [00:22<15:18,  1.06it/s]"
          ],
          "name": "stderr"
        },
        {
          "output_type": "stream",
          "text": [
            "\n",
            " Episodio número 28 finalizado con 201 iteraciones. Recompensa final=-200.0\n"
          ],
          "name": "stdout"
        },
        {
          "output_type": "stream",
          "text": [
            "\r  3%|▎         | 30/1000 [00:23<12:32,  1.29it/s]"
          ],
          "name": "stderr"
        },
        {
          "output_type": "stream",
          "text": [
            "\n",
            " Episodio número 29 finalizado con 201 iteraciones. Recompensa final=-200.0\n"
          ],
          "name": "stdout"
        },
        {
          "output_type": "stream",
          "text": [
            "\r  3%|▎         | 31/1000 [00:23<10:34,  1.53it/s]"
          ],
          "name": "stderr"
        },
        {
          "output_type": "stream",
          "text": [
            "\n",
            " Episodio número 30 finalizado con 201 iteraciones. Recompensa final=-200.0\n"
          ],
          "name": "stdout"
        },
        {
          "output_type": "stream",
          "text": [
            "\r  3%|▎         | 32/1000 [00:24<09:15,  1.74it/s]"
          ],
          "name": "stderr"
        },
        {
          "output_type": "stream",
          "text": [
            "\n",
            " Episodio número 31 finalizado con 201 iteraciones. Recompensa final=-200.0\n"
          ],
          "name": "stdout"
        },
        {
          "output_type": "stream",
          "text": [
            "\r  3%|▎         | 33/1000 [00:24<08:21,  1.93it/s]"
          ],
          "name": "stderr"
        },
        {
          "output_type": "stream",
          "text": [
            "\n",
            " Episodio número 32 finalizado con 201 iteraciones. Recompensa final=-200.0\n"
          ],
          "name": "stdout"
        },
        {
          "output_type": "stream",
          "text": [
            "\r  3%|▎         | 34/1000 [00:24<07:45,  2.08it/s]"
          ],
          "name": "stderr"
        },
        {
          "output_type": "stream",
          "text": [
            "\n",
            " Episodio número 33 finalizado con 201 iteraciones. Recompensa final=-200.0\n"
          ],
          "name": "stdout"
        },
        {
          "output_type": "stream",
          "text": [
            "\r  4%|▎         | 35/1000 [00:25<07:18,  2.20it/s]"
          ],
          "name": "stderr"
        },
        {
          "output_type": "stream",
          "text": [
            "\n",
            " Episodio número 34 finalizado con 201 iteraciones. Recompensa final=-200.0\n"
          ],
          "name": "stdout"
        },
        {
          "output_type": "stream",
          "text": [
            "\r  4%|▎         | 36/1000 [00:25<06:55,  2.32it/s]"
          ],
          "name": "stderr"
        },
        {
          "output_type": "stream",
          "text": [
            "\n",
            " Episodio número 35 finalizado con 201 iteraciones. Recompensa final=-200.0\n"
          ],
          "name": "stdout"
        },
        {
          "output_type": "stream",
          "text": [
            "\r  4%|▎         | 37/1000 [00:26<06:46,  2.37it/s]"
          ],
          "name": "stderr"
        },
        {
          "output_type": "stream",
          "text": [
            "\n",
            " Episodio número 36 finalizado con 201 iteraciones. Recompensa final=-200.0\n"
          ],
          "name": "stdout"
        },
        {
          "output_type": "stream",
          "text": [
            "\r  4%|▍         | 38/1000 [00:26<06:35,  2.43it/s]"
          ],
          "name": "stderr"
        },
        {
          "output_type": "stream",
          "text": [
            "\n",
            " Episodio número 37 finalizado con 201 iteraciones. Recompensa final=-200.0\n"
          ],
          "name": "stdout"
        },
        {
          "output_type": "stream",
          "text": [
            "\r  4%|▍         | 39/1000 [00:26<06:26,  2.48it/s]"
          ],
          "name": "stderr"
        },
        {
          "output_type": "stream",
          "text": [
            "\n",
            " Episodio número 38 finalizado con 201 iteraciones. Recompensa final=-200.0\n"
          ],
          "name": "stdout"
        },
        {
          "output_type": "stream",
          "text": [
            "\r  4%|▍         | 40/1000 [00:27<06:34,  2.43it/s]"
          ],
          "name": "stderr"
        },
        {
          "output_type": "stream",
          "text": [
            "\n",
            " Episodio número 39 finalizado con 201 iteraciones. Recompensa final=-200.0\n"
          ],
          "name": "stdout"
        },
        {
          "output_type": "stream",
          "text": [
            "\r  4%|▍         | 41/1000 [00:27<06:28,  2.47it/s]"
          ],
          "name": "stderr"
        },
        {
          "output_type": "stream",
          "text": [
            "\n",
            " Episodio número 40 finalizado con 201 iteraciones. Recompensa final=-200.0\n"
          ],
          "name": "stdout"
        },
        {
          "output_type": "stream",
          "text": [
            "\r  4%|▍         | 42/1000 [00:28<06:28,  2.47it/s]"
          ],
          "name": "stderr"
        },
        {
          "output_type": "stream",
          "text": [
            "\n",
            " Episodio número 41 finalizado con 201 iteraciones. Recompensa final=-200.0\n"
          ],
          "name": "stdout"
        },
        {
          "output_type": "stream",
          "text": [
            "\r  4%|▍         | 43/1000 [00:28<06:22,  2.50it/s]"
          ],
          "name": "stderr"
        },
        {
          "output_type": "stream",
          "text": [
            "\n",
            " Episodio número 42 finalizado con 201 iteraciones. Recompensa final=-200.0\n"
          ],
          "name": "stdout"
        },
        {
          "output_type": "stream",
          "text": [
            "\r  4%|▍         | 44/1000 [00:28<06:21,  2.50it/s]"
          ],
          "name": "stderr"
        },
        {
          "output_type": "stream",
          "text": [
            "\n",
            " Episodio número 43 finalizado con 201 iteraciones. Recompensa final=-200.0\n"
          ],
          "name": "stdout"
        },
        {
          "output_type": "stream",
          "text": [
            "\r  4%|▍         | 45/1000 [00:29<06:23,  2.49it/s]"
          ],
          "name": "stderr"
        },
        {
          "output_type": "stream",
          "text": [
            "\n",
            " Episodio número 44 finalizado con 201 iteraciones. Recompensa final=-200.0\n"
          ],
          "name": "stdout"
        },
        {
          "output_type": "stream",
          "text": [
            "\r  5%|▍         | 46/1000 [00:29<06:22,  2.50it/s]"
          ],
          "name": "stderr"
        },
        {
          "output_type": "stream",
          "text": [
            "\n",
            " Episodio número 45 finalizado con 201 iteraciones. Recompensa final=-200.0\n"
          ],
          "name": "stdout"
        },
        {
          "output_type": "stream",
          "text": [
            "\r  5%|▍         | 47/1000 [00:30<06:14,  2.54it/s]"
          ],
          "name": "stderr"
        },
        {
          "output_type": "stream",
          "text": [
            "\n",
            " Episodio número 46 finalizado con 201 iteraciones. Recompensa final=-200.0\n"
          ],
          "name": "stdout"
        },
        {
          "output_type": "stream",
          "text": [
            "\r  5%|▍         | 48/1000 [00:30<06:11,  2.56it/s]"
          ],
          "name": "stderr"
        },
        {
          "output_type": "stream",
          "text": [
            "\n",
            " Episodio número 47 finalizado con 201 iteraciones. Recompensa final=-200.0\n"
          ],
          "name": "stdout"
        },
        {
          "output_type": "stream",
          "text": [
            "\r  5%|▍         | 49/1000 [00:30<06:09,  2.57it/s]"
          ],
          "name": "stderr"
        },
        {
          "output_type": "stream",
          "text": [
            "\n",
            " Episodio número 48 finalizado con 201 iteraciones. Recompensa final=-200.0\n"
          ],
          "name": "stdout"
        },
        {
          "output_type": "stream",
          "text": [
            "\r  5%|▌         | 50/1000 [00:31<06:06,  2.60it/s]"
          ],
          "name": "stderr"
        },
        {
          "output_type": "stream",
          "text": [
            "\n",
            " Episodio número 49 finalizado con 201 iteraciones. Recompensa final=-200.0\n"
          ],
          "name": "stdout"
        },
        {
          "output_type": "stream",
          "text": [
            "\r  5%|▌         | 51/1000 [00:31<06:04,  2.60it/s]"
          ],
          "name": "stderr"
        },
        {
          "output_type": "stream",
          "text": [
            "\n",
            " Episodio número 50 finalizado con 201 iteraciones. Recompensa final=-200.0\n"
          ],
          "name": "stdout"
        },
        {
          "output_type": "stream",
          "text": [
            "\r  5%|▌         | 52/1000 [00:31<06:02,  2.62it/s]"
          ],
          "name": "stderr"
        },
        {
          "output_type": "stream",
          "text": [
            "\n",
            " Episodio número 51 finalizado con 201 iteraciones. Recompensa final=-200.0\n"
          ],
          "name": "stdout"
        },
        {
          "output_type": "stream",
          "text": [
            "\r  5%|▌         | 53/1000 [00:32<06:04,  2.60it/s]"
          ],
          "name": "stderr"
        },
        {
          "output_type": "stream",
          "text": [
            "\n",
            " Episodio número 52 finalizado con 201 iteraciones. Recompensa final=-200.0\n"
          ],
          "name": "stdout"
        },
        {
          "output_type": "stream",
          "text": [
            "\r  5%|▌         | 54/1000 [00:32<05:59,  2.63it/s]"
          ],
          "name": "stderr"
        },
        {
          "output_type": "stream",
          "text": [
            "\n",
            " Episodio número 53 finalizado con 201 iteraciones. Recompensa final=-200.0\n"
          ],
          "name": "stdout"
        },
        {
          "output_type": "stream",
          "text": [
            "\r  6%|▌         | 55/1000 [00:33<06:00,  2.62it/s]"
          ],
          "name": "stderr"
        },
        {
          "output_type": "stream",
          "text": [
            "\n",
            " Episodio número 54 finalizado con 201 iteraciones. Recompensa final=-200.0\n"
          ],
          "name": "stdout"
        },
        {
          "output_type": "stream",
          "text": [
            "\r  6%|▌         | 56/1000 [00:33<05:57,  2.64it/s]"
          ],
          "name": "stderr"
        },
        {
          "output_type": "stream",
          "text": [
            "\n",
            " Episodio número 55 finalizado con 201 iteraciones. Recompensa final=-200.0\n"
          ],
          "name": "stdout"
        },
        {
          "output_type": "stream",
          "text": [
            "\r  6%|▌         | 57/1000 [00:33<05:53,  2.66it/s]"
          ],
          "name": "stderr"
        },
        {
          "output_type": "stream",
          "text": [
            "\n",
            " Episodio número 56 finalizado con 201 iteraciones. Recompensa final=-200.0\n"
          ],
          "name": "stdout"
        },
        {
          "output_type": "stream",
          "text": [
            "\r  6%|▌         | 58/1000 [00:34<05:53,  2.66it/s]"
          ],
          "name": "stderr"
        },
        {
          "output_type": "stream",
          "text": [
            "\n",
            " Episodio número 57 finalizado con 201 iteraciones. Recompensa final=-200.0\n"
          ],
          "name": "stdout"
        },
        {
          "output_type": "stream",
          "text": [
            "\r  6%|▌         | 59/1000 [00:34<05:51,  2.67it/s]"
          ],
          "name": "stderr"
        },
        {
          "output_type": "stream",
          "text": [
            "\n",
            " Episodio número 58 finalizado con 201 iteraciones. Recompensa final=-200.0\n"
          ],
          "name": "stdout"
        },
        {
          "output_type": "stream",
          "text": [
            "\r  6%|▌         | 60/1000 [00:34<05:55,  2.64it/s]"
          ],
          "name": "stderr"
        },
        {
          "output_type": "stream",
          "text": [
            "\n",
            " Episodio número 59 finalizado con 201 iteraciones. Recompensa final=-200.0\n"
          ],
          "name": "stdout"
        },
        {
          "output_type": "stream",
          "text": [
            "\r  6%|▌         | 61/1000 [00:35<05:54,  2.65it/s]"
          ],
          "name": "stderr"
        },
        {
          "output_type": "stream",
          "text": [
            "\n",
            " Episodio número 60 finalizado con 201 iteraciones. Recompensa final=-200.0\n"
          ],
          "name": "stdout"
        },
        {
          "output_type": "stream",
          "text": [
            "\r  6%|▌         | 62/1000 [00:35<05:52,  2.66it/s]"
          ],
          "name": "stderr"
        },
        {
          "output_type": "stream",
          "text": [
            "\n",
            " Episodio número 61 finalizado con 201 iteraciones. Recompensa final=-200.0\n"
          ],
          "name": "stdout"
        },
        {
          "output_type": "stream",
          "text": [
            "\r  6%|▋         | 63/1000 [00:36<05:50,  2.67it/s]"
          ],
          "name": "stderr"
        },
        {
          "output_type": "stream",
          "text": [
            "\n",
            " Episodio número 62 finalizado con 201 iteraciones. Recompensa final=-200.0\n"
          ],
          "name": "stdout"
        },
        {
          "output_type": "stream",
          "text": [
            "\r  6%|▋         | 64/1000 [00:36<05:52,  2.65it/s]"
          ],
          "name": "stderr"
        },
        {
          "output_type": "stream",
          "text": [
            "\n",
            " Episodio número 63 finalizado con 201 iteraciones. Recompensa final=-200.0\n"
          ],
          "name": "stdout"
        },
        {
          "output_type": "stream",
          "text": [
            "\r  6%|▋         | 65/1000 [00:39<18:06,  1.16s/it]"
          ],
          "name": "stderr"
        },
        {
          "output_type": "stream",
          "text": [
            "\n",
            " Episodio número 64 finalizado con 201 iteraciones. Recompensa final=-200.0\n"
          ],
          "name": "stdout"
        },
        {
          "output_type": "stream",
          "text": [
            "\r  7%|▋         | 66/1000 [00:39<14:53,  1.05it/s]"
          ],
          "name": "stderr"
        },
        {
          "output_type": "stream",
          "text": [
            "\n",
            " Episodio número 65 finalizado con 201 iteraciones. Recompensa final=-200.0\n"
          ],
          "name": "stdout"
        },
        {
          "output_type": "stream",
          "text": [
            "\r  7%|▋         | 67/1000 [00:40<12:11,  1.28it/s]"
          ],
          "name": "stderr"
        },
        {
          "output_type": "stream",
          "text": [
            "\n",
            " Episodio número 66 finalizado con 201 iteraciones. Recompensa final=-200.0\n"
          ],
          "name": "stdout"
        },
        {
          "output_type": "stream",
          "text": [
            "\r  7%|▋         | 68/1000 [00:40<10:21,  1.50it/s]"
          ],
          "name": "stderr"
        },
        {
          "output_type": "stream",
          "text": [
            "\n",
            " Episodio número 67 finalizado con 201 iteraciones. Recompensa final=-200.0\n"
          ],
          "name": "stdout"
        },
        {
          "output_type": "stream",
          "text": [
            "\r  7%|▋         | 69/1000 [00:41<09:01,  1.72it/s]"
          ],
          "name": "stderr"
        },
        {
          "output_type": "stream",
          "text": [
            "\n",
            " Episodio número 68 finalizado con 201 iteraciones. Recompensa final=-200.0\n"
          ],
          "name": "stdout"
        },
        {
          "output_type": "stream",
          "text": [
            "\r  7%|▋         | 70/1000 [00:41<08:03,  1.92it/s]"
          ],
          "name": "stderr"
        },
        {
          "output_type": "stream",
          "text": [
            "\n",
            " Episodio número 69 finalizado con 201 iteraciones. Recompensa final=-200.0\n"
          ],
          "name": "stdout"
        },
        {
          "output_type": "stream",
          "text": [
            "\r  7%|▋         | 71/1000 [00:41<07:21,  2.10it/s]"
          ],
          "name": "stderr"
        },
        {
          "output_type": "stream",
          "text": [
            "\n",
            " Episodio número 70 finalizado con 201 iteraciones. Recompensa final=-200.0\n"
          ],
          "name": "stdout"
        },
        {
          "output_type": "stream",
          "text": [
            "\r  7%|▋         | 72/1000 [00:42<06:55,  2.23it/s]"
          ],
          "name": "stderr"
        },
        {
          "output_type": "stream",
          "text": [
            "\n",
            " Episodio número 71 finalizado con 201 iteraciones. Recompensa final=-200.0\n"
          ],
          "name": "stdout"
        },
        {
          "output_type": "stream",
          "text": [
            "\r  7%|▋         | 73/1000 [00:42<06:41,  2.31it/s]"
          ],
          "name": "stderr"
        },
        {
          "output_type": "stream",
          "text": [
            "\n",
            " Episodio número 72 finalizado con 201 iteraciones. Recompensa final=-200.0\n"
          ],
          "name": "stdout"
        },
        {
          "output_type": "stream",
          "text": [
            "\r  7%|▋         | 74/1000 [00:43<06:31,  2.37it/s]"
          ],
          "name": "stderr"
        },
        {
          "output_type": "stream",
          "text": [
            "\n",
            " Episodio número 73 finalizado con 201 iteraciones. Recompensa final=-200.0\n"
          ],
          "name": "stdout"
        },
        {
          "output_type": "stream",
          "text": [
            "\r  8%|▊         | 75/1000 [00:43<06:18,  2.44it/s]"
          ],
          "name": "stderr"
        },
        {
          "output_type": "stream",
          "text": [
            "\n",
            " Episodio número 74 finalizado con 201 iteraciones. Recompensa final=-200.0\n"
          ],
          "name": "stdout"
        },
        {
          "output_type": "stream",
          "text": [
            "\r  8%|▊         | 76/1000 [00:43<06:10,  2.49it/s]"
          ],
          "name": "stderr"
        },
        {
          "output_type": "stream",
          "text": [
            "\n",
            " Episodio número 75 finalizado con 201 iteraciones. Recompensa final=-200.0\n"
          ],
          "name": "stdout"
        },
        {
          "output_type": "stream",
          "text": [
            "\r  8%|▊         | 77/1000 [00:44<06:02,  2.55it/s]"
          ],
          "name": "stderr"
        },
        {
          "output_type": "stream",
          "text": [
            "\n",
            " Episodio número 76 finalizado con 201 iteraciones. Recompensa final=-200.0\n"
          ],
          "name": "stdout"
        },
        {
          "output_type": "stream",
          "text": [
            "\r  8%|▊         | 78/1000 [00:44<05:57,  2.58it/s]"
          ],
          "name": "stderr"
        },
        {
          "output_type": "stream",
          "text": [
            "\n",
            " Episodio número 77 finalizado con 201 iteraciones. Recompensa final=-200.0\n"
          ],
          "name": "stdout"
        },
        {
          "output_type": "stream",
          "text": [
            "\r  8%|▊         | 79/1000 [00:44<05:56,  2.59it/s]"
          ],
          "name": "stderr"
        },
        {
          "output_type": "stream",
          "text": [
            "\n",
            " Episodio número 78 finalizado con 201 iteraciones. Recompensa final=-200.0\n"
          ],
          "name": "stdout"
        },
        {
          "output_type": "stream",
          "text": [
            "\r  8%|▊         | 80/1000 [00:45<05:49,  2.63it/s]"
          ],
          "name": "stderr"
        },
        {
          "output_type": "stream",
          "text": [
            "\n",
            " Episodio número 79 finalizado con 201 iteraciones. Recompensa final=-200.0\n"
          ],
          "name": "stdout"
        },
        {
          "output_type": "stream",
          "text": [
            "\r  8%|▊         | 81/1000 [00:45<05:51,  2.61it/s]"
          ],
          "name": "stderr"
        },
        {
          "output_type": "stream",
          "text": [
            "\n",
            " Episodio número 80 finalizado con 201 iteraciones. Recompensa final=-200.0\n"
          ],
          "name": "stdout"
        },
        {
          "output_type": "stream",
          "text": [
            "\r  8%|▊         | 82/1000 [00:46<05:51,  2.61it/s]"
          ],
          "name": "stderr"
        },
        {
          "output_type": "stream",
          "text": [
            "\n",
            " Episodio número 81 finalizado con 201 iteraciones. Recompensa final=-200.0\n"
          ],
          "name": "stdout"
        },
        {
          "output_type": "stream",
          "text": [
            "\r  8%|▊         | 83/1000 [00:46<05:47,  2.64it/s]"
          ],
          "name": "stderr"
        },
        {
          "output_type": "stream",
          "text": [
            "\n",
            " Episodio número 82 finalizado con 201 iteraciones. Recompensa final=-200.0\n"
          ],
          "name": "stdout"
        },
        {
          "output_type": "stream",
          "text": [
            "\r  8%|▊         | 84/1000 [00:46<05:45,  2.65it/s]"
          ],
          "name": "stderr"
        },
        {
          "output_type": "stream",
          "text": [
            "\n",
            " Episodio número 83 finalizado con 201 iteraciones. Recompensa final=-200.0\n"
          ],
          "name": "stdout"
        },
        {
          "output_type": "stream",
          "text": [
            "\r  8%|▊         | 85/1000 [00:47<05:48,  2.63it/s]"
          ],
          "name": "stderr"
        },
        {
          "output_type": "stream",
          "text": [
            "\n",
            " Episodio número 84 finalizado con 201 iteraciones. Recompensa final=-200.0\n"
          ],
          "name": "stdout"
        },
        {
          "output_type": "stream",
          "text": [
            "\r  9%|▊         | 86/1000 [00:47<05:56,  2.57it/s]"
          ],
          "name": "stderr"
        },
        {
          "output_type": "stream",
          "text": [
            "\n",
            " Episodio número 85 finalizado con 201 iteraciones. Recompensa final=-200.0\n"
          ],
          "name": "stdout"
        },
        {
          "output_type": "stream",
          "text": [
            "\r  9%|▊         | 87/1000 [00:48<05:59,  2.54it/s]"
          ],
          "name": "stderr"
        },
        {
          "output_type": "stream",
          "text": [
            "\n",
            " Episodio número 86 finalizado con 201 iteraciones. Recompensa final=-200.0\n"
          ],
          "name": "stdout"
        },
        {
          "output_type": "stream",
          "text": [
            "\r  9%|▉         | 88/1000 [00:48<05:55,  2.57it/s]"
          ],
          "name": "stderr"
        },
        {
          "output_type": "stream",
          "text": [
            "\n",
            " Episodio número 87 finalizado con 201 iteraciones. Recompensa final=-200.0\n"
          ],
          "name": "stdout"
        },
        {
          "output_type": "stream",
          "text": [
            "\r  9%|▉         | 89/1000 [00:48<05:54,  2.57it/s]"
          ],
          "name": "stderr"
        },
        {
          "output_type": "stream",
          "text": [
            "\n",
            " Episodio número 88 finalizado con 201 iteraciones. Recompensa final=-200.0\n"
          ],
          "name": "stdout"
        },
        {
          "output_type": "stream",
          "text": [
            "\r  9%|▉         | 90/1000 [00:49<05:55,  2.56it/s]"
          ],
          "name": "stderr"
        },
        {
          "output_type": "stream",
          "text": [
            "\n",
            " Episodio número 89 finalizado con 201 iteraciones. Recompensa final=-200.0\n"
          ],
          "name": "stdout"
        },
        {
          "output_type": "stream",
          "text": [
            "\r  9%|▉         | 91/1000 [00:49<05:53,  2.57it/s]"
          ],
          "name": "stderr"
        },
        {
          "output_type": "stream",
          "text": [
            "\n",
            " Episodio número 90 finalizado con 201 iteraciones. Recompensa final=-200.0\n"
          ],
          "name": "stdout"
        },
        {
          "output_type": "stream",
          "text": [
            "\r  9%|▉         | 92/1000 [00:49<05:52,  2.58it/s]"
          ],
          "name": "stderr"
        },
        {
          "output_type": "stream",
          "text": [
            "\n",
            " Episodio número 91 finalizado con 201 iteraciones. Recompensa final=-200.0\n"
          ],
          "name": "stdout"
        },
        {
          "output_type": "stream",
          "text": [
            "\r  9%|▉         | 93/1000 [00:50<05:49,  2.60it/s]"
          ],
          "name": "stderr"
        },
        {
          "output_type": "stream",
          "text": [
            "\n",
            " Episodio número 92 finalizado con 201 iteraciones. Recompensa final=-200.0\n"
          ],
          "name": "stdout"
        },
        {
          "output_type": "stream",
          "text": [
            "\r  9%|▉         | 94/1000 [00:50<05:48,  2.60it/s]"
          ],
          "name": "stderr"
        },
        {
          "output_type": "stream",
          "text": [
            "\n",
            " Episodio número 93 finalizado con 201 iteraciones. Recompensa final=-200.0\n"
          ],
          "name": "stdout"
        },
        {
          "output_type": "stream",
          "text": [
            "\r 10%|▉         | 95/1000 [00:51<05:46,  2.61it/s]"
          ],
          "name": "stderr"
        },
        {
          "output_type": "stream",
          "text": [
            "\n",
            " Episodio número 94 finalizado con 201 iteraciones. Recompensa final=-200.0\n"
          ],
          "name": "stdout"
        },
        {
          "output_type": "stream",
          "text": [
            "\r 10%|▉         | 96/1000 [00:51<05:49,  2.59it/s]"
          ],
          "name": "stderr"
        },
        {
          "output_type": "stream",
          "text": [
            "\n",
            " Episodio número 95 finalizado con 201 iteraciones. Recompensa final=-200.0\n"
          ],
          "name": "stdout"
        },
        {
          "output_type": "stream",
          "text": [
            "\r 10%|▉         | 97/1000 [00:51<05:51,  2.57it/s]"
          ],
          "name": "stderr"
        },
        {
          "output_type": "stream",
          "text": [
            "\n",
            " Episodio número 96 finalizado con 201 iteraciones. Recompensa final=-200.0\n"
          ],
          "name": "stdout"
        },
        {
          "output_type": "stream",
          "text": [
            "\r 10%|▉         | 98/1000 [00:52<05:48,  2.59it/s]"
          ],
          "name": "stderr"
        },
        {
          "output_type": "stream",
          "text": [
            "\n",
            " Episodio número 97 finalizado con 201 iteraciones. Recompensa final=-200.0\n"
          ],
          "name": "stdout"
        },
        {
          "output_type": "stream",
          "text": [
            "\r 10%|▉         | 99/1000 [00:52<05:53,  2.55it/s]"
          ],
          "name": "stderr"
        },
        {
          "output_type": "stream",
          "text": [
            "\n",
            " Episodio número 98 finalizado con 201 iteraciones. Recompensa final=-200.0\n"
          ],
          "name": "stdout"
        },
        {
          "output_type": "stream",
          "text": [
            "\r 10%|█         | 100/1000 [00:53<05:50,  2.57it/s]"
          ],
          "name": "stderr"
        },
        {
          "output_type": "stream",
          "text": [
            "\n",
            " Episodio número 99 finalizado con 201 iteraciones. Recompensa final=-200.0\n"
          ],
          "name": "stdout"
        },
        {
          "output_type": "stream",
          "text": [
            "\r 10%|█         | 101/1000 [00:53<05:47,  2.58it/s]"
          ],
          "name": "stderr"
        },
        {
          "output_type": "stream",
          "text": [
            "\n",
            " Episodio número 100 finalizado con 201 iteraciones. Recompensa final=-200.0\n"
          ],
          "name": "stdout"
        },
        {
          "output_type": "stream",
          "text": [
            "\r 10%|█         | 102/1000 [00:53<05:47,  2.58it/s]"
          ],
          "name": "stderr"
        },
        {
          "output_type": "stream",
          "text": [
            "\n",
            " Episodio número 101 finalizado con 201 iteraciones. Recompensa final=-200.0\n"
          ],
          "name": "stdout"
        },
        {
          "output_type": "stream",
          "text": [
            "\r 10%|█         | 103/1000 [00:54<05:43,  2.61it/s]"
          ],
          "name": "stderr"
        },
        {
          "output_type": "stream",
          "text": [
            "\n",
            " Episodio número 102 finalizado con 201 iteraciones. Recompensa final=-200.0\n"
          ],
          "name": "stdout"
        },
        {
          "output_type": "stream",
          "text": [
            "\r 10%|█         | 104/1000 [00:54<05:41,  2.62it/s]"
          ],
          "name": "stderr"
        },
        {
          "output_type": "stream",
          "text": [
            "\n",
            " Episodio número 103 finalizado con 201 iteraciones. Recompensa final=-200.0\n"
          ],
          "name": "stdout"
        },
        {
          "output_type": "stream",
          "text": [
            "\r 10%|█         | 105/1000 [00:54<05:38,  2.65it/s]"
          ],
          "name": "stderr"
        },
        {
          "output_type": "stream",
          "text": [
            "\n",
            " Episodio número 104 finalizado con 201 iteraciones. Recompensa final=-200.0\n"
          ],
          "name": "stdout"
        },
        {
          "output_type": "stream",
          "text": [
            "\r 11%|█         | 106/1000 [00:55<05:38,  2.64it/s]"
          ],
          "name": "stderr"
        },
        {
          "output_type": "stream",
          "text": [
            "\n",
            " Episodio número 105 finalizado con 201 iteraciones. Recompensa final=-200.0\n"
          ],
          "name": "stdout"
        },
        {
          "output_type": "stream",
          "text": [
            "\r 11%|█         | 107/1000 [00:55<05:37,  2.64it/s]"
          ],
          "name": "stderr"
        },
        {
          "output_type": "stream",
          "text": [
            "\n",
            " Episodio número 106 finalizado con 201 iteraciones. Recompensa final=-200.0\n"
          ],
          "name": "stdout"
        },
        {
          "output_type": "stream",
          "text": [
            "\r 11%|█         | 108/1000 [00:56<05:33,  2.67it/s]"
          ],
          "name": "stderr"
        },
        {
          "output_type": "stream",
          "text": [
            "\n",
            " Episodio número 107 finalizado con 201 iteraciones. Recompensa final=-200.0\n"
          ],
          "name": "stdout"
        },
        {
          "output_type": "stream",
          "text": [
            "\r 11%|█         | 109/1000 [00:56<05:29,  2.71it/s]"
          ],
          "name": "stderr"
        },
        {
          "output_type": "stream",
          "text": [
            "\n",
            " Episodio número 108 finalizado con 201 iteraciones. Recompensa final=-200.0\n"
          ],
          "name": "stdout"
        },
        {
          "output_type": "stream",
          "text": [
            "\r 11%|█         | 110/1000 [00:56<05:35,  2.65it/s]"
          ],
          "name": "stderr"
        },
        {
          "output_type": "stream",
          "text": [
            "\n",
            " Episodio número 109 finalizado con 201 iteraciones. Recompensa final=-200.0\n"
          ],
          "name": "stdout"
        },
        {
          "output_type": "stream",
          "text": [
            "\r 11%|█         | 111/1000 [00:57<05:32,  2.67it/s]"
          ],
          "name": "stderr"
        },
        {
          "output_type": "stream",
          "text": [
            "\n",
            " Episodio número 110 finalizado con 201 iteraciones. Recompensa final=-200.0\n"
          ],
          "name": "stdout"
        },
        {
          "output_type": "stream",
          "text": [
            "\r 11%|█         | 112/1000 [00:57<05:37,  2.63it/s]"
          ],
          "name": "stderr"
        },
        {
          "output_type": "stream",
          "text": [
            "\n",
            " Episodio número 111 finalizado con 201 iteraciones. Recompensa final=-200.0\n"
          ],
          "name": "stdout"
        },
        {
          "output_type": "stream",
          "text": [
            "\r 11%|█▏        | 113/1000 [00:57<05:39,  2.61it/s]"
          ],
          "name": "stderr"
        },
        {
          "output_type": "stream",
          "text": [
            "\n",
            " Episodio número 112 finalizado con 201 iteraciones. Recompensa final=-200.0\n"
          ],
          "name": "stdout"
        },
        {
          "output_type": "stream",
          "text": [
            "\r 11%|█▏        | 114/1000 [00:58<05:43,  2.58it/s]"
          ],
          "name": "stderr"
        },
        {
          "output_type": "stream",
          "text": [
            "\n",
            " Episodio número 113 finalizado con 201 iteraciones. Recompensa final=-200.0\n"
          ],
          "name": "stdout"
        },
        {
          "output_type": "stream",
          "text": [
            "\r 12%|█▏        | 115/1000 [00:58<05:43,  2.58it/s]"
          ],
          "name": "stderr"
        },
        {
          "output_type": "stream",
          "text": [
            "\n",
            " Episodio número 114 finalizado con 201 iteraciones. Recompensa final=-200.0\n"
          ],
          "name": "stdout"
        },
        {
          "output_type": "stream",
          "text": [
            "\r 12%|█▏        | 116/1000 [00:59<05:46,  2.55it/s]"
          ],
          "name": "stderr"
        },
        {
          "output_type": "stream",
          "text": [
            "\n",
            " Episodio número 115 finalizado con 201 iteraciones. Recompensa final=-200.0\n"
          ],
          "name": "stdout"
        },
        {
          "output_type": "stream",
          "text": [
            "\r 12%|█▏        | 117/1000 [00:59<05:42,  2.58it/s]"
          ],
          "name": "stderr"
        },
        {
          "output_type": "stream",
          "text": [
            "\n",
            " Episodio número 116 finalizado con 201 iteraciones. Recompensa final=-200.0\n"
          ],
          "name": "stdout"
        },
        {
          "output_type": "stream",
          "text": [
            "\r 12%|█▏        | 118/1000 [00:59<05:38,  2.60it/s]"
          ],
          "name": "stderr"
        },
        {
          "output_type": "stream",
          "text": [
            "\n",
            " Episodio número 117 finalizado con 201 iteraciones. Recompensa final=-200.0\n"
          ],
          "name": "stdout"
        },
        {
          "output_type": "stream",
          "text": [
            "\r 12%|█▏        | 119/1000 [01:00<05:38,  2.61it/s]"
          ],
          "name": "stderr"
        },
        {
          "output_type": "stream",
          "text": [
            "\n",
            " Episodio número 118 finalizado con 201 iteraciones. Recompensa final=-200.0\n"
          ],
          "name": "stdout"
        },
        {
          "output_type": "stream",
          "text": [
            "\r 12%|█▏        | 120/1000 [01:00<05:37,  2.61it/s]"
          ],
          "name": "stderr"
        },
        {
          "output_type": "stream",
          "text": [
            "\n",
            " Episodio número 119 finalizado con 201 iteraciones. Recompensa final=-200.0\n"
          ],
          "name": "stdout"
        },
        {
          "output_type": "stream",
          "text": [
            "\r 12%|█▏        | 121/1000 [01:01<05:37,  2.60it/s]"
          ],
          "name": "stderr"
        },
        {
          "output_type": "stream",
          "text": [
            "\n",
            " Episodio número 120 finalizado con 201 iteraciones. Recompensa final=-200.0\n"
          ],
          "name": "stdout"
        },
        {
          "output_type": "stream",
          "text": [
            "\r 12%|█▏        | 122/1000 [01:01<05:33,  2.63it/s]"
          ],
          "name": "stderr"
        },
        {
          "output_type": "stream",
          "text": [
            "\n",
            " Episodio número 121 finalizado con 201 iteraciones. Recompensa final=-200.0\n"
          ],
          "name": "stdout"
        },
        {
          "output_type": "stream",
          "text": [
            "\r 12%|█▏        | 123/1000 [01:01<05:30,  2.65it/s]"
          ],
          "name": "stderr"
        },
        {
          "output_type": "stream",
          "text": [
            "\n",
            " Episodio número 122 finalizado con 201 iteraciones. Recompensa final=-200.0\n"
          ],
          "name": "stdout"
        },
        {
          "output_type": "stream",
          "text": [
            "\r 12%|█▏        | 124/1000 [01:02<05:25,  2.69it/s]"
          ],
          "name": "stderr"
        },
        {
          "output_type": "stream",
          "text": [
            "\n",
            " Episodio número 123 finalizado con 201 iteraciones. Recompensa final=-200.0\n"
          ],
          "name": "stdout"
        },
        {
          "output_type": "stream",
          "text": [
            "\r 12%|█▎        | 125/1000 [01:02<05:24,  2.70it/s]"
          ],
          "name": "stderr"
        },
        {
          "output_type": "stream",
          "text": [
            "\n",
            " Episodio número 124 finalizado con 201 iteraciones. Recompensa final=-200.0\n"
          ],
          "name": "stdout"
        },
        {
          "output_type": "stream",
          "text": [
            "\r 13%|█▎        | 126/1000 [01:05<16:45,  1.15s/it]"
          ],
          "name": "stderr"
        },
        {
          "output_type": "stream",
          "text": [
            "\n",
            " Episodio número 125 finalizado con 201 iteraciones. Recompensa final=-200.0\n"
          ],
          "name": "stdout"
        },
        {
          "output_type": "stream",
          "text": [
            "\r 13%|█▎        | 127/1000 [01:05<13:41,  1.06it/s]"
          ],
          "name": "stderr"
        },
        {
          "output_type": "stream",
          "text": [
            "\n",
            " Episodio número 126 finalizado con 201 iteraciones. Recompensa final=-200.0\n"
          ],
          "name": "stdout"
        },
        {
          "output_type": "stream",
          "text": [
            "\r 13%|█▎        | 128/1000 [01:06<11:09,  1.30it/s]"
          ],
          "name": "stderr"
        },
        {
          "output_type": "stream",
          "text": [
            "\n",
            " Episodio número 127 finalizado con 201 iteraciones. Recompensa final=-200.0\n"
          ],
          "name": "stdout"
        },
        {
          "output_type": "stream",
          "text": [
            "\r 13%|█▎        | 129/1000 [01:06<09:26,  1.54it/s]"
          ],
          "name": "stderr"
        },
        {
          "output_type": "stream",
          "text": [
            "\n",
            " Episodio número 128 finalizado con 201 iteraciones. Recompensa final=-200.0\n"
          ],
          "name": "stdout"
        },
        {
          "output_type": "stream",
          "text": [
            "\r 13%|█▎        | 130/1000 [01:07<08:11,  1.77it/s]"
          ],
          "name": "stderr"
        },
        {
          "output_type": "stream",
          "text": [
            "\n",
            " Episodio número 129 finalizado con 201 iteraciones. Recompensa final=-200.0\n"
          ],
          "name": "stdout"
        },
        {
          "output_type": "stream",
          "text": [
            "\r 13%|█▎        | 131/1000 [01:07<07:18,  1.98it/s]"
          ],
          "name": "stderr"
        },
        {
          "output_type": "stream",
          "text": [
            "\n",
            " Episodio número 130 finalizado con 201 iteraciones. Recompensa final=-200.0\n"
          ],
          "name": "stdout"
        },
        {
          "output_type": "stream",
          "text": [
            "\r 13%|█▎        | 132/1000 [01:07<06:44,  2.14it/s]"
          ],
          "name": "stderr"
        },
        {
          "output_type": "stream",
          "text": [
            "\n",
            " Episodio número 131 finalizado con 201 iteraciones. Recompensa final=-200.0\n"
          ],
          "name": "stdout"
        },
        {
          "output_type": "stream",
          "text": [
            "\r 13%|█▎        | 133/1000 [01:08<06:20,  2.28it/s]"
          ],
          "name": "stderr"
        },
        {
          "output_type": "stream",
          "text": [
            "\n",
            " Episodio número 132 finalizado con 201 iteraciones. Recompensa final=-200.0\n"
          ],
          "name": "stdout"
        },
        {
          "output_type": "stream",
          "text": [
            "\r 13%|█▎        | 134/1000 [01:08<06:03,  2.38it/s]"
          ],
          "name": "stderr"
        },
        {
          "output_type": "stream",
          "text": [
            "\n",
            " Episodio número 133 finalizado con 201 iteraciones. Recompensa final=-200.0\n"
          ],
          "name": "stdout"
        },
        {
          "output_type": "stream",
          "text": [
            "\r 14%|█▎        | 135/1000 [01:08<05:55,  2.43it/s]"
          ],
          "name": "stderr"
        },
        {
          "output_type": "stream",
          "text": [
            "\n",
            " Episodio número 134 finalizado con 201 iteraciones. Recompensa final=-200.0\n"
          ],
          "name": "stdout"
        },
        {
          "output_type": "stream",
          "text": [
            "\r 14%|█▎        | 136/1000 [01:09<05:52,  2.45it/s]"
          ],
          "name": "stderr"
        },
        {
          "output_type": "stream",
          "text": [
            "\n",
            " Episodio número 135 finalizado con 201 iteraciones. Recompensa final=-200.0\n"
          ],
          "name": "stdout"
        },
        {
          "output_type": "stream",
          "text": [
            "\r 14%|█▎        | 137/1000 [01:09<05:47,  2.49it/s]"
          ],
          "name": "stderr"
        },
        {
          "output_type": "stream",
          "text": [
            "\n",
            " Episodio número 136 finalizado con 201 iteraciones. Recompensa final=-200.0\n"
          ],
          "name": "stdout"
        },
        {
          "output_type": "stream",
          "text": [
            "\r 14%|█▍        | 138/1000 [01:10<05:42,  2.52it/s]"
          ],
          "name": "stderr"
        },
        {
          "output_type": "stream",
          "text": [
            "\n",
            " Episodio número 137 finalizado con 201 iteraciones. Recompensa final=-200.0\n"
          ],
          "name": "stdout"
        },
        {
          "output_type": "stream",
          "text": [
            "\r 14%|█▍        | 139/1000 [01:10<05:37,  2.55it/s]"
          ],
          "name": "stderr"
        },
        {
          "output_type": "stream",
          "text": [
            "\n",
            " Episodio número 138 finalizado con 201 iteraciones. Recompensa final=-200.0\n"
          ],
          "name": "stdout"
        },
        {
          "output_type": "stream",
          "text": [
            "\r 14%|█▍        | 140/1000 [01:10<05:34,  2.57it/s]"
          ],
          "name": "stderr"
        },
        {
          "output_type": "stream",
          "text": [
            "\n",
            " Episodio número 139 finalizado con 201 iteraciones. Recompensa final=-200.0\n"
          ],
          "name": "stdout"
        },
        {
          "output_type": "stream",
          "text": [
            "\r 14%|█▍        | 141/1000 [01:11<05:32,  2.58it/s]"
          ],
          "name": "stderr"
        },
        {
          "output_type": "stream",
          "text": [
            "\n",
            " Episodio número 140 finalizado con 201 iteraciones. Recompensa final=-200.0\n"
          ],
          "name": "stdout"
        },
        {
          "output_type": "stream",
          "text": [
            "\r 14%|█▍        | 142/1000 [01:11<05:33,  2.58it/s]"
          ],
          "name": "stderr"
        },
        {
          "output_type": "stream",
          "text": [
            "\n",
            " Episodio número 141 finalizado con 201 iteraciones. Recompensa final=-200.0\n"
          ],
          "name": "stdout"
        },
        {
          "output_type": "stream",
          "text": [
            "\r 14%|█▍        | 143/1000 [01:12<05:29,  2.60it/s]"
          ],
          "name": "stderr"
        },
        {
          "output_type": "stream",
          "text": [
            "\n",
            " Episodio número 142 finalizado con 201 iteraciones. Recompensa final=-200.0\n"
          ],
          "name": "stdout"
        },
        {
          "output_type": "stream",
          "text": [
            "\r 14%|█▍        | 144/1000 [01:12<05:27,  2.62it/s]"
          ],
          "name": "stderr"
        },
        {
          "output_type": "stream",
          "text": [
            "\n",
            " Episodio número 143 finalizado con 201 iteraciones. Recompensa final=-200.0\n"
          ],
          "name": "stdout"
        },
        {
          "output_type": "stream",
          "text": [
            "\r 14%|█▍        | 145/1000 [01:12<05:28,  2.60it/s]"
          ],
          "name": "stderr"
        },
        {
          "output_type": "stream",
          "text": [
            "\n",
            " Episodio número 144 finalizado con 201 iteraciones. Recompensa final=-200.0\n"
          ],
          "name": "stdout"
        },
        {
          "output_type": "stream",
          "text": [
            "\r 15%|█▍        | 146/1000 [01:13<05:25,  2.63it/s]"
          ],
          "name": "stderr"
        },
        {
          "output_type": "stream",
          "text": [
            "\n",
            " Episodio número 145 finalizado con 201 iteraciones. Recompensa final=-200.0\n"
          ],
          "name": "stdout"
        },
        {
          "output_type": "stream",
          "text": [
            "\r 15%|█▍        | 147/1000 [01:13<05:25,  2.62it/s]"
          ],
          "name": "stderr"
        },
        {
          "output_type": "stream",
          "text": [
            "\n",
            " Episodio número 146 finalizado con 201 iteraciones. Recompensa final=-200.0\n"
          ],
          "name": "stdout"
        },
        {
          "output_type": "stream",
          "text": [
            "\r 15%|█▍        | 148/1000 [01:13<05:33,  2.55it/s]"
          ],
          "name": "stderr"
        },
        {
          "output_type": "stream",
          "text": [
            "\n",
            " Episodio número 147 finalizado con 201 iteraciones. Recompensa final=-200.0\n"
          ],
          "name": "stdout"
        },
        {
          "output_type": "stream",
          "text": [
            "\r 15%|█▍        | 149/1000 [01:14<05:25,  2.61it/s]"
          ],
          "name": "stderr"
        },
        {
          "output_type": "stream",
          "text": [
            "\n",
            " Episodio número 148 finalizado con 201 iteraciones. Recompensa final=-200.0\n"
          ],
          "name": "stdout"
        },
        {
          "output_type": "stream",
          "text": [
            "\r 15%|█▌        | 150/1000 [01:14<05:22,  2.64it/s]"
          ],
          "name": "stderr"
        },
        {
          "output_type": "stream",
          "text": [
            "\n",
            " Episodio número 149 finalizado con 201 iteraciones. Recompensa final=-200.0\n"
          ],
          "name": "stdout"
        },
        {
          "output_type": "stream",
          "text": [
            "\r 15%|█▌        | 151/1000 [01:15<05:29,  2.58it/s]"
          ],
          "name": "stderr"
        },
        {
          "output_type": "stream",
          "text": [
            "\n",
            " Episodio número 150 finalizado con 201 iteraciones. Recompensa final=-200.0\n"
          ],
          "name": "stdout"
        },
        {
          "output_type": "stream",
          "text": [
            "\r 15%|█▌        | 152/1000 [01:15<05:22,  2.63it/s]"
          ],
          "name": "stderr"
        },
        {
          "output_type": "stream",
          "text": [
            "\n",
            " Episodio número 151 finalizado con 201 iteraciones. Recompensa final=-200.0\n"
          ],
          "name": "stdout"
        },
        {
          "output_type": "stream",
          "text": [
            "\r 15%|█▌        | 153/1000 [01:15<05:24,  2.61it/s]"
          ],
          "name": "stderr"
        },
        {
          "output_type": "stream",
          "text": [
            "\n",
            " Episodio número 152 finalizado con 201 iteraciones. Recompensa final=-200.0\n"
          ],
          "name": "stdout"
        },
        {
          "output_type": "stream",
          "text": [
            "\r 15%|█▌        | 154/1000 [01:16<05:21,  2.63it/s]"
          ],
          "name": "stderr"
        },
        {
          "output_type": "stream",
          "text": [
            "\n",
            " Episodio número 153 finalizado con 201 iteraciones. Recompensa final=-200.0\n"
          ],
          "name": "stdout"
        },
        {
          "output_type": "stream",
          "text": [
            "\r 16%|█▌        | 155/1000 [01:16<05:15,  2.68it/s]"
          ],
          "name": "stderr"
        },
        {
          "output_type": "stream",
          "text": [
            "\n",
            " Episodio número 154 finalizado con 201 iteraciones. Recompensa final=-200.0\n"
          ],
          "name": "stdout"
        },
        {
          "output_type": "stream",
          "text": [
            "\r 16%|█▌        | 156/1000 [01:16<05:18,  2.65it/s]"
          ],
          "name": "stderr"
        },
        {
          "output_type": "stream",
          "text": [
            "\n",
            " Episodio número 155 finalizado con 201 iteraciones. Recompensa final=-200.0\n"
          ],
          "name": "stdout"
        },
        {
          "output_type": "stream",
          "text": [
            "\r 16%|█▌        | 157/1000 [01:17<05:23,  2.60it/s]"
          ],
          "name": "stderr"
        },
        {
          "output_type": "stream",
          "text": [
            "\n",
            " Episodio número 156 finalizado con 201 iteraciones. Recompensa final=-200.0\n"
          ],
          "name": "stdout"
        },
        {
          "output_type": "stream",
          "text": [
            "\r 16%|█▌        | 158/1000 [01:17<05:20,  2.63it/s]"
          ],
          "name": "stderr"
        },
        {
          "output_type": "stream",
          "text": [
            "\n",
            " Episodio número 157 finalizado con 201 iteraciones. Recompensa final=-200.0\n"
          ],
          "name": "stdout"
        },
        {
          "output_type": "stream",
          "text": [
            "\r 16%|█▌        | 159/1000 [01:18<05:16,  2.65it/s]"
          ],
          "name": "stderr"
        },
        {
          "output_type": "stream",
          "text": [
            "\n",
            " Episodio número 158 finalizado con 201 iteraciones. Recompensa final=-200.0\n"
          ],
          "name": "stdout"
        },
        {
          "output_type": "stream",
          "text": [
            "\r 16%|█▌        | 160/1000 [01:18<05:15,  2.67it/s]"
          ],
          "name": "stderr"
        },
        {
          "output_type": "stream",
          "text": [
            "\n",
            " Episodio número 159 finalizado con 201 iteraciones. Recompensa final=-200.0\n"
          ],
          "name": "stdout"
        },
        {
          "output_type": "stream",
          "text": [
            "\r 16%|█▌        | 161/1000 [01:18<05:14,  2.66it/s]"
          ],
          "name": "stderr"
        },
        {
          "output_type": "stream",
          "text": [
            "\n",
            " Episodio número 160 finalizado con 201 iteraciones. Recompensa final=-200.0\n"
          ],
          "name": "stdout"
        },
        {
          "output_type": "stream",
          "text": [
            "\r 16%|█▌        | 162/1000 [01:19<05:14,  2.67it/s]"
          ],
          "name": "stderr"
        },
        {
          "output_type": "stream",
          "text": [
            "\n",
            " Episodio número 161 finalizado con 201 iteraciones. Recompensa final=-200.0\n"
          ],
          "name": "stdout"
        },
        {
          "output_type": "stream",
          "text": [
            "\r 16%|█▋        | 163/1000 [01:19<05:08,  2.71it/s]"
          ],
          "name": "stderr"
        },
        {
          "output_type": "stream",
          "text": [
            "\n",
            " Episodio número 162 finalizado con 201 iteraciones. Recompensa final=-200.0\n"
          ],
          "name": "stdout"
        },
        {
          "output_type": "stream",
          "text": [
            "\r 16%|█▋        | 164/1000 [01:19<05:06,  2.73it/s]"
          ],
          "name": "stderr"
        },
        {
          "output_type": "stream",
          "text": [
            "\n",
            " Episodio número 163 finalizado con 201 iteraciones. Recompensa final=-200.0\n"
          ],
          "name": "stdout"
        },
        {
          "output_type": "stream",
          "text": [
            "\r 16%|█▋        | 165/1000 [01:20<05:15,  2.64it/s]"
          ],
          "name": "stderr"
        },
        {
          "output_type": "stream",
          "text": [
            "\n",
            " Episodio número 164 finalizado con 201 iteraciones. Recompensa final=-200.0\n"
          ],
          "name": "stdout"
        },
        {
          "output_type": "stream",
          "text": [
            "\r 17%|█▋        | 166/1000 [01:20<05:12,  2.67it/s]"
          ],
          "name": "stderr"
        },
        {
          "output_type": "stream",
          "text": [
            "\n",
            " Episodio número 165 finalizado con 201 iteraciones. Recompensa final=-200.0\n"
          ],
          "name": "stdout"
        },
        {
          "output_type": "stream",
          "text": [
            "\r 17%|█▋        | 167/1000 [01:21<05:10,  2.68it/s]"
          ],
          "name": "stderr"
        },
        {
          "output_type": "stream",
          "text": [
            "\n",
            " Episodio número 166 finalizado con 201 iteraciones. Recompensa final=-200.0\n"
          ],
          "name": "stdout"
        },
        {
          "output_type": "stream",
          "text": [
            "\r 17%|█▋        | 168/1000 [01:21<05:07,  2.70it/s]"
          ],
          "name": "stderr"
        },
        {
          "output_type": "stream",
          "text": [
            "\n",
            " Episodio número 167 finalizado con 201 iteraciones. Recompensa final=-200.0\n"
          ],
          "name": "stdout"
        },
        {
          "output_type": "stream",
          "text": [
            "\r 17%|█▋        | 169/1000 [01:21<05:06,  2.71it/s]"
          ],
          "name": "stderr"
        },
        {
          "output_type": "stream",
          "text": [
            "\n",
            " Episodio número 168 finalizado con 201 iteraciones. Recompensa final=-200.0\n"
          ],
          "name": "stdout"
        },
        {
          "output_type": "stream",
          "text": [
            "\r 17%|█▋        | 170/1000 [01:22<05:07,  2.70it/s]"
          ],
          "name": "stderr"
        },
        {
          "output_type": "stream",
          "text": [
            "\n",
            " Episodio número 169 finalizado con 201 iteraciones. Recompensa final=-200.0\n"
          ],
          "name": "stdout"
        },
        {
          "output_type": "stream",
          "text": [
            "\r 17%|█▋        | 171/1000 [01:22<05:08,  2.69it/s]"
          ],
          "name": "stderr"
        },
        {
          "output_type": "stream",
          "text": [
            "\n",
            " Episodio número 170 finalizado con 201 iteraciones. Recompensa final=-200.0\n"
          ],
          "name": "stdout"
        },
        {
          "output_type": "stream",
          "text": [
            "\r 17%|█▋        | 172/1000 [01:22<05:13,  2.64it/s]"
          ],
          "name": "stderr"
        },
        {
          "output_type": "stream",
          "text": [
            "\n",
            " Episodio número 171 finalizado con 201 iteraciones. Recompensa final=-200.0\n"
          ],
          "name": "stdout"
        },
        {
          "output_type": "stream",
          "text": [
            "\r 17%|█▋        | 173/1000 [01:23<05:10,  2.66it/s]"
          ],
          "name": "stderr"
        },
        {
          "output_type": "stream",
          "text": [
            "\n",
            " Episodio número 172 finalizado con 201 iteraciones. Recompensa final=-200.0\n"
          ],
          "name": "stdout"
        },
        {
          "output_type": "stream",
          "text": [
            "\r 17%|█▋        | 174/1000 [01:23<05:06,  2.69it/s]"
          ],
          "name": "stderr"
        },
        {
          "output_type": "stream",
          "text": [
            "\n",
            " Episodio número 173 finalizado con 201 iteraciones. Recompensa final=-200.0\n"
          ],
          "name": "stdout"
        },
        {
          "output_type": "stream",
          "text": [
            "\r 18%|█▊        | 175/1000 [01:24<05:13,  2.63it/s]"
          ],
          "name": "stderr"
        },
        {
          "output_type": "stream",
          "text": [
            "\n",
            " Episodio número 174 finalizado con 201 iteraciones. Recompensa final=-200.0\n"
          ],
          "name": "stdout"
        },
        {
          "output_type": "stream",
          "text": [
            "\r 18%|█▊        | 176/1000 [01:24<05:11,  2.65it/s]"
          ],
          "name": "stderr"
        },
        {
          "output_type": "stream",
          "text": [
            "\n",
            " Episodio número 175 finalizado con 201 iteraciones. Recompensa final=-200.0\n"
          ],
          "name": "stdout"
        },
        {
          "output_type": "stream",
          "text": [
            "\r 18%|█▊        | 177/1000 [01:24<05:12,  2.63it/s]"
          ],
          "name": "stderr"
        },
        {
          "output_type": "stream",
          "text": [
            "\n",
            " Episodio número 176 finalizado con 201 iteraciones. Recompensa final=-200.0\n"
          ],
          "name": "stdout"
        },
        {
          "output_type": "stream",
          "text": [
            "\r 18%|█▊        | 178/1000 [01:25<05:14,  2.61it/s]"
          ],
          "name": "stderr"
        },
        {
          "output_type": "stream",
          "text": [
            "\n",
            " Episodio número 177 finalizado con 201 iteraciones. Recompensa final=-200.0\n"
          ],
          "name": "stdout"
        },
        {
          "output_type": "stream",
          "text": [
            "\r 18%|█▊        | 179/1000 [01:25<05:14,  2.61it/s]"
          ],
          "name": "stderr"
        },
        {
          "output_type": "stream",
          "text": [
            "\n",
            " Episodio número 178 finalizado con 201 iteraciones. Recompensa final=-200.0\n"
          ],
          "name": "stdout"
        },
        {
          "output_type": "stream",
          "text": [
            "\r 18%|█▊        | 180/1000 [01:25<05:14,  2.61it/s]"
          ],
          "name": "stderr"
        },
        {
          "output_type": "stream",
          "text": [
            "\n",
            " Episodio número 179 finalizado con 201 iteraciones. Recompensa final=-200.0\n"
          ],
          "name": "stdout"
        },
        {
          "output_type": "stream",
          "text": [
            "\r 18%|█▊        | 181/1000 [01:26<05:10,  2.64it/s]"
          ],
          "name": "stderr"
        },
        {
          "output_type": "stream",
          "text": [
            "\n",
            " Episodio número 180 finalizado con 201 iteraciones. Recompensa final=-200.0\n"
          ],
          "name": "stdout"
        },
        {
          "output_type": "stream",
          "text": [
            "\r 18%|█▊        | 182/1000 [01:26<05:05,  2.68it/s]"
          ],
          "name": "stderr"
        },
        {
          "output_type": "stream",
          "text": [
            "\n",
            " Episodio número 181 finalizado con 201 iteraciones. Recompensa final=-200.0\n"
          ],
          "name": "stdout"
        },
        {
          "output_type": "stream",
          "text": [
            "\r 18%|█▊        | 183/1000 [01:27<05:07,  2.65it/s]"
          ],
          "name": "stderr"
        },
        {
          "output_type": "stream",
          "text": [
            "\n",
            " Episodio número 182 finalizado con 201 iteraciones. Recompensa final=-200.0\n"
          ],
          "name": "stdout"
        },
        {
          "output_type": "stream",
          "text": [
            "\r 18%|█▊        | 184/1000 [01:27<05:08,  2.65it/s]"
          ],
          "name": "stderr"
        },
        {
          "output_type": "stream",
          "text": [
            "\n",
            " Episodio número 183 finalizado con 201 iteraciones. Recompensa final=-200.0\n"
          ],
          "name": "stdout"
        },
        {
          "output_type": "stream",
          "text": [
            "\r 18%|█▊        | 185/1000 [01:27<05:11,  2.62it/s]"
          ],
          "name": "stderr"
        },
        {
          "output_type": "stream",
          "text": [
            "\n",
            " Episodio número 184 finalizado con 201 iteraciones. Recompensa final=-200.0\n"
          ],
          "name": "stdout"
        },
        {
          "output_type": "stream",
          "text": [
            "\r 19%|█▊        | 186/1000 [01:28<05:22,  2.52it/s]"
          ],
          "name": "stderr"
        },
        {
          "output_type": "stream",
          "text": [
            "\n",
            " Episodio número 185 finalizado con 201 iteraciones. Recompensa final=-200.0\n"
          ],
          "name": "stdout"
        },
        {
          "output_type": "stream",
          "text": [
            "\r 19%|█▊        | 187/1000 [01:28<05:18,  2.55it/s]"
          ],
          "name": "stderr"
        },
        {
          "output_type": "stream",
          "text": [
            "\n",
            " Episodio número 186 finalizado con 201 iteraciones. Recompensa final=-200.0\n"
          ],
          "name": "stdout"
        },
        {
          "output_type": "stream",
          "text": [
            "\r 19%|█▉        | 188/1000 [01:29<05:19,  2.54it/s]"
          ],
          "name": "stderr"
        },
        {
          "output_type": "stream",
          "text": [
            "\n",
            " Episodio número 187 finalizado con 201 iteraciones. Recompensa final=-200.0\n"
          ],
          "name": "stdout"
        },
        {
          "output_type": "stream",
          "text": [
            "\r 19%|█▉        | 189/1000 [01:29<05:15,  2.57it/s]"
          ],
          "name": "stderr"
        },
        {
          "output_type": "stream",
          "text": [
            "\n",
            " Episodio número 188 finalizado con 201 iteraciones. Recompensa final=-200.0\n"
          ],
          "name": "stdout"
        },
        {
          "output_type": "stream",
          "text": [
            "\r 19%|█▉        | 190/1000 [01:29<05:13,  2.59it/s]"
          ],
          "name": "stderr"
        },
        {
          "output_type": "stream",
          "text": [
            "\n",
            " Episodio número 189 finalizado con 201 iteraciones. Recompensa final=-200.0\n"
          ],
          "name": "stdout"
        },
        {
          "output_type": "stream",
          "text": [
            "\r 19%|█▉        | 191/1000 [01:30<05:16,  2.56it/s]"
          ],
          "name": "stderr"
        },
        {
          "output_type": "stream",
          "text": [
            "\n",
            " Episodio número 190 finalizado con 201 iteraciones. Recompensa final=-200.0\n"
          ],
          "name": "stdout"
        },
        {
          "output_type": "stream",
          "text": [
            "\r 19%|█▉        | 192/1000 [01:30<05:21,  2.51it/s]"
          ],
          "name": "stderr"
        },
        {
          "output_type": "stream",
          "text": [
            "\n",
            " Episodio número 191 finalizado con 201 iteraciones. Recompensa final=-200.0\n"
          ],
          "name": "stdout"
        },
        {
          "output_type": "stream",
          "text": [
            "\r 19%|█▉        | 193/1000 [01:31<05:23,  2.50it/s]"
          ],
          "name": "stderr"
        },
        {
          "output_type": "stream",
          "text": [
            "\n",
            " Episodio número 192 finalizado con 201 iteraciones. Recompensa final=-200.0\n"
          ],
          "name": "stdout"
        },
        {
          "output_type": "stream",
          "text": [
            "\r 19%|█▉        | 194/1000 [01:31<05:15,  2.55it/s]"
          ],
          "name": "stderr"
        },
        {
          "output_type": "stream",
          "text": [
            "\n",
            " Episodio número 193 finalizado con 201 iteraciones. Recompensa final=-200.0\n"
          ],
          "name": "stdout"
        },
        {
          "output_type": "stream",
          "text": [
            "\r 20%|█▉        | 195/1000 [01:31<05:06,  2.63it/s]"
          ],
          "name": "stderr"
        },
        {
          "output_type": "stream",
          "text": [
            "\n",
            " Episodio número 194 finalizado con 201 iteraciones. Recompensa final=-200.0\n"
          ],
          "name": "stdout"
        },
        {
          "output_type": "stream",
          "text": [
            "\r 20%|█▉        | 196/1000 [01:32<05:04,  2.64it/s]"
          ],
          "name": "stderr"
        },
        {
          "output_type": "stream",
          "text": [
            "\n",
            " Episodio número 195 finalizado con 201 iteraciones. Recompensa final=-200.0\n"
          ],
          "name": "stdout"
        },
        {
          "output_type": "stream",
          "text": [
            "\r 20%|█▉        | 197/1000 [01:32<05:00,  2.67it/s]"
          ],
          "name": "stderr"
        },
        {
          "output_type": "stream",
          "text": [
            "\n",
            " Episodio número 196 finalizado con 201 iteraciones. Recompensa final=-200.0\n"
          ],
          "name": "stdout"
        },
        {
          "output_type": "stream",
          "text": [
            "\r 20%|█▉        | 198/1000 [01:32<04:56,  2.71it/s]"
          ],
          "name": "stderr"
        },
        {
          "output_type": "stream",
          "text": [
            "\n",
            " Episodio número 197 finalizado con 201 iteraciones. Recompensa final=-200.0\n"
          ],
          "name": "stdout"
        },
        {
          "output_type": "stream",
          "text": [
            "\r 20%|█▉        | 199/1000 [01:33<04:55,  2.71it/s]"
          ],
          "name": "stderr"
        },
        {
          "output_type": "stream",
          "text": [
            "\n",
            " Episodio número 198 finalizado con 201 iteraciones. Recompensa final=-200.0\n"
          ],
          "name": "stdout"
        },
        {
          "output_type": "stream",
          "text": [
            "\r 20%|██        | 200/1000 [01:33<05:02,  2.65it/s]"
          ],
          "name": "stderr"
        },
        {
          "output_type": "stream",
          "text": [
            "\n",
            " Episodio número 199 finalizado con 201 iteraciones. Recompensa final=-200.0\n"
          ],
          "name": "stdout"
        },
        {
          "output_type": "stream",
          "text": [
            "\r 20%|██        | 201/1000 [01:34<04:57,  2.69it/s]"
          ],
          "name": "stderr"
        },
        {
          "output_type": "stream",
          "text": [
            "\n",
            " Episodio número 200 finalizado con 201 iteraciones. Recompensa final=-200.0\n"
          ],
          "name": "stdout"
        },
        {
          "output_type": "stream",
          "text": [
            "\r 20%|██        | 202/1000 [01:34<04:57,  2.68it/s]"
          ],
          "name": "stderr"
        },
        {
          "output_type": "stream",
          "text": [
            "\n",
            " Episodio número 201 finalizado con 201 iteraciones. Recompensa final=-200.0\n"
          ],
          "name": "stdout"
        },
        {
          "output_type": "stream",
          "text": [
            "\r 20%|██        | 203/1000 [01:34<04:56,  2.69it/s]"
          ],
          "name": "stderr"
        },
        {
          "output_type": "stream",
          "text": [
            "\n",
            " Episodio número 202 finalizado con 201 iteraciones. Recompensa final=-200.0\n"
          ],
          "name": "stdout"
        },
        {
          "output_type": "stream",
          "text": [
            "\r 20%|██        | 204/1000 [01:35<04:56,  2.69it/s]"
          ],
          "name": "stderr"
        },
        {
          "output_type": "stream",
          "text": [
            "\n",
            " Episodio número 203 finalizado con 201 iteraciones. Recompensa final=-200.0\n"
          ],
          "name": "stdout"
        },
        {
          "output_type": "stream",
          "text": [
            "\r 20%|██        | 205/1000 [01:35<04:55,  2.69it/s]"
          ],
          "name": "stderr"
        },
        {
          "output_type": "stream",
          "text": [
            "\n",
            " Episodio número 204 finalizado con 201 iteraciones. Recompensa final=-200.0\n"
          ],
          "name": "stdout"
        },
        {
          "output_type": "stream",
          "text": [
            "\r 21%|██        | 206/1000 [01:35<04:54,  2.70it/s]"
          ],
          "name": "stderr"
        },
        {
          "output_type": "stream",
          "text": [
            "\n",
            " Episodio número 205 finalizado con 201 iteraciones. Recompensa final=-200.0\n"
          ],
          "name": "stdout"
        },
        {
          "output_type": "stream",
          "text": [
            "\r 21%|██        | 207/1000 [01:36<04:54,  2.69it/s]"
          ],
          "name": "stderr"
        },
        {
          "output_type": "stream",
          "text": [
            "\n",
            " Episodio número 206 finalizado con 201 iteraciones. Recompensa final=-200.0\n"
          ],
          "name": "stdout"
        },
        {
          "output_type": "stream",
          "text": [
            "\r 21%|██        | 208/1000 [01:36<04:54,  2.69it/s]"
          ],
          "name": "stderr"
        },
        {
          "output_type": "stream",
          "text": [
            "\n",
            " Episodio número 207 finalizado con 201 iteraciones. Recompensa final=-200.0\n"
          ],
          "name": "stdout"
        },
        {
          "output_type": "stream",
          "text": [
            "\r 21%|██        | 209/1000 [01:37<04:57,  2.66it/s]"
          ],
          "name": "stderr"
        },
        {
          "output_type": "stream",
          "text": [
            "\n",
            " Episodio número 208 finalizado con 201 iteraciones. Recompensa final=-200.0\n"
          ],
          "name": "stdout"
        },
        {
          "output_type": "stream",
          "text": [
            "\r 21%|██        | 210/1000 [01:37<04:58,  2.65it/s]"
          ],
          "name": "stderr"
        },
        {
          "output_type": "stream",
          "text": [
            "\n",
            " Episodio número 209 finalizado con 201 iteraciones. Recompensa final=-200.0\n"
          ],
          "name": "stdout"
        },
        {
          "output_type": "stream",
          "text": [
            "\r 21%|██        | 211/1000 [01:37<04:57,  2.66it/s]"
          ],
          "name": "stderr"
        },
        {
          "output_type": "stream",
          "text": [
            "\n",
            " Episodio número 210 finalizado con 201 iteraciones. Recompensa final=-200.0\n"
          ],
          "name": "stdout"
        },
        {
          "output_type": "stream",
          "text": [
            "\r 21%|██        | 212/1000 [01:38<04:56,  2.66it/s]"
          ],
          "name": "stderr"
        },
        {
          "output_type": "stream",
          "text": [
            "\n",
            " Episodio número 211 finalizado con 201 iteraciones. Recompensa final=-200.0\n"
          ],
          "name": "stdout"
        },
        {
          "output_type": "stream",
          "text": [
            "\r 21%|██▏       | 213/1000 [01:38<04:55,  2.67it/s]"
          ],
          "name": "stderr"
        },
        {
          "output_type": "stream",
          "text": [
            "\n",
            " Episodio número 212 finalizado con 201 iteraciones. Recompensa final=-200.0\n"
          ],
          "name": "stdout"
        },
        {
          "output_type": "stream",
          "text": [
            "\r 21%|██▏       | 214/1000 [01:38<04:57,  2.64it/s]"
          ],
          "name": "stderr"
        },
        {
          "output_type": "stream",
          "text": [
            "\n",
            " Episodio número 213 finalizado con 201 iteraciones. Recompensa final=-200.0\n"
          ],
          "name": "stdout"
        },
        {
          "output_type": "stream",
          "text": [
            "\r 22%|██▏       | 215/1000 [01:39<04:54,  2.66it/s]"
          ],
          "name": "stderr"
        },
        {
          "output_type": "stream",
          "text": [
            "\n",
            " Episodio número 214 finalizado con 201 iteraciones. Recompensa final=-200.0\n"
          ],
          "name": "stdout"
        },
        {
          "output_type": "stream",
          "text": [
            "\r 22%|██▏       | 216/1000 [01:39<04:56,  2.64it/s]"
          ],
          "name": "stderr"
        },
        {
          "output_type": "stream",
          "text": [
            "\n",
            " Episodio número 215 finalizado con 201 iteraciones. Recompensa final=-200.0\n"
          ],
          "name": "stdout"
        },
        {
          "output_type": "stream",
          "text": [
            "\r 22%|██▏       | 217/1000 [01:42<15:12,  1.17s/it]"
          ],
          "name": "stderr"
        },
        {
          "output_type": "stream",
          "text": [
            "\n",
            " Episodio número 216 finalizado con 201 iteraciones. Recompensa final=-200.0\n"
          ],
          "name": "stdout"
        },
        {
          "output_type": "stream",
          "text": [
            "\r 22%|██▏       | 218/1000 [01:43<12:34,  1.04it/s]"
          ],
          "name": "stderr"
        },
        {
          "output_type": "stream",
          "text": [
            "\n",
            " Episodio número 217 finalizado con 201 iteraciones. Recompensa final=-200.0\n"
          ],
          "name": "stdout"
        },
        {
          "output_type": "stream",
          "text": [
            "\r 22%|██▏       | 219/1000 [01:43<10:15,  1.27it/s]"
          ],
          "name": "stderr"
        },
        {
          "output_type": "stream",
          "text": [
            "\n",
            " Episodio número 218 finalizado con 201 iteraciones. Recompensa final=-200.0\n"
          ],
          "name": "stdout"
        },
        {
          "output_type": "stream",
          "text": [
            "\r 22%|██▏       | 220/1000 [01:43<08:39,  1.50it/s]"
          ],
          "name": "stderr"
        },
        {
          "output_type": "stream",
          "text": [
            "\n",
            " Episodio número 219 finalizado con 201 iteraciones. Recompensa final=-200.0\n"
          ],
          "name": "stdout"
        },
        {
          "output_type": "stream",
          "text": [
            "\r 22%|██▏       | 221/1000 [01:44<07:34,  1.71it/s]"
          ],
          "name": "stderr"
        },
        {
          "output_type": "stream",
          "text": [
            "\n",
            " Episodio número 220 finalizado con 201 iteraciones. Recompensa final=-200.0\n"
          ],
          "name": "stdout"
        },
        {
          "output_type": "stream",
          "text": [
            "\r 22%|██▏       | 222/1000 [01:44<06:45,  1.92it/s]"
          ],
          "name": "stderr"
        },
        {
          "output_type": "stream",
          "text": [
            "\n",
            " Episodio número 221 finalizado con 201 iteraciones. Recompensa final=-200.0\n"
          ],
          "name": "stdout"
        },
        {
          "output_type": "stream",
          "text": [
            "\r 22%|██▏       | 223/1000 [01:45<06:12,  2.08it/s]"
          ],
          "name": "stderr"
        },
        {
          "output_type": "stream",
          "text": [
            "\n",
            " Episodio número 222 finalizado con 201 iteraciones. Recompensa final=-200.0\n"
          ],
          "name": "stdout"
        },
        {
          "output_type": "stream",
          "text": [
            "\r 22%|██▏       | 224/1000 [01:45<05:48,  2.23it/s]"
          ],
          "name": "stderr"
        },
        {
          "output_type": "stream",
          "text": [
            "\n",
            " Episodio número 223 finalizado con 201 iteraciones. Recompensa final=-200.0\n"
          ],
          "name": "stdout"
        },
        {
          "output_type": "stream",
          "text": [
            "\r 22%|██▎       | 225/1000 [01:45<05:31,  2.33it/s]"
          ],
          "name": "stderr"
        },
        {
          "output_type": "stream",
          "text": [
            "\n",
            " Episodio número 224 finalizado con 201 iteraciones. Recompensa final=-200.0\n"
          ],
          "name": "stdout"
        },
        {
          "output_type": "stream",
          "text": [
            "\r 23%|██▎       | 226/1000 [01:46<05:19,  2.42it/s]"
          ],
          "name": "stderr"
        },
        {
          "output_type": "stream",
          "text": [
            "\n",
            " Episodio número 225 finalizado con 201 iteraciones. Recompensa final=-200.0\n"
          ],
          "name": "stdout"
        },
        {
          "output_type": "stream",
          "text": [
            "\r 23%|██▎       | 227/1000 [01:46<05:11,  2.48it/s]"
          ],
          "name": "stderr"
        },
        {
          "output_type": "stream",
          "text": [
            "\n",
            " Episodio número 226 finalizado con 201 iteraciones. Recompensa final=-200.0\n"
          ],
          "name": "stdout"
        },
        {
          "output_type": "stream",
          "text": [
            "\r 23%|██▎       | 228/1000 [01:46<05:06,  2.52it/s]"
          ],
          "name": "stderr"
        },
        {
          "output_type": "stream",
          "text": [
            "\n",
            " Episodio número 227 finalizado con 201 iteraciones. Recompensa final=-200.0\n"
          ],
          "name": "stdout"
        },
        {
          "output_type": "stream",
          "text": [
            "\r 23%|██▎       | 229/1000 [01:47<04:59,  2.57it/s]"
          ],
          "name": "stderr"
        },
        {
          "output_type": "stream",
          "text": [
            "\n",
            " Episodio número 228 finalizado con 201 iteraciones. Recompensa final=-200.0\n"
          ],
          "name": "stdout"
        },
        {
          "output_type": "stream",
          "text": [
            "\r 23%|██▎       | 230/1000 [01:47<04:54,  2.61it/s]"
          ],
          "name": "stderr"
        },
        {
          "output_type": "stream",
          "text": [
            "\n",
            " Episodio número 229 finalizado con 201 iteraciones. Recompensa final=-200.0\n"
          ],
          "name": "stdout"
        },
        {
          "output_type": "stream",
          "text": [
            "\r 23%|██▎       | 231/1000 [01:48<04:53,  2.62it/s]"
          ],
          "name": "stderr"
        },
        {
          "output_type": "stream",
          "text": [
            "\n",
            " Episodio número 230 finalizado con 201 iteraciones. Recompensa final=-200.0\n"
          ],
          "name": "stdout"
        },
        {
          "output_type": "stream",
          "text": [
            "\r 23%|██▎       | 232/1000 [01:48<04:55,  2.60it/s]"
          ],
          "name": "stderr"
        },
        {
          "output_type": "stream",
          "text": [
            "\n",
            " Episodio número 231 finalizado con 201 iteraciones. Recompensa final=-200.0\n"
          ],
          "name": "stdout"
        },
        {
          "output_type": "stream",
          "text": [
            "\r 23%|██▎       | 233/1000 [01:48<04:50,  2.64it/s]"
          ],
          "name": "stderr"
        },
        {
          "output_type": "stream",
          "text": [
            "\n",
            " Episodio número 232 finalizado con 201 iteraciones. Recompensa final=-200.0\n"
          ],
          "name": "stdout"
        },
        {
          "output_type": "stream",
          "text": [
            "\r 23%|██▎       | 234/1000 [01:49<04:49,  2.65it/s]"
          ],
          "name": "stderr"
        },
        {
          "output_type": "stream",
          "text": [
            "\n",
            " Episodio número 233 finalizado con 201 iteraciones. Recompensa final=-200.0\n"
          ],
          "name": "stdout"
        },
        {
          "output_type": "stream",
          "text": [
            "\r 24%|██▎       | 235/1000 [01:49<04:53,  2.61it/s]"
          ],
          "name": "stderr"
        },
        {
          "output_type": "stream",
          "text": [
            "\n",
            " Episodio número 234 finalizado con 201 iteraciones. Recompensa final=-200.0\n"
          ],
          "name": "stdout"
        },
        {
          "output_type": "stream",
          "text": [
            "\r 24%|██▎       | 236/1000 [01:49<04:50,  2.63it/s]"
          ],
          "name": "stderr"
        },
        {
          "output_type": "stream",
          "text": [
            "\n",
            " Episodio número 235 finalizado con 201 iteraciones. Recompensa final=-200.0\n"
          ],
          "name": "stdout"
        },
        {
          "output_type": "stream",
          "text": [
            "\r 24%|██▎       | 237/1000 [01:50<04:51,  2.61it/s]"
          ],
          "name": "stderr"
        },
        {
          "output_type": "stream",
          "text": [
            "\n",
            " Episodio número 236 finalizado con 201 iteraciones. Recompensa final=-200.0\n"
          ],
          "name": "stdout"
        },
        {
          "output_type": "stream",
          "text": [
            "\r 24%|██▍       | 238/1000 [01:50<04:53,  2.60it/s]"
          ],
          "name": "stderr"
        },
        {
          "output_type": "stream",
          "text": [
            "\n",
            " Episodio número 237 finalizado con 201 iteraciones. Recompensa final=-200.0\n"
          ],
          "name": "stdout"
        },
        {
          "output_type": "stream",
          "text": [
            "\r 24%|██▍       | 239/1000 [01:51<04:58,  2.55it/s]"
          ],
          "name": "stderr"
        },
        {
          "output_type": "stream",
          "text": [
            "\n",
            " Episodio número 238 finalizado con 201 iteraciones. Recompensa final=-200.0\n"
          ],
          "name": "stdout"
        },
        {
          "output_type": "stream",
          "text": [
            "\r 24%|██▍       | 240/1000 [01:51<05:02,  2.51it/s]"
          ],
          "name": "stderr"
        },
        {
          "output_type": "stream",
          "text": [
            "\n",
            " Episodio número 239 finalizado con 201 iteraciones. Recompensa final=-200.0\n"
          ],
          "name": "stdout"
        },
        {
          "output_type": "stream",
          "text": [
            "\r 24%|██▍       | 241/1000 [01:51<04:58,  2.54it/s]"
          ],
          "name": "stderr"
        },
        {
          "output_type": "stream",
          "text": [
            "\n",
            " Episodio número 240 finalizado con 201 iteraciones. Recompensa final=-200.0\n"
          ],
          "name": "stdout"
        },
        {
          "output_type": "stream",
          "text": [
            "\r 24%|██▍       | 242/1000 [01:52<04:54,  2.58it/s]"
          ],
          "name": "stderr"
        },
        {
          "output_type": "stream",
          "text": [
            "\n",
            " Episodio número 241 finalizado con 201 iteraciones. Recompensa final=-200.0\n"
          ],
          "name": "stdout"
        },
        {
          "output_type": "stream",
          "text": [
            "\r 24%|██▍       | 243/1000 [01:52<04:48,  2.62it/s]"
          ],
          "name": "stderr"
        },
        {
          "output_type": "stream",
          "text": [
            "\n",
            " Episodio número 242 finalizado con 201 iteraciones. Recompensa final=-200.0\n"
          ],
          "name": "stdout"
        },
        {
          "output_type": "stream",
          "text": [
            "\r 24%|██▍       | 244/1000 [01:53<04:50,  2.60it/s]"
          ],
          "name": "stderr"
        },
        {
          "output_type": "stream",
          "text": [
            "\n",
            " Episodio número 243 finalizado con 201 iteraciones. Recompensa final=-200.0\n"
          ],
          "name": "stdout"
        },
        {
          "output_type": "stream",
          "text": [
            "\r 24%|██▍       | 245/1000 [01:53<04:55,  2.55it/s]"
          ],
          "name": "stderr"
        },
        {
          "output_type": "stream",
          "text": [
            "\n",
            " Episodio número 244 finalizado con 201 iteraciones. Recompensa final=-200.0\n"
          ],
          "name": "stdout"
        },
        {
          "output_type": "stream",
          "text": [
            "\r 25%|██▍       | 246/1000 [01:53<04:50,  2.60it/s]"
          ],
          "name": "stderr"
        },
        {
          "output_type": "stream",
          "text": [
            "\n",
            " Episodio número 245 finalizado con 201 iteraciones. Recompensa final=-200.0\n"
          ],
          "name": "stdout"
        },
        {
          "output_type": "stream",
          "text": [
            "\r 25%|██▍       | 247/1000 [01:54<04:48,  2.61it/s]"
          ],
          "name": "stderr"
        },
        {
          "output_type": "stream",
          "text": [
            "\n",
            " Episodio número 246 finalizado con 201 iteraciones. Recompensa final=-200.0\n"
          ],
          "name": "stdout"
        },
        {
          "output_type": "stream",
          "text": [
            "\r 25%|██▍       | 248/1000 [01:54<04:49,  2.59it/s]"
          ],
          "name": "stderr"
        },
        {
          "output_type": "stream",
          "text": [
            "\n",
            " Episodio número 247 finalizado con 201 iteraciones. Recompensa final=-200.0\n"
          ],
          "name": "stdout"
        },
        {
          "output_type": "stream",
          "text": [
            "\r 25%|██▍       | 249/1000 [01:55<04:51,  2.57it/s]"
          ],
          "name": "stderr"
        },
        {
          "output_type": "stream",
          "text": [
            "\n",
            " Episodio número 248 finalizado con 201 iteraciones. Recompensa final=-200.0\n"
          ],
          "name": "stdout"
        },
        {
          "output_type": "stream",
          "text": [
            "\r 25%|██▌       | 250/1000 [01:55<04:50,  2.59it/s]"
          ],
          "name": "stderr"
        },
        {
          "output_type": "stream",
          "text": [
            "\n",
            " Episodio número 249 finalizado con 201 iteraciones. Recompensa final=-200.0\n"
          ],
          "name": "stdout"
        },
        {
          "output_type": "stream",
          "text": [
            "\r 25%|██▌       | 251/1000 [01:55<04:49,  2.59it/s]"
          ],
          "name": "stderr"
        },
        {
          "output_type": "stream",
          "text": [
            "\n",
            " Episodio número 250 finalizado con 201 iteraciones. Recompensa final=-200.0\n"
          ],
          "name": "stdout"
        },
        {
          "output_type": "stream",
          "text": [
            "\r 25%|██▌       | 252/1000 [01:56<04:51,  2.56it/s]"
          ],
          "name": "stderr"
        },
        {
          "output_type": "stream",
          "text": [
            "\n",
            " Episodio número 251 finalizado con 201 iteraciones. Recompensa final=-200.0\n"
          ],
          "name": "stdout"
        },
        {
          "output_type": "stream",
          "text": [
            "\r 25%|██▌       | 253/1000 [01:56<04:53,  2.55it/s]"
          ],
          "name": "stderr"
        },
        {
          "output_type": "stream",
          "text": [
            "\n",
            " Episodio número 252 finalizado con 201 iteraciones. Recompensa final=-200.0\n"
          ],
          "name": "stdout"
        },
        {
          "output_type": "stream",
          "text": [
            "\r 25%|██▌       | 254/1000 [01:56<04:50,  2.57it/s]"
          ],
          "name": "stderr"
        },
        {
          "output_type": "stream",
          "text": [
            "\n",
            " Episodio número 253 finalizado con 201 iteraciones. Recompensa final=-200.0\n"
          ],
          "name": "stdout"
        },
        {
          "output_type": "stream",
          "text": [
            "\r 26%|██▌       | 255/1000 [01:57<04:46,  2.60it/s]"
          ],
          "name": "stderr"
        },
        {
          "output_type": "stream",
          "text": [
            "\n",
            " Episodio número 254 finalizado con 201 iteraciones. Recompensa final=-200.0\n"
          ],
          "name": "stdout"
        },
        {
          "output_type": "stream",
          "text": [
            "\r 26%|██▌       | 256/1000 [01:57<04:50,  2.56it/s]"
          ],
          "name": "stderr"
        },
        {
          "output_type": "stream",
          "text": [
            "\n",
            " Episodio número 255 finalizado con 201 iteraciones. Recompensa final=-200.0\n"
          ],
          "name": "stdout"
        },
        {
          "output_type": "stream",
          "text": [
            "\r 26%|██▌       | 257/1000 [01:58<04:48,  2.58it/s]"
          ],
          "name": "stderr"
        },
        {
          "output_type": "stream",
          "text": [
            "\n",
            " Episodio número 256 finalizado con 201 iteraciones. Recompensa final=-200.0\n"
          ],
          "name": "stdout"
        },
        {
          "output_type": "stream",
          "text": [
            "\r 26%|██▌       | 258/1000 [01:58<04:53,  2.53it/s]"
          ],
          "name": "stderr"
        },
        {
          "output_type": "stream",
          "text": [
            "\n",
            " Episodio número 257 finalizado con 201 iteraciones. Recompensa final=-200.0\n"
          ],
          "name": "stdout"
        },
        {
          "output_type": "stream",
          "text": [
            "\r 26%|██▌       | 259/1000 [01:58<04:52,  2.53it/s]"
          ],
          "name": "stderr"
        },
        {
          "output_type": "stream",
          "text": [
            "\n",
            " Episodio número 258 finalizado con 201 iteraciones. Recompensa final=-200.0\n"
          ],
          "name": "stdout"
        },
        {
          "output_type": "stream",
          "text": [
            "\r 26%|██▌       | 260/1000 [01:59<04:55,  2.51it/s]"
          ],
          "name": "stderr"
        },
        {
          "output_type": "stream",
          "text": [
            "\n",
            " Episodio número 259 finalizado con 201 iteraciones. Recompensa final=-200.0\n"
          ],
          "name": "stdout"
        },
        {
          "output_type": "stream",
          "text": [
            "\r 26%|██▌       | 261/1000 [01:59<04:49,  2.55it/s]"
          ],
          "name": "stderr"
        },
        {
          "output_type": "stream",
          "text": [
            "\n",
            " Episodio número 260 finalizado con 201 iteraciones. Recompensa final=-200.0\n"
          ],
          "name": "stdout"
        },
        {
          "output_type": "stream",
          "text": [
            "\r 26%|██▌       | 262/1000 [02:00<04:46,  2.58it/s]"
          ],
          "name": "stderr"
        },
        {
          "output_type": "stream",
          "text": [
            "\n",
            " Episodio número 261 finalizado con 201 iteraciones. Recompensa final=-200.0\n"
          ],
          "name": "stdout"
        },
        {
          "output_type": "stream",
          "text": [
            "\r 26%|██▋       | 263/1000 [02:00<04:44,  2.59it/s]"
          ],
          "name": "stderr"
        },
        {
          "output_type": "stream",
          "text": [
            "\n",
            " Episodio número 262 finalizado con 201 iteraciones. Recompensa final=-200.0\n"
          ],
          "name": "stdout"
        },
        {
          "output_type": "stream",
          "text": [
            "\r 26%|██▋       | 264/1000 [02:00<04:46,  2.57it/s]"
          ],
          "name": "stderr"
        },
        {
          "output_type": "stream",
          "text": [
            "\n",
            " Episodio número 263 finalizado con 201 iteraciones. Recompensa final=-200.0\n"
          ],
          "name": "stdout"
        },
        {
          "output_type": "stream",
          "text": [
            "\r 26%|██▋       | 265/1000 [02:01<04:40,  2.62it/s]"
          ],
          "name": "stderr"
        },
        {
          "output_type": "stream",
          "text": [
            "\n",
            " Episodio número 264 finalizado con 201 iteraciones. Recompensa final=-200.0\n"
          ],
          "name": "stdout"
        },
        {
          "output_type": "stream",
          "text": [
            "\r 27%|██▋       | 266/1000 [02:01<04:42,  2.60it/s]"
          ],
          "name": "stderr"
        },
        {
          "output_type": "stream",
          "text": [
            "\n",
            " Episodio número 265 finalizado con 201 iteraciones. Recompensa final=-200.0\n"
          ],
          "name": "stdout"
        },
        {
          "output_type": "stream",
          "text": [
            "\r 27%|██▋       | 267/1000 [02:02<04:38,  2.63it/s]"
          ],
          "name": "stderr"
        },
        {
          "output_type": "stream",
          "text": [
            "\n",
            " Episodio número 266 finalizado con 201 iteraciones. Recompensa final=-200.0\n"
          ],
          "name": "stdout"
        },
        {
          "output_type": "stream",
          "text": [
            "\r 27%|██▋       | 268/1000 [02:02<04:42,  2.60it/s]"
          ],
          "name": "stderr"
        },
        {
          "output_type": "stream",
          "text": [
            "\n",
            " Episodio número 267 finalizado con 201 iteraciones. Recompensa final=-200.0\n"
          ],
          "name": "stdout"
        },
        {
          "output_type": "stream",
          "text": [
            "\r 27%|██▋       | 269/1000 [02:02<04:40,  2.60it/s]"
          ],
          "name": "stderr"
        },
        {
          "output_type": "stream",
          "text": [
            "\n",
            " Episodio número 268 finalizado con 201 iteraciones. Recompensa final=-200.0\n"
          ],
          "name": "stdout"
        },
        {
          "output_type": "stream",
          "text": [
            "\r 27%|██▋       | 270/1000 [02:03<04:37,  2.63it/s]"
          ],
          "name": "stderr"
        },
        {
          "output_type": "stream",
          "text": [
            "\n",
            " Episodio número 269 finalizado con 201 iteraciones. Recompensa final=-200.0\n"
          ],
          "name": "stdout"
        },
        {
          "output_type": "stream",
          "text": [
            "\r 27%|██▋       | 271/1000 [02:03<04:39,  2.61it/s]"
          ],
          "name": "stderr"
        },
        {
          "output_type": "stream",
          "text": [
            "\n",
            " Episodio número 270 finalizado con 201 iteraciones. Recompensa final=-200.0\n"
          ],
          "name": "stdout"
        },
        {
          "output_type": "stream",
          "text": [
            "\r 27%|██▋       | 272/1000 [02:03<04:37,  2.62it/s]"
          ],
          "name": "stderr"
        },
        {
          "output_type": "stream",
          "text": [
            "\n",
            " Episodio número 271 finalizado con 201 iteraciones. Recompensa final=-200.0\n"
          ],
          "name": "stdout"
        },
        {
          "output_type": "stream",
          "text": [
            "\r 27%|██▋       | 273/1000 [02:04<04:32,  2.67it/s]"
          ],
          "name": "stderr"
        },
        {
          "output_type": "stream",
          "text": [
            "\n",
            " Episodio número 272 finalizado con 201 iteraciones. Recompensa final=-200.0\n"
          ],
          "name": "stdout"
        },
        {
          "output_type": "stream",
          "text": [
            "\r 27%|██▋       | 274/1000 [02:04<04:31,  2.67it/s]"
          ],
          "name": "stderr"
        },
        {
          "output_type": "stream",
          "text": [
            "\n",
            " Episodio número 273 finalizado con 201 iteraciones. Recompensa final=-200.0\n"
          ],
          "name": "stdout"
        },
        {
          "output_type": "stream",
          "text": [
            "\r 28%|██▊       | 275/1000 [02:05<04:28,  2.70it/s]"
          ],
          "name": "stderr"
        },
        {
          "output_type": "stream",
          "text": [
            "\n",
            " Episodio número 274 finalizado con 201 iteraciones. Recompensa final=-200.0\n"
          ],
          "name": "stdout"
        },
        {
          "output_type": "stream",
          "text": [
            "\r 28%|██▊       | 276/1000 [02:05<04:26,  2.71it/s]"
          ],
          "name": "stderr"
        },
        {
          "output_type": "stream",
          "text": [
            "\n",
            " Episodio número 275 finalizado con 201 iteraciones. Recompensa final=-200.0\n"
          ],
          "name": "stdout"
        },
        {
          "output_type": "stream",
          "text": [
            "\r 28%|██▊       | 277/1000 [02:05<04:29,  2.68it/s]"
          ],
          "name": "stderr"
        },
        {
          "output_type": "stream",
          "text": [
            "\n",
            " Episodio número 276 finalizado con 201 iteraciones. Recompensa final=-200.0\n"
          ],
          "name": "stdout"
        },
        {
          "output_type": "stream",
          "text": [
            "\r 28%|██▊       | 278/1000 [02:06<04:27,  2.69it/s]"
          ],
          "name": "stderr"
        },
        {
          "output_type": "stream",
          "text": [
            "\n",
            " Episodio número 277 finalizado con 201 iteraciones. Recompensa final=-200.0\n"
          ],
          "name": "stdout"
        },
        {
          "output_type": "stream",
          "text": [
            "\r 28%|██▊       | 279/1000 [02:06<04:27,  2.70it/s]"
          ],
          "name": "stderr"
        },
        {
          "output_type": "stream",
          "text": [
            "\n",
            " Episodio número 278 finalizado con 201 iteraciones. Recompensa final=-200.0\n"
          ],
          "name": "stdout"
        },
        {
          "output_type": "stream",
          "text": [
            "\r 28%|██▊       | 280/1000 [02:06<04:24,  2.72it/s]"
          ],
          "name": "stderr"
        },
        {
          "output_type": "stream",
          "text": [
            "\n",
            " Episodio número 279 finalizado con 201 iteraciones. Recompensa final=-200.0\n"
          ],
          "name": "stdout"
        },
        {
          "output_type": "stream",
          "text": [
            "\r 28%|██▊       | 281/1000 [02:07<04:27,  2.69it/s]"
          ],
          "name": "stderr"
        },
        {
          "output_type": "stream",
          "text": [
            "\n",
            " Episodio número 280 finalizado con 201 iteraciones. Recompensa final=-200.0\n"
          ],
          "name": "stdout"
        },
        {
          "output_type": "stream",
          "text": [
            "\r 28%|██▊       | 282/1000 [02:07<04:25,  2.70it/s]"
          ],
          "name": "stderr"
        },
        {
          "output_type": "stream",
          "text": [
            "\n",
            " Episodio número 281 finalizado con 201 iteraciones. Recompensa final=-200.0\n"
          ],
          "name": "stdout"
        },
        {
          "output_type": "stream",
          "text": [
            "\r 28%|██▊       | 283/1000 [02:07<04:26,  2.69it/s]"
          ],
          "name": "stderr"
        },
        {
          "output_type": "stream",
          "text": [
            "\n",
            " Episodio número 282 finalizado con 201 iteraciones. Recompensa final=-200.0\n"
          ],
          "name": "stdout"
        },
        {
          "output_type": "stream",
          "text": [
            "\r 28%|██▊       | 284/1000 [02:08<04:29,  2.66it/s]"
          ],
          "name": "stderr"
        },
        {
          "output_type": "stream",
          "text": [
            "\n",
            " Episodio número 283 finalizado con 201 iteraciones. Recompensa final=-200.0\n"
          ],
          "name": "stdout"
        },
        {
          "output_type": "stream",
          "text": [
            "\r 28%|██▊       | 285/1000 [02:08<04:33,  2.61it/s]"
          ],
          "name": "stderr"
        },
        {
          "output_type": "stream",
          "text": [
            "\n",
            " Episodio número 284 finalizado con 201 iteraciones. Recompensa final=-200.0\n"
          ],
          "name": "stdout"
        },
        {
          "output_type": "stream",
          "text": [
            "\r 29%|██▊       | 286/1000 [02:09<04:34,  2.60it/s]"
          ],
          "name": "stderr"
        },
        {
          "output_type": "stream",
          "text": [
            "\n",
            " Episodio número 285 finalizado con 201 iteraciones. Recompensa final=-200.0\n"
          ],
          "name": "stdout"
        },
        {
          "output_type": "stream",
          "text": [
            "\r 29%|██▊       | 287/1000 [02:09<04:33,  2.61it/s]"
          ],
          "name": "stderr"
        },
        {
          "output_type": "stream",
          "text": [
            "\n",
            " Episodio número 286 finalizado con 201 iteraciones. Recompensa final=-200.0\n"
          ],
          "name": "stdout"
        },
        {
          "output_type": "stream",
          "text": [
            "\r 29%|██▉       | 288/1000 [02:09<04:31,  2.63it/s]"
          ],
          "name": "stderr"
        },
        {
          "output_type": "stream",
          "text": [
            "\n",
            " Episodio número 287 finalizado con 201 iteraciones. Recompensa final=-200.0\n"
          ],
          "name": "stdout"
        },
        {
          "output_type": "stream",
          "text": [
            "\r 29%|██▉       | 289/1000 [02:10<04:29,  2.63it/s]"
          ],
          "name": "stderr"
        },
        {
          "output_type": "stream",
          "text": [
            "\n",
            " Episodio número 288 finalizado con 201 iteraciones. Recompensa final=-200.0\n"
          ],
          "name": "stdout"
        },
        {
          "output_type": "stream",
          "text": [
            "\r 29%|██▉       | 290/1000 [02:10<04:28,  2.65it/s]"
          ],
          "name": "stderr"
        },
        {
          "output_type": "stream",
          "text": [
            "\n",
            " Episodio número 289 finalizado con 201 iteraciones. Recompensa final=-200.0\n"
          ],
          "name": "stdout"
        },
        {
          "output_type": "stream",
          "text": [
            "\r 29%|██▉       | 291/1000 [02:11<04:23,  2.69it/s]"
          ],
          "name": "stderr"
        },
        {
          "output_type": "stream",
          "text": [
            "\n",
            " Episodio número 290 finalizado con 201 iteraciones. Recompensa final=-200.0\n"
          ],
          "name": "stdout"
        },
        {
          "output_type": "stream",
          "text": [
            "\r 29%|██▉       | 292/1000 [02:11<04:25,  2.66it/s]"
          ],
          "name": "stderr"
        },
        {
          "output_type": "stream",
          "text": [
            "\n",
            " Episodio número 291 finalizado con 201 iteraciones. Recompensa final=-200.0\n"
          ],
          "name": "stdout"
        },
        {
          "output_type": "stream",
          "text": [
            "\r 29%|██▉       | 293/1000 [02:11<04:26,  2.65it/s]"
          ],
          "name": "stderr"
        },
        {
          "output_type": "stream",
          "text": [
            "\n",
            " Episodio número 292 finalizado con 201 iteraciones. Recompensa final=-200.0\n"
          ],
          "name": "stdout"
        },
        {
          "output_type": "stream",
          "text": [
            "\r 29%|██▉       | 294/1000 [02:12<04:29,  2.62it/s]"
          ],
          "name": "stderr"
        },
        {
          "output_type": "stream",
          "text": [
            "\n",
            " Episodio número 293 finalizado con 201 iteraciones. Recompensa final=-200.0\n"
          ],
          "name": "stdout"
        },
        {
          "output_type": "stream",
          "text": [
            "\r 30%|██▉       | 295/1000 [02:12<04:23,  2.67it/s]"
          ],
          "name": "stderr"
        },
        {
          "output_type": "stream",
          "text": [
            "\n",
            " Episodio número 294 finalizado con 201 iteraciones. Recompensa final=-200.0\n"
          ],
          "name": "stdout"
        },
        {
          "output_type": "stream",
          "text": [
            "\r 30%|██▉       | 296/1000 [02:12<04:29,  2.61it/s]"
          ],
          "name": "stderr"
        },
        {
          "output_type": "stream",
          "text": [
            "\n",
            " Episodio número 295 finalizado con 201 iteraciones. Recompensa final=-200.0\n"
          ],
          "name": "stdout"
        },
        {
          "output_type": "stream",
          "text": [
            "\r 30%|██▉       | 297/1000 [02:13<04:30,  2.60it/s]"
          ],
          "name": "stderr"
        },
        {
          "output_type": "stream",
          "text": [
            "\n",
            " Episodio número 296 finalizado con 201 iteraciones. Recompensa final=-200.0\n"
          ],
          "name": "stdout"
        },
        {
          "output_type": "stream",
          "text": [
            "\r 30%|██▉       | 298/1000 [02:13<04:29,  2.61it/s]"
          ],
          "name": "stderr"
        },
        {
          "output_type": "stream",
          "text": [
            "\n",
            " Episodio número 297 finalizado con 201 iteraciones. Recompensa final=-200.0\n"
          ],
          "name": "stdout"
        },
        {
          "output_type": "stream",
          "text": [
            "\r 30%|██▉       | 299/1000 [02:14<04:32,  2.58it/s]"
          ],
          "name": "stderr"
        },
        {
          "output_type": "stream",
          "text": [
            "\n",
            " Episodio número 298 finalizado con 201 iteraciones. Recompensa final=-200.0\n"
          ],
          "name": "stdout"
        },
        {
          "output_type": "stream",
          "text": [
            "\r 30%|███       | 300/1000 [02:14<04:29,  2.60it/s]"
          ],
          "name": "stderr"
        },
        {
          "output_type": "stream",
          "text": [
            "\n",
            " Episodio número 299 finalizado con 201 iteraciones. Recompensa final=-200.0\n"
          ],
          "name": "stdout"
        },
        {
          "output_type": "stream",
          "text": [
            "\r 30%|███       | 301/1000 [02:14<04:25,  2.63it/s]"
          ],
          "name": "stderr"
        },
        {
          "output_type": "stream",
          "text": [
            "\n",
            " Episodio número 300 finalizado con 201 iteraciones. Recompensa final=-200.0\n"
          ],
          "name": "stdout"
        },
        {
          "output_type": "stream",
          "text": [
            "\r 30%|███       | 302/1000 [02:15<04:21,  2.67it/s]"
          ],
          "name": "stderr"
        },
        {
          "output_type": "stream",
          "text": [
            "\n",
            " Episodio número 301 finalizado con 201 iteraciones. Recompensa final=-200.0\n"
          ],
          "name": "stdout"
        },
        {
          "output_type": "stream",
          "text": [
            "\r 30%|███       | 303/1000 [02:15<04:20,  2.67it/s]"
          ],
          "name": "stderr"
        },
        {
          "output_type": "stream",
          "text": [
            "\n",
            " Episodio número 302 finalizado con 201 iteraciones. Recompensa final=-200.0\n"
          ],
          "name": "stdout"
        },
        {
          "output_type": "stream",
          "text": [
            "\r 30%|███       | 304/1000 [02:15<04:23,  2.64it/s]"
          ],
          "name": "stderr"
        },
        {
          "output_type": "stream",
          "text": [
            "\n",
            " Episodio número 303 finalizado con 201 iteraciones. Recompensa final=-200.0\n"
          ],
          "name": "stdout"
        },
        {
          "output_type": "stream",
          "text": [
            "\r 30%|███       | 305/1000 [02:16<04:18,  2.69it/s]"
          ],
          "name": "stderr"
        },
        {
          "output_type": "stream",
          "text": [
            "\n",
            " Episodio número 304 finalizado con 201 iteraciones. Recompensa final=-200.0\n"
          ],
          "name": "stdout"
        },
        {
          "output_type": "stream",
          "text": [
            "\r 31%|███       | 306/1000 [02:16<04:17,  2.70it/s]"
          ],
          "name": "stderr"
        },
        {
          "output_type": "stream",
          "text": [
            "\n",
            " Episodio número 305 finalizado con 201 iteraciones. Recompensa final=-200.0\n"
          ],
          "name": "stdout"
        },
        {
          "output_type": "stream",
          "text": [
            "\r 31%|███       | 307/1000 [02:17<04:17,  2.69it/s]"
          ],
          "name": "stderr"
        },
        {
          "output_type": "stream",
          "text": [
            "\n",
            " Episodio número 306 finalizado con 201 iteraciones. Recompensa final=-200.0\n"
          ],
          "name": "stdout"
        },
        {
          "output_type": "stream",
          "text": [
            "\r 31%|███       | 308/1000 [02:17<04:20,  2.66it/s]"
          ],
          "name": "stderr"
        },
        {
          "output_type": "stream",
          "text": [
            "\n",
            " Episodio número 307 finalizado con 201 iteraciones. Recompensa final=-200.0\n"
          ],
          "name": "stdout"
        },
        {
          "output_type": "stream",
          "text": [
            "\r 31%|███       | 309/1000 [02:17<04:19,  2.66it/s]"
          ],
          "name": "stderr"
        },
        {
          "output_type": "stream",
          "text": [
            "\n",
            " Episodio número 308 finalizado con 201 iteraciones. Recompensa final=-200.0\n"
          ],
          "name": "stdout"
        },
        {
          "output_type": "stream",
          "text": [
            "\r 31%|███       | 310/1000 [02:18<04:15,  2.70it/s]"
          ],
          "name": "stderr"
        },
        {
          "output_type": "stream",
          "text": [
            "\n",
            " Episodio número 309 finalizado con 201 iteraciones. Recompensa final=-200.0\n"
          ],
          "name": "stdout"
        },
        {
          "output_type": "stream",
          "text": [
            "\r 31%|███       | 311/1000 [02:18<04:18,  2.67it/s]"
          ],
          "name": "stderr"
        },
        {
          "output_type": "stream",
          "text": [
            "\n",
            " Episodio número 310 finalizado con 201 iteraciones. Recompensa final=-200.0\n"
          ],
          "name": "stdout"
        },
        {
          "output_type": "stream",
          "text": [
            "\r 31%|███       | 312/1000 [02:18<04:22,  2.63it/s]"
          ],
          "name": "stderr"
        },
        {
          "output_type": "stream",
          "text": [
            "\n",
            " Episodio número 311 finalizado con 201 iteraciones. Recompensa final=-200.0\n"
          ],
          "name": "stdout"
        },
        {
          "output_type": "stream",
          "text": [
            "\r 31%|███▏      | 313/1000 [02:19<04:29,  2.55it/s]"
          ],
          "name": "stderr"
        },
        {
          "output_type": "stream",
          "text": [
            "\n",
            " Episodio número 312 finalizado con 201 iteraciones. Recompensa final=-200.0\n"
          ],
          "name": "stdout"
        },
        {
          "output_type": "stream",
          "text": [
            "\r 31%|███▏      | 314/1000 [02:19<04:26,  2.57it/s]"
          ],
          "name": "stderr"
        },
        {
          "output_type": "stream",
          "text": [
            "\n",
            " Episodio número 313 finalizado con 201 iteraciones. Recompensa final=-200.0\n"
          ],
          "name": "stdout"
        },
        {
          "output_type": "stream",
          "text": [
            "\r 32%|███▏      | 315/1000 [02:20<04:22,  2.61it/s]"
          ],
          "name": "stderr"
        },
        {
          "output_type": "stream",
          "text": [
            "\n",
            " Episodio número 314 finalizado con 201 iteraciones. Recompensa final=-200.0\n"
          ],
          "name": "stdout"
        },
        {
          "output_type": "stream",
          "text": [
            "\r 32%|███▏      | 316/1000 [02:20<04:17,  2.65it/s]"
          ],
          "name": "stderr"
        },
        {
          "output_type": "stream",
          "text": [
            "\n",
            " Episodio número 315 finalizado con 201 iteraciones. Recompensa final=-200.0\n"
          ],
          "name": "stdout"
        },
        {
          "output_type": "stream",
          "text": [
            "\r 32%|███▏      | 317/1000 [02:20<04:18,  2.65it/s]"
          ],
          "name": "stderr"
        },
        {
          "output_type": "stream",
          "text": [
            "\n",
            " Episodio número 316 finalizado con 201 iteraciones. Recompensa final=-200.0\n"
          ],
          "name": "stdout"
        },
        {
          "output_type": "stream",
          "text": [
            "\r 32%|███▏      | 318/1000 [02:21<04:14,  2.68it/s]"
          ],
          "name": "stderr"
        },
        {
          "output_type": "stream",
          "text": [
            "\n",
            " Episodio número 317 finalizado con 201 iteraciones. Recompensa final=-200.0\n"
          ],
          "name": "stdout"
        },
        {
          "output_type": "stream",
          "text": [
            "\r 32%|███▏      | 319/1000 [02:21<04:11,  2.71it/s]"
          ],
          "name": "stderr"
        },
        {
          "output_type": "stream",
          "text": [
            "\n",
            " Episodio número 318 finalizado con 201 iteraciones. Recompensa final=-200.0\n"
          ],
          "name": "stdout"
        },
        {
          "output_type": "stream",
          "text": [
            "\r 32%|███▏      | 320/1000 [02:22<04:15,  2.67it/s]"
          ],
          "name": "stderr"
        },
        {
          "output_type": "stream",
          "text": [
            "\n",
            " Episodio número 319 finalizado con 201 iteraciones. Recompensa final=-200.0\n"
          ],
          "name": "stdout"
        },
        {
          "output_type": "stream",
          "text": [
            "\r 32%|███▏      | 321/1000 [02:22<04:16,  2.65it/s]"
          ],
          "name": "stderr"
        },
        {
          "output_type": "stream",
          "text": [
            "\n",
            " Episodio número 320 finalizado con 201 iteraciones. Recompensa final=-200.0\n"
          ],
          "name": "stdout"
        },
        {
          "output_type": "stream",
          "text": [
            "\r 32%|███▏      | 322/1000 [02:22<04:12,  2.69it/s]"
          ],
          "name": "stderr"
        },
        {
          "output_type": "stream",
          "text": [
            "\n",
            " Episodio número 321 finalizado con 201 iteraciones. Recompensa final=-200.0\n"
          ],
          "name": "stdout"
        },
        {
          "output_type": "stream",
          "text": [
            "\r 32%|███▏      | 323/1000 [02:23<04:09,  2.71it/s]"
          ],
          "name": "stderr"
        },
        {
          "output_type": "stream",
          "text": [
            "\n",
            " Episodio número 322 finalizado con 201 iteraciones. Recompensa final=-200.0\n"
          ],
          "name": "stdout"
        },
        {
          "output_type": "stream",
          "text": [
            "\r 32%|███▏      | 324/1000 [02:23<04:07,  2.73it/s]"
          ],
          "name": "stderr"
        },
        {
          "output_type": "stream",
          "text": [
            "\n",
            " Episodio número 323 finalizado con 201 iteraciones. Recompensa final=-200.0\n"
          ],
          "name": "stdout"
        },
        {
          "output_type": "stream",
          "text": [
            "\r 32%|███▎      | 325/1000 [02:23<04:09,  2.70it/s]"
          ],
          "name": "stderr"
        },
        {
          "output_type": "stream",
          "text": [
            "\n",
            " Episodio número 324 finalizado con 201 iteraciones. Recompensa final=-200.0\n"
          ],
          "name": "stdout"
        },
        {
          "output_type": "stream",
          "text": [
            "\r 33%|███▎      | 326/1000 [02:24<04:09,  2.70it/s]"
          ],
          "name": "stderr"
        },
        {
          "output_type": "stream",
          "text": [
            "\n",
            " Episodio número 325 finalizado con 201 iteraciones. Recompensa final=-200.0\n"
          ],
          "name": "stdout"
        },
        {
          "output_type": "stream",
          "text": [
            "\r 33%|███▎      | 327/1000 [02:24<04:11,  2.67it/s]"
          ],
          "name": "stderr"
        },
        {
          "output_type": "stream",
          "text": [
            "\n",
            " Episodio número 326 finalizado con 201 iteraciones. Recompensa final=-200.0\n"
          ],
          "name": "stdout"
        },
        {
          "output_type": "stream",
          "text": [
            "\r 33%|███▎      | 328/1000 [02:24<04:09,  2.69it/s]"
          ],
          "name": "stderr"
        },
        {
          "output_type": "stream",
          "text": [
            "\n",
            " Episodio número 327 finalizado con 201 iteraciones. Recompensa final=-200.0\n"
          ],
          "name": "stdout"
        },
        {
          "output_type": "stream",
          "text": [
            "\r 33%|███▎      | 329/1000 [02:25<04:09,  2.69it/s]"
          ],
          "name": "stderr"
        },
        {
          "output_type": "stream",
          "text": [
            "\n",
            " Episodio número 328 finalizado con 201 iteraciones. Recompensa final=-200.0\n"
          ],
          "name": "stdout"
        },
        {
          "output_type": "stream",
          "text": [
            "\r 33%|███▎      | 330/1000 [02:25<04:10,  2.68it/s]"
          ],
          "name": "stderr"
        },
        {
          "output_type": "stream",
          "text": [
            "\n",
            " Episodio número 329 finalizado con 201 iteraciones. Recompensa final=-200.0\n"
          ],
          "name": "stdout"
        },
        {
          "output_type": "stream",
          "text": [
            "\r 33%|███▎      | 331/1000 [02:26<04:10,  2.67it/s]"
          ],
          "name": "stderr"
        },
        {
          "output_type": "stream",
          "text": [
            "\n",
            " Episodio número 330 finalizado con 201 iteraciones. Recompensa final=-200.0\n"
          ],
          "name": "stdout"
        },
        {
          "output_type": "stream",
          "text": [
            "\r 33%|███▎      | 332/1000 [02:26<04:06,  2.71it/s]"
          ],
          "name": "stderr"
        },
        {
          "output_type": "stream",
          "text": [
            "\n",
            " Episodio número 331 finalizado con 201 iteraciones. Recompensa final=-200.0\n"
          ],
          "name": "stdout"
        },
        {
          "output_type": "stream",
          "text": [
            "\r 33%|███▎      | 333/1000 [02:26<04:06,  2.71it/s]"
          ],
          "name": "stderr"
        },
        {
          "output_type": "stream",
          "text": [
            "\n",
            " Episodio número 332 finalizado con 201 iteraciones. Recompensa final=-200.0\n"
          ],
          "name": "stdout"
        },
        {
          "output_type": "stream",
          "text": [
            "\r 33%|███▎      | 334/1000 [02:27<04:12,  2.64it/s]"
          ],
          "name": "stderr"
        },
        {
          "output_type": "stream",
          "text": [
            "\n",
            " Episodio número 333 finalizado con 201 iteraciones. Recompensa final=-200.0\n"
          ],
          "name": "stdout"
        },
        {
          "output_type": "stream",
          "text": [
            "\r 34%|███▎      | 335/1000 [02:27<04:07,  2.69it/s]"
          ],
          "name": "stderr"
        },
        {
          "output_type": "stream",
          "text": [
            "\n",
            " Episodio número 334 finalizado con 201 iteraciones. Recompensa final=-200.0\n"
          ],
          "name": "stdout"
        },
        {
          "output_type": "stream",
          "text": [
            "\r 34%|███▎      | 336/1000 [02:27<04:11,  2.65it/s]"
          ],
          "name": "stderr"
        },
        {
          "output_type": "stream",
          "text": [
            "\n",
            " Episodio número 335 finalizado con 201 iteraciones. Recompensa final=-200.0\n"
          ],
          "name": "stdout"
        },
        {
          "output_type": "stream",
          "text": [
            "\r 34%|███▎      | 337/1000 [02:28<04:13,  2.62it/s]"
          ],
          "name": "stderr"
        },
        {
          "output_type": "stream",
          "text": [
            "\n",
            " Episodio número 336 finalizado con 201 iteraciones. Recompensa final=-200.0\n"
          ],
          "name": "stdout"
        },
        {
          "output_type": "stream",
          "text": [
            "\r 34%|███▍      | 338/1000 [02:28<04:10,  2.64it/s]"
          ],
          "name": "stderr"
        },
        {
          "output_type": "stream",
          "text": [
            "\n",
            " Episodio número 337 finalizado con 201 iteraciones. Recompensa final=-200.0\n"
          ],
          "name": "stdout"
        },
        {
          "output_type": "stream",
          "text": [
            "\r 34%|███▍      | 339/1000 [02:29<04:08,  2.66it/s]"
          ],
          "name": "stderr"
        },
        {
          "output_type": "stream",
          "text": [
            "\n",
            " Episodio número 338 finalizado con 201 iteraciones. Recompensa final=-200.0\n"
          ],
          "name": "stdout"
        },
        {
          "output_type": "stream",
          "text": [
            "\r 34%|███▍      | 340/1000 [02:29<04:06,  2.67it/s]"
          ],
          "name": "stderr"
        },
        {
          "output_type": "stream",
          "text": [
            "\n",
            " Episodio número 339 finalizado con 201 iteraciones. Recompensa final=-200.0\n"
          ],
          "name": "stdout"
        },
        {
          "output_type": "stream",
          "text": [
            "\r 34%|███▍      | 341/1000 [02:29<04:14,  2.59it/s]"
          ],
          "name": "stderr"
        },
        {
          "output_type": "stream",
          "text": [
            "\n",
            " Episodio número 340 finalizado con 201 iteraciones. Recompensa final=-200.0\n"
          ],
          "name": "stdout"
        },
        {
          "output_type": "stream",
          "text": [
            "\r 34%|███▍      | 342/1000 [02:30<04:10,  2.63it/s]"
          ],
          "name": "stderr"
        },
        {
          "output_type": "stream",
          "text": [
            "\n",
            " Episodio número 341 finalizado con 201 iteraciones. Recompensa final=-200.0\n"
          ],
          "name": "stdout"
        },
        {
          "output_type": "stream",
          "text": [
            "\r 34%|███▍      | 343/1000 [02:30<04:07,  2.66it/s]"
          ],
          "name": "stderr"
        },
        {
          "output_type": "stream",
          "text": [
            "\n",
            " Episodio número 342 finalizado con 201 iteraciones. Recompensa final=-200.0\n"
          ],
          "name": "stdout"
        },
        {
          "output_type": "stream",
          "text": [
            "\r 34%|███▍      | 344/1000 [02:33<12:39,  1.16s/it]"
          ],
          "name": "stderr"
        },
        {
          "output_type": "stream",
          "text": [
            "\n",
            " Episodio número 343 finalizado con 201 iteraciones. Recompensa final=-200.0\n"
          ],
          "name": "stdout"
        },
        {
          "output_type": "stream",
          "text": [
            "\r 34%|███▍      | 345/1000 [02:34<10:18,  1.06it/s]"
          ],
          "name": "stderr"
        },
        {
          "output_type": "stream",
          "text": [
            "\n",
            " Episodio número 344 finalizado con 201 iteraciones. Recompensa final=-200.0\n"
          ],
          "name": "stdout"
        },
        {
          "output_type": "stream",
          "text": [
            "\r 35%|███▍      | 346/1000 [02:34<08:27,  1.29it/s]"
          ],
          "name": "stderr"
        },
        {
          "output_type": "stream",
          "text": [
            "\n",
            " Episodio número 345 finalizado con 201 iteraciones. Recompensa final=-200.0\n"
          ],
          "name": "stdout"
        },
        {
          "output_type": "stream",
          "text": [
            "\r 35%|███▍      | 347/1000 [02:34<07:05,  1.53it/s]"
          ],
          "name": "stderr"
        },
        {
          "output_type": "stream",
          "text": [
            "\n",
            " Episodio número 346 finalizado con 201 iteraciones. Recompensa final=-200.0\n"
          ],
          "name": "stdout"
        },
        {
          "output_type": "stream",
          "text": [
            "\r 35%|███▍      | 348/1000 [02:35<06:10,  1.76it/s]"
          ],
          "name": "stderr"
        },
        {
          "output_type": "stream",
          "text": [
            "\n",
            " Episodio número 347 finalizado con 201 iteraciones. Recompensa final=-200.0\n"
          ],
          "name": "stdout"
        },
        {
          "output_type": "stream",
          "text": [
            "\r 35%|███▍      | 349/1000 [02:35<05:29,  1.97it/s]"
          ],
          "name": "stderr"
        },
        {
          "output_type": "stream",
          "text": [
            "\n",
            " Episodio número 348 finalizado con 201 iteraciones. Recompensa final=-200.0\n"
          ],
          "name": "stdout"
        },
        {
          "output_type": "stream",
          "text": [
            "\r 35%|███▌      | 350/1000 [02:35<05:03,  2.14it/s]"
          ],
          "name": "stderr"
        },
        {
          "output_type": "stream",
          "text": [
            "\n",
            " Episodio número 349 finalizado con 201 iteraciones. Recompensa final=-200.0\n"
          ],
          "name": "stdout"
        },
        {
          "output_type": "stream",
          "text": [
            "\r 35%|███▌      | 351/1000 [02:36<04:41,  2.30it/s]"
          ],
          "name": "stderr"
        },
        {
          "output_type": "stream",
          "text": [
            "\n",
            " Episodio número 350 finalizado con 201 iteraciones. Recompensa final=-200.0\n"
          ],
          "name": "stdout"
        },
        {
          "output_type": "stream",
          "text": [
            "\r 35%|███▌      | 352/1000 [02:36<04:25,  2.44it/s]"
          ],
          "name": "stderr"
        },
        {
          "output_type": "stream",
          "text": [
            "\n",
            " Episodio número 351 finalizado con 201 iteraciones. Recompensa final=-200.0\n"
          ],
          "name": "stdout"
        },
        {
          "output_type": "stream",
          "text": [
            "\r 35%|███▌      | 353/1000 [02:36<04:17,  2.51it/s]"
          ],
          "name": "stderr"
        },
        {
          "output_type": "stream",
          "text": [
            "\n",
            " Episodio número 352 finalizado con 201 iteraciones. Recompensa final=-200.0\n"
          ],
          "name": "stdout"
        },
        {
          "output_type": "stream",
          "text": [
            "\r 35%|███▌      | 354/1000 [02:37<04:10,  2.58it/s]"
          ],
          "name": "stderr"
        },
        {
          "output_type": "stream",
          "text": [
            "\n",
            " Episodio número 353 finalizado con 201 iteraciones. Recompensa final=-200.0\n"
          ],
          "name": "stdout"
        },
        {
          "output_type": "stream",
          "text": [
            "\r 36%|███▌      | 355/1000 [02:37<04:08,  2.60it/s]"
          ],
          "name": "stderr"
        },
        {
          "output_type": "stream",
          "text": [
            "\n",
            " Episodio número 354 finalizado con 201 iteraciones. Recompensa final=-200.0\n"
          ],
          "name": "stdout"
        },
        {
          "output_type": "stream",
          "text": [
            "\r 36%|███▌      | 356/1000 [02:38<04:06,  2.61it/s]"
          ],
          "name": "stderr"
        },
        {
          "output_type": "stream",
          "text": [
            "\n",
            " Episodio número 355 finalizado con 201 iteraciones. Recompensa final=-200.0\n"
          ],
          "name": "stdout"
        },
        {
          "output_type": "stream",
          "text": [
            "\r 36%|███▌      | 357/1000 [02:38<04:04,  2.63it/s]"
          ],
          "name": "stderr"
        },
        {
          "output_type": "stream",
          "text": [
            "\n",
            " Episodio número 356 finalizado con 201 iteraciones. Recompensa final=-200.0\n"
          ],
          "name": "stdout"
        },
        {
          "output_type": "stream",
          "text": [
            "\r 36%|███▌      | 358/1000 [02:38<03:59,  2.68it/s]"
          ],
          "name": "stderr"
        },
        {
          "output_type": "stream",
          "text": [
            "\n",
            " Episodio número 357 finalizado con 201 iteraciones. Recompensa final=-200.0\n"
          ],
          "name": "stdout"
        },
        {
          "output_type": "stream",
          "text": [
            "\r 36%|███▌      | 359/1000 [02:39<03:59,  2.67it/s]"
          ],
          "name": "stderr"
        },
        {
          "output_type": "stream",
          "text": [
            "\n",
            " Episodio número 358 finalizado con 201 iteraciones. Recompensa final=-200.0\n"
          ],
          "name": "stdout"
        },
        {
          "output_type": "stream",
          "text": [
            "\r 36%|███▌      | 360/1000 [02:39<03:58,  2.69it/s]"
          ],
          "name": "stderr"
        },
        {
          "output_type": "stream",
          "text": [
            "\n",
            " Episodio número 359 finalizado con 201 iteraciones. Recompensa final=-200.0\n"
          ],
          "name": "stdout"
        },
        {
          "output_type": "stream",
          "text": [
            "\r 36%|███▌      | 361/1000 [02:39<03:56,  2.70it/s]"
          ],
          "name": "stderr"
        },
        {
          "output_type": "stream",
          "text": [
            "\n",
            " Episodio número 360 finalizado con 201 iteraciones. Recompensa final=-200.0\n"
          ],
          "name": "stdout"
        },
        {
          "output_type": "stream",
          "text": [
            "\r 36%|███▌      | 362/1000 [02:40<03:57,  2.69it/s]"
          ],
          "name": "stderr"
        },
        {
          "output_type": "stream",
          "text": [
            "\n",
            " Episodio número 361 finalizado con 201 iteraciones. Recompensa final=-200.0\n"
          ],
          "name": "stdout"
        },
        {
          "output_type": "stream",
          "text": [
            "\r 36%|███▋      | 363/1000 [02:40<03:54,  2.71it/s]"
          ],
          "name": "stderr"
        },
        {
          "output_type": "stream",
          "text": [
            "\n",
            " Episodio número 362 finalizado con 201 iteraciones. Recompensa final=-200.0\n"
          ],
          "name": "stdout"
        },
        {
          "output_type": "stream",
          "text": [
            "\r 36%|███▋      | 364/1000 [02:41<03:54,  2.71it/s]"
          ],
          "name": "stderr"
        },
        {
          "output_type": "stream",
          "text": [
            "\n",
            " Episodio número 363 finalizado con 201 iteraciones. Recompensa final=-200.0\n"
          ],
          "name": "stdout"
        },
        {
          "output_type": "stream",
          "text": [
            "\r 36%|███▋      | 365/1000 [02:41<03:52,  2.74it/s]"
          ],
          "name": "stderr"
        },
        {
          "output_type": "stream",
          "text": [
            "\n",
            " Episodio número 364 finalizado con 201 iteraciones. Recompensa final=-200.0\n"
          ],
          "name": "stdout"
        },
        {
          "output_type": "stream",
          "text": [
            "\r 37%|███▋      | 366/1000 [02:41<03:49,  2.76it/s]"
          ],
          "name": "stderr"
        },
        {
          "output_type": "stream",
          "text": [
            "\n",
            " Episodio número 365 finalizado con 201 iteraciones. Recompensa final=-200.0\n"
          ],
          "name": "stdout"
        },
        {
          "output_type": "stream",
          "text": [
            "\r 37%|███▋      | 367/1000 [02:42<03:54,  2.70it/s]"
          ],
          "name": "stderr"
        },
        {
          "output_type": "stream",
          "text": [
            "\n",
            " Episodio número 366 finalizado con 201 iteraciones. Recompensa final=-200.0\n"
          ],
          "name": "stdout"
        },
        {
          "output_type": "stream",
          "text": [
            "\r 37%|███▋      | 368/1000 [02:42<03:53,  2.71it/s]"
          ],
          "name": "stderr"
        },
        {
          "output_type": "stream",
          "text": [
            "\n",
            " Episodio número 367 finalizado con 201 iteraciones. Recompensa final=-200.0\n"
          ],
          "name": "stdout"
        },
        {
          "output_type": "stream",
          "text": [
            "\r 37%|███▋      | 369/1000 [02:42<03:54,  2.70it/s]"
          ],
          "name": "stderr"
        },
        {
          "output_type": "stream",
          "text": [
            "\n",
            " Episodio número 368 finalizado con 201 iteraciones. Recompensa final=-200.0\n"
          ],
          "name": "stdout"
        },
        {
          "output_type": "stream",
          "text": [
            "\r 37%|███▋      | 370/1000 [02:43<03:58,  2.65it/s]"
          ],
          "name": "stderr"
        },
        {
          "output_type": "stream",
          "text": [
            "\n",
            " Episodio número 369 finalizado con 201 iteraciones. Recompensa final=-200.0\n"
          ],
          "name": "stdout"
        },
        {
          "output_type": "stream",
          "text": [
            "\r 37%|███▋      | 371/1000 [02:43<03:58,  2.64it/s]"
          ],
          "name": "stderr"
        },
        {
          "output_type": "stream",
          "text": [
            "\n",
            " Episodio número 370 finalizado con 201 iteraciones. Recompensa final=-200.0\n"
          ],
          "name": "stdout"
        },
        {
          "output_type": "stream",
          "text": [
            "\r 37%|███▋      | 372/1000 [02:44<04:02,  2.59it/s]"
          ],
          "name": "stderr"
        },
        {
          "output_type": "stream",
          "text": [
            "\n",
            " Episodio número 371 finalizado con 201 iteraciones. Recompensa final=-200.0\n"
          ],
          "name": "stdout"
        },
        {
          "output_type": "stream",
          "text": [
            "\r 37%|███▋      | 373/1000 [02:44<03:55,  2.66it/s]"
          ],
          "name": "stderr"
        },
        {
          "output_type": "stream",
          "text": [
            "\n",
            " Episodio número 372 finalizado con 201 iteraciones. Recompensa final=-200.0\n"
          ],
          "name": "stdout"
        },
        {
          "output_type": "stream",
          "text": [
            "\r 37%|███▋      | 374/1000 [02:44<03:50,  2.72it/s]"
          ],
          "name": "stderr"
        },
        {
          "output_type": "stream",
          "text": [
            "\n",
            " Episodio número 373 finalizado con 201 iteraciones. Recompensa final=-200.0\n"
          ],
          "name": "stdout"
        },
        {
          "output_type": "stream",
          "text": [
            "\r 38%|███▊      | 375/1000 [02:45<03:52,  2.69it/s]"
          ],
          "name": "stderr"
        },
        {
          "output_type": "stream",
          "text": [
            "\n",
            " Episodio número 374 finalizado con 201 iteraciones. Recompensa final=-200.0\n"
          ],
          "name": "stdout"
        },
        {
          "output_type": "stream",
          "text": [
            "\r 38%|███▊      | 376/1000 [02:45<03:55,  2.65it/s]"
          ],
          "name": "stderr"
        },
        {
          "output_type": "stream",
          "text": [
            "\n",
            " Episodio número 375 finalizado con 201 iteraciones. Recompensa final=-200.0\n"
          ],
          "name": "stdout"
        },
        {
          "output_type": "stream",
          "text": [
            "\r 38%|███▊      | 377/1000 [02:45<03:53,  2.66it/s]"
          ],
          "name": "stderr"
        },
        {
          "output_type": "stream",
          "text": [
            "\n",
            " Episodio número 376 finalizado con 201 iteraciones. Recompensa final=-200.0\n"
          ],
          "name": "stdout"
        },
        {
          "output_type": "stream",
          "text": [
            "\r 38%|███▊      | 378/1000 [02:46<03:52,  2.67it/s]"
          ],
          "name": "stderr"
        },
        {
          "output_type": "stream",
          "text": [
            "\n",
            " Episodio número 377 finalizado con 201 iteraciones. Recompensa final=-200.0\n"
          ],
          "name": "stdout"
        },
        {
          "output_type": "stream",
          "text": [
            "\r 38%|███▊      | 379/1000 [02:46<03:53,  2.67it/s]"
          ],
          "name": "stderr"
        },
        {
          "output_type": "stream",
          "text": [
            "\n",
            " Episodio número 378 finalizado con 201 iteraciones. Recompensa final=-200.0\n"
          ],
          "name": "stdout"
        },
        {
          "output_type": "stream",
          "text": [
            "\r 38%|███▊      | 380/1000 [02:47<03:52,  2.67it/s]"
          ],
          "name": "stderr"
        },
        {
          "output_type": "stream",
          "text": [
            "\n",
            " Episodio número 379 finalizado con 201 iteraciones. Recompensa final=-200.0\n"
          ],
          "name": "stdout"
        },
        {
          "output_type": "stream",
          "text": [
            "\r 38%|███▊      | 381/1000 [02:47<03:56,  2.62it/s]"
          ],
          "name": "stderr"
        },
        {
          "output_type": "stream",
          "text": [
            "\n",
            " Episodio número 380 finalizado con 201 iteraciones. Recompensa final=-200.0\n"
          ],
          "name": "stdout"
        },
        {
          "output_type": "stream",
          "text": [
            "\r 38%|███▊      | 382/1000 [02:47<03:53,  2.64it/s]"
          ],
          "name": "stderr"
        },
        {
          "output_type": "stream",
          "text": [
            "\n",
            " Episodio número 381 finalizado con 201 iteraciones. Recompensa final=-200.0\n"
          ],
          "name": "stdout"
        },
        {
          "output_type": "stream",
          "text": [
            "\r 38%|███▊      | 383/1000 [02:48<03:54,  2.63it/s]"
          ],
          "name": "stderr"
        },
        {
          "output_type": "stream",
          "text": [
            "\n",
            " Episodio número 382 finalizado con 201 iteraciones. Recompensa final=-200.0\n"
          ],
          "name": "stdout"
        },
        {
          "output_type": "stream",
          "text": [
            "\r 38%|███▊      | 384/1000 [02:48<03:50,  2.67it/s]"
          ],
          "name": "stderr"
        },
        {
          "output_type": "stream",
          "text": [
            "\n",
            " Episodio número 383 finalizado con 201 iteraciones. Recompensa final=-200.0\n"
          ],
          "name": "stdout"
        },
        {
          "output_type": "stream",
          "text": [
            "\r 38%|███▊      | 385/1000 [02:48<03:52,  2.65it/s]"
          ],
          "name": "stderr"
        },
        {
          "output_type": "stream",
          "text": [
            "\n",
            " Episodio número 384 finalizado con 201 iteraciones. Recompensa final=-200.0\n"
          ],
          "name": "stdout"
        },
        {
          "output_type": "stream",
          "text": [
            "\r 39%|███▊      | 386/1000 [02:49<03:53,  2.62it/s]"
          ],
          "name": "stderr"
        },
        {
          "output_type": "stream",
          "text": [
            "\n",
            " Episodio número 385 finalizado con 201 iteraciones. Recompensa final=-200.0\n"
          ],
          "name": "stdout"
        },
        {
          "output_type": "stream",
          "text": [
            "\r 39%|███▊      | 387/1000 [02:49<03:50,  2.66it/s]"
          ],
          "name": "stderr"
        },
        {
          "output_type": "stream",
          "text": [
            "\n",
            " Episodio número 386 finalizado con 201 iteraciones. Recompensa final=-200.0\n"
          ],
          "name": "stdout"
        },
        {
          "output_type": "stream",
          "text": [
            "\r 39%|███▉      | 388/1000 [02:50<03:48,  2.68it/s]"
          ],
          "name": "stderr"
        },
        {
          "output_type": "stream",
          "text": [
            "\n",
            " Episodio número 387 finalizado con 201 iteraciones. Recompensa final=-200.0\n"
          ],
          "name": "stdout"
        },
        {
          "output_type": "stream",
          "text": [
            "\r 39%|███▉      | 389/1000 [02:50<03:51,  2.64it/s]"
          ],
          "name": "stderr"
        },
        {
          "output_type": "stream",
          "text": [
            "\n",
            " Episodio número 388 finalizado con 201 iteraciones. Recompensa final=-200.0\n"
          ],
          "name": "stdout"
        },
        {
          "output_type": "stream",
          "text": [
            "\r 39%|███▉      | 390/1000 [02:50<03:49,  2.66it/s]"
          ],
          "name": "stderr"
        },
        {
          "output_type": "stream",
          "text": [
            "\n",
            " Episodio número 389 finalizado con 201 iteraciones. Recompensa final=-200.0\n"
          ],
          "name": "stdout"
        },
        {
          "output_type": "stream",
          "text": [
            "\r 39%|███▉      | 391/1000 [02:51<03:49,  2.65it/s]"
          ],
          "name": "stderr"
        },
        {
          "output_type": "stream",
          "text": [
            "\n",
            " Episodio número 390 finalizado con 201 iteraciones. Recompensa final=-200.0\n"
          ],
          "name": "stdout"
        },
        {
          "output_type": "stream",
          "text": [
            "\r 39%|███▉      | 392/1000 [02:51<03:48,  2.66it/s]"
          ],
          "name": "stderr"
        },
        {
          "output_type": "stream",
          "text": [
            "\n",
            " Episodio número 391 finalizado con 201 iteraciones. Recompensa final=-200.0\n"
          ],
          "name": "stdout"
        },
        {
          "output_type": "stream",
          "text": [
            "\r 39%|███▉      | 393/1000 [02:51<03:46,  2.68it/s]"
          ],
          "name": "stderr"
        },
        {
          "output_type": "stream",
          "text": [
            "\n",
            " Episodio número 392 finalizado con 201 iteraciones. Recompensa final=-200.0\n"
          ],
          "name": "stdout"
        },
        {
          "output_type": "stream",
          "text": [
            "\r 39%|███▉      | 394/1000 [02:52<03:44,  2.70it/s]"
          ],
          "name": "stderr"
        },
        {
          "output_type": "stream",
          "text": [
            "\n",
            " Episodio número 393 finalizado con 201 iteraciones. Recompensa final=-200.0\n"
          ],
          "name": "stdout"
        },
        {
          "output_type": "stream",
          "text": [
            "\r 40%|███▉      | 395/1000 [02:52<03:43,  2.70it/s]"
          ],
          "name": "stderr"
        },
        {
          "output_type": "stream",
          "text": [
            "\n",
            " Episodio número 394 finalizado con 201 iteraciones. Recompensa final=-200.0\n"
          ],
          "name": "stdout"
        },
        {
          "output_type": "stream",
          "text": [
            "\r 40%|███▉      | 396/1000 [02:53<03:40,  2.74it/s]"
          ],
          "name": "stderr"
        },
        {
          "output_type": "stream",
          "text": [
            "\n",
            " Episodio número 395 finalizado con 201 iteraciones. Recompensa final=-200.0\n"
          ],
          "name": "stdout"
        },
        {
          "output_type": "stream",
          "text": [
            "\r 40%|███▉      | 397/1000 [02:53<03:46,  2.66it/s]"
          ],
          "name": "stderr"
        },
        {
          "output_type": "stream",
          "text": [
            "\n",
            " Episodio número 396 finalizado con 201 iteraciones. Recompensa final=-200.0\n"
          ],
          "name": "stdout"
        },
        {
          "output_type": "stream",
          "text": [
            "\r 40%|███▉      | 398/1000 [02:53<03:43,  2.69it/s]"
          ],
          "name": "stderr"
        },
        {
          "output_type": "stream",
          "text": [
            "\n",
            " Episodio número 397 finalizado con 201 iteraciones. Recompensa final=-200.0\n"
          ],
          "name": "stdout"
        },
        {
          "output_type": "stream",
          "text": [
            "\r 40%|███▉      | 399/1000 [02:54<03:47,  2.64it/s]"
          ],
          "name": "stderr"
        },
        {
          "output_type": "stream",
          "text": [
            "\n",
            " Episodio número 398 finalizado con 201 iteraciones. Recompensa final=-200.0\n"
          ],
          "name": "stdout"
        },
        {
          "output_type": "stream",
          "text": [
            "\r 40%|████      | 400/1000 [02:54<03:44,  2.68it/s]"
          ],
          "name": "stderr"
        },
        {
          "output_type": "stream",
          "text": [
            "\n",
            " Episodio número 399 finalizado con 201 iteraciones. Recompensa final=-200.0\n"
          ],
          "name": "stdout"
        },
        {
          "output_type": "stream",
          "text": [
            "\r 40%|████      | 401/1000 [02:54<03:41,  2.70it/s]"
          ],
          "name": "stderr"
        },
        {
          "output_type": "stream",
          "text": [
            "\n",
            " Episodio número 400 finalizado con 201 iteraciones. Recompensa final=-200.0\n"
          ],
          "name": "stdout"
        },
        {
          "output_type": "stream",
          "text": [
            "\r 40%|████      | 402/1000 [02:55<03:41,  2.70it/s]"
          ],
          "name": "stderr"
        },
        {
          "output_type": "stream",
          "text": [
            "\n",
            " Episodio número 401 finalizado con 201 iteraciones. Recompensa final=-200.0\n"
          ],
          "name": "stdout"
        },
        {
          "output_type": "stream",
          "text": [
            "\r 40%|████      | 403/1000 [02:55<03:39,  2.72it/s]"
          ],
          "name": "stderr"
        },
        {
          "output_type": "stream",
          "text": [
            "\n",
            " Episodio número 402 finalizado con 201 iteraciones. Recompensa final=-200.0\n"
          ],
          "name": "stdout"
        },
        {
          "output_type": "stream",
          "text": [
            "\r 40%|████      | 404/1000 [02:56<03:40,  2.70it/s]"
          ],
          "name": "stderr"
        },
        {
          "output_type": "stream",
          "text": [
            "\n",
            " Episodio número 403 finalizado con 201 iteraciones. Recompensa final=-200.0\n"
          ],
          "name": "stdout"
        },
        {
          "output_type": "stream",
          "text": [
            "\r 40%|████      | 405/1000 [02:56<03:40,  2.70it/s]"
          ],
          "name": "stderr"
        },
        {
          "output_type": "stream",
          "text": [
            "\n",
            " Episodio número 404 finalizado con 201 iteraciones. Recompensa final=-200.0\n"
          ],
          "name": "stdout"
        },
        {
          "output_type": "stream",
          "text": [
            "\r 41%|████      | 406/1000 [02:56<03:40,  2.69it/s]"
          ],
          "name": "stderr"
        },
        {
          "output_type": "stream",
          "text": [
            "\n",
            " Episodio número 405 finalizado con 201 iteraciones. Recompensa final=-200.0\n"
          ],
          "name": "stdout"
        },
        {
          "output_type": "stream",
          "text": [
            "\r 41%|████      | 407/1000 [02:57<03:40,  2.69it/s]"
          ],
          "name": "stderr"
        },
        {
          "output_type": "stream",
          "text": [
            "\n",
            " Episodio número 406 finalizado con 201 iteraciones. Recompensa final=-200.0\n"
          ],
          "name": "stdout"
        },
        {
          "output_type": "stream",
          "text": [
            "\r 41%|████      | 408/1000 [02:57<03:39,  2.70it/s]"
          ],
          "name": "stderr"
        },
        {
          "output_type": "stream",
          "text": [
            "\n",
            " Episodio número 407 finalizado con 201 iteraciones. Recompensa final=-200.0\n"
          ],
          "name": "stdout"
        },
        {
          "output_type": "stream",
          "text": [
            "\r 41%|████      | 409/1000 [02:57<03:45,  2.62it/s]"
          ],
          "name": "stderr"
        },
        {
          "output_type": "stream",
          "text": [
            "\n",
            " Episodio número 408 finalizado con 201 iteraciones. Recompensa final=-200.0\n"
          ],
          "name": "stdout"
        },
        {
          "output_type": "stream",
          "text": [
            "\r 41%|████      | 410/1000 [02:58<03:46,  2.61it/s]"
          ],
          "name": "stderr"
        },
        {
          "output_type": "stream",
          "text": [
            "\n",
            " Episodio número 409 finalizado con 201 iteraciones. Recompensa final=-200.0\n"
          ],
          "name": "stdout"
        },
        {
          "output_type": "stream",
          "text": [
            "\r 41%|████      | 411/1000 [02:58<03:48,  2.58it/s]"
          ],
          "name": "stderr"
        },
        {
          "output_type": "stream",
          "text": [
            "\n",
            " Episodio número 410 finalizado con 201 iteraciones. Recompensa final=-200.0\n"
          ],
          "name": "stdout"
        },
        {
          "output_type": "stream",
          "text": [
            "\r 41%|████      | 412/1000 [02:59<03:50,  2.56it/s]"
          ],
          "name": "stderr"
        },
        {
          "output_type": "stream",
          "text": [
            "\n",
            " Episodio número 411 finalizado con 201 iteraciones. Recompensa final=-200.0\n"
          ],
          "name": "stdout"
        },
        {
          "output_type": "stream",
          "text": [
            "\r 41%|████▏     | 413/1000 [02:59<03:48,  2.57it/s]"
          ],
          "name": "stderr"
        },
        {
          "output_type": "stream",
          "text": [
            "\n",
            " Episodio número 412 finalizado con 201 iteraciones. Recompensa final=-200.0\n"
          ],
          "name": "stdout"
        },
        {
          "output_type": "stream",
          "text": [
            "\r 41%|████▏     | 414/1000 [02:59<03:43,  2.62it/s]"
          ],
          "name": "stderr"
        },
        {
          "output_type": "stream",
          "text": [
            "\n",
            " Episodio número 413 finalizado con 201 iteraciones. Recompensa final=-200.0\n"
          ],
          "name": "stdout"
        },
        {
          "output_type": "stream",
          "text": [
            "\r 42%|████▏     | 415/1000 [03:00<03:41,  2.64it/s]"
          ],
          "name": "stderr"
        },
        {
          "output_type": "stream",
          "text": [
            "\n",
            " Episodio número 414 finalizado con 201 iteraciones. Recompensa final=-200.0\n"
          ],
          "name": "stdout"
        },
        {
          "output_type": "stream",
          "text": [
            "\r 42%|████▏     | 416/1000 [03:00<03:43,  2.61it/s]"
          ],
          "name": "stderr"
        },
        {
          "output_type": "stream",
          "text": [
            "\n",
            " Episodio número 415 finalizado con 201 iteraciones. Recompensa final=-200.0\n"
          ],
          "name": "stdout"
        },
        {
          "output_type": "stream",
          "text": [
            "\r 42%|████▏     | 417/1000 [03:00<03:40,  2.64it/s]"
          ],
          "name": "stderr"
        },
        {
          "output_type": "stream",
          "text": [
            "\n",
            " Episodio número 416 finalizado con 201 iteraciones. Recompensa final=-200.0\n"
          ],
          "name": "stdout"
        },
        {
          "output_type": "stream",
          "text": [
            "\r 42%|████▏     | 418/1000 [03:01<03:37,  2.67it/s]"
          ],
          "name": "stderr"
        },
        {
          "output_type": "stream",
          "text": [
            "\n",
            " Episodio número 417 finalizado con 201 iteraciones. Recompensa final=-200.0\n"
          ],
          "name": "stdout"
        },
        {
          "output_type": "stream",
          "text": [
            "\r 42%|████▏     | 419/1000 [03:01<03:40,  2.64it/s]"
          ],
          "name": "stderr"
        },
        {
          "output_type": "stream",
          "text": [
            "\n",
            " Episodio número 418 finalizado con 201 iteraciones. Recompensa final=-200.0\n"
          ],
          "name": "stdout"
        },
        {
          "output_type": "stream",
          "text": [
            "\r 42%|████▏     | 420/1000 [03:02<03:37,  2.66it/s]"
          ],
          "name": "stderr"
        },
        {
          "output_type": "stream",
          "text": [
            "\n",
            " Episodio número 419 finalizado con 201 iteraciones. Recompensa final=-200.0\n"
          ],
          "name": "stdout"
        },
        {
          "output_type": "stream",
          "text": [
            "\r 42%|████▏     | 421/1000 [03:02<03:34,  2.70it/s]"
          ],
          "name": "stderr"
        },
        {
          "output_type": "stream",
          "text": [
            "\n",
            " Episodio número 420 finalizado con 201 iteraciones. Recompensa final=-200.0\n"
          ],
          "name": "stdout"
        },
        {
          "output_type": "stream",
          "text": [
            "\r 42%|████▏     | 422/1000 [03:02<03:33,  2.71it/s]"
          ],
          "name": "stderr"
        },
        {
          "output_type": "stream",
          "text": [
            "\n",
            " Episodio número 421 finalizado con 201 iteraciones. Recompensa final=-200.0\n"
          ],
          "name": "stdout"
        },
        {
          "output_type": "stream",
          "text": [
            "\r 42%|████▏     | 423/1000 [03:03<03:31,  2.73it/s]"
          ],
          "name": "stderr"
        },
        {
          "output_type": "stream",
          "text": [
            "\n",
            " Episodio número 422 finalizado con 201 iteraciones. Recompensa final=-200.0\n"
          ],
          "name": "stdout"
        },
        {
          "output_type": "stream",
          "text": [
            "\r 42%|████▏     | 424/1000 [03:03<03:34,  2.69it/s]"
          ],
          "name": "stderr"
        },
        {
          "output_type": "stream",
          "text": [
            "\n",
            " Episodio número 423 finalizado con 201 iteraciones. Recompensa final=-200.0\n"
          ],
          "name": "stdout"
        },
        {
          "output_type": "stream",
          "text": [
            "\r 42%|████▎     | 425/1000 [03:03<03:38,  2.64it/s]"
          ],
          "name": "stderr"
        },
        {
          "output_type": "stream",
          "text": [
            "\n",
            " Episodio número 424 finalizado con 201 iteraciones. Recompensa final=-200.0\n"
          ],
          "name": "stdout"
        },
        {
          "output_type": "stream",
          "text": [
            "\r 43%|████▎     | 426/1000 [03:04<03:38,  2.62it/s]"
          ],
          "name": "stderr"
        },
        {
          "output_type": "stream",
          "text": [
            "\n",
            " Episodio número 425 finalizado con 201 iteraciones. Recompensa final=-200.0\n"
          ],
          "name": "stdout"
        },
        {
          "output_type": "stream",
          "text": [
            "\r 43%|████▎     | 427/1000 [03:04<03:35,  2.66it/s]"
          ],
          "name": "stderr"
        },
        {
          "output_type": "stream",
          "text": [
            "\n",
            " Episodio número 426 finalizado con 201 iteraciones. Recompensa final=-200.0\n"
          ],
          "name": "stdout"
        },
        {
          "output_type": "stream",
          "text": [
            "\r 43%|████▎     | 428/1000 [03:05<03:40,  2.60it/s]"
          ],
          "name": "stderr"
        },
        {
          "output_type": "stream",
          "text": [
            "\n",
            " Episodio número 427 finalizado con 201 iteraciones. Recompensa final=-200.0\n"
          ],
          "name": "stdout"
        },
        {
          "output_type": "stream",
          "text": [
            "\r 43%|████▎     | 429/1000 [03:05<03:35,  2.65it/s]"
          ],
          "name": "stderr"
        },
        {
          "output_type": "stream",
          "text": [
            "\n",
            " Episodio número 428 finalizado con 201 iteraciones. Recompensa final=-200.0\n"
          ],
          "name": "stdout"
        },
        {
          "output_type": "stream",
          "text": [
            "\r 43%|████▎     | 430/1000 [03:05<03:34,  2.65it/s]"
          ],
          "name": "stderr"
        },
        {
          "output_type": "stream",
          "text": [
            "\n",
            " Episodio número 429 finalizado con 201 iteraciones. Recompensa final=-200.0\n"
          ],
          "name": "stdout"
        },
        {
          "output_type": "stream",
          "text": [
            "\r 43%|████▎     | 431/1000 [03:06<03:31,  2.70it/s]"
          ],
          "name": "stderr"
        },
        {
          "output_type": "stream",
          "text": [
            "\n",
            " Episodio número 430 finalizado con 201 iteraciones. Recompensa final=-200.0\n"
          ],
          "name": "stdout"
        },
        {
          "output_type": "stream",
          "text": [
            "\r 43%|████▎     | 432/1000 [03:06<03:31,  2.69it/s]"
          ],
          "name": "stderr"
        },
        {
          "output_type": "stream",
          "text": [
            "\n",
            " Episodio número 431 finalizado con 201 iteraciones. Recompensa final=-200.0\n"
          ],
          "name": "stdout"
        },
        {
          "output_type": "stream",
          "text": [
            "\r 43%|████▎     | 433/1000 [03:06<03:31,  2.68it/s]"
          ],
          "name": "stderr"
        },
        {
          "output_type": "stream",
          "text": [
            "\n",
            " Episodio número 432 finalizado con 201 iteraciones. Recompensa final=-200.0\n"
          ],
          "name": "stdout"
        },
        {
          "output_type": "stream",
          "text": [
            "\r 43%|████▎     | 434/1000 [03:07<03:27,  2.73it/s]"
          ],
          "name": "stderr"
        },
        {
          "output_type": "stream",
          "text": [
            "\n",
            " Episodio número 433 finalizado con 201 iteraciones. Recompensa final=-200.0\n"
          ],
          "name": "stdout"
        },
        {
          "output_type": "stream",
          "text": [
            "\r 44%|████▎     | 435/1000 [03:07<03:25,  2.74it/s]"
          ],
          "name": "stderr"
        },
        {
          "output_type": "stream",
          "text": [
            "\n",
            " Episodio número 434 finalizado con 201 iteraciones. Recompensa final=-200.0\n"
          ],
          "name": "stdout"
        },
        {
          "output_type": "stream",
          "text": [
            "\r 44%|████▎     | 436/1000 [03:08<03:29,  2.69it/s]"
          ],
          "name": "stderr"
        },
        {
          "output_type": "stream",
          "text": [
            "\n",
            " Episodio número 435 finalizado con 201 iteraciones. Recompensa final=-200.0\n"
          ],
          "name": "stdout"
        },
        {
          "output_type": "stream",
          "text": [
            "\r 44%|████▎     | 437/1000 [03:08<03:27,  2.72it/s]"
          ],
          "name": "stderr"
        },
        {
          "output_type": "stream",
          "text": [
            "\n",
            " Episodio número 436 finalizado con 201 iteraciones. Recompensa final=-200.0\n"
          ],
          "name": "stdout"
        },
        {
          "output_type": "stream",
          "text": [
            "\r 44%|████▍     | 438/1000 [03:08<03:26,  2.73it/s]"
          ],
          "name": "stderr"
        },
        {
          "output_type": "stream",
          "text": [
            "\n",
            " Episodio número 437 finalizado con 201 iteraciones. Recompensa final=-200.0\n"
          ],
          "name": "stdout"
        },
        {
          "output_type": "stream",
          "text": [
            "\r 44%|████▍     | 439/1000 [03:09<03:25,  2.73it/s]"
          ],
          "name": "stderr"
        },
        {
          "output_type": "stream",
          "text": [
            "\n",
            " Episodio número 438 finalizado con 201 iteraciones. Recompensa final=-200.0\n"
          ],
          "name": "stdout"
        },
        {
          "output_type": "stream",
          "text": [
            "\r 44%|████▍     | 440/1000 [03:09<03:29,  2.67it/s]"
          ],
          "name": "stderr"
        },
        {
          "output_type": "stream",
          "text": [
            "\n",
            " Episodio número 439 finalizado con 201 iteraciones. Recompensa final=-200.0\n"
          ],
          "name": "stdout"
        },
        {
          "output_type": "stream",
          "text": [
            "\r 44%|████▍     | 441/1000 [03:09<03:27,  2.70it/s]"
          ],
          "name": "stderr"
        },
        {
          "output_type": "stream",
          "text": [
            "\n",
            " Episodio número 440 finalizado con 201 iteraciones. Recompensa final=-200.0\n"
          ],
          "name": "stdout"
        },
        {
          "output_type": "stream",
          "text": [
            "\r 44%|████▍     | 442/1000 [03:10<03:27,  2.69it/s]"
          ],
          "name": "stderr"
        },
        {
          "output_type": "stream",
          "text": [
            "\n",
            " Episodio número 441 finalizado con 201 iteraciones. Recompensa final=-200.0\n"
          ],
          "name": "stdout"
        },
        {
          "output_type": "stream",
          "text": [
            "\r 44%|████▍     | 443/1000 [03:10<03:26,  2.70it/s]"
          ],
          "name": "stderr"
        },
        {
          "output_type": "stream",
          "text": [
            "\n",
            " Episodio número 442 finalizado con 201 iteraciones. Recompensa final=-200.0\n"
          ],
          "name": "stdout"
        },
        {
          "output_type": "stream",
          "text": [
            "\r 44%|████▍     | 444/1000 [03:11<03:27,  2.68it/s]"
          ],
          "name": "stderr"
        },
        {
          "output_type": "stream",
          "text": [
            "\n",
            " Episodio número 443 finalizado con 201 iteraciones. Recompensa final=-200.0\n"
          ],
          "name": "stdout"
        },
        {
          "output_type": "stream",
          "text": [
            "\r 44%|████▍     | 445/1000 [03:11<03:24,  2.71it/s]"
          ],
          "name": "stderr"
        },
        {
          "output_type": "stream",
          "text": [
            "\n",
            " Episodio número 444 finalizado con 201 iteraciones. Recompensa final=-200.0\n"
          ],
          "name": "stdout"
        },
        {
          "output_type": "stream",
          "text": [
            "\r 45%|████▍     | 446/1000 [03:11<03:23,  2.72it/s]"
          ],
          "name": "stderr"
        },
        {
          "output_type": "stream",
          "text": [
            "\n",
            " Episodio número 445 finalizado con 201 iteraciones. Recompensa final=-200.0\n"
          ],
          "name": "stdout"
        },
        {
          "output_type": "stream",
          "text": [
            "\r 45%|████▍     | 447/1000 [03:12<03:24,  2.71it/s]"
          ],
          "name": "stderr"
        },
        {
          "output_type": "stream",
          "text": [
            "\n",
            " Episodio número 446 finalizado con 201 iteraciones. Recompensa final=-200.0\n"
          ],
          "name": "stdout"
        },
        {
          "output_type": "stream",
          "text": [
            "\r 45%|████▍     | 448/1000 [03:12<03:23,  2.72it/s]"
          ],
          "name": "stderr"
        },
        {
          "output_type": "stream",
          "text": [
            "\n",
            " Episodio número 447 finalizado con 201 iteraciones. Recompensa final=-200.0\n"
          ],
          "name": "stdout"
        },
        {
          "output_type": "stream",
          "text": [
            "\r 45%|████▍     | 449/1000 [03:12<03:26,  2.67it/s]"
          ],
          "name": "stderr"
        },
        {
          "output_type": "stream",
          "text": [
            "\n",
            " Episodio número 448 finalizado con 201 iteraciones. Recompensa final=-200.0\n"
          ],
          "name": "stdout"
        },
        {
          "output_type": "stream",
          "text": [
            "\r 45%|████▌     | 450/1000 [03:13<03:25,  2.67it/s]"
          ],
          "name": "stderr"
        },
        {
          "output_type": "stream",
          "text": [
            "\n",
            " Episodio número 449 finalizado con 201 iteraciones. Recompensa final=-200.0\n"
          ],
          "name": "stdout"
        },
        {
          "output_type": "stream",
          "text": [
            "\r 45%|████▌     | 451/1000 [03:13<03:28,  2.63it/s]"
          ],
          "name": "stderr"
        },
        {
          "output_type": "stream",
          "text": [
            "\n",
            " Episodio número 450 finalizado con 201 iteraciones. Recompensa final=-200.0\n"
          ],
          "name": "stdout"
        },
        {
          "output_type": "stream",
          "text": [
            "\r 45%|████▌     | 452/1000 [03:14<03:30,  2.61it/s]"
          ],
          "name": "stderr"
        },
        {
          "output_type": "stream",
          "text": [
            "\n",
            " Episodio número 451 finalizado con 201 iteraciones. Recompensa final=-200.0\n"
          ],
          "name": "stdout"
        },
        {
          "output_type": "stream",
          "text": [
            "\r 45%|████▌     | 453/1000 [03:14<03:25,  2.67it/s]"
          ],
          "name": "stderr"
        },
        {
          "output_type": "stream",
          "text": [
            "\n",
            " Episodio número 452 finalizado con 201 iteraciones. Recompensa final=-200.0\n"
          ],
          "name": "stdout"
        },
        {
          "output_type": "stream",
          "text": [
            "\r 45%|████▌     | 454/1000 [03:14<03:28,  2.62it/s]"
          ],
          "name": "stderr"
        },
        {
          "output_type": "stream",
          "text": [
            "\n",
            " Episodio número 453 finalizado con 201 iteraciones. Recompensa final=-200.0\n"
          ],
          "name": "stdout"
        },
        {
          "output_type": "stream",
          "text": [
            "\r 46%|████▌     | 455/1000 [03:15<03:27,  2.62it/s]"
          ],
          "name": "stderr"
        },
        {
          "output_type": "stream",
          "text": [
            "\n",
            " Episodio número 454 finalizado con 201 iteraciones. Recompensa final=-200.0\n"
          ],
          "name": "stdout"
        },
        {
          "output_type": "stream",
          "text": [
            "\r 46%|████▌     | 456/1000 [03:15<03:27,  2.63it/s]"
          ],
          "name": "stderr"
        },
        {
          "output_type": "stream",
          "text": [
            "\n",
            " Episodio número 455 finalizado con 201 iteraciones. Recompensa final=-200.0\n"
          ],
          "name": "stdout"
        },
        {
          "output_type": "stream",
          "text": [
            "\r 46%|████▌     | 457/1000 [03:15<03:28,  2.60it/s]"
          ],
          "name": "stderr"
        },
        {
          "output_type": "stream",
          "text": [
            "\n",
            " Episodio número 456 finalizado con 201 iteraciones. Recompensa final=-200.0\n"
          ],
          "name": "stdout"
        },
        {
          "output_type": "stream",
          "text": [
            "\r 46%|████▌     | 458/1000 [03:16<03:25,  2.64it/s]"
          ],
          "name": "stderr"
        },
        {
          "output_type": "stream",
          "text": [
            "\n",
            " Episodio número 457 finalizado con 201 iteraciones. Recompensa final=-200.0\n"
          ],
          "name": "stdout"
        },
        {
          "output_type": "stream",
          "text": [
            "\r 46%|████▌     | 459/1000 [03:16<03:22,  2.67it/s]"
          ],
          "name": "stderr"
        },
        {
          "output_type": "stream",
          "text": [
            "\n",
            " Episodio número 458 finalizado con 201 iteraciones. Recompensa final=-200.0\n"
          ],
          "name": "stdout"
        },
        {
          "output_type": "stream",
          "text": [
            "\r 46%|████▌     | 460/1000 [03:17<03:18,  2.72it/s]"
          ],
          "name": "stderr"
        },
        {
          "output_type": "stream",
          "text": [
            "\n",
            " Episodio número 459 finalizado con 201 iteraciones. Recompensa final=-200.0\n"
          ],
          "name": "stdout"
        },
        {
          "output_type": "stream",
          "text": [
            "\r 46%|████▌     | 461/1000 [03:17<03:21,  2.68it/s]"
          ],
          "name": "stderr"
        },
        {
          "output_type": "stream",
          "text": [
            "\n",
            " Episodio número 460 finalizado con 201 iteraciones. Recompensa final=-200.0\n"
          ],
          "name": "stdout"
        },
        {
          "output_type": "stream",
          "text": [
            "\r 46%|████▌     | 462/1000 [03:17<03:19,  2.70it/s]"
          ],
          "name": "stderr"
        },
        {
          "output_type": "stream",
          "text": [
            "\n",
            " Episodio número 461 finalizado con 201 iteraciones. Recompensa final=-200.0\n"
          ],
          "name": "stdout"
        },
        {
          "output_type": "stream",
          "text": [
            "\r 46%|████▋     | 463/1000 [03:18<03:18,  2.71it/s]"
          ],
          "name": "stderr"
        },
        {
          "output_type": "stream",
          "text": [
            "\n",
            " Episodio número 462 finalizado con 201 iteraciones. Recompensa final=-200.0\n"
          ],
          "name": "stdout"
        },
        {
          "output_type": "stream",
          "text": [
            "\r 46%|████▋     | 464/1000 [03:18<03:19,  2.68it/s]"
          ],
          "name": "stderr"
        },
        {
          "output_type": "stream",
          "text": [
            "\n",
            " Episodio número 463 finalizado con 201 iteraciones. Recompensa final=-200.0\n"
          ],
          "name": "stdout"
        },
        {
          "output_type": "stream",
          "text": [
            "\r 46%|████▋     | 465/1000 [03:18<03:17,  2.72it/s]"
          ],
          "name": "stderr"
        },
        {
          "output_type": "stream",
          "text": [
            "\n",
            " Episodio número 464 finalizado con 201 iteraciones. Recompensa final=-200.0\n"
          ],
          "name": "stdout"
        },
        {
          "output_type": "stream",
          "text": [
            "\r 47%|████▋     | 466/1000 [03:19<03:16,  2.71it/s]"
          ],
          "name": "stderr"
        },
        {
          "output_type": "stream",
          "text": [
            "\n",
            " Episodio número 465 finalizado con 201 iteraciones. Recompensa final=-200.0\n"
          ],
          "name": "stdout"
        },
        {
          "output_type": "stream",
          "text": [
            "\r 47%|████▋     | 467/1000 [03:19<03:16,  2.72it/s]"
          ],
          "name": "stderr"
        },
        {
          "output_type": "stream",
          "text": [
            "\n",
            " Episodio número 466 finalizado con 201 iteraciones. Recompensa final=-200.0\n"
          ],
          "name": "stdout"
        },
        {
          "output_type": "stream",
          "text": [
            "\r 47%|████▋     | 468/1000 [03:20<03:18,  2.68it/s]"
          ],
          "name": "stderr"
        },
        {
          "output_type": "stream",
          "text": [
            "\n",
            " Episodio número 467 finalizado con 201 iteraciones. Recompensa final=-200.0\n"
          ],
          "name": "stdout"
        },
        {
          "output_type": "stream",
          "text": [
            "\r 47%|████▋     | 469/1000 [03:20<03:16,  2.70it/s]"
          ],
          "name": "stderr"
        },
        {
          "output_type": "stream",
          "text": [
            "\n",
            " Episodio número 468 finalizado con 201 iteraciones. Recompensa final=-200.0\n"
          ],
          "name": "stdout"
        },
        {
          "output_type": "stream",
          "text": [
            "\r 47%|████▋     | 470/1000 [03:20<03:15,  2.71it/s]"
          ],
          "name": "stderr"
        },
        {
          "output_type": "stream",
          "text": [
            "\n",
            " Episodio número 469 finalizado con 201 iteraciones. Recompensa final=-200.0\n"
          ],
          "name": "stdout"
        },
        {
          "output_type": "stream",
          "text": [
            "\r 47%|████▋     | 471/1000 [03:21<03:15,  2.70it/s]"
          ],
          "name": "stderr"
        },
        {
          "output_type": "stream",
          "text": [
            "\n",
            " Episodio número 470 finalizado con 201 iteraciones. Recompensa final=-200.0\n"
          ],
          "name": "stdout"
        },
        {
          "output_type": "stream",
          "text": [
            "\r 47%|████▋     | 472/1000 [03:21<03:14,  2.71it/s]"
          ],
          "name": "stderr"
        },
        {
          "output_type": "stream",
          "text": [
            "\n",
            " Episodio número 471 finalizado con 201 iteraciones. Recompensa final=-200.0\n"
          ],
          "name": "stdout"
        },
        {
          "output_type": "stream",
          "text": [
            "\r 47%|████▋     | 473/1000 [03:21<03:14,  2.70it/s]"
          ],
          "name": "stderr"
        },
        {
          "output_type": "stream",
          "text": [
            "\n",
            " Episodio número 472 finalizado con 201 iteraciones. Recompensa final=-200.0\n"
          ],
          "name": "stdout"
        },
        {
          "output_type": "stream",
          "text": [
            "\r 47%|████▋     | 474/1000 [03:22<03:12,  2.73it/s]"
          ],
          "name": "stderr"
        },
        {
          "output_type": "stream",
          "text": [
            "\n",
            " Episodio número 473 finalizado con 201 iteraciones. Recompensa final=-200.0\n"
          ],
          "name": "stdout"
        },
        {
          "output_type": "stream",
          "text": [
            "\r 48%|████▊     | 475/1000 [03:22<03:14,  2.70it/s]"
          ],
          "name": "stderr"
        },
        {
          "output_type": "stream",
          "text": [
            "\n",
            " Episodio número 474 finalizado con 201 iteraciones. Recompensa final=-200.0\n"
          ],
          "name": "stdout"
        },
        {
          "output_type": "stream",
          "text": [
            "\r 48%|████▊     | 476/1000 [03:22<03:14,  2.69it/s]"
          ],
          "name": "stderr"
        },
        {
          "output_type": "stream",
          "text": [
            "\n",
            " Episodio número 475 finalizado con 201 iteraciones. Recompensa final=-200.0\n"
          ],
          "name": "stdout"
        },
        {
          "output_type": "stream",
          "text": [
            "\r 48%|████▊     | 477/1000 [03:23<03:16,  2.65it/s]"
          ],
          "name": "stderr"
        },
        {
          "output_type": "stream",
          "text": [
            "\n",
            " Episodio número 476 finalizado con 201 iteraciones. Recompensa final=-200.0\n"
          ],
          "name": "stdout"
        },
        {
          "output_type": "stream",
          "text": [
            "\r 48%|████▊     | 478/1000 [03:23<03:16,  2.66it/s]"
          ],
          "name": "stderr"
        },
        {
          "output_type": "stream",
          "text": [
            "\n",
            " Episodio número 477 finalizado con 201 iteraciones. Recompensa final=-200.0\n"
          ],
          "name": "stdout"
        },
        {
          "output_type": "stream",
          "text": [
            "\r 48%|████▊     | 479/1000 [03:24<03:15,  2.66it/s]"
          ],
          "name": "stderr"
        },
        {
          "output_type": "stream",
          "text": [
            "\n",
            " Episodio número 478 finalizado con 201 iteraciones. Recompensa final=-200.0\n"
          ],
          "name": "stdout"
        },
        {
          "output_type": "stream",
          "text": [
            "\r 48%|████▊     | 480/1000 [03:24<03:17,  2.63it/s]"
          ],
          "name": "stderr"
        },
        {
          "output_type": "stream",
          "text": [
            "\n",
            " Episodio número 479 finalizado con 201 iteraciones. Recompensa final=-200.0\n"
          ],
          "name": "stdout"
        },
        {
          "output_type": "stream",
          "text": [
            "\r 48%|████▊     | 481/1000 [03:24<03:17,  2.63it/s]"
          ],
          "name": "stderr"
        },
        {
          "output_type": "stream",
          "text": [
            "\n",
            " Episodio número 480 finalizado con 201 iteraciones. Recompensa final=-200.0\n"
          ],
          "name": "stdout"
        },
        {
          "output_type": "stream",
          "text": [
            "\r 48%|████▊     | 482/1000 [03:25<03:15,  2.65it/s]"
          ],
          "name": "stderr"
        },
        {
          "output_type": "stream",
          "text": [
            "\n",
            " Episodio número 481 finalizado con 201 iteraciones. Recompensa final=-200.0\n"
          ],
          "name": "stdout"
        },
        {
          "output_type": "stream",
          "text": [
            "\r 48%|████▊     | 483/1000 [03:25<03:12,  2.68it/s]"
          ],
          "name": "stderr"
        },
        {
          "output_type": "stream",
          "text": [
            "\n",
            " Episodio número 482 finalizado con 201 iteraciones. Recompensa final=-200.0\n"
          ],
          "name": "stdout"
        },
        {
          "output_type": "stream",
          "text": [
            "\r 48%|████▊     | 484/1000 [03:25<03:13,  2.67it/s]"
          ],
          "name": "stderr"
        },
        {
          "output_type": "stream",
          "text": [
            "\n",
            " Episodio número 483 finalizado con 201 iteraciones. Recompensa final=-200.0\n"
          ],
          "name": "stdout"
        },
        {
          "output_type": "stream",
          "text": [
            "\r 48%|████▊     | 485/1000 [03:26<03:10,  2.70it/s]"
          ],
          "name": "stderr"
        },
        {
          "output_type": "stream",
          "text": [
            "\n",
            " Episodio número 484 finalizado con 201 iteraciones. Recompensa final=-200.0\n"
          ],
          "name": "stdout"
        },
        {
          "output_type": "stream",
          "text": [
            "\r 49%|████▊     | 486/1000 [03:26<03:10,  2.70it/s]"
          ],
          "name": "stderr"
        },
        {
          "output_type": "stream",
          "text": [
            "\n",
            " Episodio número 485 finalizado con 201 iteraciones. Recompensa final=-200.0\n"
          ],
          "name": "stdout"
        },
        {
          "output_type": "stream",
          "text": [
            "\r 49%|████▊     | 487/1000 [03:27<03:08,  2.72it/s]"
          ],
          "name": "stderr"
        },
        {
          "output_type": "stream",
          "text": [
            "\n",
            " Episodio número 486 finalizado con 201 iteraciones. Recompensa final=-200.0\n"
          ],
          "name": "stdout"
        },
        {
          "output_type": "stream",
          "text": [
            "\r 49%|████▉     | 488/1000 [03:27<03:12,  2.66it/s]"
          ],
          "name": "stderr"
        },
        {
          "output_type": "stream",
          "text": [
            "\n",
            " Episodio número 487 finalizado con 201 iteraciones. Recompensa final=-200.0\n"
          ],
          "name": "stdout"
        },
        {
          "output_type": "stream",
          "text": [
            "\r 49%|████▉     | 489/1000 [03:27<03:14,  2.62it/s]"
          ],
          "name": "stderr"
        },
        {
          "output_type": "stream",
          "text": [
            "\n",
            " Episodio número 488 finalizado con 201 iteraciones. Recompensa final=-200.0\n"
          ],
          "name": "stdout"
        },
        {
          "output_type": "stream",
          "text": [
            "\r 49%|████▉     | 490/1000 [03:28<03:15,  2.60it/s]"
          ],
          "name": "stderr"
        },
        {
          "output_type": "stream",
          "text": [
            "\n",
            " Episodio número 489 finalizado con 201 iteraciones. Recompensa final=-200.0\n"
          ],
          "name": "stdout"
        },
        {
          "output_type": "stream",
          "text": [
            "\r 49%|████▉     | 491/1000 [03:28<03:12,  2.64it/s]"
          ],
          "name": "stderr"
        },
        {
          "output_type": "stream",
          "text": [
            "\n",
            " Episodio número 490 finalizado con 201 iteraciones. Recompensa final=-200.0\n"
          ],
          "name": "stdout"
        },
        {
          "output_type": "stream",
          "text": [
            "\r 49%|████▉     | 492/1000 [03:29<03:15,  2.60it/s]"
          ],
          "name": "stderr"
        },
        {
          "output_type": "stream",
          "text": [
            "\n",
            " Episodio número 491 finalizado con 201 iteraciones. Recompensa final=-200.0\n"
          ],
          "name": "stdout"
        },
        {
          "output_type": "stream",
          "text": [
            "\r 49%|████▉     | 493/1000 [03:29<03:11,  2.65it/s]"
          ],
          "name": "stderr"
        },
        {
          "output_type": "stream",
          "text": [
            "\n",
            " Episodio número 492 finalizado con 201 iteraciones. Recompensa final=-200.0\n"
          ],
          "name": "stdout"
        },
        {
          "output_type": "stream",
          "text": [
            "\r 49%|████▉     | 494/1000 [03:29<03:11,  2.65it/s]"
          ],
          "name": "stderr"
        },
        {
          "output_type": "stream",
          "text": [
            "\n",
            " Episodio número 493 finalizado con 201 iteraciones. Recompensa final=-200.0\n"
          ],
          "name": "stdout"
        },
        {
          "output_type": "stream",
          "text": [
            "\r 50%|████▉     | 495/1000 [03:30<03:10,  2.66it/s]"
          ],
          "name": "stderr"
        },
        {
          "output_type": "stream",
          "text": [
            "\n",
            " Episodio número 494 finalizado con 201 iteraciones. Recompensa final=-200.0\n"
          ],
          "name": "stdout"
        },
        {
          "output_type": "stream",
          "text": [
            "\r 50%|████▉     | 496/1000 [03:30<03:07,  2.69it/s]"
          ],
          "name": "stderr"
        },
        {
          "output_type": "stream",
          "text": [
            "\n",
            " Episodio número 495 finalizado con 201 iteraciones. Recompensa final=-200.0\n"
          ],
          "name": "stdout"
        },
        {
          "output_type": "stream",
          "text": [
            "\r 50%|████▉     | 497/1000 [03:30<03:08,  2.66it/s]"
          ],
          "name": "stderr"
        },
        {
          "output_type": "stream",
          "text": [
            "\n",
            " Episodio número 496 finalizado con 201 iteraciones. Recompensa final=-200.0\n"
          ],
          "name": "stdout"
        },
        {
          "output_type": "stream",
          "text": [
            "\r 50%|████▉     | 498/1000 [03:31<03:07,  2.67it/s]"
          ],
          "name": "stderr"
        },
        {
          "output_type": "stream",
          "text": [
            "\n",
            " Episodio número 497 finalizado con 201 iteraciones. Recompensa final=-200.0\n"
          ],
          "name": "stdout"
        },
        {
          "output_type": "stream",
          "text": [
            "\r 50%|████▉     | 499/1000 [03:31<03:07,  2.67it/s]"
          ],
          "name": "stderr"
        },
        {
          "output_type": "stream",
          "text": [
            "\n",
            " Episodio número 498 finalizado con 201 iteraciones. Recompensa final=-200.0\n"
          ],
          "name": "stdout"
        },
        {
          "output_type": "stream",
          "text": [
            "\r 50%|█████     | 500/1000 [03:31<03:07,  2.67it/s]"
          ],
          "name": "stderr"
        },
        {
          "output_type": "stream",
          "text": [
            "\n",
            " Episodio número 499 finalizado con 201 iteraciones. Recompensa final=-200.0\n"
          ],
          "name": "stdout"
        },
        {
          "output_type": "stream",
          "text": [
            "\r 50%|█████     | 501/1000 [03:32<03:05,  2.69it/s]"
          ],
          "name": "stderr"
        },
        {
          "output_type": "stream",
          "text": [
            "\n",
            " Episodio número 500 finalizado con 201 iteraciones. Recompensa final=-200.0\n"
          ],
          "name": "stdout"
        },
        {
          "output_type": "stream",
          "text": [
            "\r 50%|█████     | 502/1000 [03:32<03:06,  2.67it/s]"
          ],
          "name": "stderr"
        },
        {
          "output_type": "stream",
          "text": [
            "\n",
            " Episodio número 501 finalizado con 201 iteraciones. Recompensa final=-200.0\n"
          ],
          "name": "stdout"
        },
        {
          "output_type": "stream",
          "text": [
            "\r 50%|█████     | 503/1000 [03:33<03:04,  2.69it/s]"
          ],
          "name": "stderr"
        },
        {
          "output_type": "stream",
          "text": [
            "\n",
            " Episodio número 502 finalizado con 201 iteraciones. Recompensa final=-200.0\n"
          ],
          "name": "stdout"
        },
        {
          "output_type": "stream",
          "text": [
            "\r 50%|█████     | 504/1000 [03:33<03:02,  2.72it/s]"
          ],
          "name": "stderr"
        },
        {
          "output_type": "stream",
          "text": [
            "\n",
            " Episodio número 503 finalizado con 201 iteraciones. Recompensa final=-200.0\n"
          ],
          "name": "stdout"
        },
        {
          "output_type": "stream",
          "text": [
            "\r 50%|█████     | 505/1000 [03:33<03:03,  2.70it/s]"
          ],
          "name": "stderr"
        },
        {
          "output_type": "stream",
          "text": [
            "\n",
            " Episodio número 504 finalizado con 201 iteraciones. Recompensa final=-200.0\n"
          ],
          "name": "stdout"
        },
        {
          "output_type": "stream",
          "text": [
            "\r 51%|█████     | 506/1000 [03:34<03:05,  2.67it/s]"
          ],
          "name": "stderr"
        },
        {
          "output_type": "stream",
          "text": [
            "\n",
            " Episodio número 505 finalizado con 201 iteraciones. Recompensa final=-200.0\n"
          ],
          "name": "stdout"
        },
        {
          "output_type": "stream",
          "text": [
            "\r 51%|█████     | 507/1000 [03:34<03:02,  2.70it/s]"
          ],
          "name": "stderr"
        },
        {
          "output_type": "stream",
          "text": [
            "\n",
            " Episodio número 506 finalizado con 201 iteraciones. Recompensa final=-200.0\n"
          ],
          "name": "stdout"
        },
        {
          "output_type": "stream",
          "text": [
            "\r 51%|█████     | 508/1000 [03:34<03:06,  2.64it/s]"
          ],
          "name": "stderr"
        },
        {
          "output_type": "stream",
          "text": [
            "\n",
            " Episodio número 507 finalizado con 201 iteraciones. Recompensa final=-200.0\n"
          ],
          "name": "stdout"
        },
        {
          "output_type": "stream",
          "text": [
            "\r 51%|█████     | 509/1000 [03:35<03:03,  2.67it/s]"
          ],
          "name": "stderr"
        },
        {
          "output_type": "stream",
          "text": [
            "\n",
            " Episodio número 508 finalizado con 201 iteraciones. Recompensa final=-200.0\n"
          ],
          "name": "stdout"
        },
        {
          "output_type": "stream",
          "text": [
            "\r 51%|█████     | 510/1000 [03:35<03:02,  2.69it/s]"
          ],
          "name": "stderr"
        },
        {
          "output_type": "stream",
          "text": [
            "\n",
            " Episodio número 509 finalizado con 201 iteraciones. Recompensa final=-200.0\n"
          ],
          "name": "stdout"
        },
        {
          "output_type": "stream",
          "text": [
            "\r 51%|█████     | 511/1000 [03:36<03:01,  2.69it/s]"
          ],
          "name": "stderr"
        },
        {
          "output_type": "stream",
          "text": [
            "\n",
            " Episodio número 510 finalizado con 201 iteraciones. Recompensa final=-200.0\n"
          ],
          "name": "stdout"
        },
        {
          "output_type": "stream",
          "text": [
            "\r 51%|█████     | 512/1000 [03:36<03:01,  2.69it/s]"
          ],
          "name": "stderr"
        },
        {
          "output_type": "stream",
          "text": [
            "\n",
            " Episodio número 511 finalizado con 201 iteraciones. Recompensa final=-200.0\n"
          ],
          "name": "stdout"
        },
        {
          "output_type": "stream",
          "text": [
            "\r 51%|█████▏    | 513/1000 [03:39<09:18,  1.15s/it]"
          ],
          "name": "stderr"
        },
        {
          "output_type": "stream",
          "text": [
            "\n",
            " Episodio número 512 finalizado con 201 iteraciones. Recompensa final=-200.0\n"
          ],
          "name": "stdout"
        },
        {
          "output_type": "stream",
          "text": [
            "\r 51%|█████▏    | 514/1000 [03:39<07:37,  1.06it/s]"
          ],
          "name": "stderr"
        },
        {
          "output_type": "stream",
          "text": [
            "\n",
            " Episodio número 513 finalizado con 201 iteraciones. Recompensa final=-200.0\n"
          ],
          "name": "stdout"
        },
        {
          "output_type": "stream",
          "text": [
            "\r 52%|█████▏    | 515/1000 [03:40<06:14,  1.30it/s]"
          ],
          "name": "stderr"
        },
        {
          "output_type": "stream",
          "text": [
            "\n",
            " Episodio número 514 finalizado con 201 iteraciones. Recompensa final=-200.0\n"
          ],
          "name": "stdout"
        },
        {
          "output_type": "stream",
          "text": [
            "\r 52%|█████▏    | 516/1000 [03:40<05:14,  1.54it/s]"
          ],
          "name": "stderr"
        },
        {
          "output_type": "stream",
          "text": [
            "\n",
            " Episodio número 515 finalizado con 201 iteraciones. Recompensa final=-200.0\n"
          ],
          "name": "stdout"
        },
        {
          "output_type": "stream",
          "text": [
            "\r 52%|█████▏    | 517/1000 [03:40<04:35,  1.75it/s]"
          ],
          "name": "stderr"
        },
        {
          "output_type": "stream",
          "text": [
            "\n",
            " Episodio número 516 finalizado con 201 iteraciones. Recompensa final=-200.0\n"
          ],
          "name": "stdout"
        },
        {
          "output_type": "stream",
          "text": [
            "\r 52%|█████▏    | 518/1000 [03:41<04:06,  1.95it/s]"
          ],
          "name": "stderr"
        },
        {
          "output_type": "stream",
          "text": [
            "\n",
            " Episodio número 517 finalizado con 201 iteraciones. Recompensa final=-200.0\n"
          ],
          "name": "stdout"
        },
        {
          "output_type": "stream",
          "text": [
            "\r 52%|█████▏    | 519/1000 [03:41<03:50,  2.09it/s]"
          ],
          "name": "stderr"
        },
        {
          "output_type": "stream",
          "text": [
            "\n",
            " Episodio número 518 finalizado con 201 iteraciones. Recompensa final=-200.0\n"
          ],
          "name": "stdout"
        },
        {
          "output_type": "stream",
          "text": [
            "\r 52%|█████▏    | 520/1000 [03:42<03:39,  2.19it/s]"
          ],
          "name": "stderr"
        },
        {
          "output_type": "stream",
          "text": [
            "\n",
            " Episodio número 519 finalizado con 201 iteraciones. Recompensa final=-200.0\n"
          ],
          "name": "stdout"
        },
        {
          "output_type": "stream",
          "text": [
            "\r 52%|█████▏    | 521/1000 [03:42<03:26,  2.32it/s]"
          ],
          "name": "stderr"
        },
        {
          "output_type": "stream",
          "text": [
            "\n",
            " Episodio número 520 finalizado con 201 iteraciones. Recompensa final=-200.0\n"
          ],
          "name": "stdout"
        },
        {
          "output_type": "stream",
          "text": [
            "\r 52%|█████▏    | 522/1000 [03:42<03:20,  2.38it/s]"
          ],
          "name": "stderr"
        },
        {
          "output_type": "stream",
          "text": [
            "\n",
            " Episodio número 521 finalizado con 201 iteraciones. Recompensa final=-200.0\n"
          ],
          "name": "stdout"
        },
        {
          "output_type": "stream",
          "text": [
            "\r 52%|█████▏    | 523/1000 [03:43<03:18,  2.41it/s]"
          ],
          "name": "stderr"
        },
        {
          "output_type": "stream",
          "text": [
            "\n",
            " Episodio número 522 finalizado con 201 iteraciones. Recompensa final=-200.0\n"
          ],
          "name": "stdout"
        },
        {
          "output_type": "stream",
          "text": [
            "\r 52%|█████▏    | 524/1000 [03:43<03:16,  2.42it/s]"
          ],
          "name": "stderr"
        },
        {
          "output_type": "stream",
          "text": [
            "\n",
            " Episodio número 523 finalizado con 201 iteraciones. Recompensa final=-200.0\n"
          ],
          "name": "stdout"
        },
        {
          "output_type": "stream",
          "text": [
            "\r 52%|█████▎    | 525/1000 [03:44<03:16,  2.42it/s]"
          ],
          "name": "stderr"
        },
        {
          "output_type": "stream",
          "text": [
            "\n",
            " Episodio número 524 finalizado con 201 iteraciones. Recompensa final=-200.0\n"
          ],
          "name": "stdout"
        },
        {
          "output_type": "stream",
          "text": [
            "\r 53%|█████▎    | 526/1000 [03:44<03:10,  2.48it/s]"
          ],
          "name": "stderr"
        },
        {
          "output_type": "stream",
          "text": [
            "\n",
            " Episodio número 525 finalizado con 201 iteraciones. Recompensa final=-200.0\n"
          ],
          "name": "stdout"
        },
        {
          "output_type": "stream",
          "text": [
            "\r 53%|█████▎    | 527/1000 [03:44<03:06,  2.53it/s]"
          ],
          "name": "stderr"
        },
        {
          "output_type": "stream",
          "text": [
            "\n",
            " Episodio número 526 finalizado con 201 iteraciones. Recompensa final=-200.0\n"
          ],
          "name": "stdout"
        },
        {
          "output_type": "stream",
          "text": [
            "\r 53%|█████▎    | 528/1000 [03:45<03:07,  2.52it/s]"
          ],
          "name": "stderr"
        },
        {
          "output_type": "stream",
          "text": [
            "\n",
            " Episodio número 527 finalizado con 201 iteraciones. Recompensa final=-200.0\n"
          ],
          "name": "stdout"
        },
        {
          "output_type": "stream",
          "text": [
            "\r 53%|█████▎    | 529/1000 [03:45<03:05,  2.54it/s]"
          ],
          "name": "stderr"
        },
        {
          "output_type": "stream",
          "text": [
            "\n",
            " Episodio número 528 finalizado con 201 iteraciones. Recompensa final=-200.0\n"
          ],
          "name": "stdout"
        },
        {
          "output_type": "stream",
          "text": [
            "\r 53%|█████▎    | 530/1000 [03:46<03:06,  2.53it/s]"
          ],
          "name": "stderr"
        },
        {
          "output_type": "stream",
          "text": [
            "\n",
            " Episodio número 529 finalizado con 201 iteraciones. Recompensa final=-200.0\n"
          ],
          "name": "stdout"
        },
        {
          "output_type": "stream",
          "text": [
            "\r 53%|█████▎    | 531/1000 [03:46<02:59,  2.61it/s]"
          ],
          "name": "stderr"
        },
        {
          "output_type": "stream",
          "text": [
            "\n",
            " Episodio número 530 finalizado con 201 iteraciones. Recompensa final=-200.0\n"
          ],
          "name": "stdout"
        },
        {
          "output_type": "stream",
          "text": [
            "\r 53%|█████▎    | 532/1000 [03:46<02:56,  2.65it/s]"
          ],
          "name": "stderr"
        },
        {
          "output_type": "stream",
          "text": [
            "\n",
            " Episodio número 531 finalizado con 201 iteraciones. Recompensa final=-200.0\n"
          ],
          "name": "stdout"
        },
        {
          "output_type": "stream",
          "text": [
            "\r 53%|█████▎    | 533/1000 [03:47<02:58,  2.62it/s]"
          ],
          "name": "stderr"
        },
        {
          "output_type": "stream",
          "text": [
            "\n",
            " Episodio número 532 finalizado con 201 iteraciones. Recompensa final=-200.0\n"
          ],
          "name": "stdout"
        },
        {
          "output_type": "stream",
          "text": [
            "\r 53%|█████▎    | 534/1000 [03:47<02:55,  2.65it/s]"
          ],
          "name": "stderr"
        },
        {
          "output_type": "stream",
          "text": [
            "\n",
            " Episodio número 533 finalizado con 201 iteraciones. Recompensa final=-200.0\n"
          ],
          "name": "stdout"
        },
        {
          "output_type": "stream",
          "text": [
            "\r 54%|█████▎    | 535/1000 [03:47<02:56,  2.63it/s]"
          ],
          "name": "stderr"
        },
        {
          "output_type": "stream",
          "text": [
            "\n",
            " Episodio número 534 finalizado con 201 iteraciones. Recompensa final=-200.0\n"
          ],
          "name": "stdout"
        },
        {
          "output_type": "stream",
          "text": [
            "\r 54%|█████▎    | 536/1000 [03:48<02:56,  2.63it/s]"
          ],
          "name": "stderr"
        },
        {
          "output_type": "stream",
          "text": [
            "\n",
            " Episodio número 535 finalizado con 201 iteraciones. Recompensa final=-200.0\n"
          ],
          "name": "stdout"
        },
        {
          "output_type": "stream",
          "text": [
            "\r 54%|█████▎    | 537/1000 [03:48<02:55,  2.64it/s]"
          ],
          "name": "stderr"
        },
        {
          "output_type": "stream",
          "text": [
            "\n",
            " Episodio número 536 finalizado con 201 iteraciones. Recompensa final=-200.0\n"
          ],
          "name": "stdout"
        },
        {
          "output_type": "stream",
          "text": [
            "\r 54%|█████▍    | 538/1000 [03:49<02:54,  2.64it/s]"
          ],
          "name": "stderr"
        },
        {
          "output_type": "stream",
          "text": [
            "\n",
            " Episodio número 537 finalizado con 201 iteraciones. Recompensa final=-200.0\n"
          ],
          "name": "stdout"
        },
        {
          "output_type": "stream",
          "text": [
            "\r 54%|█████▍    | 539/1000 [03:49<02:53,  2.66it/s]"
          ],
          "name": "stderr"
        },
        {
          "output_type": "stream",
          "text": [
            "\n",
            " Episodio número 538 finalizado con 201 iteraciones. Recompensa final=-200.0\n"
          ],
          "name": "stdout"
        },
        {
          "output_type": "stream",
          "text": [
            "\r 54%|█████▍    | 540/1000 [03:49<02:53,  2.65it/s]"
          ],
          "name": "stderr"
        },
        {
          "output_type": "stream",
          "text": [
            "\n",
            " Episodio número 539 finalizado con 201 iteraciones. Recompensa final=-200.0\n"
          ],
          "name": "stdout"
        },
        {
          "output_type": "stream",
          "text": [
            "\r 54%|█████▍    | 541/1000 [03:50<02:54,  2.62it/s]"
          ],
          "name": "stderr"
        },
        {
          "output_type": "stream",
          "text": [
            "\n",
            " Episodio número 540 finalizado con 201 iteraciones. Recompensa final=-200.0\n"
          ],
          "name": "stdout"
        },
        {
          "output_type": "stream",
          "text": [
            "\r 54%|█████▍    | 542/1000 [03:50<02:52,  2.65it/s]"
          ],
          "name": "stderr"
        },
        {
          "output_type": "stream",
          "text": [
            "\n",
            " Episodio número 541 finalizado con 201 iteraciones. Recompensa final=-200.0\n"
          ],
          "name": "stdout"
        },
        {
          "output_type": "stream",
          "text": [
            "\r 54%|█████▍    | 543/1000 [03:51<02:54,  2.62it/s]"
          ],
          "name": "stderr"
        },
        {
          "output_type": "stream",
          "text": [
            "\n",
            " Episodio número 542 finalizado con 201 iteraciones. Recompensa final=-200.0\n"
          ],
          "name": "stdout"
        },
        {
          "output_type": "stream",
          "text": [
            "\r 54%|█████▍    | 544/1000 [03:51<02:52,  2.64it/s]"
          ],
          "name": "stderr"
        },
        {
          "output_type": "stream",
          "text": [
            "\n",
            " Episodio número 543 finalizado con 201 iteraciones. Recompensa final=-200.0\n"
          ],
          "name": "stdout"
        },
        {
          "output_type": "stream",
          "text": [
            "\r 55%|█████▍    | 545/1000 [03:51<02:50,  2.67it/s]"
          ],
          "name": "stderr"
        },
        {
          "output_type": "stream",
          "text": [
            "\n",
            " Episodio número 544 finalizado con 201 iteraciones. Recompensa final=-200.0\n"
          ],
          "name": "stdout"
        },
        {
          "output_type": "stream",
          "text": [
            "\r 55%|█████▍    | 546/1000 [03:52<02:52,  2.63it/s]"
          ],
          "name": "stderr"
        },
        {
          "output_type": "stream",
          "text": [
            "\n",
            " Episodio número 545 finalizado con 201 iteraciones. Recompensa final=-200.0\n"
          ],
          "name": "stdout"
        },
        {
          "output_type": "stream",
          "text": [
            "\r 55%|█████▍    | 547/1000 [03:52<02:49,  2.67it/s]"
          ],
          "name": "stderr"
        },
        {
          "output_type": "stream",
          "text": [
            "\n",
            " Episodio número 546 finalizado con 201 iteraciones. Recompensa final=-200.0\n"
          ],
          "name": "stdout"
        },
        {
          "output_type": "stream",
          "text": [
            "\r 55%|█████▍    | 548/1000 [03:52<02:49,  2.66it/s]"
          ],
          "name": "stderr"
        },
        {
          "output_type": "stream",
          "text": [
            "\n",
            " Episodio número 547 finalizado con 201 iteraciones. Recompensa final=-200.0\n"
          ],
          "name": "stdout"
        },
        {
          "output_type": "stream",
          "text": [
            "\r 55%|█████▍    | 549/1000 [03:53<02:54,  2.58it/s]"
          ],
          "name": "stderr"
        },
        {
          "output_type": "stream",
          "text": [
            "\n",
            " Episodio número 548 finalizado con 201 iteraciones. Recompensa final=-200.0\n"
          ],
          "name": "stdout"
        },
        {
          "output_type": "stream",
          "text": [
            "\r 55%|█████▌    | 550/1000 [03:53<02:51,  2.63it/s]"
          ],
          "name": "stderr"
        },
        {
          "output_type": "stream",
          "text": [
            "\n",
            " Episodio número 549 finalizado con 201 iteraciones. Recompensa final=-200.0\n"
          ],
          "name": "stdout"
        },
        {
          "output_type": "stream",
          "text": [
            "\r 55%|█████▌    | 551/1000 [03:54<02:50,  2.63it/s]"
          ],
          "name": "stderr"
        },
        {
          "output_type": "stream",
          "text": [
            "\n",
            " Episodio número 550 finalizado con 201 iteraciones. Recompensa final=-200.0\n"
          ],
          "name": "stdout"
        },
        {
          "output_type": "stream",
          "text": [
            "\r 55%|█████▌    | 552/1000 [03:54<02:47,  2.68it/s]"
          ],
          "name": "stderr"
        },
        {
          "output_type": "stream",
          "text": [
            "\n",
            " Episodio número 551 finalizado con 201 iteraciones. Recompensa final=-200.0\n"
          ],
          "name": "stdout"
        },
        {
          "output_type": "stream",
          "text": [
            "\r 55%|█████▌    | 553/1000 [03:54<02:46,  2.68it/s]"
          ],
          "name": "stderr"
        },
        {
          "output_type": "stream",
          "text": [
            "\n",
            " Episodio número 552 finalizado con 201 iteraciones. Recompensa final=-200.0\n"
          ],
          "name": "stdout"
        },
        {
          "output_type": "stream",
          "text": [
            "\r 55%|█████▌    | 554/1000 [03:55<02:47,  2.66it/s]"
          ],
          "name": "stderr"
        },
        {
          "output_type": "stream",
          "text": [
            "\n",
            " Episodio número 553 finalizado con 201 iteraciones. Recompensa final=-200.0\n"
          ],
          "name": "stdout"
        },
        {
          "output_type": "stream",
          "text": [
            "\r 56%|█████▌    | 555/1000 [03:55<02:48,  2.64it/s]"
          ],
          "name": "stderr"
        },
        {
          "output_type": "stream",
          "text": [
            "\n",
            " Episodio número 554 finalizado con 201 iteraciones. Recompensa final=-200.0\n"
          ],
          "name": "stdout"
        },
        {
          "output_type": "stream",
          "text": [
            "\r 56%|█████▌    | 556/1000 [03:55<02:50,  2.60it/s]"
          ],
          "name": "stderr"
        },
        {
          "output_type": "stream",
          "text": [
            "\n",
            " Episodio número 555 finalizado con 201 iteraciones. Recompensa final=-200.0\n"
          ],
          "name": "stdout"
        },
        {
          "output_type": "stream",
          "text": [
            "\r 56%|█████▌    | 557/1000 [03:56<02:49,  2.62it/s]"
          ],
          "name": "stderr"
        },
        {
          "output_type": "stream",
          "text": [
            "\n",
            " Episodio número 556 finalizado con 201 iteraciones. Recompensa final=-200.0\n"
          ],
          "name": "stdout"
        },
        {
          "output_type": "stream",
          "text": [
            "\r 56%|█████▌    | 558/1000 [03:56<02:45,  2.67it/s]"
          ],
          "name": "stderr"
        },
        {
          "output_type": "stream",
          "text": [
            "\n",
            " Episodio número 557 finalizado con 201 iteraciones. Recompensa final=-200.0\n"
          ],
          "name": "stdout"
        },
        {
          "output_type": "stream",
          "text": [
            "\r 56%|█████▌    | 559/1000 [03:57<02:43,  2.70it/s]"
          ],
          "name": "stderr"
        },
        {
          "output_type": "stream",
          "text": [
            "\n",
            " Episodio número 558 finalizado con 201 iteraciones. Recompensa final=-200.0\n"
          ],
          "name": "stdout"
        },
        {
          "output_type": "stream",
          "text": [
            "\r 56%|█████▌    | 560/1000 [03:57<02:45,  2.66it/s]"
          ],
          "name": "stderr"
        },
        {
          "output_type": "stream",
          "text": [
            "\n",
            " Episodio número 559 finalizado con 201 iteraciones. Recompensa final=-200.0\n"
          ],
          "name": "stdout"
        },
        {
          "output_type": "stream",
          "text": [
            "\r 56%|█████▌    | 561/1000 [03:57<02:44,  2.67it/s]"
          ],
          "name": "stderr"
        },
        {
          "output_type": "stream",
          "text": [
            "\n",
            " Episodio número 560 finalizado con 201 iteraciones. Recompensa final=-200.0\n"
          ],
          "name": "stdout"
        },
        {
          "output_type": "stream",
          "text": [
            "\r 56%|█████▌    | 562/1000 [03:58<02:47,  2.61it/s]"
          ],
          "name": "stderr"
        },
        {
          "output_type": "stream",
          "text": [
            "\n",
            " Episodio número 561 finalizado con 201 iteraciones. Recompensa final=-200.0\n"
          ],
          "name": "stdout"
        },
        {
          "output_type": "stream",
          "text": [
            "\r 56%|█████▋    | 563/1000 [03:58<02:49,  2.58it/s]"
          ],
          "name": "stderr"
        },
        {
          "output_type": "stream",
          "text": [
            "\n",
            " Episodio número 562 finalizado con 201 iteraciones. Recompensa final=-200.0\n"
          ],
          "name": "stdout"
        },
        {
          "output_type": "stream",
          "text": [
            "\r 56%|█████▋    | 564/1000 [03:58<02:47,  2.60it/s]"
          ],
          "name": "stderr"
        },
        {
          "output_type": "stream",
          "text": [
            "\n",
            " Episodio número 563 finalizado con 201 iteraciones. Recompensa final=-200.0\n"
          ],
          "name": "stdout"
        },
        {
          "output_type": "stream",
          "text": [
            "\r 56%|█████▋    | 565/1000 [03:59<02:49,  2.57it/s]"
          ],
          "name": "stderr"
        },
        {
          "output_type": "stream",
          "text": [
            "\n",
            " Episodio número 564 finalizado con 201 iteraciones. Recompensa final=-200.0\n"
          ],
          "name": "stdout"
        },
        {
          "output_type": "stream",
          "text": [
            "\r 57%|█████▋    | 566/1000 [03:59<02:44,  2.63it/s]"
          ],
          "name": "stderr"
        },
        {
          "output_type": "stream",
          "text": [
            "\n",
            " Episodio número 565 finalizado con 201 iteraciones. Recompensa final=-200.0\n"
          ],
          "name": "stdout"
        },
        {
          "output_type": "stream",
          "text": [
            "\r 57%|█████▋    | 567/1000 [04:00<02:47,  2.58it/s]"
          ],
          "name": "stderr"
        },
        {
          "output_type": "stream",
          "text": [
            "\n",
            " Episodio número 566 finalizado con 201 iteraciones. Recompensa final=-200.0\n"
          ],
          "name": "stdout"
        },
        {
          "output_type": "stream",
          "text": [
            "\r 57%|█████▋    | 568/1000 [04:00<02:46,  2.60it/s]"
          ],
          "name": "stderr"
        },
        {
          "output_type": "stream",
          "text": [
            "\n",
            " Episodio número 567 finalizado con 201 iteraciones. Recompensa final=-200.0\n"
          ],
          "name": "stdout"
        },
        {
          "output_type": "stream",
          "text": [
            "\r 57%|█████▋    | 569/1000 [04:00<02:46,  2.59it/s]"
          ],
          "name": "stderr"
        },
        {
          "output_type": "stream",
          "text": [
            "\n",
            " Episodio número 568 finalizado con 201 iteraciones. Recompensa final=-200.0\n"
          ],
          "name": "stdout"
        },
        {
          "output_type": "stream",
          "text": [
            "\r 57%|█████▋    | 570/1000 [04:01<02:44,  2.62it/s]"
          ],
          "name": "stderr"
        },
        {
          "output_type": "stream",
          "text": [
            "\n",
            " Episodio número 569 finalizado con 201 iteraciones. Recompensa final=-200.0\n"
          ],
          "name": "stdout"
        },
        {
          "output_type": "stream",
          "text": [
            "\r 57%|█████▋    | 571/1000 [04:01<02:42,  2.64it/s]"
          ],
          "name": "stderr"
        },
        {
          "output_type": "stream",
          "text": [
            "\n",
            " Episodio número 570 finalizado con 201 iteraciones. Recompensa final=-200.0\n"
          ],
          "name": "stdout"
        },
        {
          "output_type": "stream",
          "text": [
            "\r 57%|█████▋    | 572/1000 [04:02<02:41,  2.65it/s]"
          ],
          "name": "stderr"
        },
        {
          "output_type": "stream",
          "text": [
            "\n",
            " Episodio número 571 finalizado con 201 iteraciones. Recompensa final=-200.0\n"
          ],
          "name": "stdout"
        },
        {
          "output_type": "stream",
          "text": [
            "\r 57%|█████▋    | 573/1000 [04:02<02:42,  2.63it/s]"
          ],
          "name": "stderr"
        },
        {
          "output_type": "stream",
          "text": [
            "\n",
            " Episodio número 572 finalizado con 201 iteraciones. Recompensa final=-200.0\n"
          ],
          "name": "stdout"
        },
        {
          "output_type": "stream",
          "text": [
            "\r 57%|█████▋    | 574/1000 [04:02<02:39,  2.67it/s]"
          ],
          "name": "stderr"
        },
        {
          "output_type": "stream",
          "text": [
            "\n",
            " Episodio número 573 finalizado con 201 iteraciones. Recompensa final=-200.0\n"
          ],
          "name": "stdout"
        },
        {
          "output_type": "stream",
          "text": [
            "\r 57%|█████▊    | 575/1000 [04:03<02:41,  2.64it/s]"
          ],
          "name": "stderr"
        },
        {
          "output_type": "stream",
          "text": [
            "\n",
            " Episodio número 574 finalizado con 201 iteraciones. Recompensa final=-200.0\n"
          ],
          "name": "stdout"
        },
        {
          "output_type": "stream",
          "text": [
            "\r 58%|█████▊    | 576/1000 [04:03<02:45,  2.56it/s]"
          ],
          "name": "stderr"
        },
        {
          "output_type": "stream",
          "text": [
            "\n",
            " Episodio número 575 finalizado con 201 iteraciones. Recompensa final=-200.0\n"
          ],
          "name": "stdout"
        },
        {
          "output_type": "stream",
          "text": [
            "\r 58%|█████▊    | 577/1000 [04:04<02:57,  2.38it/s]"
          ],
          "name": "stderr"
        },
        {
          "output_type": "stream",
          "text": [
            "\n",
            " Episodio número 576 finalizado con 201 iteraciones. Recompensa final=-200.0\n"
          ],
          "name": "stdout"
        },
        {
          "output_type": "stream",
          "text": [
            "\r 58%|█████▊    | 578/1000 [04:04<03:05,  2.27it/s]"
          ],
          "name": "stderr"
        },
        {
          "output_type": "stream",
          "text": [
            "\n",
            " Episodio número 577 finalizado con 201 iteraciones. Recompensa final=-200.0\n"
          ],
          "name": "stdout"
        },
        {
          "output_type": "stream",
          "text": [
            "\r 58%|█████▊    | 579/1000 [04:05<03:11,  2.19it/s]"
          ],
          "name": "stderr"
        },
        {
          "output_type": "stream",
          "text": [
            "\n",
            " Episodio número 578 finalizado con 201 iteraciones. Recompensa final=-200.0\n"
          ],
          "name": "stdout"
        },
        {
          "output_type": "stream",
          "text": [
            "\r 58%|█████▊    | 580/1000 [04:05<03:18,  2.11it/s]"
          ],
          "name": "stderr"
        },
        {
          "output_type": "stream",
          "text": [
            "\n",
            " Episodio número 579 finalizado con 201 iteraciones. Recompensa final=-200.0\n"
          ],
          "name": "stdout"
        },
        {
          "output_type": "stream",
          "text": [
            "\r 58%|█████▊    | 581/1000 [04:06<03:26,  2.02it/s]"
          ],
          "name": "stderr"
        },
        {
          "output_type": "stream",
          "text": [
            "\n",
            " Episodio número 580 finalizado con 201 iteraciones. Recompensa final=-200.0\n"
          ],
          "name": "stdout"
        },
        {
          "output_type": "stream",
          "text": [
            "\r 58%|█████▊    | 582/1000 [04:06<03:33,  1.96it/s]"
          ],
          "name": "stderr"
        },
        {
          "output_type": "stream",
          "text": [
            "\n",
            " Episodio número 581 finalizado con 201 iteraciones. Recompensa final=-200.0\n"
          ],
          "name": "stdout"
        },
        {
          "output_type": "stream",
          "text": [
            "\r 58%|█████▊    | 583/1000 [04:07<03:32,  1.96it/s]"
          ],
          "name": "stderr"
        },
        {
          "output_type": "stream",
          "text": [
            "\n",
            " Episodio número 582 finalizado con 201 iteraciones. Recompensa final=-200.0\n"
          ],
          "name": "stdout"
        },
        {
          "output_type": "stream",
          "text": [
            "\r 58%|█████▊    | 584/1000 [04:07<03:31,  1.97it/s]"
          ],
          "name": "stderr"
        },
        {
          "output_type": "stream",
          "text": [
            "\n",
            " Episodio número 583 finalizado con 201 iteraciones. Recompensa final=-200.0\n"
          ],
          "name": "stdout"
        },
        {
          "output_type": "stream",
          "text": [
            "\r 58%|█████▊    | 585/1000 [04:08<03:32,  1.95it/s]"
          ],
          "name": "stderr"
        },
        {
          "output_type": "stream",
          "text": [
            "\n",
            " Episodio número 584 finalizado con 201 iteraciones. Recompensa final=-200.0\n"
          ],
          "name": "stdout"
        },
        {
          "output_type": "stream",
          "text": [
            "\r 59%|█████▊    | 586/1000 [04:08<03:40,  1.88it/s]"
          ],
          "name": "stderr"
        },
        {
          "output_type": "stream",
          "text": [
            "\n",
            " Episodio número 585 finalizado con 201 iteraciones. Recompensa final=-200.0\n"
          ],
          "name": "stdout"
        },
        {
          "output_type": "stream",
          "text": [
            "\r 59%|█████▊    | 587/1000 [04:09<03:44,  1.84it/s]"
          ],
          "name": "stderr"
        },
        {
          "output_type": "stream",
          "text": [
            "\n",
            " Episodio número 586 finalizado con 201 iteraciones. Recompensa final=-200.0\n"
          ],
          "name": "stdout"
        },
        {
          "output_type": "stream",
          "text": [
            "\r 59%|█████▉    | 588/1000 [04:09<03:28,  1.97it/s]"
          ],
          "name": "stderr"
        },
        {
          "output_type": "stream",
          "text": [
            "\n",
            " Episodio número 587 finalizado con 201 iteraciones. Recompensa final=-200.0\n"
          ],
          "name": "stdout"
        },
        {
          "output_type": "stream",
          "text": [
            "\r 59%|█████▉    | 589/1000 [04:10<03:12,  2.13it/s]"
          ],
          "name": "stderr"
        },
        {
          "output_type": "stream",
          "text": [
            "\n",
            " Episodio número 588 finalizado con 201 iteraciones. Recompensa final=-200.0\n"
          ],
          "name": "stdout"
        },
        {
          "output_type": "stream",
          "text": [
            "\r 59%|█████▉    | 590/1000 [04:10<03:02,  2.24it/s]"
          ],
          "name": "stderr"
        },
        {
          "output_type": "stream",
          "text": [
            "\n",
            " Episodio número 589 finalizado con 201 iteraciones. Recompensa final=-200.0\n"
          ],
          "name": "stdout"
        },
        {
          "output_type": "stream",
          "text": [
            "\r 59%|█████▉    | 591/1000 [04:10<02:53,  2.36it/s]"
          ],
          "name": "stderr"
        },
        {
          "output_type": "stream",
          "text": [
            "\n",
            " Episodio número 590 finalizado con 201 iteraciones. Recompensa final=-200.0\n"
          ],
          "name": "stdout"
        },
        {
          "output_type": "stream",
          "text": [
            "\r 59%|█████▉    | 592/1000 [04:11<02:46,  2.46it/s]"
          ],
          "name": "stderr"
        },
        {
          "output_type": "stream",
          "text": [
            "\n",
            " Episodio número 591 finalizado con 201 iteraciones. Recompensa final=-200.0\n"
          ],
          "name": "stdout"
        },
        {
          "output_type": "stream",
          "text": [
            "\r 59%|█████▉    | 593/1000 [04:11<02:45,  2.46it/s]"
          ],
          "name": "stderr"
        },
        {
          "output_type": "stream",
          "text": [
            "\n",
            " Episodio número 592 finalizado con 201 iteraciones. Recompensa final=-200.0\n"
          ],
          "name": "stdout"
        },
        {
          "output_type": "stream",
          "text": [
            "\r 59%|█████▉    | 594/1000 [04:12<02:40,  2.53it/s]"
          ],
          "name": "stderr"
        },
        {
          "output_type": "stream",
          "text": [
            "\n",
            " Episodio número 593 finalizado con 201 iteraciones. Recompensa final=-200.0\n"
          ],
          "name": "stdout"
        },
        {
          "output_type": "stream",
          "text": [
            "\r 60%|█████▉    | 595/1000 [04:12<02:37,  2.57it/s]"
          ],
          "name": "stderr"
        },
        {
          "output_type": "stream",
          "text": [
            "\n",
            " Episodio número 594 finalizado con 201 iteraciones. Recompensa final=-200.0\n"
          ],
          "name": "stdout"
        },
        {
          "output_type": "stream",
          "text": [
            "\r 60%|█████▉    | 596/1000 [04:12<02:38,  2.55it/s]"
          ],
          "name": "stderr"
        },
        {
          "output_type": "stream",
          "text": [
            "\n",
            " Episodio número 595 finalizado con 201 iteraciones. Recompensa final=-200.0\n"
          ],
          "name": "stdout"
        },
        {
          "output_type": "stream",
          "text": [
            "\r 60%|█████▉    | 597/1000 [04:13<02:36,  2.58it/s]"
          ],
          "name": "stderr"
        },
        {
          "output_type": "stream",
          "text": [
            "\n",
            " Episodio número 596 finalizado con 201 iteraciones. Recompensa final=-200.0\n"
          ],
          "name": "stdout"
        },
        {
          "output_type": "stream",
          "text": [
            "\r 60%|█████▉    | 598/1000 [04:13<02:35,  2.59it/s]"
          ],
          "name": "stderr"
        },
        {
          "output_type": "stream",
          "text": [
            "\n",
            " Episodio número 597 finalizado con 201 iteraciones. Recompensa final=-200.0\n"
          ],
          "name": "stdout"
        },
        {
          "output_type": "stream",
          "text": [
            "\r 60%|█████▉    | 599/1000 [04:13<02:35,  2.58it/s]"
          ],
          "name": "stderr"
        },
        {
          "output_type": "stream",
          "text": [
            "\n",
            " Episodio número 598 finalizado con 201 iteraciones. Recompensa final=-200.0\n"
          ],
          "name": "stdout"
        },
        {
          "output_type": "stream",
          "text": [
            "\r 60%|██████    | 600/1000 [04:14<02:34,  2.60it/s]"
          ],
          "name": "stderr"
        },
        {
          "output_type": "stream",
          "text": [
            "\n",
            " Episodio número 599 finalizado con 201 iteraciones. Recompensa final=-200.0\n"
          ],
          "name": "stdout"
        },
        {
          "output_type": "stream",
          "text": [
            "\r 60%|██████    | 601/1000 [04:14<02:31,  2.63it/s]"
          ],
          "name": "stderr"
        },
        {
          "output_type": "stream",
          "text": [
            "\n",
            " Episodio número 600 finalizado con 201 iteraciones. Recompensa final=-200.0\n"
          ],
          "name": "stdout"
        },
        {
          "output_type": "stream",
          "text": [
            "\r 60%|██████    | 602/1000 [04:15<02:34,  2.58it/s]"
          ],
          "name": "stderr"
        },
        {
          "output_type": "stream",
          "text": [
            "\n",
            " Episodio número 601 finalizado con 201 iteraciones. Recompensa final=-200.0\n"
          ],
          "name": "stdout"
        },
        {
          "output_type": "stream",
          "text": [
            "\r 60%|██████    | 603/1000 [04:15<02:32,  2.61it/s]"
          ],
          "name": "stderr"
        },
        {
          "output_type": "stream",
          "text": [
            "\n",
            " Episodio número 602 finalizado con 201 iteraciones. Recompensa final=-200.0\n"
          ],
          "name": "stdout"
        },
        {
          "output_type": "stream",
          "text": [
            "\r 60%|██████    | 604/1000 [04:15<02:29,  2.64it/s]"
          ],
          "name": "stderr"
        },
        {
          "output_type": "stream",
          "text": [
            "\n",
            " Episodio número 603 finalizado con 201 iteraciones. Recompensa final=-200.0\n"
          ],
          "name": "stdout"
        },
        {
          "output_type": "stream",
          "text": [
            "\r 60%|██████    | 605/1000 [04:16<02:30,  2.63it/s]"
          ],
          "name": "stderr"
        },
        {
          "output_type": "stream",
          "text": [
            "\n",
            " Episodio número 604 finalizado con 201 iteraciones. Recompensa final=-200.0\n"
          ],
          "name": "stdout"
        },
        {
          "output_type": "stream",
          "text": [
            "\r 61%|██████    | 606/1000 [04:16<02:30,  2.61it/s]"
          ],
          "name": "stderr"
        },
        {
          "output_type": "stream",
          "text": [
            "\n",
            " Episodio número 605 finalizado con 201 iteraciones. Recompensa final=-200.0\n"
          ],
          "name": "stdout"
        },
        {
          "output_type": "stream",
          "text": [
            "\r 61%|██████    | 607/1000 [04:16<02:28,  2.65it/s]"
          ],
          "name": "stderr"
        },
        {
          "output_type": "stream",
          "text": [
            "\n",
            " Episodio número 606 finalizado con 201 iteraciones. Recompensa final=-200.0\n"
          ],
          "name": "stdout"
        },
        {
          "output_type": "stream",
          "text": [
            "\r 61%|██████    | 608/1000 [04:17<02:27,  2.66it/s]"
          ],
          "name": "stderr"
        },
        {
          "output_type": "stream",
          "text": [
            "\n",
            " Episodio número 607 finalizado con 201 iteraciones. Recompensa final=-200.0\n"
          ],
          "name": "stdout"
        },
        {
          "output_type": "stream",
          "text": [
            "\r 61%|██████    | 609/1000 [04:17<02:24,  2.70it/s]"
          ],
          "name": "stderr"
        },
        {
          "output_type": "stream",
          "text": [
            "\n",
            " Episodio número 608 finalizado con 201 iteraciones. Recompensa final=-200.0\n"
          ],
          "name": "stdout"
        },
        {
          "output_type": "stream",
          "text": [
            "\r 61%|██████    | 610/1000 [04:18<02:24,  2.71it/s]"
          ],
          "name": "stderr"
        },
        {
          "output_type": "stream",
          "text": [
            "\n",
            " Episodio número 609 finalizado con 201 iteraciones. Recompensa final=-200.0\n"
          ],
          "name": "stdout"
        },
        {
          "output_type": "stream",
          "text": [
            "\r 61%|██████    | 611/1000 [04:18<02:23,  2.70it/s]"
          ],
          "name": "stderr"
        },
        {
          "output_type": "stream",
          "text": [
            "\n",
            " Episodio número 610 finalizado con 201 iteraciones. Recompensa final=-200.0\n"
          ],
          "name": "stdout"
        },
        {
          "output_type": "stream",
          "text": [
            "\r 61%|██████    | 612/1000 [04:18<02:23,  2.70it/s]"
          ],
          "name": "stderr"
        },
        {
          "output_type": "stream",
          "text": [
            "\n",
            " Episodio número 611 finalizado con 201 iteraciones. Recompensa final=-200.0\n"
          ],
          "name": "stdout"
        },
        {
          "output_type": "stream",
          "text": [
            "\r 61%|██████▏   | 613/1000 [04:19<02:24,  2.68it/s]"
          ],
          "name": "stderr"
        },
        {
          "output_type": "stream",
          "text": [
            "\n",
            " Episodio número 612 finalizado con 201 iteraciones. Recompensa final=-200.0\n"
          ],
          "name": "stdout"
        },
        {
          "output_type": "stream",
          "text": [
            "\r 61%|██████▏   | 614/1000 [04:19<02:22,  2.71it/s]"
          ],
          "name": "stderr"
        },
        {
          "output_type": "stream",
          "text": [
            "\n",
            " Episodio número 613 finalizado con 201 iteraciones. Recompensa final=-200.0\n"
          ],
          "name": "stdout"
        },
        {
          "output_type": "stream",
          "text": [
            "\r 62%|██████▏   | 615/1000 [04:19<02:20,  2.73it/s]"
          ],
          "name": "stderr"
        },
        {
          "output_type": "stream",
          "text": [
            "\n",
            " Episodio número 614 finalizado con 201 iteraciones. Recompensa final=-200.0\n"
          ],
          "name": "stdout"
        },
        {
          "output_type": "stream",
          "text": [
            "\r 62%|██████▏   | 616/1000 [04:20<02:19,  2.75it/s]"
          ],
          "name": "stderr"
        },
        {
          "output_type": "stream",
          "text": [
            "\n",
            " Episodio número 615 finalizado con 201 iteraciones. Recompensa final=-200.0\n"
          ],
          "name": "stdout"
        },
        {
          "output_type": "stream",
          "text": [
            "\r 62%|██████▏   | 617/1000 [04:20<02:21,  2.71it/s]"
          ],
          "name": "stderr"
        },
        {
          "output_type": "stream",
          "text": [
            "\n",
            " Episodio número 616 finalizado con 201 iteraciones. Recompensa final=-200.0\n"
          ],
          "name": "stdout"
        },
        {
          "output_type": "stream",
          "text": [
            "\r 62%|██████▏   | 618/1000 [04:21<02:20,  2.71it/s]"
          ],
          "name": "stderr"
        },
        {
          "output_type": "stream",
          "text": [
            "\n",
            " Episodio número 617 finalizado con 201 iteraciones. Recompensa final=-200.0\n"
          ],
          "name": "stdout"
        },
        {
          "output_type": "stream",
          "text": [
            "\r 62%|██████▏   | 619/1000 [04:21<02:20,  2.72it/s]"
          ],
          "name": "stderr"
        },
        {
          "output_type": "stream",
          "text": [
            "\n",
            " Episodio número 618 finalizado con 201 iteraciones. Recompensa final=-200.0\n"
          ],
          "name": "stdout"
        },
        {
          "output_type": "stream",
          "text": [
            "\r 62%|██████▏   | 620/1000 [04:21<02:20,  2.70it/s]"
          ],
          "name": "stderr"
        },
        {
          "output_type": "stream",
          "text": [
            "\n",
            " Episodio número 619 finalizado con 201 iteraciones. Recompensa final=-200.0\n"
          ],
          "name": "stdout"
        },
        {
          "output_type": "stream",
          "text": [
            "\r 62%|██████▏   | 621/1000 [04:22<02:19,  2.72it/s]"
          ],
          "name": "stderr"
        },
        {
          "output_type": "stream",
          "text": [
            "\n",
            " Episodio número 620 finalizado con 201 iteraciones. Recompensa final=-200.0\n"
          ],
          "name": "stdout"
        },
        {
          "output_type": "stream",
          "text": [
            "\r 62%|██████▏   | 622/1000 [04:22<02:19,  2.70it/s]"
          ],
          "name": "stderr"
        },
        {
          "output_type": "stream",
          "text": [
            "\n",
            " Episodio número 621 finalizado con 201 iteraciones. Recompensa final=-200.0\n"
          ],
          "name": "stdout"
        },
        {
          "output_type": "stream",
          "text": [
            "\r 62%|██████▏   | 623/1000 [04:22<02:19,  2.71it/s]"
          ],
          "name": "stderr"
        },
        {
          "output_type": "stream",
          "text": [
            "\n",
            " Episodio número 622 finalizado con 201 iteraciones. Recompensa final=-200.0\n"
          ],
          "name": "stdout"
        },
        {
          "output_type": "stream",
          "text": [
            "\r 62%|██████▏   | 624/1000 [04:23<02:19,  2.69it/s]"
          ],
          "name": "stderr"
        },
        {
          "output_type": "stream",
          "text": [
            "\n",
            " Episodio número 623 finalizado con 201 iteraciones. Recompensa final=-200.0\n"
          ],
          "name": "stdout"
        },
        {
          "output_type": "stream",
          "text": [
            "\r 62%|██████▎   | 625/1000 [04:23<02:20,  2.66it/s]"
          ],
          "name": "stderr"
        },
        {
          "output_type": "stream",
          "text": [
            "\n",
            " Episodio número 624 finalizado con 201 iteraciones. Recompensa final=-200.0\n"
          ],
          "name": "stdout"
        },
        {
          "output_type": "stream",
          "text": [
            "\r 63%|██████▎   | 626/1000 [04:24<02:19,  2.68it/s]"
          ],
          "name": "stderr"
        },
        {
          "output_type": "stream",
          "text": [
            "\n",
            " Episodio número 625 finalizado con 201 iteraciones. Recompensa final=-200.0\n"
          ],
          "name": "stdout"
        },
        {
          "output_type": "stream",
          "text": [
            "\r 63%|██████▎   | 627/1000 [04:24<02:21,  2.63it/s]"
          ],
          "name": "stderr"
        },
        {
          "output_type": "stream",
          "text": [
            "\n",
            " Episodio número 626 finalizado con 201 iteraciones. Recompensa final=-200.0\n"
          ],
          "name": "stdout"
        },
        {
          "output_type": "stream",
          "text": [
            "\r 63%|██████▎   | 628/1000 [04:24<02:18,  2.69it/s]"
          ],
          "name": "stderr"
        },
        {
          "output_type": "stream",
          "text": [
            "\n",
            " Episodio número 627 finalizado con 201 iteraciones. Recompensa final=-200.0\n"
          ],
          "name": "stdout"
        },
        {
          "output_type": "stream",
          "text": [
            "\r 63%|██████▎   | 629/1000 [04:25<02:19,  2.67it/s]"
          ],
          "name": "stderr"
        },
        {
          "output_type": "stream",
          "text": [
            "\n",
            " Episodio número 628 finalizado con 201 iteraciones. Recompensa final=-200.0\n"
          ],
          "name": "stdout"
        },
        {
          "output_type": "stream",
          "text": [
            "\r 63%|██████▎   | 630/1000 [04:25<02:18,  2.68it/s]"
          ],
          "name": "stderr"
        },
        {
          "output_type": "stream",
          "text": [
            "\n",
            " Episodio número 629 finalizado con 201 iteraciones. Recompensa final=-200.0\n"
          ],
          "name": "stdout"
        },
        {
          "output_type": "stream",
          "text": [
            "\r 63%|██████▎   | 631/1000 [04:25<02:14,  2.74it/s]"
          ],
          "name": "stderr"
        },
        {
          "output_type": "stream",
          "text": [
            "\n",
            " Episodio número 630 finalizado con 201 iteraciones. Recompensa final=-200.0\n"
          ],
          "name": "stdout"
        },
        {
          "output_type": "stream",
          "text": [
            "\r 63%|██████▎   | 632/1000 [04:26<02:15,  2.72it/s]"
          ],
          "name": "stderr"
        },
        {
          "output_type": "stream",
          "text": [
            "\n",
            " Episodio número 631 finalizado con 201 iteraciones. Recompensa final=-200.0\n"
          ],
          "name": "stdout"
        },
        {
          "output_type": "stream",
          "text": [
            "\r 63%|██████▎   | 633/1000 [04:26<02:13,  2.74it/s]"
          ],
          "name": "stderr"
        },
        {
          "output_type": "stream",
          "text": [
            "\n",
            " Episodio número 632 finalizado con 201 iteraciones. Recompensa final=-200.0\n"
          ],
          "name": "stdout"
        },
        {
          "output_type": "stream",
          "text": [
            "\r 63%|██████▎   | 634/1000 [04:26<02:16,  2.67it/s]"
          ],
          "name": "stderr"
        },
        {
          "output_type": "stream",
          "text": [
            "\n",
            " Episodio número 633 finalizado con 201 iteraciones. Recompensa final=-200.0\n"
          ],
          "name": "stdout"
        },
        {
          "output_type": "stream",
          "text": [
            "\r 64%|██████▎   | 635/1000 [04:27<02:17,  2.66it/s]"
          ],
          "name": "stderr"
        },
        {
          "output_type": "stream",
          "text": [
            "\n",
            " Episodio número 634 finalizado con 201 iteraciones. Recompensa final=-200.0\n"
          ],
          "name": "stdout"
        },
        {
          "output_type": "stream",
          "text": [
            "\r 64%|██████▎   | 636/1000 [04:27<02:16,  2.67it/s]"
          ],
          "name": "stderr"
        },
        {
          "output_type": "stream",
          "text": [
            "\n",
            " Episodio número 635 finalizado con 201 iteraciones. Recompensa final=-200.0\n"
          ],
          "name": "stdout"
        },
        {
          "output_type": "stream",
          "text": [
            "\r 64%|██████▎   | 637/1000 [04:28<02:17,  2.65it/s]"
          ],
          "name": "stderr"
        },
        {
          "output_type": "stream",
          "text": [
            "\n",
            " Episodio número 636 finalizado con 201 iteraciones. Recompensa final=-200.0\n"
          ],
          "name": "stdout"
        },
        {
          "output_type": "stream",
          "text": [
            "\r 64%|██████▍   | 638/1000 [04:28<02:18,  2.62it/s]"
          ],
          "name": "stderr"
        },
        {
          "output_type": "stream",
          "text": [
            "\n",
            " Episodio número 637 finalizado con 201 iteraciones. Recompensa final=-200.0\n"
          ],
          "name": "stdout"
        },
        {
          "output_type": "stream",
          "text": [
            "\r 64%|██████▍   | 639/1000 [04:28<02:16,  2.64it/s]"
          ],
          "name": "stderr"
        },
        {
          "output_type": "stream",
          "text": [
            "\n",
            " Episodio número 638 finalizado con 201 iteraciones. Recompensa final=-200.0\n"
          ],
          "name": "stdout"
        },
        {
          "output_type": "stream",
          "text": [
            "\r 64%|██████▍   | 640/1000 [04:29<02:15,  2.66it/s]"
          ],
          "name": "stderr"
        },
        {
          "output_type": "stream",
          "text": [
            "\n",
            " Episodio número 639 finalizado con 201 iteraciones. Recompensa final=-200.0\n"
          ],
          "name": "stdout"
        },
        {
          "output_type": "stream",
          "text": [
            "\r 64%|██████▍   | 641/1000 [04:29<02:14,  2.66it/s]"
          ],
          "name": "stderr"
        },
        {
          "output_type": "stream",
          "text": [
            "\n",
            " Episodio número 640 finalizado con 201 iteraciones. Recompensa final=-200.0\n"
          ],
          "name": "stdout"
        },
        {
          "output_type": "stream",
          "text": [
            "\r 64%|██████▍   | 642/1000 [04:30<02:13,  2.68it/s]"
          ],
          "name": "stderr"
        },
        {
          "output_type": "stream",
          "text": [
            "\n",
            " Episodio número 641 finalizado con 201 iteraciones. Recompensa final=-200.0\n"
          ],
          "name": "stdout"
        },
        {
          "output_type": "stream",
          "text": [
            "\r 64%|██████▍   | 643/1000 [04:30<02:12,  2.69it/s]"
          ],
          "name": "stderr"
        },
        {
          "output_type": "stream",
          "text": [
            "\n",
            " Episodio número 642 finalizado con 201 iteraciones. Recompensa final=-200.0\n"
          ],
          "name": "stdout"
        },
        {
          "output_type": "stream",
          "text": [
            "\r 64%|██████▍   | 644/1000 [04:30<02:12,  2.68it/s]"
          ],
          "name": "stderr"
        },
        {
          "output_type": "stream",
          "text": [
            "\n",
            " Episodio número 643 finalizado con 201 iteraciones. Recompensa final=-200.0\n"
          ],
          "name": "stdout"
        },
        {
          "output_type": "stream",
          "text": [
            "\r 64%|██████▍   | 645/1000 [04:31<02:12,  2.67it/s]"
          ],
          "name": "stderr"
        },
        {
          "output_type": "stream",
          "text": [
            "\n",
            " Episodio número 644 finalizado con 201 iteraciones. Recompensa final=-200.0\n"
          ],
          "name": "stdout"
        },
        {
          "output_type": "stream",
          "text": [
            "\r 65%|██████▍   | 646/1000 [04:31<02:11,  2.69it/s]"
          ],
          "name": "stderr"
        },
        {
          "output_type": "stream",
          "text": [
            "\n",
            " Episodio número 645 finalizado con 201 iteraciones. Recompensa final=-200.0\n"
          ],
          "name": "stdout"
        },
        {
          "output_type": "stream",
          "text": [
            "\r 65%|██████▍   | 647/1000 [04:31<02:10,  2.71it/s]"
          ],
          "name": "stderr"
        },
        {
          "output_type": "stream",
          "text": [
            "\n",
            " Episodio número 646 finalizado con 201 iteraciones. Recompensa final=-200.0\n"
          ],
          "name": "stdout"
        },
        {
          "output_type": "stream",
          "text": [
            "\r 65%|██████▍   | 648/1000 [04:32<02:09,  2.72it/s]"
          ],
          "name": "stderr"
        },
        {
          "output_type": "stream",
          "text": [
            "\n",
            " Episodio número 647 finalizado con 201 iteraciones. Recompensa final=-200.0\n"
          ],
          "name": "stdout"
        },
        {
          "output_type": "stream",
          "text": [
            "\r 65%|██████▍   | 649/1000 [04:32<02:09,  2.71it/s]"
          ],
          "name": "stderr"
        },
        {
          "output_type": "stream",
          "text": [
            "\n",
            " Episodio número 648 finalizado con 201 iteraciones. Recompensa final=-200.0\n"
          ],
          "name": "stdout"
        },
        {
          "output_type": "stream",
          "text": [
            "\r 65%|██████▌   | 650/1000 [04:32<02:09,  2.71it/s]"
          ],
          "name": "stderr"
        },
        {
          "output_type": "stream",
          "text": [
            "\n",
            " Episodio número 649 finalizado con 201 iteraciones. Recompensa final=-200.0\n"
          ],
          "name": "stdout"
        },
        {
          "output_type": "stream",
          "text": [
            "\r 65%|██████▌   | 651/1000 [04:33<02:07,  2.73it/s]"
          ],
          "name": "stderr"
        },
        {
          "output_type": "stream",
          "text": [
            "\n",
            " Episodio número 650 finalizado con 201 iteraciones. Recompensa final=-200.0\n"
          ],
          "name": "stdout"
        },
        {
          "output_type": "stream",
          "text": [
            "\r 65%|██████▌   | 652/1000 [04:33<02:07,  2.72it/s]"
          ],
          "name": "stderr"
        },
        {
          "output_type": "stream",
          "text": [
            "\n",
            " Episodio número 651 finalizado con 201 iteraciones. Recompensa final=-200.0\n"
          ],
          "name": "stdout"
        },
        {
          "output_type": "stream",
          "text": [
            "\r 65%|██████▌   | 653/1000 [04:34<02:05,  2.76it/s]"
          ],
          "name": "stderr"
        },
        {
          "output_type": "stream",
          "text": [
            "\n",
            " Episodio número 652 finalizado con 201 iteraciones. Recompensa final=-200.0\n"
          ],
          "name": "stdout"
        },
        {
          "output_type": "stream",
          "text": [
            "\r 65%|██████▌   | 654/1000 [04:34<02:05,  2.75it/s]"
          ],
          "name": "stderr"
        },
        {
          "output_type": "stream",
          "text": [
            "\n",
            " Episodio número 653 finalizado con 201 iteraciones. Recompensa final=-200.0\n"
          ],
          "name": "stdout"
        },
        {
          "output_type": "stream",
          "text": [
            "\r 66%|██████▌   | 655/1000 [04:34<02:06,  2.73it/s]"
          ],
          "name": "stderr"
        },
        {
          "output_type": "stream",
          "text": [
            "\n",
            " Episodio número 654 finalizado con 201 iteraciones. Recompensa final=-200.0\n"
          ],
          "name": "stdout"
        },
        {
          "output_type": "stream",
          "text": [
            "\r 66%|██████▌   | 656/1000 [04:35<02:05,  2.74it/s]"
          ],
          "name": "stderr"
        },
        {
          "output_type": "stream",
          "text": [
            "\n",
            " Episodio número 655 finalizado con 201 iteraciones. Recompensa final=-200.0\n"
          ],
          "name": "stdout"
        },
        {
          "output_type": "stream",
          "text": [
            "\r 66%|██████▌   | 657/1000 [04:35<02:06,  2.72it/s]"
          ],
          "name": "stderr"
        },
        {
          "output_type": "stream",
          "text": [
            "\n",
            " Episodio número 656 finalizado con 201 iteraciones. Recompensa final=-200.0\n"
          ],
          "name": "stdout"
        },
        {
          "output_type": "stream",
          "text": [
            "\r 66%|██████▌   | 658/1000 [04:35<02:07,  2.69it/s]"
          ],
          "name": "stderr"
        },
        {
          "output_type": "stream",
          "text": [
            "\n",
            " Episodio número 657 finalizado con 201 iteraciones. Recompensa final=-200.0\n"
          ],
          "name": "stdout"
        },
        {
          "output_type": "stream",
          "text": [
            "\r 66%|██████▌   | 659/1000 [04:36<02:12,  2.57it/s]"
          ],
          "name": "stderr"
        },
        {
          "output_type": "stream",
          "text": [
            "\n",
            " Episodio número 658 finalizado con 201 iteraciones. Recompensa final=-200.0\n"
          ],
          "name": "stdout"
        },
        {
          "output_type": "stream",
          "text": [
            "\r 66%|██████▌   | 660/1000 [04:36<02:18,  2.46it/s]"
          ],
          "name": "stderr"
        },
        {
          "output_type": "stream",
          "text": [
            "\n",
            " Episodio número 659 finalizado con 201 iteraciones. Recompensa final=-200.0\n"
          ],
          "name": "stdout"
        },
        {
          "output_type": "stream",
          "text": [
            "\r 66%|██████▌   | 661/1000 [04:37<02:27,  2.29it/s]"
          ],
          "name": "stderr"
        },
        {
          "output_type": "stream",
          "text": [
            "\n",
            " Episodio número 660 finalizado con 201 iteraciones. Recompensa final=-200.0\n"
          ],
          "name": "stdout"
        },
        {
          "output_type": "stream",
          "text": [
            "\r 66%|██████▌   | 662/1000 [04:37<02:32,  2.22it/s]"
          ],
          "name": "stderr"
        },
        {
          "output_type": "stream",
          "text": [
            "\n",
            " Episodio número 661 finalizado con 201 iteraciones. Recompensa final=-200.0\n"
          ],
          "name": "stdout"
        },
        {
          "output_type": "stream",
          "text": [
            "\r 66%|██████▋   | 663/1000 [04:38<02:36,  2.15it/s]"
          ],
          "name": "stderr"
        },
        {
          "output_type": "stream",
          "text": [
            "\n",
            " Episodio número 662 finalizado con 201 iteraciones. Recompensa final=-200.0\n"
          ],
          "name": "stdout"
        },
        {
          "output_type": "stream",
          "text": [
            "\r 66%|██████▋   | 664/1000 [04:38<02:38,  2.12it/s]"
          ],
          "name": "stderr"
        },
        {
          "output_type": "stream",
          "text": [
            "\n",
            " Episodio número 663 finalizado con 201 iteraciones. Recompensa final=-200.0\n"
          ],
          "name": "stdout"
        },
        {
          "output_type": "stream",
          "text": [
            "\r 66%|██████▋   | 665/1000 [04:39<02:37,  2.13it/s]"
          ],
          "name": "stderr"
        },
        {
          "output_type": "stream",
          "text": [
            "\n",
            " Episodio número 664 finalizado con 201 iteraciones. Recompensa final=-200.0\n"
          ],
          "name": "stdout"
        },
        {
          "output_type": "stream",
          "text": [
            "\r 67%|██████▋   | 666/1000 [04:39<02:40,  2.08it/s]"
          ],
          "name": "stderr"
        },
        {
          "output_type": "stream",
          "text": [
            "\n",
            " Episodio número 665 finalizado con 201 iteraciones. Recompensa final=-200.0\n"
          ],
          "name": "stdout"
        },
        {
          "output_type": "stream",
          "text": [
            "\r 67%|██████▋   | 667/1000 [04:40<02:38,  2.11it/s]"
          ],
          "name": "stderr"
        },
        {
          "output_type": "stream",
          "text": [
            "\n",
            " Episodio número 666 finalizado con 201 iteraciones. Recompensa final=-200.0\n"
          ],
          "name": "stdout"
        },
        {
          "output_type": "stream",
          "text": [
            "\r 67%|██████▋   | 668/1000 [04:40<02:35,  2.13it/s]"
          ],
          "name": "stderr"
        },
        {
          "output_type": "stream",
          "text": [
            "\n",
            " Episodio número 667 finalizado con 201 iteraciones. Recompensa final=-200.0\n"
          ],
          "name": "stdout"
        },
        {
          "output_type": "stream",
          "text": [
            "\r 67%|██████▋   | 669/1000 [04:41<02:36,  2.12it/s]"
          ],
          "name": "stderr"
        },
        {
          "output_type": "stream",
          "text": [
            "\n",
            " Episodio número 668 finalizado con 201 iteraciones. Recompensa final=-200.0\n"
          ],
          "name": "stdout"
        },
        {
          "output_type": "stream",
          "text": [
            "\r 67%|██████▋   | 670/1000 [04:41<02:33,  2.16it/s]"
          ],
          "name": "stderr"
        },
        {
          "output_type": "stream",
          "text": [
            "\n",
            " Episodio número 669 finalizado con 201 iteraciones. Recompensa final=-200.0\n"
          ],
          "name": "stdout"
        },
        {
          "output_type": "stream",
          "text": [
            "\r 67%|██████▋   | 671/1000 [04:41<02:30,  2.19it/s]"
          ],
          "name": "stderr"
        },
        {
          "output_type": "stream",
          "text": [
            "\n",
            " Episodio número 670 finalizado con 201 iteraciones. Recompensa final=-200.0\n"
          ],
          "name": "stdout"
        },
        {
          "output_type": "stream",
          "text": [
            "\r 67%|██████▋   | 672/1000 [04:42<02:30,  2.18it/s]"
          ],
          "name": "stderr"
        },
        {
          "output_type": "stream",
          "text": [
            "\n",
            " Episodio número 671 finalizado con 201 iteraciones. Recompensa final=-200.0\n"
          ],
          "name": "stdout"
        },
        {
          "output_type": "stream",
          "text": [
            "\r 67%|██████▋   | 673/1000 [04:42<02:31,  2.16it/s]"
          ],
          "name": "stderr"
        },
        {
          "output_type": "stream",
          "text": [
            "\n",
            " Episodio número 672 finalizado con 201 iteraciones. Recompensa final=-200.0\n"
          ],
          "name": "stdout"
        },
        {
          "output_type": "stream",
          "text": [
            "\r 67%|██████▋   | 674/1000 [04:43<02:29,  2.19it/s]"
          ],
          "name": "stderr"
        },
        {
          "output_type": "stream",
          "text": [
            "\n",
            " Episodio número 673 finalizado con 201 iteraciones. Recompensa final=-200.0\n"
          ],
          "name": "stdout"
        },
        {
          "output_type": "stream",
          "text": [
            "\r 68%|██████▊   | 675/1000 [04:43<02:35,  2.09it/s]"
          ],
          "name": "stderr"
        },
        {
          "output_type": "stream",
          "text": [
            "\n",
            " Episodio número 674 finalizado con 201 iteraciones. Recompensa final=-200.0\n"
          ],
          "name": "stdout"
        },
        {
          "output_type": "stream",
          "text": [
            "\r 68%|██████▊   | 676/1000 [04:44<02:34,  2.10it/s]"
          ],
          "name": "stderr"
        },
        {
          "output_type": "stream",
          "text": [
            "\n",
            " Episodio número 675 finalizado con 201 iteraciones. Recompensa final=-200.0\n"
          ],
          "name": "stdout"
        },
        {
          "output_type": "stream",
          "text": [
            "\r 68%|██████▊   | 677/1000 [04:44<02:34,  2.09it/s]"
          ],
          "name": "stderr"
        },
        {
          "output_type": "stream",
          "text": [
            "\n",
            " Episodio número 676 finalizado con 201 iteraciones. Recompensa final=-200.0\n"
          ],
          "name": "stdout"
        },
        {
          "output_type": "stream",
          "text": [
            "\r 68%|██████▊   | 678/1000 [04:45<02:32,  2.11it/s]"
          ],
          "name": "stderr"
        },
        {
          "output_type": "stream",
          "text": [
            "\n",
            " Episodio número 677 finalizado con 201 iteraciones. Recompensa final=-200.0\n"
          ],
          "name": "stdout"
        },
        {
          "output_type": "stream",
          "text": [
            "\r 68%|██████▊   | 679/1000 [04:45<02:31,  2.11it/s]"
          ],
          "name": "stderr"
        },
        {
          "output_type": "stream",
          "text": [
            "\n",
            " Episodio número 678 finalizado con 201 iteraciones. Recompensa final=-200.0\n"
          ],
          "name": "stdout"
        },
        {
          "output_type": "stream",
          "text": [
            "\r 68%|██████▊   | 680/1000 [04:46<02:29,  2.14it/s]"
          ],
          "name": "stderr"
        },
        {
          "output_type": "stream",
          "text": [
            "\n",
            " Episodio número 679 finalizado con 201 iteraciones. Recompensa final=-200.0\n"
          ],
          "name": "stdout"
        },
        {
          "output_type": "stream",
          "text": [
            "\r 68%|██████▊   | 681/1000 [04:46<02:24,  2.21it/s]"
          ],
          "name": "stderr"
        },
        {
          "output_type": "stream",
          "text": [
            "\n",
            " Episodio número 680 finalizado con 201 iteraciones. Recompensa final=-200.0\n"
          ],
          "name": "stdout"
        },
        {
          "output_type": "stream",
          "text": [
            "\r 68%|██████▊   | 682/1000 [04:47<02:16,  2.32it/s]"
          ],
          "name": "stderr"
        },
        {
          "output_type": "stream",
          "text": [
            "\n",
            " Episodio número 681 finalizado con 201 iteraciones. Recompensa final=-200.0\n"
          ],
          "name": "stdout"
        },
        {
          "output_type": "stream",
          "text": [
            "\r 68%|██████▊   | 683/1000 [04:47<02:13,  2.38it/s]"
          ],
          "name": "stderr"
        },
        {
          "output_type": "stream",
          "text": [
            "\n",
            " Episodio número 682 finalizado con 201 iteraciones. Recompensa final=-200.0\n"
          ],
          "name": "stdout"
        },
        {
          "output_type": "stream",
          "text": [
            "\r 68%|██████▊   | 684/1000 [04:47<02:09,  2.45it/s]"
          ],
          "name": "stderr"
        },
        {
          "output_type": "stream",
          "text": [
            "\n",
            " Episodio número 683 finalizado con 201 iteraciones. Recompensa final=-200.0\n"
          ],
          "name": "stdout"
        },
        {
          "output_type": "stream",
          "text": [
            "\r 68%|██████▊   | 685/1000 [04:48<02:04,  2.54it/s]"
          ],
          "name": "stderr"
        },
        {
          "output_type": "stream",
          "text": [
            "\n",
            " Episodio número 684 finalizado con 201 iteraciones. Recompensa final=-200.0\n"
          ],
          "name": "stdout"
        },
        {
          "output_type": "stream",
          "text": [
            "\r 69%|██████▊   | 686/1000 [04:48<02:01,  2.59it/s]"
          ],
          "name": "stderr"
        },
        {
          "output_type": "stream",
          "text": [
            "\n",
            " Episodio número 685 finalizado con 201 iteraciones. Recompensa final=-200.0\n"
          ],
          "name": "stdout"
        },
        {
          "output_type": "stream",
          "text": [
            "\r 69%|██████▊   | 687/1000 [04:48<02:00,  2.59it/s]"
          ],
          "name": "stderr"
        },
        {
          "output_type": "stream",
          "text": [
            "\n",
            " Episodio número 686 finalizado con 201 iteraciones. Recompensa final=-200.0\n"
          ],
          "name": "stdout"
        },
        {
          "output_type": "stream",
          "text": [
            "\r 69%|██████▉   | 688/1000 [04:49<01:59,  2.62it/s]"
          ],
          "name": "stderr"
        },
        {
          "output_type": "stream",
          "text": [
            "\n",
            " Episodio número 687 finalizado con 201 iteraciones. Recompensa final=-200.0\n"
          ],
          "name": "stdout"
        },
        {
          "output_type": "stream",
          "text": [
            "\r 69%|██████▉   | 689/1000 [04:49<01:58,  2.63it/s]"
          ],
          "name": "stderr"
        },
        {
          "output_type": "stream",
          "text": [
            "\n",
            " Episodio número 688 finalizado con 201 iteraciones. Recompensa final=-200.0\n"
          ],
          "name": "stdout"
        },
        {
          "output_type": "stream",
          "text": [
            "\r 69%|██████▉   | 690/1000 [04:50<01:58,  2.62it/s]"
          ],
          "name": "stderr"
        },
        {
          "output_type": "stream",
          "text": [
            "\n",
            " Episodio número 689 finalizado con 201 iteraciones. Recompensa final=-200.0\n"
          ],
          "name": "stdout"
        },
        {
          "output_type": "stream",
          "text": [
            "\r 69%|██████▉   | 691/1000 [04:50<01:56,  2.65it/s]"
          ],
          "name": "stderr"
        },
        {
          "output_type": "stream",
          "text": [
            "\n",
            " Episodio número 690 finalizado con 201 iteraciones. Recompensa final=-200.0\n"
          ],
          "name": "stdout"
        },
        {
          "output_type": "stream",
          "text": [
            "\r 69%|██████▉   | 692/1000 [04:50<01:55,  2.66it/s]"
          ],
          "name": "stderr"
        },
        {
          "output_type": "stream",
          "text": [
            "\n",
            " Episodio número 691 finalizado con 201 iteraciones. Recompensa final=-200.0\n"
          ],
          "name": "stdout"
        },
        {
          "output_type": "stream",
          "text": [
            "\r 69%|██████▉   | 693/1000 [04:51<01:55,  2.66it/s]"
          ],
          "name": "stderr"
        },
        {
          "output_type": "stream",
          "text": [
            "\n",
            " Episodio número 692 finalizado con 201 iteraciones. Recompensa final=-200.0\n"
          ],
          "name": "stdout"
        },
        {
          "output_type": "stream",
          "text": [
            "\r 69%|██████▉   | 694/1000 [04:51<01:54,  2.68it/s]"
          ],
          "name": "stderr"
        },
        {
          "output_type": "stream",
          "text": [
            "\n",
            " Episodio número 693 finalizado con 201 iteraciones. Recompensa final=-200.0\n"
          ],
          "name": "stdout"
        },
        {
          "output_type": "stream",
          "text": [
            "\r 70%|██████▉   | 695/1000 [04:51<01:54,  2.67it/s]"
          ],
          "name": "stderr"
        },
        {
          "output_type": "stream",
          "text": [
            "\n",
            " Episodio número 694 finalizado con 201 iteraciones. Recompensa final=-200.0\n"
          ],
          "name": "stdout"
        },
        {
          "output_type": "stream",
          "text": [
            "\r 70%|██████▉   | 696/1000 [04:52<01:54,  2.66it/s]"
          ],
          "name": "stderr"
        },
        {
          "output_type": "stream",
          "text": [
            "\n",
            " Episodio número 695 finalizado con 201 iteraciones. Recompensa final=-200.0\n"
          ],
          "name": "stdout"
        },
        {
          "output_type": "stream",
          "text": [
            "\r 70%|██████▉   | 697/1000 [04:52<01:53,  2.67it/s]"
          ],
          "name": "stderr"
        },
        {
          "output_type": "stream",
          "text": [
            "\n",
            " Episodio número 696 finalizado con 201 iteraciones. Recompensa final=-200.0\n"
          ],
          "name": "stdout"
        },
        {
          "output_type": "stream",
          "text": [
            "\r 70%|██████▉   | 698/1000 [04:53<01:52,  2.69it/s]"
          ],
          "name": "stderr"
        },
        {
          "output_type": "stream",
          "text": [
            "\n",
            " Episodio número 697 finalizado con 201 iteraciones. Recompensa final=-200.0\n"
          ],
          "name": "stdout"
        },
        {
          "output_type": "stream",
          "text": [
            "\r 70%|██████▉   | 699/1000 [04:53<01:51,  2.71it/s]"
          ],
          "name": "stderr"
        },
        {
          "output_type": "stream",
          "text": [
            "\n",
            " Episodio número 698 finalizado con 201 iteraciones. Recompensa final=-200.0\n"
          ],
          "name": "stdout"
        },
        {
          "output_type": "stream",
          "text": [
            "\r 70%|███████   | 700/1000 [04:53<01:50,  2.71it/s]"
          ],
          "name": "stderr"
        },
        {
          "output_type": "stream",
          "text": [
            "\n",
            " Episodio número 699 finalizado con 201 iteraciones. Recompensa final=-200.0\n"
          ],
          "name": "stdout"
        },
        {
          "output_type": "stream",
          "text": [
            "\r 70%|███████   | 701/1000 [04:54<01:50,  2.71it/s]"
          ],
          "name": "stderr"
        },
        {
          "output_type": "stream",
          "text": [
            "\n",
            " Episodio número 700 finalizado con 201 iteraciones. Recompensa final=-200.0\n"
          ],
          "name": "stdout"
        },
        {
          "output_type": "stream",
          "text": [
            "\r 70%|███████   | 702/1000 [04:54<01:48,  2.75it/s]"
          ],
          "name": "stderr"
        },
        {
          "output_type": "stream",
          "text": [
            "\n",
            " Episodio número 701 finalizado con 201 iteraciones. Recompensa final=-200.0\n"
          ],
          "name": "stdout"
        },
        {
          "output_type": "stream",
          "text": [
            "\r 70%|███████   | 703/1000 [04:54<01:47,  2.77it/s]"
          ],
          "name": "stderr"
        },
        {
          "output_type": "stream",
          "text": [
            "\n",
            " Episodio número 702 finalizado con 201 iteraciones. Recompensa final=-200.0\n"
          ],
          "name": "stdout"
        },
        {
          "output_type": "stream",
          "text": [
            "\r 70%|███████   | 704/1000 [04:55<01:49,  2.70it/s]"
          ],
          "name": "stderr"
        },
        {
          "output_type": "stream",
          "text": [
            "\n",
            " Episodio número 703 finalizado con 201 iteraciones. Recompensa final=-200.0\n"
          ],
          "name": "stdout"
        },
        {
          "output_type": "stream",
          "text": [
            "\r 70%|███████   | 705/1000 [04:55<01:49,  2.71it/s]"
          ],
          "name": "stderr"
        },
        {
          "output_type": "stream",
          "text": [
            "\n",
            " Episodio número 704 finalizado con 201 iteraciones. Recompensa final=-200.0\n"
          ],
          "name": "stdout"
        },
        {
          "output_type": "stream",
          "text": [
            "\r 71%|███████   | 706/1000 [04:55<01:49,  2.69it/s]"
          ],
          "name": "stderr"
        },
        {
          "output_type": "stream",
          "text": [
            "\n",
            " Episodio número 705 finalizado con 201 iteraciones. Recompensa final=-200.0\n"
          ],
          "name": "stdout"
        },
        {
          "output_type": "stream",
          "text": [
            "\r 71%|███████   | 707/1000 [04:56<01:48,  2.71it/s]"
          ],
          "name": "stderr"
        },
        {
          "output_type": "stream",
          "text": [
            "\n",
            " Episodio número 706 finalizado con 201 iteraciones. Recompensa final=-200.0\n"
          ],
          "name": "stdout"
        },
        {
          "output_type": "stream",
          "text": [
            "\r 71%|███████   | 708/1000 [04:56<01:47,  2.72it/s]"
          ],
          "name": "stderr"
        },
        {
          "output_type": "stream",
          "text": [
            "\n",
            " Episodio número 707 finalizado con 201 iteraciones. Recompensa final=-200.0\n"
          ],
          "name": "stdout"
        },
        {
          "output_type": "stream",
          "text": [
            "\r 71%|███████   | 709/1000 [04:57<01:46,  2.73it/s]"
          ],
          "name": "stderr"
        },
        {
          "output_type": "stream",
          "text": [
            "\n",
            " Episodio número 708 finalizado con 201 iteraciones. Recompensa final=-200.0\n"
          ],
          "name": "stdout"
        },
        {
          "output_type": "stream",
          "text": [
            "\r 71%|███████   | 710/1000 [04:57<01:46,  2.72it/s]"
          ],
          "name": "stderr"
        },
        {
          "output_type": "stream",
          "text": [
            "\n",
            " Episodio número 709 finalizado con 201 iteraciones. Recompensa final=-200.0\n"
          ],
          "name": "stdout"
        },
        {
          "output_type": "stream",
          "text": [
            "\r 71%|███████   | 711/1000 [04:57<01:49,  2.64it/s]"
          ],
          "name": "stderr"
        },
        {
          "output_type": "stream",
          "text": [
            "\n",
            " Episodio número 710 finalizado con 201 iteraciones. Recompensa final=-200.0\n"
          ],
          "name": "stdout"
        },
        {
          "output_type": "stream",
          "text": [
            "\r 71%|███████   | 712/1000 [04:58<01:50,  2.60it/s]"
          ],
          "name": "stderr"
        },
        {
          "output_type": "stream",
          "text": [
            "\n",
            " Episodio número 711 finalizado con 201 iteraciones. Recompensa final=-200.0\n"
          ],
          "name": "stdout"
        },
        {
          "output_type": "stream",
          "text": [
            "\r 71%|███████▏  | 713/1000 [04:58<01:50,  2.60it/s]"
          ],
          "name": "stderr"
        },
        {
          "output_type": "stream",
          "text": [
            "\n",
            " Episodio número 712 finalizado con 201 iteraciones. Recompensa final=-200.0\n"
          ],
          "name": "stdout"
        },
        {
          "output_type": "stream",
          "text": [
            "\r 71%|███████▏  | 714/1000 [04:59<01:51,  2.56it/s]"
          ],
          "name": "stderr"
        },
        {
          "output_type": "stream",
          "text": [
            "\n",
            " Episodio número 713 finalizado con 201 iteraciones. Recompensa final=-200.0\n"
          ],
          "name": "stdout"
        },
        {
          "output_type": "stream",
          "text": [
            "\r 72%|███████▏  | 715/1000 [04:59<01:50,  2.58it/s]"
          ],
          "name": "stderr"
        },
        {
          "output_type": "stream",
          "text": [
            "\n",
            " Episodio número 714 finalizado con 201 iteraciones. Recompensa final=-200.0\n"
          ],
          "name": "stdout"
        },
        {
          "output_type": "stream",
          "text": [
            "\r 72%|███████▏  | 716/1000 [04:59<01:49,  2.59it/s]"
          ],
          "name": "stderr"
        },
        {
          "output_type": "stream",
          "text": [
            "\n",
            " Episodio número 715 finalizado con 201 iteraciones. Recompensa final=-200.0\n"
          ],
          "name": "stdout"
        },
        {
          "output_type": "stream",
          "text": [
            "\r 72%|███████▏  | 717/1000 [05:00<01:49,  2.60it/s]"
          ],
          "name": "stderr"
        },
        {
          "output_type": "stream",
          "text": [
            "\n",
            " Episodio número 716 finalizado con 201 iteraciones. Recompensa final=-200.0\n"
          ],
          "name": "stdout"
        },
        {
          "output_type": "stream",
          "text": [
            "\r 72%|███████▏  | 718/1000 [05:00<01:48,  2.60it/s]"
          ],
          "name": "stderr"
        },
        {
          "output_type": "stream",
          "text": [
            "\n",
            " Episodio número 717 finalizado con 201 iteraciones. Recompensa final=-200.0\n"
          ],
          "name": "stdout"
        },
        {
          "output_type": "stream",
          "text": [
            "\r 72%|███████▏  | 719/1000 [05:00<01:47,  2.61it/s]"
          ],
          "name": "stderr"
        },
        {
          "output_type": "stream",
          "text": [
            "\n",
            " Episodio número 718 finalizado con 201 iteraciones. Recompensa final=-200.0\n"
          ],
          "name": "stdout"
        },
        {
          "output_type": "stream",
          "text": [
            "\r 72%|███████▏  | 720/1000 [05:01<01:46,  2.62it/s]"
          ],
          "name": "stderr"
        },
        {
          "output_type": "stream",
          "text": [
            "\n",
            " Episodio número 719 finalizado con 201 iteraciones. Recompensa final=-200.0\n"
          ],
          "name": "stdout"
        },
        {
          "output_type": "stream",
          "text": [
            "\r 72%|███████▏  | 721/1000 [05:01<01:46,  2.63it/s]"
          ],
          "name": "stderr"
        },
        {
          "output_type": "stream",
          "text": [
            "\n",
            " Episodio número 720 finalizado con 201 iteraciones. Recompensa final=-200.0\n"
          ],
          "name": "stdout"
        },
        {
          "output_type": "stream",
          "text": [
            "\r 72%|███████▏  | 722/1000 [05:02<01:45,  2.64it/s]"
          ],
          "name": "stderr"
        },
        {
          "output_type": "stream",
          "text": [
            "\n",
            " Episodio número 721 finalizado con 201 iteraciones. Recompensa final=-200.0\n"
          ],
          "name": "stdout"
        },
        {
          "output_type": "stream",
          "text": [
            "\r 72%|███████▏  | 723/1000 [05:02<01:44,  2.66it/s]"
          ],
          "name": "stderr"
        },
        {
          "output_type": "stream",
          "text": [
            "\n",
            " Episodio número 722 finalizado con 201 iteraciones. Recompensa final=-200.0\n"
          ],
          "name": "stdout"
        },
        {
          "output_type": "stream",
          "text": [
            "\r 72%|███████▏  | 724/1000 [05:02<01:41,  2.71it/s]"
          ],
          "name": "stderr"
        },
        {
          "output_type": "stream",
          "text": [
            "\n",
            " Episodio número 723 finalizado con 201 iteraciones. Recompensa final=-200.0\n"
          ],
          "name": "stdout"
        },
        {
          "output_type": "stream",
          "text": [
            "\r 72%|███████▎  | 725/1000 [05:03<01:42,  2.70it/s]"
          ],
          "name": "stderr"
        },
        {
          "output_type": "stream",
          "text": [
            "\n",
            " Episodio número 724 finalizado con 201 iteraciones. Recompensa final=-200.0\n"
          ],
          "name": "stdout"
        },
        {
          "output_type": "stream",
          "text": [
            "\r 73%|███████▎  | 726/1000 [05:03<01:41,  2.69it/s]"
          ],
          "name": "stderr"
        },
        {
          "output_type": "stream",
          "text": [
            "\n",
            " Episodio número 725 finalizado con 201 iteraciones. Recompensa final=-200.0\n"
          ],
          "name": "stdout"
        },
        {
          "output_type": "stream",
          "text": [
            "\r 73%|███████▎  | 727/1000 [05:03<01:41,  2.70it/s]"
          ],
          "name": "stderr"
        },
        {
          "output_type": "stream",
          "text": [
            "\n",
            " Episodio número 726 finalizado con 201 iteraciones. Recompensa final=-200.0\n"
          ],
          "name": "stdout"
        },
        {
          "output_type": "stream",
          "text": [
            "\r 73%|███████▎  | 728/1000 [05:04<01:40,  2.71it/s]"
          ],
          "name": "stderr"
        },
        {
          "output_type": "stream",
          "text": [
            "\n",
            " Episodio número 727 finalizado con 201 iteraciones. Recompensa final=-200.0\n"
          ],
          "name": "stdout"
        },
        {
          "output_type": "stream",
          "text": [
            "\r 73%|███████▎  | 729/1000 [05:04<01:39,  2.71it/s]"
          ],
          "name": "stderr"
        },
        {
          "output_type": "stream",
          "text": [
            "\n",
            " Episodio número 728 finalizado con 201 iteraciones. Recompensa final=-200.0\n"
          ],
          "name": "stdout"
        },
        {
          "output_type": "stream",
          "text": [
            "\r 73%|███████▎  | 730/1000 [05:07<05:12,  1.16s/it]"
          ],
          "name": "stderr"
        },
        {
          "output_type": "stream",
          "text": [
            "\n",
            " Episodio número 729 finalizado con 201 iteraciones. Recompensa final=-200.0\n"
          ],
          "name": "stdout"
        },
        {
          "output_type": "stream",
          "text": [
            "\r 73%|███████▎  | 731/1000 [05:08<04:17,  1.04it/s]"
          ],
          "name": "stderr"
        },
        {
          "output_type": "stream",
          "text": [
            "\n",
            " Episodio número 730 finalizado con 201 iteraciones. Recompensa final=-200.0\n"
          ],
          "name": "stdout"
        },
        {
          "output_type": "stream",
          "text": [
            "\r 73%|███████▎  | 732/1000 [05:08<03:30,  1.27it/s]"
          ],
          "name": "stderr"
        },
        {
          "output_type": "stream",
          "text": [
            "\n",
            " Episodio número 731 finalizado con 201 iteraciones. Recompensa final=-200.0\n"
          ],
          "name": "stdout"
        },
        {
          "output_type": "stream",
          "text": [
            "\r 73%|███████▎  | 733/1000 [05:08<02:58,  1.49it/s]"
          ],
          "name": "stderr"
        },
        {
          "output_type": "stream",
          "text": [
            "\n",
            " Episodio número 732 finalizado con 201 iteraciones. Recompensa final=-200.0\n"
          ],
          "name": "stdout"
        },
        {
          "output_type": "stream",
          "text": [
            "\r 73%|███████▎  | 734/1000 [05:09<02:34,  1.72it/s]"
          ],
          "name": "stderr"
        },
        {
          "output_type": "stream",
          "text": [
            "\n",
            " Episodio número 733 finalizado con 201 iteraciones. Recompensa final=-200.0\n"
          ],
          "name": "stdout"
        },
        {
          "output_type": "stream",
          "text": [
            "\r 74%|███████▎  | 735/1000 [05:09<02:17,  1.92it/s]"
          ],
          "name": "stderr"
        },
        {
          "output_type": "stream",
          "text": [
            "\n",
            " Episodio número 734 finalizado con 201 iteraciones. Recompensa final=-200.0\n"
          ],
          "name": "stdout"
        },
        {
          "output_type": "stream",
          "text": [
            "\r 74%|███████▎  | 736/1000 [05:10<02:06,  2.09it/s]"
          ],
          "name": "stderr"
        },
        {
          "output_type": "stream",
          "text": [
            "\n",
            " Episodio número 735 finalizado con 201 iteraciones. Recompensa final=-200.0\n"
          ],
          "name": "stdout"
        },
        {
          "output_type": "stream",
          "text": [
            "\r 74%|███████▎  | 737/1000 [05:10<01:58,  2.23it/s]"
          ],
          "name": "stderr"
        },
        {
          "output_type": "stream",
          "text": [
            "\n",
            " Episodio número 736 finalizado con 201 iteraciones. Recompensa final=-200.0\n"
          ],
          "name": "stdout"
        },
        {
          "output_type": "stream",
          "text": [
            "\r 74%|███████▍  | 738/1000 [05:10<01:50,  2.36it/s]"
          ],
          "name": "stderr"
        },
        {
          "output_type": "stream",
          "text": [
            "\n",
            " Episodio número 737 finalizado con 201 iteraciones. Recompensa final=-200.0\n"
          ],
          "name": "stdout"
        },
        {
          "output_type": "stream",
          "text": [
            "\r 74%|███████▍  | 739/1000 [05:11<01:47,  2.44it/s]"
          ],
          "name": "stderr"
        },
        {
          "output_type": "stream",
          "text": [
            "\n",
            " Episodio número 738 finalizado con 201 iteraciones. Recompensa final=-200.0\n"
          ],
          "name": "stdout"
        },
        {
          "output_type": "stream",
          "text": [
            "\r 74%|███████▍  | 740/1000 [05:11<01:42,  2.53it/s]"
          ],
          "name": "stderr"
        },
        {
          "output_type": "stream",
          "text": [
            "\n",
            " Episodio número 739 finalizado con 201 iteraciones. Recompensa final=-200.0\n"
          ],
          "name": "stdout"
        },
        {
          "output_type": "stream",
          "text": [
            "\r 74%|███████▍  | 741/1000 [05:11<01:40,  2.57it/s]"
          ],
          "name": "stderr"
        },
        {
          "output_type": "stream",
          "text": [
            "\n",
            " Episodio número 740 finalizado con 201 iteraciones. Recompensa final=-200.0\n"
          ],
          "name": "stdout"
        },
        {
          "output_type": "stream",
          "text": [
            "\r 74%|███████▍  | 742/1000 [05:12<01:38,  2.62it/s]"
          ],
          "name": "stderr"
        },
        {
          "output_type": "stream",
          "text": [
            "\n",
            " Episodio número 741 finalizado con 201 iteraciones. Recompensa final=-200.0\n"
          ],
          "name": "stdout"
        },
        {
          "output_type": "stream",
          "text": [
            "\r 74%|███████▍  | 743/1000 [05:12<01:39,  2.57it/s]"
          ],
          "name": "stderr"
        },
        {
          "output_type": "stream",
          "text": [
            "\n",
            " Episodio número 742 finalizado con 201 iteraciones. Recompensa final=-200.0\n"
          ],
          "name": "stdout"
        },
        {
          "output_type": "stream",
          "text": [
            "\r 74%|███████▍  | 744/1000 [05:13<01:39,  2.58it/s]"
          ],
          "name": "stderr"
        },
        {
          "output_type": "stream",
          "text": [
            "\n",
            " Episodio número 743 finalizado con 201 iteraciones. Recompensa final=-200.0\n"
          ],
          "name": "stdout"
        },
        {
          "output_type": "stream",
          "text": [
            "\r 74%|███████▍  | 745/1000 [05:13<01:39,  2.56it/s]"
          ],
          "name": "stderr"
        },
        {
          "output_type": "stream",
          "text": [
            "\n",
            " Episodio número 744 finalizado con 201 iteraciones. Recompensa final=-200.0\n"
          ],
          "name": "stdout"
        },
        {
          "output_type": "stream",
          "text": [
            "\r 75%|███████▍  | 746/1000 [05:13<01:38,  2.57it/s]"
          ],
          "name": "stderr"
        },
        {
          "output_type": "stream",
          "text": [
            "\n",
            " Episodio número 745 finalizado con 201 iteraciones. Recompensa final=-200.0\n"
          ],
          "name": "stdout"
        },
        {
          "output_type": "stream",
          "text": [
            "\r 75%|███████▍  | 747/1000 [05:14<01:37,  2.59it/s]"
          ],
          "name": "stderr"
        },
        {
          "output_type": "stream",
          "text": [
            "\n",
            " Episodio número 746 finalizado con 201 iteraciones. Recompensa final=-200.0\n"
          ],
          "name": "stdout"
        },
        {
          "output_type": "stream",
          "text": [
            "\r 75%|███████▍  | 748/1000 [05:14<01:36,  2.62it/s]"
          ],
          "name": "stderr"
        },
        {
          "output_type": "stream",
          "text": [
            "\n",
            " Episodio número 747 finalizado con 201 iteraciones. Recompensa final=-200.0\n"
          ],
          "name": "stdout"
        },
        {
          "output_type": "stream",
          "text": [
            "\r 75%|███████▍  | 749/1000 [05:14<01:34,  2.64it/s]"
          ],
          "name": "stderr"
        },
        {
          "output_type": "stream",
          "text": [
            "\n",
            " Episodio número 748 finalizado con 201 iteraciones. Recompensa final=-200.0\n"
          ],
          "name": "stdout"
        },
        {
          "output_type": "stream",
          "text": [
            "\r 75%|███████▌  | 750/1000 [05:15<01:35,  2.63it/s]"
          ],
          "name": "stderr"
        },
        {
          "output_type": "stream",
          "text": [
            "\n",
            " Episodio número 749 finalizado con 201 iteraciones. Recompensa final=-200.0\n"
          ],
          "name": "stdout"
        },
        {
          "output_type": "stream",
          "text": [
            "\r 75%|███████▌  | 751/1000 [05:15<01:34,  2.63it/s]"
          ],
          "name": "stderr"
        },
        {
          "output_type": "stream",
          "text": [
            "\n",
            " Episodio número 750 finalizado con 201 iteraciones. Recompensa final=-200.0\n"
          ],
          "name": "stdout"
        },
        {
          "output_type": "stream",
          "text": [
            "\r 75%|███████▌  | 752/1000 [05:16<01:33,  2.65it/s]"
          ],
          "name": "stderr"
        },
        {
          "output_type": "stream",
          "text": [
            "\n",
            " Episodio número 751 finalizado con 201 iteraciones. Recompensa final=-200.0\n"
          ],
          "name": "stdout"
        },
        {
          "output_type": "stream",
          "text": [
            "\r 75%|███████▌  | 753/1000 [05:16<01:33,  2.65it/s]"
          ],
          "name": "stderr"
        },
        {
          "output_type": "stream",
          "text": [
            "\n",
            " Episodio número 752 finalizado con 201 iteraciones. Recompensa final=-200.0\n"
          ],
          "name": "stdout"
        },
        {
          "output_type": "stream",
          "text": [
            "\r 75%|███████▌  | 754/1000 [05:16<01:32,  2.66it/s]"
          ],
          "name": "stderr"
        },
        {
          "output_type": "stream",
          "text": [
            "\n",
            " Episodio número 753 finalizado con 201 iteraciones. Recompensa final=-200.0\n"
          ],
          "name": "stdout"
        },
        {
          "output_type": "stream",
          "text": [
            "\r 76%|███████▌  | 755/1000 [05:17<01:31,  2.67it/s]"
          ],
          "name": "stderr"
        },
        {
          "output_type": "stream",
          "text": [
            "\n",
            " Episodio número 754 finalizado con 201 iteraciones. Recompensa final=-200.0\n"
          ],
          "name": "stdout"
        },
        {
          "output_type": "stream",
          "text": [
            "\r 76%|███████▌  | 756/1000 [05:17<01:30,  2.70it/s]"
          ],
          "name": "stderr"
        },
        {
          "output_type": "stream",
          "text": [
            "\n",
            " Episodio número 755 finalizado con 201 iteraciones. Recompensa final=-200.0\n"
          ],
          "name": "stdout"
        },
        {
          "output_type": "stream",
          "text": [
            "\r 76%|███████▌  | 757/1000 [05:17<01:29,  2.73it/s]"
          ],
          "name": "stderr"
        },
        {
          "output_type": "stream",
          "text": [
            "\n",
            " Episodio número 756 finalizado con 201 iteraciones. Recompensa final=-200.0\n"
          ],
          "name": "stdout"
        },
        {
          "output_type": "stream",
          "text": [
            "\r 76%|███████▌  | 758/1000 [05:18<01:30,  2.69it/s]"
          ],
          "name": "stderr"
        },
        {
          "output_type": "stream",
          "text": [
            "\n",
            " Episodio número 757 finalizado con 201 iteraciones. Recompensa final=-200.0\n"
          ],
          "name": "stdout"
        },
        {
          "output_type": "stream",
          "text": [
            "\r 76%|███████▌  | 759/1000 [05:18<01:30,  2.66it/s]"
          ],
          "name": "stderr"
        },
        {
          "output_type": "stream",
          "text": [
            "\n",
            " Episodio número 758 finalizado con 201 iteraciones. Recompensa final=-200.0\n"
          ],
          "name": "stdout"
        },
        {
          "output_type": "stream",
          "text": [
            "\r 76%|███████▌  | 760/1000 [05:19<01:29,  2.67it/s]"
          ],
          "name": "stderr"
        },
        {
          "output_type": "stream",
          "text": [
            "\n",
            " Episodio número 759 finalizado con 201 iteraciones. Recompensa final=-200.0\n"
          ],
          "name": "stdout"
        },
        {
          "output_type": "stream",
          "text": [
            "\r 76%|███████▌  | 761/1000 [05:19<01:30,  2.65it/s]"
          ],
          "name": "stderr"
        },
        {
          "output_type": "stream",
          "text": [
            "\n",
            " Episodio número 760 finalizado con 201 iteraciones. Recompensa final=-200.0\n"
          ],
          "name": "stdout"
        },
        {
          "output_type": "stream",
          "text": [
            "\r 76%|███████▌  | 762/1000 [05:19<01:28,  2.69it/s]"
          ],
          "name": "stderr"
        },
        {
          "output_type": "stream",
          "text": [
            "\n",
            " Episodio número 761 finalizado con 201 iteraciones. Recompensa final=-200.0\n"
          ],
          "name": "stdout"
        },
        {
          "output_type": "stream",
          "text": [
            "\r 76%|███████▋  | 763/1000 [05:20<01:28,  2.69it/s]"
          ],
          "name": "stderr"
        },
        {
          "output_type": "stream",
          "text": [
            "\n",
            " Episodio número 762 finalizado con 201 iteraciones. Recompensa final=-200.0\n"
          ],
          "name": "stdout"
        },
        {
          "output_type": "stream",
          "text": [
            "\r 76%|███████▋  | 764/1000 [05:20<01:27,  2.69it/s]"
          ],
          "name": "stderr"
        },
        {
          "output_type": "stream",
          "text": [
            "\n",
            " Episodio número 763 finalizado con 201 iteraciones. Recompensa final=-200.0\n"
          ],
          "name": "stdout"
        },
        {
          "output_type": "stream",
          "text": [
            "\r 76%|███████▋  | 765/1000 [05:20<01:27,  2.69it/s]"
          ],
          "name": "stderr"
        },
        {
          "output_type": "stream",
          "text": [
            "\n",
            " Episodio número 764 finalizado con 201 iteraciones. Recompensa final=-200.0\n"
          ],
          "name": "stdout"
        },
        {
          "output_type": "stream",
          "text": [
            "\r 77%|███████▋  | 766/1000 [05:21<01:28,  2.66it/s]"
          ],
          "name": "stderr"
        },
        {
          "output_type": "stream",
          "text": [
            "\n",
            " Episodio número 765 finalizado con 201 iteraciones. Recompensa final=-200.0\n"
          ],
          "name": "stdout"
        },
        {
          "output_type": "stream",
          "text": [
            "\r 77%|███████▋  | 767/1000 [05:21<01:26,  2.68it/s]"
          ],
          "name": "stderr"
        },
        {
          "output_type": "stream",
          "text": [
            "\n",
            " Episodio número 766 finalizado con 201 iteraciones. Recompensa final=-200.0\n"
          ],
          "name": "stdout"
        },
        {
          "output_type": "stream",
          "text": [
            "\r 77%|███████▋  | 768/1000 [05:22<01:26,  2.69it/s]"
          ],
          "name": "stderr"
        },
        {
          "output_type": "stream",
          "text": [
            "\n",
            " Episodio número 767 finalizado con 201 iteraciones. Recompensa final=-200.0\n"
          ],
          "name": "stdout"
        },
        {
          "output_type": "stream",
          "text": [
            "\r 77%|███████▋  | 769/1000 [05:22<01:25,  2.69it/s]"
          ],
          "name": "stderr"
        },
        {
          "output_type": "stream",
          "text": [
            "\n",
            " Episodio número 768 finalizado con 201 iteraciones. Recompensa final=-200.0\n"
          ],
          "name": "stdout"
        },
        {
          "output_type": "stream",
          "text": [
            "\r 77%|███████▋  | 770/1000 [05:22<01:25,  2.68it/s]"
          ],
          "name": "stderr"
        },
        {
          "output_type": "stream",
          "text": [
            "\n",
            " Episodio número 769 finalizado con 201 iteraciones. Recompensa final=-200.0\n"
          ],
          "name": "stdout"
        },
        {
          "output_type": "stream",
          "text": [
            "\r 77%|███████▋  | 771/1000 [05:23<01:25,  2.68it/s]"
          ],
          "name": "stderr"
        },
        {
          "output_type": "stream",
          "text": [
            "\n",
            " Episodio número 770 finalizado con 201 iteraciones. Recompensa final=-200.0\n"
          ],
          "name": "stdout"
        },
        {
          "output_type": "stream",
          "text": [
            "\r 77%|███████▋  | 772/1000 [05:23<01:26,  2.64it/s]"
          ],
          "name": "stderr"
        },
        {
          "output_type": "stream",
          "text": [
            "\n",
            " Episodio número 771 finalizado con 201 iteraciones. Recompensa final=-200.0\n"
          ],
          "name": "stdout"
        },
        {
          "output_type": "stream",
          "text": [
            "\r 77%|███████▋  | 773/1000 [05:23<01:25,  2.65it/s]"
          ],
          "name": "stderr"
        },
        {
          "output_type": "stream",
          "text": [
            "\n",
            " Episodio número 772 finalizado con 201 iteraciones. Recompensa final=-200.0\n"
          ],
          "name": "stdout"
        },
        {
          "output_type": "stream",
          "text": [
            "\r 77%|███████▋  | 774/1000 [05:24<01:26,  2.62it/s]"
          ],
          "name": "stderr"
        },
        {
          "output_type": "stream",
          "text": [
            "\n",
            " Episodio número 773 finalizado con 201 iteraciones. Recompensa final=-200.0\n"
          ],
          "name": "stdout"
        },
        {
          "output_type": "stream",
          "text": [
            "\r 78%|███████▊  | 775/1000 [05:24<01:25,  2.64it/s]"
          ],
          "name": "stderr"
        },
        {
          "output_type": "stream",
          "text": [
            "\n",
            " Episodio número 774 finalizado con 201 iteraciones. Recompensa final=-200.0\n"
          ],
          "name": "stdout"
        },
        {
          "output_type": "stream",
          "text": [
            "\r 78%|███████▊  | 776/1000 [05:25<01:26,  2.58it/s]"
          ],
          "name": "stderr"
        },
        {
          "output_type": "stream",
          "text": [
            "\n",
            " Episodio número 775 finalizado con 201 iteraciones. Recompensa final=-200.0\n"
          ],
          "name": "stdout"
        },
        {
          "output_type": "stream",
          "text": [
            "\r 78%|███████▊  | 777/1000 [05:25<01:26,  2.58it/s]"
          ],
          "name": "stderr"
        },
        {
          "output_type": "stream",
          "text": [
            "\n",
            " Episodio número 776 finalizado con 201 iteraciones. Recompensa final=-200.0\n"
          ],
          "name": "stdout"
        },
        {
          "output_type": "stream",
          "text": [
            "\r 78%|███████▊  | 778/1000 [05:25<01:25,  2.60it/s]"
          ],
          "name": "stderr"
        },
        {
          "output_type": "stream",
          "text": [
            "\n",
            " Episodio número 777 finalizado con 201 iteraciones. Recompensa final=-200.0\n"
          ],
          "name": "stdout"
        },
        {
          "output_type": "stream",
          "text": [
            "\r 78%|███████▊  | 779/1000 [05:26<01:24,  2.63it/s]"
          ],
          "name": "stderr"
        },
        {
          "output_type": "stream",
          "text": [
            "\n",
            " Episodio número 778 finalizado con 201 iteraciones. Recompensa final=-200.0\n"
          ],
          "name": "stdout"
        },
        {
          "output_type": "stream",
          "text": [
            "\r 78%|███████▊  | 780/1000 [05:26<01:23,  2.64it/s]"
          ],
          "name": "stderr"
        },
        {
          "output_type": "stream",
          "text": [
            "\n",
            " Episodio número 779 finalizado con 201 iteraciones. Recompensa final=-200.0\n"
          ],
          "name": "stdout"
        },
        {
          "output_type": "stream",
          "text": [
            "\r 78%|███████▊  | 781/1000 [05:27<01:22,  2.66it/s]"
          ],
          "name": "stderr"
        },
        {
          "output_type": "stream",
          "text": [
            "\n",
            " Episodio número 780 finalizado con 201 iteraciones. Recompensa final=-200.0\n"
          ],
          "name": "stdout"
        },
        {
          "output_type": "stream",
          "text": [
            "\r 78%|███████▊  | 782/1000 [05:27<01:21,  2.67it/s]"
          ],
          "name": "stderr"
        },
        {
          "output_type": "stream",
          "text": [
            "\n",
            " Episodio número 781 finalizado con 201 iteraciones. Recompensa final=-200.0\n"
          ],
          "name": "stdout"
        },
        {
          "output_type": "stream",
          "text": [
            "\r 78%|███████▊  | 783/1000 [05:27<01:22,  2.64it/s]"
          ],
          "name": "stderr"
        },
        {
          "output_type": "stream",
          "text": [
            "\n",
            " Episodio número 782 finalizado con 201 iteraciones. Recompensa final=-200.0\n"
          ],
          "name": "stdout"
        },
        {
          "output_type": "stream",
          "text": [
            "\r 78%|███████▊  | 784/1000 [05:28<01:21,  2.64it/s]"
          ],
          "name": "stderr"
        },
        {
          "output_type": "stream",
          "text": [
            "\n",
            " Episodio número 783 finalizado con 201 iteraciones. Recompensa final=-200.0\n"
          ],
          "name": "stdout"
        },
        {
          "output_type": "stream",
          "text": [
            "\r 78%|███████▊  | 785/1000 [05:28<01:21,  2.62it/s]"
          ],
          "name": "stderr"
        },
        {
          "output_type": "stream",
          "text": [
            "\n",
            " Episodio número 784 finalizado con 201 iteraciones. Recompensa final=-200.0\n"
          ],
          "name": "stdout"
        },
        {
          "output_type": "stream",
          "text": [
            "\r 79%|███████▊  | 786/1000 [05:28<01:22,  2.58it/s]"
          ],
          "name": "stderr"
        },
        {
          "output_type": "stream",
          "text": [
            "\n",
            " Episodio número 785 finalizado con 201 iteraciones. Recompensa final=-200.0\n"
          ],
          "name": "stdout"
        },
        {
          "output_type": "stream",
          "text": [
            "\r 79%|███████▊  | 787/1000 [05:29<01:21,  2.61it/s]"
          ],
          "name": "stderr"
        },
        {
          "output_type": "stream",
          "text": [
            "\n",
            " Episodio número 786 finalizado con 201 iteraciones. Recompensa final=-200.0\n"
          ],
          "name": "stdout"
        },
        {
          "output_type": "stream",
          "text": [
            "\r 79%|███████▉  | 788/1000 [05:29<01:21,  2.62it/s]"
          ],
          "name": "stderr"
        },
        {
          "output_type": "stream",
          "text": [
            "\n",
            " Episodio número 787 finalizado con 201 iteraciones. Recompensa final=-200.0\n"
          ],
          "name": "stdout"
        },
        {
          "output_type": "stream",
          "text": [
            "\r 79%|███████▉  | 789/1000 [05:30<01:19,  2.66it/s]"
          ],
          "name": "stderr"
        },
        {
          "output_type": "stream",
          "text": [
            "\n",
            " Episodio número 788 finalizado con 201 iteraciones. Recompensa final=-200.0\n"
          ],
          "name": "stdout"
        },
        {
          "output_type": "stream",
          "text": [
            "\r 79%|███████▉  | 790/1000 [05:30<01:19,  2.64it/s]"
          ],
          "name": "stderr"
        },
        {
          "output_type": "stream",
          "text": [
            "\n",
            " Episodio número 789 finalizado con 201 iteraciones. Recompensa final=-200.0\n"
          ],
          "name": "stdout"
        },
        {
          "output_type": "stream",
          "text": [
            "\r 79%|███████▉  | 791/1000 [05:30<01:18,  2.66it/s]"
          ],
          "name": "stderr"
        },
        {
          "output_type": "stream",
          "text": [
            "\n",
            " Episodio número 790 finalizado con 201 iteraciones. Recompensa final=-200.0\n"
          ],
          "name": "stdout"
        },
        {
          "output_type": "stream",
          "text": [
            "\r 79%|███████▉  | 792/1000 [05:31<01:18,  2.66it/s]"
          ],
          "name": "stderr"
        },
        {
          "output_type": "stream",
          "text": [
            "\n",
            " Episodio número 791 finalizado con 201 iteraciones. Recompensa final=-200.0\n"
          ],
          "name": "stdout"
        },
        {
          "output_type": "stream",
          "text": [
            "\r 79%|███████▉  | 793/1000 [05:31<01:17,  2.66it/s]"
          ],
          "name": "stderr"
        },
        {
          "output_type": "stream",
          "text": [
            "\n",
            " Episodio número 792 finalizado con 201 iteraciones. Recompensa final=-200.0\n"
          ],
          "name": "stdout"
        },
        {
          "output_type": "stream",
          "text": [
            "\r 79%|███████▉  | 794/1000 [05:31<01:16,  2.69it/s]"
          ],
          "name": "stderr"
        },
        {
          "output_type": "stream",
          "text": [
            "\n",
            " Episodio número 793 finalizado con 201 iteraciones. Recompensa final=-200.0\n"
          ],
          "name": "stdout"
        },
        {
          "output_type": "stream",
          "text": [
            "\r 80%|███████▉  | 795/1000 [05:32<01:15,  2.71it/s]"
          ],
          "name": "stderr"
        },
        {
          "output_type": "stream",
          "text": [
            "\n",
            " Episodio número 794 finalizado con 201 iteraciones. Recompensa final=-200.0\n"
          ],
          "name": "stdout"
        },
        {
          "output_type": "stream",
          "text": [
            "\r 80%|███████▉  | 796/1000 [05:32<01:15,  2.72it/s]"
          ],
          "name": "stderr"
        },
        {
          "output_type": "stream",
          "text": [
            "\n",
            " Episodio número 795 finalizado con 201 iteraciones. Recompensa final=-200.0\n"
          ],
          "name": "stdout"
        },
        {
          "output_type": "stream",
          "text": [
            "\r 80%|███████▉  | 797/1000 [05:33<01:15,  2.70it/s]"
          ],
          "name": "stderr"
        },
        {
          "output_type": "stream",
          "text": [
            "\n",
            " Episodio número 796 finalizado con 201 iteraciones. Recompensa final=-200.0\n"
          ],
          "name": "stdout"
        },
        {
          "output_type": "stream",
          "text": [
            "\r 80%|███████▉  | 798/1000 [05:33<01:14,  2.72it/s]"
          ],
          "name": "stderr"
        },
        {
          "output_type": "stream",
          "text": [
            "\n",
            " Episodio número 797 finalizado con 201 iteraciones. Recompensa final=-200.0\n"
          ],
          "name": "stdout"
        },
        {
          "output_type": "stream",
          "text": [
            "\r 80%|███████▉  | 799/1000 [05:33<01:14,  2.69it/s]"
          ],
          "name": "stderr"
        },
        {
          "output_type": "stream",
          "text": [
            "\n",
            " Episodio número 798 finalizado con 201 iteraciones. Recompensa final=-200.0\n"
          ],
          "name": "stdout"
        },
        {
          "output_type": "stream",
          "text": [
            "\r 80%|████████  | 800/1000 [05:34<01:14,  2.67it/s]"
          ],
          "name": "stderr"
        },
        {
          "output_type": "stream",
          "text": [
            "\n",
            " Episodio número 799 finalizado con 201 iteraciones. Recompensa final=-200.0\n"
          ],
          "name": "stdout"
        },
        {
          "output_type": "stream",
          "text": [
            "\r 80%|████████  | 801/1000 [05:34<01:14,  2.67it/s]"
          ],
          "name": "stderr"
        },
        {
          "output_type": "stream",
          "text": [
            "\n",
            " Episodio número 800 finalizado con 201 iteraciones. Recompensa final=-200.0\n"
          ],
          "name": "stdout"
        },
        {
          "output_type": "stream",
          "text": [
            "\r 80%|████████  | 802/1000 [05:34<01:13,  2.68it/s]"
          ],
          "name": "stderr"
        },
        {
          "output_type": "stream",
          "text": [
            "\n",
            " Episodio número 801 finalizado con 201 iteraciones. Recompensa final=-200.0\n"
          ],
          "name": "stdout"
        },
        {
          "output_type": "stream",
          "text": [
            "\r 80%|████████  | 803/1000 [05:35<01:12,  2.71it/s]"
          ],
          "name": "stderr"
        },
        {
          "output_type": "stream",
          "text": [
            "\n",
            " Episodio número 802 finalizado con 201 iteraciones. Recompensa final=-200.0\n"
          ],
          "name": "stdout"
        },
        {
          "output_type": "stream",
          "text": [
            "\r 80%|████████  | 804/1000 [05:35<01:13,  2.66it/s]"
          ],
          "name": "stderr"
        },
        {
          "output_type": "stream",
          "text": [
            "\n",
            " Episodio número 803 finalizado con 201 iteraciones. Recompensa final=-200.0\n"
          ],
          "name": "stdout"
        },
        {
          "output_type": "stream",
          "text": [
            "\r 80%|████████  | 805/1000 [05:36<01:11,  2.72it/s]"
          ],
          "name": "stderr"
        },
        {
          "output_type": "stream",
          "text": [
            "\n",
            " Episodio número 804 finalizado con 201 iteraciones. Recompensa final=-200.0\n"
          ],
          "name": "stdout"
        },
        {
          "output_type": "stream",
          "text": [
            "\r 81%|████████  | 806/1000 [05:36<01:10,  2.74it/s]"
          ],
          "name": "stderr"
        },
        {
          "output_type": "stream",
          "text": [
            "\n",
            " Episodio número 805 finalizado con 201 iteraciones. Recompensa final=-200.0\n"
          ],
          "name": "stdout"
        },
        {
          "output_type": "stream",
          "text": [
            "\r 81%|████████  | 807/1000 [05:36<01:10,  2.75it/s]"
          ],
          "name": "stderr"
        },
        {
          "output_type": "stream",
          "text": [
            "\n",
            " Episodio número 806 finalizado con 201 iteraciones. Recompensa final=-200.0\n"
          ],
          "name": "stdout"
        },
        {
          "output_type": "stream",
          "text": [
            "\r 81%|████████  | 808/1000 [05:37<01:10,  2.71it/s]"
          ],
          "name": "stderr"
        },
        {
          "output_type": "stream",
          "text": [
            "\n",
            " Episodio número 807 finalizado con 201 iteraciones. Recompensa final=-200.0\n"
          ],
          "name": "stdout"
        },
        {
          "output_type": "stream",
          "text": [
            "\r 81%|████████  | 809/1000 [05:37<01:10,  2.69it/s]"
          ],
          "name": "stderr"
        },
        {
          "output_type": "stream",
          "text": [
            "\n",
            " Episodio número 808 finalizado con 201 iteraciones. Recompensa final=-200.0\n"
          ],
          "name": "stdout"
        },
        {
          "output_type": "stream",
          "text": [
            "\r 81%|████████  | 810/1000 [05:37<01:10,  2.71it/s]"
          ],
          "name": "stderr"
        },
        {
          "output_type": "stream",
          "text": [
            "\n",
            " Episodio número 809 finalizado con 201 iteraciones. Recompensa final=-200.0\n"
          ],
          "name": "stdout"
        },
        {
          "output_type": "stream",
          "text": [
            "\r 81%|████████  | 811/1000 [05:38<01:11,  2.66it/s]"
          ],
          "name": "stderr"
        },
        {
          "output_type": "stream",
          "text": [
            "\n",
            " Episodio número 810 finalizado con 201 iteraciones. Recompensa final=-200.0\n"
          ],
          "name": "stdout"
        },
        {
          "output_type": "stream",
          "text": [
            "\r 81%|████████  | 812/1000 [05:38<01:10,  2.68it/s]"
          ],
          "name": "stderr"
        },
        {
          "output_type": "stream",
          "text": [
            "\n",
            " Episodio número 811 finalizado con 201 iteraciones. Recompensa final=-200.0\n"
          ],
          "name": "stdout"
        },
        {
          "output_type": "stream",
          "text": [
            "\r 81%|████████▏ | 813/1000 [05:38<01:09,  2.67it/s]"
          ],
          "name": "stderr"
        },
        {
          "output_type": "stream",
          "text": [
            "\n",
            " Episodio número 812 finalizado con 201 iteraciones. Recompensa final=-200.0\n"
          ],
          "name": "stdout"
        },
        {
          "output_type": "stream",
          "text": [
            "\r 81%|████████▏ | 814/1000 [05:39<01:10,  2.65it/s]"
          ],
          "name": "stderr"
        },
        {
          "output_type": "stream",
          "text": [
            "\n",
            " Episodio número 813 finalizado con 201 iteraciones. Recompensa final=-200.0\n"
          ],
          "name": "stdout"
        },
        {
          "output_type": "stream",
          "text": [
            "\r 82%|████████▏ | 815/1000 [05:39<01:09,  2.66it/s]"
          ],
          "name": "stderr"
        },
        {
          "output_type": "stream",
          "text": [
            "\n",
            " Episodio número 814 finalizado con 201 iteraciones. Recompensa final=-200.0\n"
          ],
          "name": "stdout"
        },
        {
          "output_type": "stream",
          "text": [
            "\r 82%|████████▏ | 816/1000 [05:40<01:09,  2.65it/s]"
          ],
          "name": "stderr"
        },
        {
          "output_type": "stream",
          "text": [
            "\n",
            " Episodio número 815 finalizado con 201 iteraciones. Recompensa final=-200.0\n"
          ],
          "name": "stdout"
        },
        {
          "output_type": "stream",
          "text": [
            "\r 82%|████████▏ | 817/1000 [05:40<01:09,  2.65it/s]"
          ],
          "name": "stderr"
        },
        {
          "output_type": "stream",
          "text": [
            "\n",
            " Episodio número 816 finalizado con 201 iteraciones. Recompensa final=-200.0\n"
          ],
          "name": "stdout"
        },
        {
          "output_type": "stream",
          "text": [
            "\r 82%|████████▏ | 818/1000 [05:40<01:09,  2.62it/s]"
          ],
          "name": "stderr"
        },
        {
          "output_type": "stream",
          "text": [
            "\n",
            " Episodio número 817 finalizado con 201 iteraciones. Recompensa final=-200.0\n"
          ],
          "name": "stdout"
        },
        {
          "output_type": "stream",
          "text": [
            "\r 82%|████████▏ | 819/1000 [05:41<01:08,  2.64it/s]"
          ],
          "name": "stderr"
        },
        {
          "output_type": "stream",
          "text": [
            "\n",
            " Episodio número 818 finalizado con 201 iteraciones. Recompensa final=-200.0\n"
          ],
          "name": "stdout"
        },
        {
          "output_type": "stream",
          "text": [
            "\r 82%|████████▏ | 820/1000 [05:41<01:07,  2.65it/s]"
          ],
          "name": "stderr"
        },
        {
          "output_type": "stream",
          "text": [
            "\n",
            " Episodio número 819 finalizado con 201 iteraciones. Recompensa final=-200.0\n"
          ],
          "name": "stdout"
        },
        {
          "output_type": "stream",
          "text": [
            "\r 82%|████████▏ | 821/1000 [05:42<01:07,  2.66it/s]"
          ],
          "name": "stderr"
        },
        {
          "output_type": "stream",
          "text": [
            "\n",
            " Episodio número 820 finalizado con 201 iteraciones. Recompensa final=-200.0\n"
          ],
          "name": "stdout"
        },
        {
          "output_type": "stream",
          "text": [
            "\r 82%|████████▏ | 822/1000 [05:42<01:06,  2.69it/s]"
          ],
          "name": "stderr"
        },
        {
          "output_type": "stream",
          "text": [
            "\n",
            " Episodio número 821 finalizado con 201 iteraciones. Recompensa final=-200.0\n"
          ],
          "name": "stdout"
        },
        {
          "output_type": "stream",
          "text": [
            "\r 82%|████████▏ | 823/1000 [05:42<01:06,  2.66it/s]"
          ],
          "name": "stderr"
        },
        {
          "output_type": "stream",
          "text": [
            "\n",
            " Episodio número 822 finalizado con 201 iteraciones. Recompensa final=-200.0\n"
          ],
          "name": "stdout"
        },
        {
          "output_type": "stream",
          "text": [
            "\r 82%|████████▏ | 824/1000 [05:43<01:07,  2.60it/s]"
          ],
          "name": "stderr"
        },
        {
          "output_type": "stream",
          "text": [
            "\n",
            " Episodio número 823 finalizado con 201 iteraciones. Recompensa final=-200.0\n"
          ],
          "name": "stdout"
        },
        {
          "output_type": "stream",
          "text": [
            "\r 82%|████████▎ | 825/1000 [05:43<01:06,  2.64it/s]"
          ],
          "name": "stderr"
        },
        {
          "output_type": "stream",
          "text": [
            "\n",
            " Episodio número 824 finalizado con 201 iteraciones. Recompensa final=-200.0\n"
          ],
          "name": "stdout"
        },
        {
          "output_type": "stream",
          "text": [
            "\r 83%|████████▎ | 826/1000 [05:43<01:06,  2.64it/s]"
          ],
          "name": "stderr"
        },
        {
          "output_type": "stream",
          "text": [
            "\n",
            " Episodio número 825 finalizado con 201 iteraciones. Recompensa final=-200.0\n"
          ],
          "name": "stdout"
        },
        {
          "output_type": "stream",
          "text": [
            "\r 83%|████████▎ | 827/1000 [05:44<01:05,  2.65it/s]"
          ],
          "name": "stderr"
        },
        {
          "output_type": "stream",
          "text": [
            "\n",
            " Episodio número 826 finalizado con 201 iteraciones. Recompensa final=-200.0\n"
          ],
          "name": "stdout"
        },
        {
          "output_type": "stream",
          "text": [
            "\r 83%|████████▎ | 828/1000 [05:44<01:04,  2.66it/s]"
          ],
          "name": "stderr"
        },
        {
          "output_type": "stream",
          "text": [
            "\n",
            " Episodio número 827 finalizado con 201 iteraciones. Recompensa final=-200.0\n"
          ],
          "name": "stdout"
        },
        {
          "output_type": "stream",
          "text": [
            "\r 83%|████████▎ | 829/1000 [05:45<01:04,  2.66it/s]"
          ],
          "name": "stderr"
        },
        {
          "output_type": "stream",
          "text": [
            "\n",
            " Episodio número 828 finalizado con 201 iteraciones. Recompensa final=-200.0\n"
          ],
          "name": "stdout"
        },
        {
          "output_type": "stream",
          "text": [
            "\r 83%|████████▎ | 830/1000 [05:45<01:02,  2.70it/s]"
          ],
          "name": "stderr"
        },
        {
          "output_type": "stream",
          "text": [
            "\n",
            " Episodio número 829 finalizado con 201 iteraciones. Recompensa final=-200.0\n"
          ],
          "name": "stdout"
        },
        {
          "output_type": "stream",
          "text": [
            "\r 83%|████████▎ | 831/1000 [05:45<01:03,  2.66it/s]"
          ],
          "name": "stderr"
        },
        {
          "output_type": "stream",
          "text": [
            "\n",
            " Episodio número 830 finalizado con 201 iteraciones. Recompensa final=-200.0\n"
          ],
          "name": "stdout"
        },
        {
          "output_type": "stream",
          "text": [
            "\r 83%|████████▎ | 832/1000 [05:46<01:03,  2.63it/s]"
          ],
          "name": "stderr"
        },
        {
          "output_type": "stream",
          "text": [
            "\n",
            " Episodio número 831 finalizado con 201 iteraciones. Recompensa final=-200.0\n"
          ],
          "name": "stdout"
        },
        {
          "output_type": "stream",
          "text": [
            "\r 83%|████████▎ | 833/1000 [05:46<01:03,  2.65it/s]"
          ],
          "name": "stderr"
        },
        {
          "output_type": "stream",
          "text": [
            "\n",
            " Episodio número 832 finalizado con 201 iteraciones. Recompensa final=-200.0\n"
          ],
          "name": "stdout"
        },
        {
          "output_type": "stream",
          "text": [
            "\r 83%|████████▎ | 834/1000 [05:46<01:02,  2.66it/s]"
          ],
          "name": "stderr"
        },
        {
          "output_type": "stream",
          "text": [
            "\n",
            " Episodio número 833 finalizado con 201 iteraciones. Recompensa final=-200.0\n"
          ],
          "name": "stdout"
        },
        {
          "output_type": "stream",
          "text": [
            "\r 84%|████████▎ | 835/1000 [05:47<01:01,  2.66it/s]"
          ],
          "name": "stderr"
        },
        {
          "output_type": "stream",
          "text": [
            "\n",
            " Episodio número 834 finalizado con 201 iteraciones. Recompensa final=-200.0\n"
          ],
          "name": "stdout"
        },
        {
          "output_type": "stream",
          "text": [
            "\r 84%|████████▎ | 836/1000 [05:47<01:02,  2.64it/s]"
          ],
          "name": "stderr"
        },
        {
          "output_type": "stream",
          "text": [
            "\n",
            " Episodio número 835 finalizado con 201 iteraciones. Recompensa final=-200.0\n"
          ],
          "name": "stdout"
        },
        {
          "output_type": "stream",
          "text": [
            "\r 84%|████████▎ | 837/1000 [05:48<01:00,  2.69it/s]"
          ],
          "name": "stderr"
        },
        {
          "output_type": "stream",
          "text": [
            "\n",
            " Episodio número 836 finalizado con 201 iteraciones. Recompensa final=-200.0\n"
          ],
          "name": "stdout"
        },
        {
          "output_type": "stream",
          "text": [
            "\r 84%|████████▍ | 838/1000 [05:48<00:59,  2.70it/s]"
          ],
          "name": "stderr"
        },
        {
          "output_type": "stream",
          "text": [
            "\n",
            " Episodio número 837 finalizado con 201 iteraciones. Recompensa final=-200.0\n"
          ],
          "name": "stdout"
        },
        {
          "output_type": "stream",
          "text": [
            "\r 84%|████████▍ | 839/1000 [05:48<00:59,  2.71it/s]"
          ],
          "name": "stderr"
        },
        {
          "output_type": "stream",
          "text": [
            "\n",
            " Episodio número 838 finalizado con 201 iteraciones. Recompensa final=-200.0\n"
          ],
          "name": "stdout"
        },
        {
          "output_type": "stream",
          "text": [
            "\r 84%|████████▍ | 840/1000 [05:49<01:00,  2.66it/s]"
          ],
          "name": "stderr"
        },
        {
          "output_type": "stream",
          "text": [
            "\n",
            " Episodio número 839 finalizado con 201 iteraciones. Recompensa final=-200.0\n"
          ],
          "name": "stdout"
        },
        {
          "output_type": "stream",
          "text": [
            "\r 84%|████████▍ | 841/1000 [05:49<00:59,  2.68it/s]"
          ],
          "name": "stderr"
        },
        {
          "output_type": "stream",
          "text": [
            "\n",
            " Episodio número 840 finalizado con 201 iteraciones. Recompensa final=-200.0\n"
          ],
          "name": "stdout"
        },
        {
          "output_type": "stream",
          "text": [
            "\r 84%|████████▍ | 842/1000 [05:49<00:59,  2.65it/s]"
          ],
          "name": "stderr"
        },
        {
          "output_type": "stream",
          "text": [
            "\n",
            " Episodio número 841 finalizado con 201 iteraciones. Recompensa final=-200.0\n"
          ],
          "name": "stdout"
        },
        {
          "output_type": "stream",
          "text": [
            "\r 84%|████████▍ | 843/1000 [05:50<00:58,  2.67it/s]"
          ],
          "name": "stderr"
        },
        {
          "output_type": "stream",
          "text": [
            "\n",
            " Episodio número 842 finalizado con 201 iteraciones. Recompensa final=-200.0\n"
          ],
          "name": "stdout"
        },
        {
          "output_type": "stream",
          "text": [
            "\r 84%|████████▍ | 844/1000 [05:50<00:59,  2.64it/s]"
          ],
          "name": "stderr"
        },
        {
          "output_type": "stream",
          "text": [
            "\n",
            " Episodio número 843 finalizado con 201 iteraciones. Recompensa final=-200.0\n"
          ],
          "name": "stdout"
        },
        {
          "output_type": "stream",
          "text": [
            "\r 84%|████████▍ | 845/1000 [05:51<00:58,  2.67it/s]"
          ],
          "name": "stderr"
        },
        {
          "output_type": "stream",
          "text": [
            "\n",
            " Episodio número 844 finalizado con 201 iteraciones. Recompensa final=-200.0\n"
          ],
          "name": "stdout"
        },
        {
          "output_type": "stream",
          "text": [
            "\r 85%|████████▍ | 846/1000 [05:51<00:56,  2.70it/s]"
          ],
          "name": "stderr"
        },
        {
          "output_type": "stream",
          "text": [
            "\n",
            " Episodio número 845 finalizado con 201 iteraciones. Recompensa final=-200.0\n"
          ],
          "name": "stdout"
        },
        {
          "output_type": "stream",
          "text": [
            "\r 85%|████████▍ | 847/1000 [05:51<00:57,  2.68it/s]"
          ],
          "name": "stderr"
        },
        {
          "output_type": "stream",
          "text": [
            "\n",
            " Episodio número 846 finalizado con 201 iteraciones. Recompensa final=-200.0\n"
          ],
          "name": "stdout"
        },
        {
          "output_type": "stream",
          "text": [
            "\r 85%|████████▍ | 848/1000 [05:52<00:57,  2.63it/s]"
          ],
          "name": "stderr"
        },
        {
          "output_type": "stream",
          "text": [
            "\n",
            " Episodio número 847 finalizado con 201 iteraciones. Recompensa final=-200.0\n"
          ],
          "name": "stdout"
        },
        {
          "output_type": "stream",
          "text": [
            "\r 85%|████████▍ | 849/1000 [05:52<00:56,  2.67it/s]"
          ],
          "name": "stderr"
        },
        {
          "output_type": "stream",
          "text": [
            "\n",
            " Episodio número 848 finalizado con 201 iteraciones. Recompensa final=-200.0\n"
          ],
          "name": "stdout"
        },
        {
          "output_type": "stream",
          "text": [
            "\r 85%|████████▌ | 850/1000 [05:52<00:55,  2.68it/s]"
          ],
          "name": "stderr"
        },
        {
          "output_type": "stream",
          "text": [
            "\n",
            " Episodio número 849 finalizado con 201 iteraciones. Recompensa final=-200.0\n"
          ],
          "name": "stdout"
        },
        {
          "output_type": "stream",
          "text": [
            "\r 85%|████████▌ | 851/1000 [05:53<00:56,  2.63it/s]"
          ],
          "name": "stderr"
        },
        {
          "output_type": "stream",
          "text": [
            "\n",
            " Episodio número 850 finalizado con 201 iteraciones. Recompensa final=-200.0\n"
          ],
          "name": "stdout"
        },
        {
          "output_type": "stream",
          "text": [
            "\r 85%|████████▌ | 852/1000 [05:53<00:56,  2.63it/s]"
          ],
          "name": "stderr"
        },
        {
          "output_type": "stream",
          "text": [
            "\n",
            " Episodio número 851 finalizado con 201 iteraciones. Recompensa final=-200.0\n"
          ],
          "name": "stdout"
        },
        {
          "output_type": "stream",
          "text": [
            "\r 85%|████████▌ | 853/1000 [05:54<00:55,  2.63it/s]"
          ],
          "name": "stderr"
        },
        {
          "output_type": "stream",
          "text": [
            "\n",
            " Episodio número 852 finalizado con 201 iteraciones. Recompensa final=-200.0\n"
          ],
          "name": "stdout"
        },
        {
          "output_type": "stream",
          "text": [
            "\r 85%|████████▌ | 854/1000 [05:54<00:55,  2.65it/s]"
          ],
          "name": "stderr"
        },
        {
          "output_type": "stream",
          "text": [
            "\n",
            " Episodio número 853 finalizado con 201 iteraciones. Recompensa final=-200.0\n"
          ],
          "name": "stdout"
        },
        {
          "output_type": "stream",
          "text": [
            "\r 86%|████████▌ | 855/1000 [05:54<00:55,  2.64it/s]"
          ],
          "name": "stderr"
        },
        {
          "output_type": "stream",
          "text": [
            "\n",
            " Episodio número 854 finalizado con 201 iteraciones. Recompensa final=-200.0\n"
          ],
          "name": "stdout"
        },
        {
          "output_type": "stream",
          "text": [
            "\r 86%|████████▌ | 856/1000 [05:55<00:54,  2.65it/s]"
          ],
          "name": "stderr"
        },
        {
          "output_type": "stream",
          "text": [
            "\n",
            " Episodio número 855 finalizado con 201 iteraciones. Recompensa final=-200.0\n"
          ],
          "name": "stdout"
        },
        {
          "output_type": "stream",
          "text": [
            "\r 86%|████████▌ | 857/1000 [05:55<00:53,  2.66it/s]"
          ],
          "name": "stderr"
        },
        {
          "output_type": "stream",
          "text": [
            "\n",
            " Episodio número 856 finalizado con 201 iteraciones. Recompensa final=-200.0\n"
          ],
          "name": "stdout"
        },
        {
          "output_type": "stream",
          "text": [
            "\r 86%|████████▌ | 858/1000 [05:55<00:53,  2.65it/s]"
          ],
          "name": "stderr"
        },
        {
          "output_type": "stream",
          "text": [
            "\n",
            " Episodio número 857 finalizado con 201 iteraciones. Recompensa final=-200.0\n"
          ],
          "name": "stdout"
        },
        {
          "output_type": "stream",
          "text": [
            "\r 86%|████████▌ | 859/1000 [05:56<00:53,  2.65it/s]"
          ],
          "name": "stderr"
        },
        {
          "output_type": "stream",
          "text": [
            "\n",
            " Episodio número 858 finalizado con 201 iteraciones. Recompensa final=-200.0\n"
          ],
          "name": "stdout"
        },
        {
          "output_type": "stream",
          "text": [
            "\r 86%|████████▌ | 860/1000 [05:56<00:52,  2.68it/s]"
          ],
          "name": "stderr"
        },
        {
          "output_type": "stream",
          "text": [
            "\n",
            " Episodio número 859 finalizado con 201 iteraciones. Recompensa final=-200.0\n"
          ],
          "name": "stdout"
        },
        {
          "output_type": "stream",
          "text": [
            "\r 86%|████████▌ | 861/1000 [05:57<00:51,  2.68it/s]"
          ],
          "name": "stderr"
        },
        {
          "output_type": "stream",
          "text": [
            "\n",
            " Episodio número 860 finalizado con 201 iteraciones. Recompensa final=-200.0\n"
          ],
          "name": "stdout"
        },
        {
          "output_type": "stream",
          "text": [
            "\r 86%|████████▌ | 862/1000 [05:57<00:51,  2.69it/s]"
          ],
          "name": "stderr"
        },
        {
          "output_type": "stream",
          "text": [
            "\n",
            " Episodio número 861 finalizado con 201 iteraciones. Recompensa final=-200.0\n"
          ],
          "name": "stdout"
        },
        {
          "output_type": "stream",
          "text": [
            "\r 86%|████████▋ | 863/1000 [05:57<00:50,  2.69it/s]"
          ],
          "name": "stderr"
        },
        {
          "output_type": "stream",
          "text": [
            "\n",
            " Episodio número 862 finalizado con 201 iteraciones. Recompensa final=-200.0\n"
          ],
          "name": "stdout"
        },
        {
          "output_type": "stream",
          "text": [
            "\r 86%|████████▋ | 864/1000 [05:58<00:51,  2.64it/s]"
          ],
          "name": "stderr"
        },
        {
          "output_type": "stream",
          "text": [
            "\n",
            " Episodio número 863 finalizado con 201 iteraciones. Recompensa final=-200.0\n"
          ],
          "name": "stdout"
        },
        {
          "output_type": "stream",
          "text": [
            "\r 86%|████████▋ | 865/1000 [05:58<00:51,  2.63it/s]"
          ],
          "name": "stderr"
        },
        {
          "output_type": "stream",
          "text": [
            "\n",
            " Episodio número 864 finalizado con 201 iteraciones. Recompensa final=-200.0\n"
          ],
          "name": "stdout"
        },
        {
          "output_type": "stream",
          "text": [
            "\r 87%|████████▋ | 866/1000 [05:58<00:51,  2.62it/s]"
          ],
          "name": "stderr"
        },
        {
          "output_type": "stream",
          "text": [
            "\n",
            " Episodio número 865 finalizado con 201 iteraciones. Recompensa final=-200.0\n"
          ],
          "name": "stdout"
        },
        {
          "output_type": "stream",
          "text": [
            "\r 87%|████████▋ | 867/1000 [05:59<00:50,  2.62it/s]"
          ],
          "name": "stderr"
        },
        {
          "output_type": "stream",
          "text": [
            "\n",
            " Episodio número 866 finalizado con 201 iteraciones. Recompensa final=-200.0\n"
          ],
          "name": "stdout"
        },
        {
          "output_type": "stream",
          "text": [
            "\r 87%|████████▋ | 868/1000 [05:59<00:50,  2.62it/s]"
          ],
          "name": "stderr"
        },
        {
          "output_type": "stream",
          "text": [
            "\n",
            " Episodio número 867 finalizado con 201 iteraciones. Recompensa final=-200.0\n"
          ],
          "name": "stdout"
        },
        {
          "output_type": "stream",
          "text": [
            "\r 87%|████████▋ | 869/1000 [06:00<00:50,  2.58it/s]"
          ],
          "name": "stderr"
        },
        {
          "output_type": "stream",
          "text": [
            "\n",
            " Episodio número 868 finalizado con 201 iteraciones. Recompensa final=-200.0\n"
          ],
          "name": "stdout"
        },
        {
          "output_type": "stream",
          "text": [
            "\r 87%|████████▋ | 870/1000 [06:00<00:50,  2.59it/s]"
          ],
          "name": "stderr"
        },
        {
          "output_type": "stream",
          "text": [
            "\n",
            " Episodio número 869 finalizado con 201 iteraciones. Recompensa final=-200.0\n"
          ],
          "name": "stdout"
        },
        {
          "output_type": "stream",
          "text": [
            "\r 87%|████████▋ | 871/1000 [06:00<00:51,  2.52it/s]"
          ],
          "name": "stderr"
        },
        {
          "output_type": "stream",
          "text": [
            "\n",
            " Episodio número 870 finalizado con 201 iteraciones. Recompensa final=-200.0\n"
          ],
          "name": "stdout"
        },
        {
          "output_type": "stream",
          "text": [
            "\r 87%|████████▋ | 872/1000 [06:01<00:49,  2.57it/s]"
          ],
          "name": "stderr"
        },
        {
          "output_type": "stream",
          "text": [
            "\n",
            " Episodio número 871 finalizado con 201 iteraciones. Recompensa final=-200.0\n"
          ],
          "name": "stdout"
        },
        {
          "output_type": "stream",
          "text": [
            "\r 87%|████████▋ | 873/1000 [06:01<00:48,  2.63it/s]"
          ],
          "name": "stderr"
        },
        {
          "output_type": "stream",
          "text": [
            "\n",
            " Episodio número 872 finalizado con 201 iteraciones. Recompensa final=-200.0\n"
          ],
          "name": "stdout"
        },
        {
          "output_type": "stream",
          "text": [
            "\r 87%|████████▋ | 874/1000 [06:02<00:48,  2.58it/s]"
          ],
          "name": "stderr"
        },
        {
          "output_type": "stream",
          "text": [
            "\n",
            " Episodio número 873 finalizado con 201 iteraciones. Recompensa final=-200.0\n"
          ],
          "name": "stdout"
        },
        {
          "output_type": "stream",
          "text": [
            "\r 88%|████████▊ | 875/1000 [06:02<00:48,  2.60it/s]"
          ],
          "name": "stderr"
        },
        {
          "output_type": "stream",
          "text": [
            "\n",
            " Episodio número 874 finalizado con 201 iteraciones. Recompensa final=-200.0\n"
          ],
          "name": "stdout"
        },
        {
          "output_type": "stream",
          "text": [
            "\r 88%|████████▊ | 876/1000 [06:02<00:47,  2.60it/s]"
          ],
          "name": "stderr"
        },
        {
          "output_type": "stream",
          "text": [
            "\n",
            " Episodio número 875 finalizado con 201 iteraciones. Recompensa final=-200.0\n"
          ],
          "name": "stdout"
        },
        {
          "output_type": "stream",
          "text": [
            "\r 88%|████████▊ | 877/1000 [06:03<00:47,  2.60it/s]"
          ],
          "name": "stderr"
        },
        {
          "output_type": "stream",
          "text": [
            "\n",
            " Episodio número 876 finalizado con 201 iteraciones. Recompensa final=-200.0\n"
          ],
          "name": "stdout"
        },
        {
          "output_type": "stream",
          "text": [
            "\r 88%|████████▊ | 878/1000 [06:03<00:47,  2.56it/s]"
          ],
          "name": "stderr"
        },
        {
          "output_type": "stream",
          "text": [
            "\n",
            " Episodio número 877 finalizado con 201 iteraciones. Recompensa final=-200.0\n"
          ],
          "name": "stdout"
        },
        {
          "output_type": "stream",
          "text": [
            "\r 88%|████████▊ | 879/1000 [06:03<00:47,  2.56it/s]"
          ],
          "name": "stderr"
        },
        {
          "output_type": "stream",
          "text": [
            "\n",
            " Episodio número 878 finalizado con 201 iteraciones. Recompensa final=-200.0\n"
          ],
          "name": "stdout"
        },
        {
          "output_type": "stream",
          "text": [
            "\r 88%|████████▊ | 880/1000 [06:04<00:46,  2.60it/s]"
          ],
          "name": "stderr"
        },
        {
          "output_type": "stream",
          "text": [
            "\n",
            " Episodio número 879 finalizado con 201 iteraciones. Recompensa final=-200.0\n"
          ],
          "name": "stdout"
        },
        {
          "output_type": "stream",
          "text": [
            "\r 88%|████████▊ | 881/1000 [06:04<00:45,  2.61it/s]"
          ],
          "name": "stderr"
        },
        {
          "output_type": "stream",
          "text": [
            "\n",
            " Episodio número 880 finalizado con 201 iteraciones. Recompensa final=-200.0\n"
          ],
          "name": "stdout"
        },
        {
          "output_type": "stream",
          "text": [
            "\r 88%|████████▊ | 882/1000 [06:05<00:45,  2.59it/s]"
          ],
          "name": "stderr"
        },
        {
          "output_type": "stream",
          "text": [
            "\n",
            " Episodio número 881 finalizado con 201 iteraciones. Recompensa final=-200.0\n"
          ],
          "name": "stdout"
        },
        {
          "output_type": "stream",
          "text": [
            "\r 88%|████████▊ | 883/1000 [06:05<00:45,  2.59it/s]"
          ],
          "name": "stderr"
        },
        {
          "output_type": "stream",
          "text": [
            "\n",
            " Episodio número 882 finalizado con 201 iteraciones. Recompensa final=-200.0\n"
          ],
          "name": "stdout"
        },
        {
          "output_type": "stream",
          "text": [
            "\r 88%|████████▊ | 884/1000 [06:05<00:45,  2.53it/s]"
          ],
          "name": "stderr"
        },
        {
          "output_type": "stream",
          "text": [
            "\n",
            " Episodio número 883 finalizado con 201 iteraciones. Recompensa final=-200.0\n"
          ],
          "name": "stdout"
        },
        {
          "output_type": "stream",
          "text": [
            "\r 88%|████████▊ | 885/1000 [06:06<00:45,  2.55it/s]"
          ],
          "name": "stderr"
        },
        {
          "output_type": "stream",
          "text": [
            "\n",
            " Episodio número 884 finalizado con 201 iteraciones. Recompensa final=-200.0\n"
          ],
          "name": "stdout"
        },
        {
          "output_type": "stream",
          "text": [
            "\r 89%|████████▊ | 886/1000 [06:06<00:44,  2.58it/s]"
          ],
          "name": "stderr"
        },
        {
          "output_type": "stream",
          "text": [
            "\n",
            " Episodio número 885 finalizado con 201 iteraciones. Recompensa final=-200.0\n"
          ],
          "name": "stdout"
        },
        {
          "output_type": "stream",
          "text": [
            "\r 89%|████████▊ | 887/1000 [06:07<00:43,  2.59it/s]"
          ],
          "name": "stderr"
        },
        {
          "output_type": "stream",
          "text": [
            "\n",
            " Episodio número 886 finalizado con 201 iteraciones. Recompensa final=-200.0\n"
          ],
          "name": "stdout"
        },
        {
          "output_type": "stream",
          "text": [
            "\r 89%|████████▉ | 888/1000 [06:07<00:42,  2.62it/s]"
          ],
          "name": "stderr"
        },
        {
          "output_type": "stream",
          "text": [
            "\n",
            " Episodio número 887 finalizado con 201 iteraciones. Recompensa final=-200.0\n"
          ],
          "name": "stdout"
        },
        {
          "output_type": "stream",
          "text": [
            "\r 89%|████████▉ | 889/1000 [06:07<00:42,  2.60it/s]"
          ],
          "name": "stderr"
        },
        {
          "output_type": "stream",
          "text": [
            "\n",
            " Episodio número 888 finalizado con 201 iteraciones. Recompensa final=-200.0\n"
          ],
          "name": "stdout"
        },
        {
          "output_type": "stream",
          "text": [
            "\r 89%|████████▉ | 890/1000 [06:08<00:42,  2.59it/s]"
          ],
          "name": "stderr"
        },
        {
          "output_type": "stream",
          "text": [
            "\n",
            " Episodio número 889 finalizado con 201 iteraciones. Recompensa final=-200.0\n"
          ],
          "name": "stdout"
        },
        {
          "output_type": "stream",
          "text": [
            "\r 89%|████████▉ | 891/1000 [06:08<00:42,  2.55it/s]"
          ],
          "name": "stderr"
        },
        {
          "output_type": "stream",
          "text": [
            "\n",
            " Episodio número 890 finalizado con 201 iteraciones. Recompensa final=-200.0\n"
          ],
          "name": "stdout"
        },
        {
          "output_type": "stream",
          "text": [
            "\r 89%|████████▉ | 892/1000 [06:09<00:42,  2.52it/s]"
          ],
          "name": "stderr"
        },
        {
          "output_type": "stream",
          "text": [
            "\n",
            " Episodio número 891 finalizado con 201 iteraciones. Recompensa final=-200.0\n"
          ],
          "name": "stdout"
        },
        {
          "output_type": "stream",
          "text": [
            "\r 89%|████████▉ | 893/1000 [06:09<00:42,  2.54it/s]"
          ],
          "name": "stderr"
        },
        {
          "output_type": "stream",
          "text": [
            "\n",
            " Episodio número 892 finalizado con 201 iteraciones. Recompensa final=-200.0\n"
          ],
          "name": "stdout"
        },
        {
          "output_type": "stream",
          "text": [
            "\r 89%|████████▉ | 894/1000 [06:09<00:41,  2.58it/s]"
          ],
          "name": "stderr"
        },
        {
          "output_type": "stream",
          "text": [
            "\n",
            " Episodio número 893 finalizado con 201 iteraciones. Recompensa final=-200.0\n"
          ],
          "name": "stdout"
        },
        {
          "output_type": "stream",
          "text": [
            "\r 90%|████████▉ | 895/1000 [06:10<00:40,  2.62it/s]"
          ],
          "name": "stderr"
        },
        {
          "output_type": "stream",
          "text": [
            "\n",
            " Episodio número 894 finalizado con 201 iteraciones. Recompensa final=-200.0\n"
          ],
          "name": "stdout"
        },
        {
          "output_type": "stream",
          "text": [
            "\r 90%|████████▉ | 896/1000 [06:10<00:40,  2.60it/s]"
          ],
          "name": "stderr"
        },
        {
          "output_type": "stream",
          "text": [
            "\n",
            " Episodio número 895 finalizado con 201 iteraciones. Recompensa final=-200.0\n"
          ],
          "name": "stdout"
        },
        {
          "output_type": "stream",
          "text": [
            "\r 90%|████████▉ | 897/1000 [06:10<00:39,  2.62it/s]"
          ],
          "name": "stderr"
        },
        {
          "output_type": "stream",
          "text": [
            "\n",
            " Episodio número 896 finalizado con 201 iteraciones. Recompensa final=-200.0\n"
          ],
          "name": "stdout"
        },
        {
          "output_type": "stream",
          "text": [
            "\r 90%|████████▉ | 898/1000 [06:11<00:38,  2.64it/s]"
          ],
          "name": "stderr"
        },
        {
          "output_type": "stream",
          "text": [
            "\n",
            " Episodio número 897 finalizado con 201 iteraciones. Recompensa final=-200.0\n"
          ],
          "name": "stdout"
        },
        {
          "output_type": "stream",
          "text": [
            "\r 90%|████████▉ | 899/1000 [06:11<00:37,  2.68it/s]"
          ],
          "name": "stderr"
        },
        {
          "output_type": "stream",
          "text": [
            "\n",
            " Episodio número 898 finalizado con 201 iteraciones. Recompensa final=-200.0\n"
          ],
          "name": "stdout"
        },
        {
          "output_type": "stream",
          "text": [
            "\r 90%|█████████ | 900/1000 [06:12<00:37,  2.68it/s]"
          ],
          "name": "stderr"
        },
        {
          "output_type": "stream",
          "text": [
            "\n",
            " Episodio número 899 finalizado con 201 iteraciones. Recompensa final=-200.0\n"
          ],
          "name": "stdout"
        },
        {
          "output_type": "stream",
          "text": [
            "\r 90%|█████████ | 901/1000 [06:12<00:36,  2.72it/s]"
          ],
          "name": "stderr"
        },
        {
          "output_type": "stream",
          "text": [
            "\n",
            " Episodio número 900 finalizado con 201 iteraciones. Recompensa final=-200.0\n"
          ],
          "name": "stdout"
        },
        {
          "output_type": "stream",
          "text": [
            "\r 90%|█████████ | 902/1000 [06:12<00:37,  2.65it/s]"
          ],
          "name": "stderr"
        },
        {
          "output_type": "stream",
          "text": [
            "\n",
            " Episodio número 901 finalizado con 201 iteraciones. Recompensa final=-200.0\n"
          ],
          "name": "stdout"
        },
        {
          "output_type": "stream",
          "text": [
            "\r 90%|█████████ | 903/1000 [06:13<00:36,  2.65it/s]"
          ],
          "name": "stderr"
        },
        {
          "output_type": "stream",
          "text": [
            "\n",
            " Episodio número 902 finalizado con 201 iteraciones. Recompensa final=-200.0\n"
          ],
          "name": "stdout"
        },
        {
          "output_type": "stream",
          "text": [
            "\r 90%|█████████ | 904/1000 [06:13<00:36,  2.63it/s]"
          ],
          "name": "stderr"
        },
        {
          "output_type": "stream",
          "text": [
            "\n",
            " Episodio número 903 finalizado con 201 iteraciones. Recompensa final=-200.0\n"
          ],
          "name": "stdout"
        },
        {
          "output_type": "stream",
          "text": [
            "\r 90%|█████████ | 905/1000 [06:13<00:36,  2.59it/s]"
          ],
          "name": "stderr"
        },
        {
          "output_type": "stream",
          "text": [
            "\n",
            " Episodio número 904 finalizado con 201 iteraciones. Recompensa final=-200.0\n"
          ],
          "name": "stdout"
        },
        {
          "output_type": "stream",
          "text": [
            "\r 91%|█████████ | 906/1000 [06:14<00:36,  2.61it/s]"
          ],
          "name": "stderr"
        },
        {
          "output_type": "stream",
          "text": [
            "\n",
            " Episodio número 905 finalizado con 201 iteraciones. Recompensa final=-200.0\n"
          ],
          "name": "stdout"
        },
        {
          "output_type": "stream",
          "text": [
            "\r 91%|█████████ | 907/1000 [06:14<00:34,  2.67it/s]"
          ],
          "name": "stderr"
        },
        {
          "output_type": "stream",
          "text": [
            "\n",
            " Episodio número 906 finalizado con 201 iteraciones. Recompensa final=-200.0\n"
          ],
          "name": "stdout"
        },
        {
          "output_type": "stream",
          "text": [
            "\r 91%|█████████ | 908/1000 [06:15<00:34,  2.66it/s]"
          ],
          "name": "stderr"
        },
        {
          "output_type": "stream",
          "text": [
            "\n",
            " Episodio número 907 finalizado con 201 iteraciones. Recompensa final=-200.0\n"
          ],
          "name": "stdout"
        },
        {
          "output_type": "stream",
          "text": [
            "\r 91%|█████████ | 909/1000 [06:15<00:33,  2.69it/s]"
          ],
          "name": "stderr"
        },
        {
          "output_type": "stream",
          "text": [
            "\n",
            " Episodio número 908 finalizado con 201 iteraciones. Recompensa final=-200.0\n"
          ],
          "name": "stdout"
        },
        {
          "output_type": "stream",
          "text": [
            "\r 91%|█████████ | 910/1000 [06:15<00:34,  2.61it/s]"
          ],
          "name": "stderr"
        },
        {
          "output_type": "stream",
          "text": [
            "\n",
            " Episodio número 909 finalizado con 201 iteraciones. Recompensa final=-200.0\n"
          ],
          "name": "stdout"
        },
        {
          "output_type": "stream",
          "text": [
            "\r 91%|█████████ | 911/1000 [06:16<00:34,  2.60it/s]"
          ],
          "name": "stderr"
        },
        {
          "output_type": "stream",
          "text": [
            "\n",
            " Episodio número 910 finalizado con 201 iteraciones. Recompensa final=-200.0\n"
          ],
          "name": "stdout"
        },
        {
          "output_type": "stream",
          "text": [
            "\r 91%|█████████ | 912/1000 [06:16<00:33,  2.66it/s]"
          ],
          "name": "stderr"
        },
        {
          "output_type": "stream",
          "text": [
            "\n",
            " Episodio número 911 finalizado con 201 iteraciones. Recompensa final=-200.0\n"
          ],
          "name": "stdout"
        },
        {
          "output_type": "stream",
          "text": [
            "\r 91%|█████████▏| 913/1000 [06:16<00:32,  2.70it/s]"
          ],
          "name": "stderr"
        },
        {
          "output_type": "stream",
          "text": [
            "\n",
            " Episodio número 912 finalizado con 201 iteraciones. Recompensa final=-200.0\n"
          ],
          "name": "stdout"
        },
        {
          "output_type": "stream",
          "text": [
            "\r 91%|█████████▏| 914/1000 [06:17<00:32,  2.68it/s]"
          ],
          "name": "stderr"
        },
        {
          "output_type": "stream",
          "text": [
            "\n",
            " Episodio número 913 finalizado con 201 iteraciones. Recompensa final=-200.0\n"
          ],
          "name": "stdout"
        },
        {
          "output_type": "stream",
          "text": [
            "\r 92%|█████████▏| 915/1000 [06:17<00:31,  2.71it/s]"
          ],
          "name": "stderr"
        },
        {
          "output_type": "stream",
          "text": [
            "\n",
            " Episodio número 914 finalizado con 201 iteraciones. Recompensa final=-200.0\n"
          ],
          "name": "stdout"
        },
        {
          "output_type": "stream",
          "text": [
            "\r 92%|█████████▏| 916/1000 [06:18<00:30,  2.72it/s]"
          ],
          "name": "stderr"
        },
        {
          "output_type": "stream",
          "text": [
            "\n",
            " Episodio número 915 finalizado con 201 iteraciones. Recompensa final=-200.0\n"
          ],
          "name": "stdout"
        },
        {
          "output_type": "stream",
          "text": [
            "\r 92%|█████████▏| 917/1000 [06:18<00:30,  2.72it/s]"
          ],
          "name": "stderr"
        },
        {
          "output_type": "stream",
          "text": [
            "\n",
            " Episodio número 916 finalizado con 201 iteraciones. Recompensa final=-200.0\n"
          ],
          "name": "stdout"
        },
        {
          "output_type": "stream",
          "text": [
            "\r 92%|█████████▏| 918/1000 [06:18<00:30,  2.73it/s]"
          ],
          "name": "stderr"
        },
        {
          "output_type": "stream",
          "text": [
            "\n",
            " Episodio número 917 finalizado con 201 iteraciones. Recompensa final=-200.0\n"
          ],
          "name": "stdout"
        },
        {
          "output_type": "stream",
          "text": [
            "\r 92%|█████████▏| 919/1000 [06:19<00:30,  2.64it/s]"
          ],
          "name": "stderr"
        },
        {
          "output_type": "stream",
          "text": [
            "\n",
            " Episodio número 918 finalizado con 201 iteraciones. Recompensa final=-200.0\n"
          ],
          "name": "stdout"
        },
        {
          "output_type": "stream",
          "text": [
            "\r 92%|█████████▏| 920/1000 [06:19<00:30,  2.64it/s]"
          ],
          "name": "stderr"
        },
        {
          "output_type": "stream",
          "text": [
            "\n",
            " Episodio número 919 finalizado con 201 iteraciones. Recompensa final=-200.0\n"
          ],
          "name": "stdout"
        },
        {
          "output_type": "stream",
          "text": [
            "\r 92%|█████████▏| 921/1000 [06:19<00:29,  2.65it/s]"
          ],
          "name": "stderr"
        },
        {
          "output_type": "stream",
          "text": [
            "\n",
            " Episodio número 920 finalizado con 201 iteraciones. Recompensa final=-200.0\n"
          ],
          "name": "stdout"
        },
        {
          "output_type": "stream",
          "text": [
            "\r 92%|█████████▏| 922/1000 [06:20<00:29,  2.65it/s]"
          ],
          "name": "stderr"
        },
        {
          "output_type": "stream",
          "text": [
            "\n",
            " Episodio número 921 finalizado con 201 iteraciones. Recompensa final=-200.0\n"
          ],
          "name": "stdout"
        },
        {
          "output_type": "stream",
          "text": [
            "\r 92%|█████████▏| 923/1000 [06:20<00:29,  2.63it/s]"
          ],
          "name": "stderr"
        },
        {
          "output_type": "stream",
          "text": [
            "\n",
            " Episodio número 922 finalizado con 201 iteraciones. Recompensa final=-200.0\n"
          ],
          "name": "stdout"
        },
        {
          "output_type": "stream",
          "text": [
            "\r 92%|█████████▏| 924/1000 [06:21<00:29,  2.61it/s]"
          ],
          "name": "stderr"
        },
        {
          "output_type": "stream",
          "text": [
            "\n",
            " Episodio número 923 finalizado con 201 iteraciones. Recompensa final=-200.0\n"
          ],
          "name": "stdout"
        },
        {
          "output_type": "stream",
          "text": [
            "\r 92%|█████████▎| 925/1000 [06:21<00:28,  2.64it/s]"
          ],
          "name": "stderr"
        },
        {
          "output_type": "stream",
          "text": [
            "\n",
            " Episodio número 924 finalizado con 201 iteraciones. Recompensa final=-200.0\n"
          ],
          "name": "stdout"
        },
        {
          "output_type": "stream",
          "text": [
            "\r 93%|█████████▎| 926/1000 [06:21<00:27,  2.67it/s]"
          ],
          "name": "stderr"
        },
        {
          "output_type": "stream",
          "text": [
            "\n",
            " Episodio número 925 finalizado con 201 iteraciones. Recompensa final=-200.0\n"
          ],
          "name": "stdout"
        },
        {
          "output_type": "stream",
          "text": [
            "\r 93%|█████████▎| 927/1000 [06:22<00:27,  2.66it/s]"
          ],
          "name": "stderr"
        },
        {
          "output_type": "stream",
          "text": [
            "\n",
            " Episodio número 926 finalizado con 201 iteraciones. Recompensa final=-200.0\n"
          ],
          "name": "stdout"
        },
        {
          "output_type": "stream",
          "text": [
            "\r 93%|█████████▎| 928/1000 [06:22<00:26,  2.68it/s]"
          ],
          "name": "stderr"
        },
        {
          "output_type": "stream",
          "text": [
            "\n",
            " Episodio número 927 finalizado con 201 iteraciones. Recompensa final=-200.0\n"
          ],
          "name": "stdout"
        },
        {
          "output_type": "stream",
          "text": [
            "\r 93%|█████████▎| 929/1000 [06:22<00:26,  2.67it/s]"
          ],
          "name": "stderr"
        },
        {
          "output_type": "stream",
          "text": [
            "\n",
            " Episodio número 928 finalizado con 201 iteraciones. Recompensa final=-200.0\n"
          ],
          "name": "stdout"
        },
        {
          "output_type": "stream",
          "text": [
            "\r 93%|█████████▎| 930/1000 [06:23<00:26,  2.62it/s]"
          ],
          "name": "stderr"
        },
        {
          "output_type": "stream",
          "text": [
            "\n",
            " Episodio número 929 finalizado con 201 iteraciones. Recompensa final=-200.0\n"
          ],
          "name": "stdout"
        },
        {
          "output_type": "stream",
          "text": [
            "\r 93%|█████████▎| 931/1000 [06:23<00:26,  2.61it/s]"
          ],
          "name": "stderr"
        },
        {
          "output_type": "stream",
          "text": [
            "\n",
            " Episodio número 930 finalizado con 201 iteraciones. Recompensa final=-200.0\n"
          ],
          "name": "stdout"
        },
        {
          "output_type": "stream",
          "text": [
            "\r 93%|█████████▎| 932/1000 [06:24<00:26,  2.58it/s]"
          ],
          "name": "stderr"
        },
        {
          "output_type": "stream",
          "text": [
            "\n",
            " Episodio número 931 finalizado con 201 iteraciones. Recompensa final=-200.0\n"
          ],
          "name": "stdout"
        },
        {
          "output_type": "stream",
          "text": [
            "\r 93%|█████████▎| 933/1000 [06:24<00:25,  2.59it/s]"
          ],
          "name": "stderr"
        },
        {
          "output_type": "stream",
          "text": [
            "\n",
            " Episodio número 932 finalizado con 201 iteraciones. Recompensa final=-200.0\n"
          ],
          "name": "stdout"
        },
        {
          "output_type": "stream",
          "text": [
            "\r 93%|█████████▎| 934/1000 [06:24<00:25,  2.60it/s]"
          ],
          "name": "stderr"
        },
        {
          "output_type": "stream",
          "text": [
            "\n",
            " Episodio número 933 finalizado con 201 iteraciones. Recompensa final=-200.0\n"
          ],
          "name": "stdout"
        },
        {
          "output_type": "stream",
          "text": [
            "\r 94%|█████████▎| 935/1000 [06:25<00:24,  2.61it/s]"
          ],
          "name": "stderr"
        },
        {
          "output_type": "stream",
          "text": [
            "\n",
            " Episodio número 934 finalizado con 201 iteraciones. Recompensa final=-200.0\n"
          ],
          "name": "stdout"
        },
        {
          "output_type": "stream",
          "text": [
            "\r 94%|█████████▎| 936/1000 [06:25<00:24,  2.64it/s]"
          ],
          "name": "stderr"
        },
        {
          "output_type": "stream",
          "text": [
            "\n",
            " Episodio número 935 finalizado con 201 iteraciones. Recompensa final=-200.0\n"
          ],
          "name": "stdout"
        },
        {
          "output_type": "stream",
          "text": [
            "\r 94%|█████████▎| 937/1000 [06:26<00:23,  2.66it/s]"
          ],
          "name": "stderr"
        },
        {
          "output_type": "stream",
          "text": [
            "\n",
            " Episodio número 936 finalizado con 201 iteraciones. Recompensa final=-200.0\n"
          ],
          "name": "stdout"
        },
        {
          "output_type": "stream",
          "text": [
            "\r 94%|█████████▍| 938/1000 [06:26<00:23,  2.65it/s]"
          ],
          "name": "stderr"
        },
        {
          "output_type": "stream",
          "text": [
            "\n",
            " Episodio número 937 finalizado con 201 iteraciones. Recompensa final=-200.0\n"
          ],
          "name": "stdout"
        },
        {
          "output_type": "stream",
          "text": [
            "\r 94%|█████████▍| 939/1000 [06:26<00:22,  2.67it/s]"
          ],
          "name": "stderr"
        },
        {
          "output_type": "stream",
          "text": [
            "\n",
            " Episodio número 938 finalizado con 201 iteraciones. Recompensa final=-200.0\n"
          ],
          "name": "stdout"
        },
        {
          "output_type": "stream",
          "text": [
            "\r 94%|█████████▍| 940/1000 [06:27<00:22,  2.64it/s]"
          ],
          "name": "stderr"
        },
        {
          "output_type": "stream",
          "text": [
            "\n",
            " Episodio número 939 finalizado con 201 iteraciones. Recompensa final=-200.0\n"
          ],
          "name": "stdout"
        },
        {
          "output_type": "stream",
          "text": [
            "\r 94%|█████████▍| 941/1000 [06:27<00:22,  2.62it/s]"
          ],
          "name": "stderr"
        },
        {
          "output_type": "stream",
          "text": [
            "\n",
            " Episodio número 940 finalizado con 201 iteraciones. Recompensa final=-200.0\n"
          ],
          "name": "stdout"
        },
        {
          "output_type": "stream",
          "text": [
            "\r 94%|█████████▍| 942/1000 [06:27<00:22,  2.61it/s]"
          ],
          "name": "stderr"
        },
        {
          "output_type": "stream",
          "text": [
            "\n",
            " Episodio número 941 finalizado con 201 iteraciones. Recompensa final=-200.0\n"
          ],
          "name": "stdout"
        },
        {
          "output_type": "stream",
          "text": [
            "\r 94%|█████████▍| 943/1000 [06:28<00:22,  2.55it/s]"
          ],
          "name": "stderr"
        },
        {
          "output_type": "stream",
          "text": [
            "\n",
            " Episodio número 942 finalizado con 201 iteraciones. Recompensa final=-200.0\n"
          ],
          "name": "stdout"
        },
        {
          "output_type": "stream",
          "text": [
            "\r 94%|█████████▍| 944/1000 [06:28<00:22,  2.54it/s]"
          ],
          "name": "stderr"
        },
        {
          "output_type": "stream",
          "text": [
            "\n",
            " Episodio número 943 finalizado con 201 iteraciones. Recompensa final=-200.0\n"
          ],
          "name": "stdout"
        },
        {
          "output_type": "stream",
          "text": [
            "\r 94%|█████████▍| 945/1000 [06:29<00:21,  2.52it/s]"
          ],
          "name": "stderr"
        },
        {
          "output_type": "stream",
          "text": [
            "\n",
            " Episodio número 944 finalizado con 201 iteraciones. Recompensa final=-200.0\n"
          ],
          "name": "stdout"
        },
        {
          "output_type": "stream",
          "text": [
            "\r 95%|█████████▍| 946/1000 [06:29<00:21,  2.56it/s]"
          ],
          "name": "stderr"
        },
        {
          "output_type": "stream",
          "text": [
            "\n",
            " Episodio número 945 finalizado con 201 iteraciones. Recompensa final=-200.0\n"
          ],
          "name": "stdout"
        },
        {
          "output_type": "stream",
          "text": [
            "\r 95%|█████████▍| 947/1000 [06:29<00:20,  2.55it/s]"
          ],
          "name": "stderr"
        },
        {
          "output_type": "stream",
          "text": [
            "\n",
            " Episodio número 946 finalizado con 201 iteraciones. Recompensa final=-200.0\n"
          ],
          "name": "stdout"
        },
        {
          "output_type": "stream",
          "text": [
            "\r 95%|█████████▍| 948/1000 [06:30<00:20,  2.58it/s]"
          ],
          "name": "stderr"
        },
        {
          "output_type": "stream",
          "text": [
            "\n",
            " Episodio número 947 finalizado con 201 iteraciones. Recompensa final=-200.0\n"
          ],
          "name": "stdout"
        },
        {
          "output_type": "stream",
          "text": [
            "\r 95%|█████████▍| 949/1000 [06:30<00:19,  2.57it/s]"
          ],
          "name": "stderr"
        },
        {
          "output_type": "stream",
          "text": [
            "\n",
            " Episodio número 948 finalizado con 201 iteraciones. Recompensa final=-200.0\n"
          ],
          "name": "stdout"
        },
        {
          "output_type": "stream",
          "text": [
            "\r 95%|█████████▌| 950/1000 [06:31<00:20,  2.49it/s]"
          ],
          "name": "stderr"
        },
        {
          "output_type": "stream",
          "text": [
            "\n",
            " Episodio número 949 finalizado con 201 iteraciones. Recompensa final=-200.0\n"
          ],
          "name": "stdout"
        },
        {
          "output_type": "stream",
          "text": [
            "\r 95%|█████████▌| 951/1000 [06:31<00:19,  2.53it/s]"
          ],
          "name": "stderr"
        },
        {
          "output_type": "stream",
          "text": [
            "\n",
            " Episodio número 950 finalizado con 201 iteraciones. Recompensa final=-200.0\n"
          ],
          "name": "stdout"
        },
        {
          "output_type": "stream",
          "text": [
            "\r 95%|█████████▌| 952/1000 [06:31<00:18,  2.56it/s]"
          ],
          "name": "stderr"
        },
        {
          "output_type": "stream",
          "text": [
            "\n",
            " Episodio número 951 finalizado con 201 iteraciones. Recompensa final=-200.0\n"
          ],
          "name": "stdout"
        },
        {
          "output_type": "stream",
          "text": [
            "\r 95%|█████████▌| 953/1000 [06:32<00:18,  2.55it/s]"
          ],
          "name": "stderr"
        },
        {
          "output_type": "stream",
          "text": [
            "\n",
            " Episodio número 952 finalizado con 201 iteraciones. Recompensa final=-200.0\n"
          ],
          "name": "stdout"
        },
        {
          "output_type": "stream",
          "text": [
            "\r 95%|█████████▌| 954/1000 [06:32<00:17,  2.59it/s]"
          ],
          "name": "stderr"
        },
        {
          "output_type": "stream",
          "text": [
            "\n",
            " Episodio número 953 finalizado con 201 iteraciones. Recompensa final=-200.0\n"
          ],
          "name": "stdout"
        },
        {
          "output_type": "stream",
          "text": [
            "\r 96%|█████████▌| 955/1000 [06:33<00:17,  2.63it/s]"
          ],
          "name": "stderr"
        },
        {
          "output_type": "stream",
          "text": [
            "\n",
            " Episodio número 954 finalizado con 201 iteraciones. Recompensa final=-200.0\n"
          ],
          "name": "stdout"
        },
        {
          "output_type": "stream",
          "text": [
            "\r 96%|█████████▌| 956/1000 [06:33<00:16,  2.60it/s]"
          ],
          "name": "stderr"
        },
        {
          "output_type": "stream",
          "text": [
            "\n",
            " Episodio número 955 finalizado con 201 iteraciones. Recompensa final=-200.0\n"
          ],
          "name": "stdout"
        },
        {
          "output_type": "stream",
          "text": [
            "\r 96%|█████████▌| 957/1000 [06:33<00:16,  2.61it/s]"
          ],
          "name": "stderr"
        },
        {
          "output_type": "stream",
          "text": [
            "\n",
            " Episodio número 956 finalizado con 201 iteraciones. Recompensa final=-200.0\n"
          ],
          "name": "stdout"
        },
        {
          "output_type": "stream",
          "text": [
            "\r 96%|█████████▌| 958/1000 [06:34<00:16,  2.62it/s]"
          ],
          "name": "stderr"
        },
        {
          "output_type": "stream",
          "text": [
            "\n",
            " Episodio número 957 finalizado con 201 iteraciones. Recompensa final=-200.0\n"
          ],
          "name": "stdout"
        },
        {
          "output_type": "stream",
          "text": [
            "\r 96%|█████████▌| 959/1000 [06:34<00:15,  2.63it/s]"
          ],
          "name": "stderr"
        },
        {
          "output_type": "stream",
          "text": [
            "\n",
            " Episodio número 958 finalizado con 201 iteraciones. Recompensa final=-200.0\n"
          ],
          "name": "stdout"
        },
        {
          "output_type": "stream",
          "text": [
            "\r 96%|█████████▌| 960/1000 [06:34<00:15,  2.59it/s]"
          ],
          "name": "stderr"
        },
        {
          "output_type": "stream",
          "text": [
            "\n",
            " Episodio número 959 finalizado con 201 iteraciones. Recompensa final=-200.0\n"
          ],
          "name": "stdout"
        },
        {
          "output_type": "stream",
          "text": [
            "\r 96%|█████████▌| 961/1000 [06:35<00:14,  2.61it/s]"
          ],
          "name": "stderr"
        },
        {
          "output_type": "stream",
          "text": [
            "\n",
            " Episodio número 960 finalizado con 201 iteraciones. Recompensa final=-200.0\n"
          ],
          "name": "stdout"
        },
        {
          "output_type": "stream",
          "text": [
            "\r 96%|█████████▌| 962/1000 [06:35<00:14,  2.63it/s]"
          ],
          "name": "stderr"
        },
        {
          "output_type": "stream",
          "text": [
            "\n",
            " Episodio número 961 finalizado con 201 iteraciones. Recompensa final=-200.0\n"
          ],
          "name": "stdout"
        },
        {
          "output_type": "stream",
          "text": [
            "\r 96%|█████████▋| 963/1000 [06:36<00:13,  2.67it/s]"
          ],
          "name": "stderr"
        },
        {
          "output_type": "stream",
          "text": [
            "\n",
            " Episodio número 962 finalizado con 201 iteraciones. Recompensa final=-200.0\n"
          ],
          "name": "stdout"
        },
        {
          "output_type": "stream",
          "text": [
            "\r 96%|█████████▋| 964/1000 [06:36<00:13,  2.62it/s]"
          ],
          "name": "stderr"
        },
        {
          "output_type": "stream",
          "text": [
            "\n",
            " Episodio número 963 finalizado con 201 iteraciones. Recompensa final=-200.0\n"
          ],
          "name": "stdout"
        },
        {
          "output_type": "stream",
          "text": [
            "\r 96%|█████████▋| 965/1000 [06:36<00:13,  2.65it/s]"
          ],
          "name": "stderr"
        },
        {
          "output_type": "stream",
          "text": [
            "\n",
            " Episodio número 964 finalizado con 201 iteraciones. Recompensa final=-200.0\n"
          ],
          "name": "stdout"
        },
        {
          "output_type": "stream",
          "text": [
            "\r 97%|█████████▋| 966/1000 [06:37<00:12,  2.63it/s]"
          ],
          "name": "stderr"
        },
        {
          "output_type": "stream",
          "text": [
            "\n",
            " Episodio número 965 finalizado con 201 iteraciones. Recompensa final=-200.0\n"
          ],
          "name": "stdout"
        },
        {
          "output_type": "stream",
          "text": [
            "\r 97%|█████████▋| 967/1000 [06:37<00:12,  2.63it/s]"
          ],
          "name": "stderr"
        },
        {
          "output_type": "stream",
          "text": [
            "\n",
            " Episodio número 966 finalizado con 201 iteraciones. Recompensa final=-200.0\n"
          ],
          "name": "stdout"
        },
        {
          "output_type": "stream",
          "text": [
            "\r 97%|█████████▋| 968/1000 [06:37<00:12,  2.62it/s]"
          ],
          "name": "stderr"
        },
        {
          "output_type": "stream",
          "text": [
            "\n",
            " Episodio número 967 finalizado con 201 iteraciones. Recompensa final=-200.0\n"
          ],
          "name": "stdout"
        },
        {
          "output_type": "stream",
          "text": [
            "\r 97%|█████████▋| 969/1000 [06:38<00:11,  2.61it/s]"
          ],
          "name": "stderr"
        },
        {
          "output_type": "stream",
          "text": [
            "\n",
            " Episodio número 968 finalizado con 201 iteraciones. Recompensa final=-200.0\n"
          ],
          "name": "stdout"
        },
        {
          "output_type": "stream",
          "text": [
            "\r 97%|█████████▋| 970/1000 [06:38<00:11,  2.64it/s]"
          ],
          "name": "stderr"
        },
        {
          "output_type": "stream",
          "text": [
            "\n",
            " Episodio número 969 finalizado con 201 iteraciones. Recompensa final=-200.0\n"
          ],
          "name": "stdout"
        },
        {
          "output_type": "stream",
          "text": [
            "\r 97%|█████████▋| 971/1000 [06:39<00:11,  2.63it/s]"
          ],
          "name": "stderr"
        },
        {
          "output_type": "stream",
          "text": [
            "\n",
            " Episodio número 970 finalizado con 201 iteraciones. Recompensa final=-200.0\n"
          ],
          "name": "stdout"
        },
        {
          "output_type": "stream",
          "text": [
            "\r 97%|█████████▋| 972/1000 [06:39<00:10,  2.65it/s]"
          ],
          "name": "stderr"
        },
        {
          "output_type": "stream",
          "text": [
            "\n",
            " Episodio número 971 finalizado con 201 iteraciones. Recompensa final=-200.0\n"
          ],
          "name": "stdout"
        },
        {
          "output_type": "stream",
          "text": [
            "\r 97%|█████████▋| 973/1000 [06:39<00:10,  2.64it/s]"
          ],
          "name": "stderr"
        },
        {
          "output_type": "stream",
          "text": [
            "\n",
            " Episodio número 972 finalizado con 201 iteraciones. Recompensa final=-200.0\n"
          ],
          "name": "stdout"
        },
        {
          "output_type": "stream",
          "text": [
            "\r 97%|█████████▋| 974/1000 [06:40<00:09,  2.64it/s]"
          ],
          "name": "stderr"
        },
        {
          "output_type": "stream",
          "text": [
            "\n",
            " Episodio número 973 finalizado con 201 iteraciones. Recompensa final=-200.0\n"
          ],
          "name": "stdout"
        },
        {
          "output_type": "stream",
          "text": [
            "\r 98%|█████████▊| 975/1000 [06:40<00:09,  2.63it/s]"
          ],
          "name": "stderr"
        },
        {
          "output_type": "stream",
          "text": [
            "\n",
            " Episodio número 974 finalizado con 201 iteraciones. Recompensa final=-200.0\n"
          ],
          "name": "stdout"
        },
        {
          "output_type": "stream",
          "text": [
            "\r 98%|█████████▊| 976/1000 [06:40<00:09,  2.65it/s]"
          ],
          "name": "stderr"
        },
        {
          "output_type": "stream",
          "text": [
            "\n",
            " Episodio número 975 finalizado con 201 iteraciones. Recompensa final=-200.0\n"
          ],
          "name": "stdout"
        },
        {
          "output_type": "stream",
          "text": [
            "\r 98%|█████████▊| 977/1000 [06:41<00:08,  2.62it/s]"
          ],
          "name": "stderr"
        },
        {
          "output_type": "stream",
          "text": [
            "\n",
            " Episodio número 976 finalizado con 201 iteraciones. Recompensa final=-200.0\n"
          ],
          "name": "stdout"
        },
        {
          "output_type": "stream",
          "text": [
            "\r 98%|█████████▊| 978/1000 [06:41<00:08,  2.62it/s]"
          ],
          "name": "stderr"
        },
        {
          "output_type": "stream",
          "text": [
            "\n",
            " Episodio número 977 finalizado con 201 iteraciones. Recompensa final=-200.0\n"
          ],
          "name": "stdout"
        },
        {
          "output_type": "stream",
          "text": [
            "\r 98%|█████████▊| 979/1000 [06:42<00:07,  2.64it/s]"
          ],
          "name": "stderr"
        },
        {
          "output_type": "stream",
          "text": [
            "\n",
            " Episodio número 978 finalizado con 201 iteraciones. Recompensa final=-200.0\n"
          ],
          "name": "stdout"
        },
        {
          "output_type": "stream",
          "text": [
            "\r 98%|█████████▊| 980/1000 [06:42<00:07,  2.65it/s]"
          ],
          "name": "stderr"
        },
        {
          "output_type": "stream",
          "text": [
            "\n",
            " Episodio número 979 finalizado con 201 iteraciones. Recompensa final=-200.0\n"
          ],
          "name": "stdout"
        },
        {
          "output_type": "stream",
          "text": [
            "\r 98%|█████████▊| 981/1000 [06:42<00:07,  2.67it/s]"
          ],
          "name": "stderr"
        },
        {
          "output_type": "stream",
          "text": [
            "\n",
            " Episodio número 980 finalizado con 201 iteraciones. Recompensa final=-200.0\n"
          ],
          "name": "stdout"
        },
        {
          "output_type": "stream",
          "text": [
            "\r 98%|█████████▊| 982/1000 [06:43<00:06,  2.62it/s]"
          ],
          "name": "stderr"
        },
        {
          "output_type": "stream",
          "text": [
            "\n",
            " Episodio número 981 finalizado con 201 iteraciones. Recompensa final=-200.0\n"
          ],
          "name": "stdout"
        },
        {
          "output_type": "stream",
          "text": [
            "\r 98%|█████████▊| 983/1000 [06:43<00:06,  2.59it/s]"
          ],
          "name": "stderr"
        },
        {
          "output_type": "stream",
          "text": [
            "\n",
            " Episodio número 982 finalizado con 201 iteraciones. Recompensa final=-200.0\n"
          ],
          "name": "stdout"
        },
        {
          "output_type": "stream",
          "text": [
            "\r 98%|█████████▊| 984/1000 [06:44<00:06,  2.57it/s]"
          ],
          "name": "stderr"
        },
        {
          "output_type": "stream",
          "text": [
            "\n",
            " Episodio número 983 finalizado con 201 iteraciones. Recompensa final=-200.0\n"
          ],
          "name": "stdout"
        },
        {
          "output_type": "stream",
          "text": [
            "\r 98%|█████████▊| 985/1000 [06:44<00:05,  2.61it/s]"
          ],
          "name": "stderr"
        },
        {
          "output_type": "stream",
          "text": [
            "\n",
            " Episodio número 984 finalizado con 201 iteraciones. Recompensa final=-200.0\n"
          ],
          "name": "stdout"
        },
        {
          "output_type": "stream",
          "text": [
            "\r 99%|█████████▊| 986/1000 [06:44<00:05,  2.59it/s]"
          ],
          "name": "stderr"
        },
        {
          "output_type": "stream",
          "text": [
            "\n",
            " Episodio número 985 finalizado con 201 iteraciones. Recompensa final=-200.0\n"
          ],
          "name": "stdout"
        },
        {
          "output_type": "stream",
          "text": [
            "\r 99%|█████████▊| 987/1000 [06:45<00:05,  2.55it/s]"
          ],
          "name": "stderr"
        },
        {
          "output_type": "stream",
          "text": [
            "\n",
            " Episodio número 986 finalizado con 201 iteraciones. Recompensa final=-200.0\n"
          ],
          "name": "stdout"
        },
        {
          "output_type": "stream",
          "text": [
            "\r 99%|█████████▉| 988/1000 [06:45<00:04,  2.53it/s]"
          ],
          "name": "stderr"
        },
        {
          "output_type": "stream",
          "text": [
            "\n",
            " Episodio número 987 finalizado con 201 iteraciones. Recompensa final=-200.0\n"
          ],
          "name": "stdout"
        },
        {
          "output_type": "stream",
          "text": [
            "\r 99%|█████████▉| 989/1000 [06:46<00:04,  2.54it/s]"
          ],
          "name": "stderr"
        },
        {
          "output_type": "stream",
          "text": [
            "\n",
            " Episodio número 988 finalizado con 201 iteraciones. Recompensa final=-200.0\n"
          ],
          "name": "stdout"
        },
        {
          "output_type": "stream",
          "text": [
            "\r 99%|█████████▉| 990/1000 [06:46<00:03,  2.55it/s]"
          ],
          "name": "stderr"
        },
        {
          "output_type": "stream",
          "text": [
            "\n",
            " Episodio número 989 finalizado con 201 iteraciones. Recompensa final=-200.0\n"
          ],
          "name": "stdout"
        },
        {
          "output_type": "stream",
          "text": [
            "\r 99%|█████████▉| 991/1000 [06:46<00:03,  2.54it/s]"
          ],
          "name": "stderr"
        },
        {
          "output_type": "stream",
          "text": [
            "\n",
            " Episodio número 990 finalizado con 201 iteraciones. Recompensa final=-200.0\n"
          ],
          "name": "stdout"
        },
        {
          "output_type": "stream",
          "text": [
            "\r 99%|█████████▉| 992/1000 [06:47<00:03,  2.50it/s]"
          ],
          "name": "stderr"
        },
        {
          "output_type": "stream",
          "text": [
            "\n",
            " Episodio número 991 finalizado con 201 iteraciones. Recompensa final=-200.0\n"
          ],
          "name": "stdout"
        },
        {
          "output_type": "stream",
          "text": [
            "\r 99%|█████████▉| 993/1000 [06:47<00:02,  2.46it/s]"
          ],
          "name": "stderr"
        },
        {
          "output_type": "stream",
          "text": [
            "\n",
            " Episodio número 992 finalizado con 201 iteraciones. Recompensa final=-200.0\n"
          ],
          "name": "stdout"
        },
        {
          "output_type": "stream",
          "text": [
            "\r 99%|█████████▉| 994/1000 [06:48<00:02,  2.45it/s]"
          ],
          "name": "stderr"
        },
        {
          "output_type": "stream",
          "text": [
            "\n",
            " Episodio número 993 finalizado con 201 iteraciones. Recompensa final=-200.0\n"
          ],
          "name": "stdout"
        },
        {
          "output_type": "stream",
          "text": [
            "\r100%|█████████▉| 995/1000 [06:48<00:02,  2.46it/s]"
          ],
          "name": "stderr"
        },
        {
          "output_type": "stream",
          "text": [
            "\n",
            " Episodio número 994 finalizado con 201 iteraciones. Recompensa final=-200.0\n"
          ],
          "name": "stdout"
        },
        {
          "output_type": "stream",
          "text": [
            "\r100%|█████████▉| 996/1000 [06:48<00:01,  2.46it/s]"
          ],
          "name": "stderr"
        },
        {
          "output_type": "stream",
          "text": [
            "\n",
            " Episodio número 995 finalizado con 201 iteraciones. Recompensa final=-200.0\n"
          ],
          "name": "stdout"
        },
        {
          "output_type": "stream",
          "text": [
            "\r100%|█████████▉| 997/1000 [06:49<00:01,  2.52it/s]"
          ],
          "name": "stderr"
        },
        {
          "output_type": "stream",
          "text": [
            "\n",
            " Episodio número 996 finalizado con 201 iteraciones. Recompensa final=-200.0\n"
          ],
          "name": "stdout"
        },
        {
          "output_type": "stream",
          "text": [
            "\r100%|█████████▉| 998/1000 [06:49<00:00,  2.54it/s]"
          ],
          "name": "stderr"
        },
        {
          "output_type": "stream",
          "text": [
            "\n",
            " Episodio número 997 finalizado con 201 iteraciones. Recompensa final=-200.0\n"
          ],
          "name": "stdout"
        },
        {
          "output_type": "stream",
          "text": [
            "\r100%|█████████▉| 999/1000 [06:50<00:00,  2.54it/s]"
          ],
          "name": "stderr"
        },
        {
          "output_type": "stream",
          "text": [
            "\n",
            " Episodio número 998 finalizado con 201 iteraciones. Recompensa final=-200.0\n"
          ],
          "name": "stdout"
        },
        {
          "output_type": "stream",
          "text": [
            "100%|██████████| 1000/1000 [06:50<00:00,  2.44it/s]"
          ],
          "name": "stderr"
        },
        {
          "output_type": "stream",
          "text": [
            "\n",
            " Episodio número 999 finalizado con 201 iteraciones. Recompensa final=-200.0\n"
          ],
          "name": "stdout"
        },
        {
          "output_type": "stream",
          "text": [
            "\n"
          ],
          "name": "stderr"
        }
      ]
    },
    {
      "cell_type": "code",
      "metadata": {
        "id": "f32ABIYign3N",
        "colab_type": "code",
        "colab": {
          "base_uri": "https://localhost:8080/",
          "height": 1000
        },
        "outputId": "ab4cec8f-9df3-4a65-8919-7f86af2ec068"
      },
      "source": [
        "show_videos()"
      ],
      "execution_count": 10,
      "outputs": [
        {
          "output_type": "display_data",
          "data": {
            "text/html": [
              "<video alt=\"video/openaigym.video.0.100.video000001.mp4\" autoplay \n",
              "                    loop controls style=\"height: 400px;\">\n",
              "                    <source src=\"data:video/mp4;base64,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\" type=\"video/mp4\" />\n",
              "                </video><br><video alt=\"video/openaigym.video.0.100.video000343.mp4\" autoplay \n",
              "                    loop controls style=\"height: 400px;\">\n",
              "                    <source src=\"data:video/mp4;base64,AAAAIGZ0eXBpc29tAAACAGlzb21pc28yYXZjMW1wNDEAAAAIZnJlZQAAgy5tZGF0AAACrgYF//+q3EXpvebZSLeWLNgg2SPu73gyNjQgLSBjb3JlIDE1MiByMjg1NCBlOWE1OTAzIC0gSC4yNjQvTVBFRy00IEFWQyBjb2RlYyAtIENvcHlsZWZ0IDIwMDMtMjAxNyAtIGh0dHA6Ly93d3cudmlkZW9sYW4ub3JnL3gyNjQuaHRtbCAtIG9wdGlvbnM6IGNhYmFjPTEgcmVmPTMgZGVibG9jaz0xOjA6MCBhbmFseXNlPTB4MzoweDExMyBtZT1oZXggc3VibWU9NyBwc3k9MSBwc3lfcmQ9MS4wMDowLjAwIG1peGVkX3JlZj0xIG1lX3JhbmdlPTE2IGNocm9tYV9tZT0xIHRyZWxsaXM9MSA4eDhkY3Q9MSBjcW09MCBkZWFkem9uZT0yMSwxMSBmYXN0X3Bza2lwPTEgY2hyb21hX3FwX29mZnNldD0tMiB0aHJlYWRzPTMgbG9va2FoZWFkX3RocmVhZHM9MSBzbGljZWRfdGhyZWFkcz0wIG5yPTAgZGVjaW1hdGU9MSBpbnRlcmxhY2VkPTAgYmx1cmF5X2NvbXBhdD0wIGNvbnN0cmFpbmVkX2ludHJhPTAgYmZyYW1lcz0zIGJfcHlyYW1pZD0yIGJfYWRhcHQ9MSBiX2JpYXM9MCBkaXJlY3Q9MSB3ZWlnaHRiPTEgb3Blbl9nb3A9MCB3ZWlnaHRwPTIga2V5aW50PTI1MCBrZXlpbnRfbWluPTI1IHNjZW5lY3V0PTQwIGludHJhX3JlZnJlc2g9MCByY19sb29rYWhlYWQ9NDAgcmM9Y3JmIG1idHJlZT0xIGNyZj0yMy4wIHFjb21wPTAuNjAgcXBtaW49MCBxcG1heD02OSBxcHN0ZXA9NCBpcF9yYXRpbz0xLjQwIGFxPTE6MS4wMACAAAAQ6GWIhAA3//728P4FNjuY0JcRzeidMx+/Fbi6NDe9zgAAAwAAAwAACNCLwW1jsC2M+AAAJZAt9C+gGAAN3dq5XHPUJqMQ9STIE4h5i1p0ovAz2D6+0y6GAp6iGk03o7xeeJnNFlP7pyt72mmO8alQPFkcQS/hupH7h4mJTeRhtQk621kLNt8RFPKKRW6wQBeqa/bIUz2QUD/5/AKR9JghRtwUcbJYDG+GJMPfc0Z9+Ky2ZULlDK+ObhIm0waUlSDFaiGatI7Cv9YYX3GwANdOvfJULx5gqPt4GHqavREAVJQU2iOKP5G+WttIUpCgmsc99A8Dcsc4NyqwXB/Wn1HghqJQQTXBhrqdl+eCJeXRZ8bhBdBnr0sWP5YVPan+zifC1CRYcA7fnq256iVjYkyvp6grqbaJSiuDI5DbujXnFly7nle/W7NR/1S2Vof4k+CO61XnSIdtvxgWBwUWA46h0k1oBtMIQvNUXU33AM8G80Ey7IIx18o8b2mKF3zbUTMnFoBoXl6eDPvaN5fHuWZowtenf+WYDl1jSre9SqRT06h/6ZRDv7xTAHJNq6qxYSI0NftlMttSAzKr+nSofw/95u7GewZDF0yP7yLs82zMDY+0kJ1m7wus3HJL/RKeMZXAAAADABOd+97ZsfU/AetTFlL3eGUPI3gGHjOnAH31e4cNjmvsmesMTTM4eiERjIRWvHAU2TClT9QN4TxKLEodabOQADnwf0FnYOL2zQOiHdi3H/i0RT8Z6Q0OufexkjrfnBX8Ml+QdWQhPTOOVmynP2U537Z3NDuWSSw0CZz/THyMceaGg9XQ76ezrOt+G1EjwsVV9mb+q47cAwK/MLgHGq7Gck3N7ogAwAQ5YaQCO+lmuiUbPjz/Yd02QKOIDdL3mSY6VuxGFsKBYO8f0SRO+qjpT+Cm0RfoXnFLlFhjelV7VI7Aj+kvvWhqqdvsZh0oAjDuA/KteGfgQh2a4TwEB+IGv2Gkdqv3xJ9lIxX/3yowxySFuZ0+f1VUxedtXp5HyDwABORx1ZrGd+OIhIS8oWUL2EdmLP7P8IXICbCYmyEDV1ApwDnEiEFKoBVI7Zjll3KcVGMmcEDgBRlXZlJsPyA8JyP6fGtElmhHQ+E10HJ7Thld6rVLs/sbMDcspT4yhVk5V/cdobTn/kQ4ShBbsn1mFiUmUBjTYEwVOB8nRWYZ+fZRorSg+VbVzJwEziuojDaBme+4BQmK6S3hmx04jcjPXejw839OdX/0emPwxp6BBehtubLMbrrq+Kem0x/eRuI7IEeO9nvalmIHwarzjaNA80eco7v8zrqhCDQXtvbIBJZdISniHDToD9Vp42mUm6kHhfrXqeY8e5YvE+3q1aw1I3K58e2Q79VN900UgWF18QdfpQIPLBATdwg9uAABXVn0g9eAwYBDKBh09jReeRz/kgP9MBDPYe8dOVtgfULjZd9klC4VecBUoXp/+/Nxr25nUt3LNWyjZXfLHXhCqmA9rATdu88/aPY7n4+AGAT+ND337i/gEtQ4dRrGlDk61v16gcPogjUgVwKx1S3Zx+KKpV7WAYRfFTmnMBoGh+/rqA36lUBu8wIXFD8KGhlAtdrRoTlTqwsVDMspO1rMsY16Mzy9vKOik5cvigHNWkJYSI2kzf5xeYjU4G1qNAAAKeEh0P7f6H0DmPODvHjYSys6p7vhKP5r9wdkl+uV3Z6xqWa6/n2i3CaCbnaxxBF7rWQRZG7cyiWHlKfnkVk/FPmeB5yz60PqeexBVHUedbqSlUIFFn46vItwWNB5mdT+0Hk5XiCR5N6YJ60eWMgNuZunq3KmlwOgSF9IZFvTE5YmP/E+DqWFW25g+H8JrIC+4qVZU8h8qoFOEntb8Gan5nCwzXh2Cf1XJXipmQgC9UwMeE6iorSLm3mlsdcv1bA+L1Gxc51Egh7PKoDfoCfAMSh51NH/4r+nsBfaKnmjiSoxlIz6n6NnLJ6GZdgledksv2OEQ99NWzpFDN5fzOMEOoKSkP8iP1XiTAEosYw6eQtMq51ui6y+V8oEUBVHNLLXqOHl1oi/oYektmOyxg1Hd5eBPwgMQPWCYVYBQ2me0z2N0q1CmVfXrRQVszshaKzTxwLV0jPYm1Zlc8FsKyCo3pWKDEzPfx1B2sPBA4PZOmgMkq9HGsKIc5Sh8FXCUq8Iyh7v8ectcPz1hINsCBKl8QDSpbpcn5tIQBudtD7yaSsVO8xw5o3W2w8pAMcq/1an/tPs7NuJBW4O7gS7Ell7CnYIIZ9MO0OP1chcSVMbY/7+wVQ3c1Ph0CS5DvhM9iEbuhggBGVX1/BkWed0g1XrynA1m7mAWqZ34Clk+OlFhF4Xr5DM+q+Df2FUpysy1PHwPWh3Bd7Cki3d/K+SIDBJFHYxHM1tdUQ9P8ACdSHBQ42cYV6Ner4oK0o+2bcghkAIyh3zSC/X7GbWlLV95QLuvuZBxFSdTaYvSj0r2uByPQjOIrZHfhskOhfTZLNV5v/I+31vwyL4YwQr4BKE9JWHmxPEU2NFd2AQJNUpReb92cAt6hVXu12udLBXx+UfDnO6NARPTnYfwOZogS2uprKQGAqrqBMz0s6xAOG63e21z3p5AVddb+mqmUmelJz7GrVSz4MX+3DAav+U4IzJ/vfFD4V8bMz2iSD9RfPh2hBJaEn2DVku7rloC52Bf6czw4OegTryGK6hHumSJSD0VEmRRDqwj1W2uEYxgZ5nWiiZAnV/dNw4FBpjDYnGf0eoeCdV8Pf3H62OcAeLd75SYQFu1GDX+cMtaUuLwZMDCOr27Rb95Ax14Ok4yS9rVDbjdn+xXIL3aPCmFwpGiWj9X0IAjxkwPU5Q3DpSKwtnn1hpQAHb7VRd6vLWiquGKNsKhnYAmqdfD848xffseLvyWSPeoFhgZJm7pWnP7RsnlEVszor19i4JaG8SpB6oHAma2sZ+5mZ3BentE3Y5BFC/70Fg4nzcSfH+WEgaTz5RnCIwdZS7qXK484xv2U1QNyiL4lRE8MTm9Z9f+DsLRbSH44Xu7NU7itPXcZR73YXvsqQ/M7WMRp21Afj81jrXodsb9Q04y5Z8/rfzIxuP2ir8htD4I3KKxhmLWsfJjcNtd2OAF+Zu0Xk5asplaF0bDEq1Cl4fZFiqHaNzYqF9z81GWGdijm3fz3qPOQB5NMyT+R2ZsL1jGzD7mbzD3bLkTwoyXEZ8V1q+bZIn7RKYn1tvfVleNiAljTjLegyZQFap55cGC4xC0w3QTTn5yjqNeypmTUB0Nz9/bvk0H1fAwGyw1TC06BFNQedySTkKA+xEaB1s+OtPf8vNkXpX5Fjuhbil/Chk3aYjNnXkLbBhkP9lap4E+ihO27dcATbxoYiZBkNewn7RMoyWyUZnA8NGvJK1xqqCzC46d/zvFAVORiJ3h7T6vpgcDN3ReYHcNm4Rs7EJoFd+h+KYOvM6/67X1RthlbF56AJvIQ+MajL/GbaV3P6jGocoZNP/yk29MXcOXyHSixHZN7O+LQEGV3nun7YTf/97b/vo1VOAa4IsQ0lk5KlWt5o/dSGxhBOYEiIUYvxJ12GcFcx/paQ7paP87MjAZap+P+83+Q4VS3eNSfqbgdpP6K4E/0bqQdF5dJR7BaB6+Cfl/pHAAGnvC5dxSwZQ/USFks/Jy58WdOUDvVew2S7RaYhka0f75w83bkOjcm39m1XJQs3Lwnvyl4LvXNLo3SQqH+kv90wBF82nuYhuT/OHnWDEiTJdr9jPW5EXSuCbhiYI/7ArKem3YqEtcoepyX38xzCcOeWw/b21FwV4w3AglAXiU/HHy3XP8Q30ulmp/dZdr17Sj7Uo5H6AniyLVct9H/FefJjOO9Q7V4rRBuqJhnYYka0DT/128VnaPLbpAyM7UmoBjeWJOV1FC7fnAAEUC8ebGlie2A8ttljQRa9853NtBJo8TzOAGccfryT/RCX+KuNLf1VnJWN/yLjBCBSQqE0y0evfvtRXDUgcSFd0Z1L4atfYXv8p9KnMn8kac0oCRnc5ELxb5fJ8Gc/BLRpnngei+27SViuoO18rmoZfZ5iBqDb5wjfRoEmsHJq9l0M3sknD+wGgoh9Pxwlfn7XlVLp06U1Ov4sN6XwdVlBAx5lEncPMU7+3yyp8e+2w3swMNS/Ht9iQDafRMhcMS3TpXHEq+u6LWPgQQsJ+tKKveh0nE1VAane0pwAAAwDJcOncLZ5JDBOkDSCNoI+BgW2ZvWZni9sOftxm6tQCMFNBOj4JA9tfzIlbtsOk/ElvUSOU+5NmzB1nc+lKOjVhZVJSOUrJN7WZ8wckc1PJWAbjnuonaTtW1DCmGpAWuRljD6TP8B8PsQBg/Cj5HxNqVQH64CybZ3tQUvERse/rS2CcpJPj0aN1h5QpO/ff/CVZTEOH+RG+7REv31UbaHlOZdy709E/Yids0968bYCb2xw7mgWCIr2wKN33chNsGKCLy0JbbXte0ldMZL30GGXVs2D13hT7q/ruHoAvN0808sLgJkyWP5Mnxuagy0VA8fR2moyc7/73gSxsB4C6Jz8MvhkVQwpYg73Xbf8D3PLqs9S7TIfIJ4AAkVaso6nXbW10wJov436F+BjU4p1MMFDUlRNwZcHlm79AgUszDwh3ekRlC5qmCB40bV6xJaCZgZ5D7bK8MJ4d5lISYzIg4CHo4qUCyyqRBMGubfKSQp9lPgjZ8DRpWMKM9LzZX20Rf/2gjcMkyc2PUIt14OlZMz5nPz5ZB4BTgLEomT88VL96OUsiplMXp8JKxfFm65dbxhodOk1oIazG5s/F3ZPjiXNVgXD7Ugv9kjBKOULCNUnCK+9HC4YjTI6G2nw27hCs4SnpdxndgqnqIWyFklxX0PnE/frarUCUQ9ND1cSi3pey9X+pZmA4q6YandrMD5zUZO0843YjGi5O0J60n9A/7eJ3bhiDkP5+ciTS9uobQapZKcDhr6i/4qgTvhEvSLl95jJ12e9jeupaA2FPuao/ycIQTqeH/TMrL9BIR5iyZAHmKHnOIrKDoFe1PqYHzkFH7jd2PMdGtSKSzhd61IvXpc5iaKwXFS8J10wloCblaVFU0j270c49mCZIEuoszrlklK/wh0tWU16XOb3Ij7pqe9UpR+eq/Sli+pIAADoPlqhfGO1EJykwo9j3hyT0ZsyFGan57Fxt/fqfEqx8DBn3gX+6xQQYgIeLu6XRXCRaci5cRQlMkD8OyYB4ZO7uDLdh9pL7sOwm1KQO8bkQLdiSH8tZRUyhXmXoB7enGuVft/MKgzSno0JZW+96Tu/FqFzS2WOVsWrv/loi10AKCbwIKq7G+3PbP1MLzaqgkTCJJxlSMq+RZ5TXTKGqrj+UJwT5b8ClHBj83vBM2KQSZhSZqlY7VlmnGRZb5cJnhyD3Y2JUpjPXa+VXWpePuOru1RwLqXJeb7sZjGyX/+dff4etJE+xo1synWAND+5NkOb7rY9LPGwEwg1sCVtJCYafBtTh5fQ33yjK4SMo8iTqUVbJIvicSXYonYVo20tMdOdRenP/gmFQ3i2JE2Qig6LxmiLAK0RoIWmbm/R1MNgxXYe+qglw/rxF5nuJVRe1vPyU923s6kNUDiO0P82nziGLGXiu940Z7EUukHMPPAVqF89PvqNpIcd43uAEPr4AIHYfCyDaAb4Xj1BY0oOL6834kg6YW26JxvmpBjPWG+jZjYIpSFepqMr/tU+3XZ/3wbAslW6uoQAAAwIshLfJe6tmsvAKw7TBIxaanjXS4TId5dvh+6WKceu5s+JQxyYAAAkpAAACSkGaJGxDf/6nhAEdmuEgpgDgAWHXFjUdjTaZPezzaVkTBBILBubiOBUBF+FWZ1iy6p5c0+1xU0NF3qazS/0C0xguHTtTKpO/JHUa3FvHTem2T7Uk2tvZkKXBuWccQYOSwk19agzoFsupK2M8gYfHhF6Di/jpZ15fZTl14FUHBhz8R/bM33+nc4vEDsiXTQLusZrK0PGKawr+cLOWqcETvaN/izsUDVftOItABKAECHZvf/Eql3/6EMKleCjZ3T0+KnaSIQEhCLiDhw9JuEvA040auNQrrskL9wlyhwPrdZ9Psm7TstB/aG+ic6yUy+RBBYNopr6cYNWOx5IXKMgCsLdu7m3qH+R0RutQiJUtiyBXuanPYK4TJEXqbkJNk0lWtDmLct1HrUn6//g8HpOEphwLU49bLcAPbv8Fdr6RTcyrfpU11YlvZf5K3MFwUKTFGMq/BJGi10gLnBq+rRvLBFmuTWHwHbIJE54GeJ7ysXA9TSxJGOJZUSedzh6AuoPjGA4tzXYGN1XA0aVCvnHn3uo1Vox4i+zOQvytnpggsfjmoyWAFurjQlzWUHFYT/UhI5dtgMCbhckwTEcG1LsFWqLen9t/PagfBPSAoHGeQh7JXv+0EP4BTPqrHVWa4rnDMQEWhtd3Z/9WCCvQqfZcfDrJXl0FJXy5Q12WcJi+7ClqWeGLlxH7140r72AFpP9j+t5lnaCh45dIex9pYV8+fGSixwN+YvOK4l5XNmWy11f+U9RQeafy7ODprFf+5ubiHXJXa3A357cwCygAAAC0QZ5CeIV/AA2A/5XtrIFcQ4xEp9kO8Owwt9r42Hprhe2cte9xkybK52weA0NZ2u/l/MkZw0P9vxWZK5MBe/TO3hyvAsgS1hELrIEcQALoLgFAwE17iVuJ4b6FJq6q0Cv4KBdc9F+o10M89XMkcU9IjqwVkDv7eDOxo/LVL/7T6Xk+Hux9ThDNHgOkyllC9Wqz1KiDV7wFwbm3u+JxZD89Uu8DmvxZuoPutb6lepylUIKDL3vpAAAAXgGeYXRCfwARVpPb5L7C3cL2MYMGRl4MOg+dtbxny5z1C4iQ+I9V0CfJ7hqjv3HKX1vDy9wAPSaUXzEgUs6pxUatkSN3gABs2TaTgZYoOUWx+6hl7TgfQ1hzrguHOyoAAABTAZ5jakJ/AAZx4CZ3nRrvA+NiBQSyzQKkdvIgWXdljPipQAnN3fIi37i7iYC5DGljCtEtfQG9rozopb1jAZtiLCH5C5ixPXP2pbqbhK3AoWNqzCMAAADaQZpoSahBaJlMCG///qeEACte8J/jtQXwab8KAAjryj7Y/foADtI68bdvBWiCwjCKuFCd4wFrVeznoqiC/9sh/A2LyDve49yOe4sreIkSP2TKRyeEKc+iOOnUvld79oHnt4WvFq9y/gCV1ePbJ8J3gL76H22FMFwFV2QVV2pbOTq2S/mqpW9Guttjw6GFWhjLt7bUHhFFrENqVNy2D1HDIWd0heqsKSgEub2syWwa3YL37cklgF+Fy8vjwN/Fa0rPbrIcF4/954WjaIkqS8eGan8fY7ZiA7oeiUEAAACNQZ6GRREsK/8AIrI7k/p97X2/DMa8WA81zkHWtnwAIfmdOFZimOHMDpYeedOjx/6UFkKyxIsHEfZQqLHUN6JclvOX2txm16nvcXfR3Md/DvhF4dawHsLglfvGxmNZVdbLdT3/n8cyrNBj8VAqyxuaxXbnUNrHK9l/jnbsibLk/JxQ+/K9/9QN2Gdk/whhAAAAMAGepXRCfwAGb8nvIuzyTzfG/Q3TGHSMmJOmDwAufpUKaAvASi9Y+ctbXVGF/iJegQAAAHIBnqdqQn8AAo9v4GumK4T1e4PYyAA2ULsfGFV/a6DGZ67wR6KS5n1Ad8aVuuB68PPRqtm7niGxFCT9dYDeJH0kAHwYTQJtGIvbEm00RxYBUidh/JJbelDjUNRyireA77GLq0uy5rNmMwdznH3V1ewCCRAAAADgQZqsSahBbJlMCG///qeEAAADAABPlMYrpVT5AAnWPbRk7F2ScQNa8v5/TOFlX4o2r4Waj1THHybUkjdTCBo8uvDxGOBCvavZLqJjIkvNaX1yeaKTkdkW1ntAEMqOmAXXta2xuLgSq7zoaAj/0QiTFCDKPZkfyW/ospKvG3I4r5EcBo8/CVNyJydSCAckAGKuV8AB5GbkPyIRXxJYrFOU0BcP9uPfoQTGgVwa0Gm6goemzpUtT6EMv/iFHRmqwXq3hQdmlTGS1IsqWNcK9qD+3DNriyJfuXIK1N6bH/b2WYAAAACNQZ7KRRUsK/8AAfGvRF+ugbCTCtDt5Lw+l6vDgmkf7XmZyq7EAB2dUseeiMQKsv8C7qgBZdpwccPemkojjWjfJE2ixgc2VJtZSOlcKIT2dicZnnABxbLdUj0MfOQjgleFHjqhaE2UFpQvTXUOMloNmr4nfdKds2XsIvKqadq4oBzAdfR4sQNDXo1EkFIdAAAAbAGe6XRCfwACjoxq+7G2CI51JkcgANoKHCi17DSeLGI3dnRbtQZIhuqZZr1Z9ojAL+YiOpfNLxkqsaupym1R+N4KwmA2pAIY7Fsv2gVW5VaFSu4RbOU9OiUEosLXUQnUyd6gYaSdScy7Vps5pwAAAGgBnutqQn8AAo9v4GumK4T1eDxj26mqhv5b7ITz4wxppkWHtLxd/4QAC8aTh7utzsymr/nn/jLTLqZn0yq9HDyPhYMpARryF/x6lcYW5FmDdvt3XN/DsLokm6ma40cRxadK+rAeZy5VgAAAAMdBmu5JqEFsmUwUTDf//qeEAAADAABPpEVlL9I4S/gf2v6wWOt/0IQaZAC6rkv0IctjShl2wFYRGLt3fkbNj74lB34UAW5bqajwdx87YK7SZhG5VOJW0Wsuh6j/ocBI1WxooEIjNroPrPdtLppjYMCL+cfUpz88XIKcLB+AALAk8pmWz6ysUjKDDojyxEQ6yhmstNcD3gB7rJEITOUaths6tP3tP4OPgH/LPKcPjl+9QOTGaNG+HL7XikHWVSMOesX7jP1/vBjNAAAAZwGfDWpCfwACj+b94uVFcVDa28fx7LfBhyuZSsgcqIOPNAC3Cr7lo6G5NSNlCkVJBpIjWiio9IrfvrvPVSuAu086Uj0dmSEWGI86g2qktmw/x0uPqpmJUkiPYIstW+qN0rK9Mq/enq0AAAClQZsRSeEKUmUwIb/+p4QAAAMAAE/5l2oMQSkmKdAUhACwVrNf5/JacXui/BOYXQ1idBAQGrImh9Wgf7lFlaVhitvusH7W3R8p/ShPkq+A+ZTI1/vlW4zya2V23Uit5J3PGf66gxruXFHiZrf3Q7ordprMJzHy3m8sGecBcLs2jeH3IO6wbCXWAYSYZbAcmf5f8ONmXR/uIxZ3E7/xAqluaf0SmRWBAAAAiEGfL0U0TCv/AAHxjdgNesMgZaU31eEgBbhdHY1+gta/s/vMgQZysApKQTr6Qma/0m9ksmGcwWcGb17ufbQztPGc1XBqigtvSnjmIhBUnv/nOeaQlIdWQh6ZlqfUY3ZWMeIKRcF6xDpDf+Iwp7a0sv/rJXGJ9Jepgj8DQa0OcyKq2MkhNxiLdhwAAABQAZ9QakJ/AAKPb+BrpiuE+HwvzLcSxpfRjkfFV8zkP0aI6AA4cp2CwZ3shc/EDFOSYbnpJ8ctMTwq9fGUDFrQL+r+AdgDnr1TaPdDF7oFwx4AAAD2QZtVSahBaJlMCG///qeEAAADAAAdoHG3UkAXoZd1fqG1hW0sKtpyYNsU1t6nTG6JZ5Jit23khKWiB2e3RXqkuZcqN/CyolooqGWFkEy246gEpZH/YlxmbI1R8PY3n3QtlbZUec58BfB/0YoWfoginUuJ7mv2ffLjiPSRaRsl97VMqo/U/mOOc6xIde38pQZB6bNyBRYjeYT4HtGcf4KIiu0qZAuTcKIUc7HP5a1hHg2zK7lBkaWXg7yyDk5UmAAML/Z12IyRqFVchN8uzekdtlWeNYY8d4U1xw27Dvg0UOYDm+oM9tRbXzmK7n6kDcwLLSiEyB7/AAAAj0Gfc0URLCv/AAHxr0RfroGwkwrROYoPN4AN3bWBXIfD+UwIYLZXx0t9x5/TI+q4KQgAEHr/oaaPUJxPQWNJcAZ+KHccG63ek07AdUszT3phm/mmL9BzwOUTejQl+qM4Im0piGBB8XME+agfsdfQk2Ec2lja0ZGu9BfZpxfsY62t2uvQvvC8fH/+w1hgLa7gAAAAggGfknRCfwACjoxq+7G2BxJAdeQl0vjEADsit+r7KUy/e/S9MkHFbN9iGglvZuwDeRhjASdZipZnuCd3zDM1kWm4/bPC34hZANlA5aieLySI4oIGBENeCx3GJbrgPXauEYKi/dg5omPkiw59gL/UjBOYqwleb8FFpaSGzfZWvxXLddQAAACKAZ+UakJ/AAKPb+BrpiuE+qEchSE8aegAEPtkBhf6alwH+gM+glVsNQLtWOyncE/kwaHwC7mSPCLh851oHkWZ/KY7/aWsUd/VeH1vijdf0xX7EsnsQc0fCUTjwRgi8swPLTDh/kVeohvhgUGhGZyjo/RgGtZPCwZK4p3OsIZDwZ7//H4d9uzyNX7BAAAAyUGbl0moQWyZTBRMN//+p4QAAAMAAEm5B8DUIgE0rWa/+30BlDSO7dLWCv7Nyy0fxRaLlnTXgVLW1WZf3wwt9GUDVgj6EBeuzWzjlgRw0K0C9jUJwIm1HfskMnjB79HP0pjdnQ3rUPE3V5QBBvLVP0bQDyGvmGpCqXXbtlBowjd/e3PT5FYZZCnnh5P2bkcT2UuSXmv5lxy9vDyQIGukpDfEUUY4wMF5exNwqiQcCJwf36hMHEVnOujFtkxxMa1YZI5qQOXRO9GHuAAAAHIBn7ZqQn8AAo/m/eLlRXFQ2tvXEMuFLzTsxgwmoXaDV5C3rAA0+F5jhoRupmPJSz+oEl5JYz+OVkJty9+nl8zj7Cf9GlI2XWexi7Ej5krNVaurprVoWhmVX8swbpdNCDERltsBq9a5PEb+rwY/7pBwLUEAAADBQZu7SeEKUmUwIb/+p4QAAAMAAElHLqwmFrJJoSMCd4QjsAGrkjMTbpF4bD5dp/WGEyoqnFEbdyeH0ZxLO9yWoN8GBL3lfYAkw4PCKXWfwl41qhi5n/Sw5zRBFT7mgCXOHIbipRCj6NABTm7EKSgRN3f6m+6Eza2FGTZFruYNLi/RCnLZu+1x2fnTVNO/hCKpYX1qNT2EhHrwr6N8dkookfEEafqw1eFipsXm7dSZI5tOE5EJQvxzC62BmoMjfty6QQAAAJ5Bn9lFNEwr/wAB8Y3YDXrDIGWlN0uXxODp+DU+VwWNMyNUADrQCVE2NpVgkswq3w9P5aZ/fLKRedQeDGb+s/Amv8D+/HxHhVcvMeQ+QNcFUN6XmMNHKqC+zafl++FFDSF3pDjU4Jl3dL9x/v0Zd7uFc3nZC4+0mszw1XelG5xbGlTE3eGQ7WBUkFqGqjOQxllvkCOTkBY7tqdX1FwyNAAAAHEBn/h0Qn8AAo6MavuxtghwGoIRk0U1Nls6HwcADrPICwlH0795h76OVIaJyvdFRg4HdtpbQsru7ozuzyVCJ+K5OK+s+PGf1nYCVqHagoY0wY0nQAxhLofJCg9ifcdHQ/f5s1vGgQ8dZJGidyuYhzy5wQAAAFQBn/pqQn8AAo9v4GumK4TYn1PK974NysaFsAeuatalu0TJAfCU9L6NACp48C9AAX0CsY++unVe3YNSWSNQAvl2H2Eot+HaSVxuwZBroE7lOK0BoyIAAADzQZv/SahBaJlMCG///qeEAAADAABNum9fogLwti99kH+xQJYAPilmv/auocgf619be/L4execEPFAmwiXS51KMxQDN4USD1GDgSXvMHg/JH1kwEB/FqTX65eHlBSS+sB5Ld9C6MxzbkY6hgEYvvf2JF2luCOrtLVAvN4o10Wf5H7/5nYoFzXhGTJ3D7mSmS4YHEb9vVcj2/SKaEfw3QOJ1PIzjYNJgY+3UgQSI42t9a22WPHQWbB7OU4iSUTmejoQGGFELyC7uLO1NofmR1BayLAU6OjjisO3cOvzzSMF5kCp+RzBLg66BFMDkPisKZL8FevBAAAAlkGeHUURLCv/AAHxr0RfroGwkwrPRVvseILammecTuhnFygACWqKUYwkrRv5OquKGQE/yKnbaoPZ6RUuUld049eWZsgfhGE1kkgd0oK5wVphthDZ4Sfot5Lthi4rc+gTYimmIC4zB+lr+P9g4in5ZVaHwbZEKHfw7trQgFVrmNa9vZbSLzYV66XtxBrYdr8nxXqef+mPoQAAAGMBnjx0Qn8AAo6MavuxtghpqycvMQAP3TadC3GemvM6Oeo777qU/9yc+hF8Cl7lrvwRQT5436/4O7da0q3mrpxYvVKWFUWFlQgM5c+hUaKERv7EUdC8Zmv0GSl5HOwLwTJzcaAAAACPAZ4+akJ/AAKPb+BrpiuE1w3cVD52lAgAbSNwNKwCBDUcsGbcnpptb+iW1bwUzFk79/rwzXftSj5SXVNqQITzw/bfkc7VBzdwmYyB9pCGEg6wnE9zifaNwMUHMemx1lV29k4kS37kPeCpsmXAaIKvknOj6iJydO/GA5apYSjT/DwBl4wFPAS/puJIpiJgbSAAAAEYQZojSahBbJlMCG///qeEAAADAABLUwAXYggLv1IAW9cl3V+vBkEPAKsj82LGcGxnj1JY/YVHmRQOsuknCDUsanX8Ibs0qGWsPj8hZVZB6BZIeohr5BPebm6SdOpfRD/9M3jejPMIT2BSZPeKmEqBmPLf4EoVQxD6IEznx2WuP2t3sjbDTQDdLDhvS4kgJM6+QSNHhgUnCFvHFVwCvW83teqRdtpRyuPoeUbAnv3rhLngvJk2WyRQupGAUWdgcU/KBaxYLkGC6213EyNP9ULHvhq/QkBbrkgIgfMh80cEpUwT9mzfGLH27bw1TVLNvGK9t6pGk8aIBYpb75gQBZxjq1toGmdjPhujO5CsrEhbIHHTWr4WX1kzQQAAAI1BnkFFFSwr/wAB8a9EX66BsJMKzz17H0q5H9stZhvsZwrMoY9E+hDfZpxi/bwATMDSZIId66+VYSZOUjsVsxp3kX0nW78xM+aL74Ua7+mDSWGT9o7CzN0tFAMLB/aWjAPhsAaEsGJg1vlv7l7gXX1d9HE/L8a6U+7VghHvvdvp21rSjlKoMxzhmxmk3SQAAABtAZ5gdEJ/AAKOjGr7sbYIabEOHQqACBeijOgAXWjoiUTCnRasiKULtzxErUY9JbDe52MyU0HrVoSAVDe4imQArL9XhQr6ZdZ7TKXVaGzX+tkT7gm1BKH92eEYwT3aAq9zvlnOgVm7GVoQInVmwQAAAGgBnmJqQn8AAo9v4GumK4TXJ6fbMjktp2+GgaDfyADaKkgP5mjrygH0HcfEesnj27lWtIgs5LPO3L5/dP+dKiGXTbfCfKoBBhSSbkdOjz+K1ZWc6J2Cp9Am6+XnPxMuiBYW9JNknwzjwAAAAMZBmmdJqEFsmUwIb//+p4QAAAMAAEl/RmuAJvZ8jmW757xwAXJp9DffO1BGKbG6LAVx6c9wztRzXZN1iuydmVy1FKFQDftXy8kSZFnn//CxP73Geb/Nl4UEPAgFskyCZdNMIAi3AIeBEymyv8ig5u95yZgTOCFP3chHlG/v+8DRM3TJ6kkAUpdMw7PaNoNv1BUPz7FBh/dX80LVzj3eH/7pmYIiQ0cwNRpVwptjIjoyh3ROCSfpxft4QruALQZvO2SChP/oaAUAAABoQZ6FRRUsK/8AAfGvRF+ugbCTCs89+JCLy2QAmrzo7GzJhjZT+BqurKppLrsrI2CBIHhEEJKI4Q0KF2o+LYGsqDSzpa9jQZCEF+Ud79W95jCxV0/Y2bn8s7/vbUaYaILC3huLGgGcRwcAAABiAZ6kdEJ/AAKOjGr7sbYIaekMrDZAA/nlv1f+0XlTA3xZQUWXxa7Pbf2DNv0y1WsrPdUEqiU3lV63tesXI5RyK6lHKCLTZILyPtsfcmhFzDnyXdezGEJbwKJdlyzi5VDBkMEAAABZAZ6makJ/AAKPb+BrpiuE1yeYT+cABB+d+r/2h2naEd+xCMCZmMINk6PJosdrtoTWYPUx/UtgEYruLAo1AAiwHeSISBf49CQcCkAd477RWHGVRVuqGDLAVkEAAADZQZqrSahBbJlMCG///qeEAAADAABJSACKQAhT3mcr7ZeZ9rDyi7BnSbP4kS+CYIJ2Yj52DmRo2sm+F1OzMaEAg0mg0/kkaulIItgq/0I/hCS2Z6flmDorryeIlj0skvpOOSiyD2+GqHHtM3JDA7AVvdfntk5KNQVvMyAA0ElN4L/FnatlEx+S18GbsUGhIK9GeDMXxB+l0mdksQgkK5JaYTy0G7S8p+YxIzvGatlvnshjEViAnL6V3wF7G5b5bMTtHxW90og1OaDxBg6kPRrToIWnzQEwLMFevAAAAE5BnslFFSwr/wAB8a9EX66BsJMKzz33Jy8iV4zbnur4AEQedHY1a/q5dKLd5ctB3J/9AlYiMzqR0AD0jlLPJk1idu9C65sMYe1USn1+DjcAAABYAZ7odEJ/AAKOjGr7sbYIaekjlhoACIO3sMEJ1vaVuS0kMVScios/BunGLagtjXG8RWbzExzZRRWxkqKq+EwYN8efA8OQXh/FXyb5awFddpy0UW9/oWU/YQAAAGwBnupqQn8AAo9v4GumK4TXJ6gCy0tAAToGLEXfDr2LRAu3XjK81fRO5sdmwBfucFgEQYrxV+bPsDXk4CYsJpeDlXO/4P+S/xvVYmwy14prFaBy/yvfVxdJBOO5mdWe7mMbr0c0ipPyKtAQkmAAAADwQZruSahBbJlMCG///qeEAAADAABLSLw551TNPIe4SPCCAAfm//K/hoPai1v0pe9n1Iu7Ndcv82bvy+1k0zkKWruEVz16Gvs6YwS86y4UxBp1SqYjYrlt5KIK5aZQt7Tgjvi3J2F9TFvMXTvOAQ6vVsADkuW9J0R98DyrVMMhUrL+trySzfP2+ekhnSErQ2oODL9AzZOEBfRRdajUXd5Qapxi500ke8INURI7WyqXF9bcoG8Vo27pCZ5X5xmYFIWj839TlkEGNLSP4rLsZfYEUtwrn6lDUl42fws5c5Fx69wlD0cqHTT2G3fKwXI0IjM0AAAAekGfDEUVLCv/AAHxr0RfroGwkwrPPXtDLyed6pijdxax1vSgfEcWXmrTb/DCrdOMIwAbOLMzCDIg8soHWyVjnm3IubaPJPz0Ms4/c90yZRK7ucKO9HncQRTvQ/9fyJehX5s3B1d8PgKm/oMQYhFS+PwAxJGmQbBGVmNBAAAAWwGfLWpCfwACj2/ga6YrhNcmv1e7SIISeci69hwAE0X9OVn6hMvKOtQHG12KJ9Jb9knG0rp9B0BHxy/UhvIABnDvxs/rhSBdDFTndYCrIz8y3WuXcTNKkcQcIvsAAADkQZsySahBbJlMCG///qeEAAADAABLum9gXk10GQSCTs/4AGhImcrj8ywQvH/Pfsub0nxYovEkdscURpzr4j1ocpQ/mUiZOnx4Z478cr4pYKH21lB/eBMnSLC4C/bHr6Lc59RpKe2KwioFsBBNOC9djU9dIKQqogqzZIHYDh5uYVIjPQmxgL4vRXjHNOVIUEiPfilRA4or3pCZlENBT/6Q6dRKpdg8KOlOUVSo+bsSZIGiSrEen94V0LXAzJmMEeAFeP57YcK78wulb/h0OLwL6ftj8dEgyq9VbkopyGtrpG4OUizhAAAAo0GfUEUVLCv/AAHxr0RfroGwkwrPPXi6YV/Q+8ABEHbX1VwMdERJi+cetGjFqKa4rORNbVwn0NcA2bvNZfG4Ebp3JE8r70kaY2ur7z465OrywD5IgAfOqk5/TW34FwulY86NKG2z5iwsHAokTLRBEWIBzeT0aVZ1UxP7Ue9y1kNPKIyyyWg1i/0yj2JxAj2IwTx7arAKMDu9slITNetIox9FB4AAAAB1AZ9vdEJ/AAKOjGr7sbYILyg4X3QoJPa/fc8ckhin7f9dgA42sMdtQ5BqAAE+jjy+VB48TPe0ICho4uYYxXQjz/m7rHfXFvP0tUyf7QHD8MlXkUG2uKfHGAil4ja2g/37puZDljODFqIPQLWdvgpBohrq+bDcAAAAcQGfcWpCfwACj2/ga6YrhLVL0P42Cxeohnmh/NU58k/gA5PJXL1UjiDr0yzlpOWHLUlYj06bZvzqd/NkR5xfwcDDiGjkaoGMkCGThL0iwhn8KtuDG+e6ZGFDcEd4NDfRAj49GVXcop2sztFyt7RqMEnhAAAA2kGbdkmoQWyZTAhv//6nhAAAAwAASbpvaiVza/b9gwEVAB5/IsBRsXcTcxSyvOxtzSwmGGjkU3k/k4N6L+TaTHYwhPj0eBe9kzUKKBhxbaT7/YqE26B02NoLuaidjTjsXDZ/H0WRDALKZglLsVVyRC3hGqPzNaQ3MQQu8VBranJr9KC2o+u+x9onaKm8Bw6BsG4N/f4cUUkcKEDyDGITjM/J80ll4ZcPPHz+mh3wD2iyaW6GfxIIBa4tbDADdm5KlC5ZiyMpceLLyAxWkkhJey0DYT0CLoDVq9KAAAAAmUGflEUVLCv/AAHxr0RfroGwkwrMYJZUlj8IflwzRmwAPd3BQSwJ7FqD+uoX0DSt685IFn7slIoVE6Rjaz4Tls7My95zWoN820HdNR1GsIvmN2iQvDWCrubd79zqAZdUYFuOKXaQlXsxxjxEiDU39kPko4VhHvXUb2O8mdXHU0gkGuDNqPpSUaWfxG2yOY6WjmfmJVWQ8YaKsAAAAIQBn7N0Qn8AAo6MavuxtgfYxrj1AFaH5TVMzTzRyULSCEHaHU1vk5IRXUvkwCMpEbKBA8H5pKfebL/qtc/WkEyjXaXNq2Nk8IZ1louC8XnJLSPTMrwJ6GH7oSKrJ3hp3APLNDxqh79eMY8jNi7uWaFUl4pS+bVR5jjL6QLFut0Luk/PvMEAAACAAZ+1akJ/AAKPb+BrpiuD+M9J2rh4AAEplQWYF/lHRV/n/q15e0xdicoK+0QmC0r/lz3oJoEyoICp9Fnh4o7wXBsjIq+MVeTP8q3yXE8F/HyVPO3SdO5AfT1DZss/sT8FZVAyvSuoygqMZnmud73ar+T31ofkFZGqZSMQN7sR76gAAACKQZu3SahBbJlMCG///qeEAAADAAAdoLu/bpaABdFnOtOorCT09nVs1VAi+2Vl1SHG5abFTsCWk/sxTo4OpkbQnDvMeh3522iu7jKAQj0AuMJpBrQPRzqgM/neLYvHk2Ov7y9FtgLvhwMasOUySbdENV3LH7UEmuZwVCONSxC4YtOKVlJDx98ezJ0hAAABGUGb20nhClJlMCG//qeEAAADAABP9/fBB0oAG2Pmcr9u/1LbpfkdUGGSVWG1aq1b/OY3+RRgDpB/Q52/0+L0jvnE4iuLrRq2rMazT7B8XE1r02O6zApMbPdyeIMWDQYG0h+lKKRpqsTrHgvhQbF8YqNmbSk22WaAY1W1dqpvOrzXNxXL/x11K0XI2rgeFMAmNBVNNDnmZQYIU7dOWv4z0p8ItxOpyrNECbwEdMzkjGAAfQBLzEusxOE5T94+kxYJkpJXV6pPFLzKNoWe95QjxwMi1Ci2uAt1f+6ll9F+4IRV5mwHaWW6SPzIoTX3zTo0UU+/SpoLqQUEbf6t25w35hPIeFp6aIHcAoxnCMQH18iE4sKsCh+Owy7BAAAAkEGf+UU0TCv/AAHxjdgNesMgZaU36HAlKDgZP58RkiIcYi5dU9/fAAnMJg08FTyKaAdy5j+W7oYDiHdjX+ezDErIehoGG9OvkhdjPdX1cLpDmYTt69H/dbEeRG9WGKBb6KzVatZDa8QKC515UG9NCnriXnXh5Y1lDV2Cf69KFVh+YWReLi5VknE/p+TdcJ9fgAAAAGcBnhh0Qn8AAo6Mavuxtghp252ejxRV3GX+oAE6X42Pnl6Q6BjDYsHtvgPGhnDaxgRaJTIgSFg4o3mY4maajDr8swyVJOOAIfQNMNzqzFlQw5fCGIunpPxOx7/qrU6MF9JK3925TIPhAAAAfAGeGmpCfwACj2/ga6YrhPqhHH2WPEq3sADlxsDpcoJE7ae2U9QgiOqtbOPX6V/NTc6Qo+l8RpiBaL+y5D9mhgNmrcv3oQh5WgKrrjmOOrgeGzL3FKiCXIyBSydSxUXtejfU3DO+/KgnJw9P+Z8svcpaBfclyE/Loe/I/ZoAAAEAQZofSahBaJlMCG///qeEAAADAABPgA0u/TIAbr/h//wZxA6KhqOBu8ZWPiTnH18T5uOI4V/l+Zm1rQu1OlK2ZcxnmSh9NH14/bK0lGJVvd78cl9oivw+ah3LSHE52lM627a2Ys3eU4lRheeiJFjrEYM4PHw9L+z0f1KhjCbbDTObjNJdsJwolkkt3EzzOooNHsNDyTbodXEeXSOFF8olJwy60DbI11UMs1kgWFa/R0cTcgRc8UNIVrXMDvfm6aQU2/XreraAx7h8cMvr9bGx1OEeHWpRLkAG7iP9QtGEStMl3E0BFkq0Onny2Azw+5RDqbrm5DaefUJiLNWuOdx8CQAAAJxBnj1FESwr/wAB8a9EX66BsJMK0N44zv2w7BL4z8Pzg6dLssCRAIVKjjCgAXO7IX6Q+l6v+buR2UdhJzv7YZv027N/jDftD69hySzEu6Y+MMS6KNapfvXokCgA3TELRsDe7IvprhZNIzKVby2Gy5IXvPeb2WUWsHVxTBkX2VwhoZSxavvxkyuea24hv6cb/nEUGTn//Tk/1jF4WSkAAACFAZ5cdEJ/AAKOjGr7sbYIpD8lUDJ1tt2Ffu9CQasB7nqVrpKQAQnS2BEpawt07VtHZaX3edLm/Qzip+UXRV1u7HIK4m9BaqAhV7EVKIrxeFJXBTJUtYKznX+nKV6pPpw28KDsaOHXskbilL8R3b1qCCNvH5bmwxveSxunn82aDBWuQaGOfAAAAGEBnl5qQn8AAo9v4GumK4T03q64wGLMgW4oMu6GZoDC8AiD5Ug3bYVJuABfXGIukWVtkV85Cd8qdmc8kN9hWE+IHa+BOORL7ojVDKrmuIPOO0kYFhbxOnOeA9vqE/Tdo5r6AAAA50GaQ0moQWyZTAhv//6nhAAAAwAAT5Vn+xjgkALcwtev949GkMsQZSLLKRg5bJlr4f045XTs1gFUaPhfPi6fASeUb4PRT/V+Sb6Mcg8hsZQbJsEvvWKPGRCz7irBPPF5mdLhOqI5305QuwPdVT3DEDQQzb5H73BoW8H1NRh5gIvDxPSiLNdxR1aFEz/7lsj65/LtpPzOR28NtXqnquxKXuDuEH68A+xNxe0b9ecB1F8tMkJeV9G3b1iXeGSmBYRn7tC6JhPHZCMYawjdASHPWz6C43c2vHTVQpIHbRKcfF0TtFRWVkS7BQAAAJFBnmFFFSwr/wAB8a9EX66BsJMK0NII/Toq+D0LqEM7ed4teT56wAgWhK0qb6VLQ/TwHY+6LL2pvFB9I9htHqv7pmHCeTtsX/0mPOxZMUMU+GYRMwFHnn/H5f7Eik4ZMDq8zFC2kQ+vK5+EQuAzCjnf4Nq7mDLLZgtJETlTcP2Gv2HfgIiYjQ8avXSr3A/U6NdAAAAAaAGegHRCfwACjoxq+7G2CKWYXREIAIgdaedQLMT3Dmn9rREfuitUFcGIg1edL75DGrwieydWb03FrxY1zIhL6ajO/gnvINL+1VMUegELQhqPs66B6Bxa1yOtEFUXMiejFonOKHw00qAVAAAASQGegmpCfwACj2/ga6YrhPrVdwAhTxXRMR98xed110SZb7mdMLRlonTQfgdA25CIzjTp4SGvM1xt6MLLGaFT47Ar4ZYw3UDXoaAAAACiQZqHSahBbJlMCG///qeEAAADAABPkB4OgATniQjg0aEUngrLE1AlkOqmLCy36T9HIrZUY+8Tainas0a1rROnOORkElB4PJKTlI4KEke/xcwfQa2uG+AdJvit3dKhhDvaHtZBu7Pm+ToaoZUQWqTgcwHRggHtrhB94QXDWlAw+OxYYxOYRod3qooEaB2ODRBtP0GvzrmvCRFgAA07bX//lPqhAAAAb0GepUUVLCv/AAHxr0RfroGwkwrQ9GzxdcsqXqin7b6/BcALbbl+qLoWZVzHjqMlAGh3Ax/9Q1/FLMD2i0U6SaGaHZfQOsHSdW2enDx/nGvNGoP1cDyYOc0gOHX4N7qSRXHsMQQtvGQo8pe3+bn0gQAAAE4BnsR0Qn8AAo6Mavuxtgip53SRyatgwq0XTIAQLI8I7JaEUIXd97cnCn2UsC7SfLbAFzKv6q74hqtrvXafKWMjsCX+mBG+E+oSA+rDcxcAAAAfAZ7GakJ/AAKPb+BrpiuEqI3fTa7C9NHL4H+8b98JPwAAAKxBmstJqEFsmUwIb//+p4QAAAMAAE+WGWW1cAIR8w4aqTA8vBflCrCrygM0s9lsuBn/sgY9q3H3Qy/+kIVnnUYS3NDk3VyZl/LsvlvnxCsy11Bw3LkGMtgD/sFR4TTmDVrFnhTnEKb6H/DgXQ3W2Pc744UbOZcMREeEvmq9tYU2E8urvG7bfHmkpUQRMKcgaB975+dnKtbYiYZ0X6vfptumBt7Kl3jIQ4q67GTAAAAAVEGe6UUVLCv/AAHxr0RfroGwkwrQ0ft56ACHOxvoh964LGr7gfDgszm8lCfphor/LNokcukenqfx9ftFTnsz3KBsylIclyzLMld3mjo2V6gHM2AA4AAAAFABnwh0Qn8AAo6Mavuxtgjv48IIAIg8t+klQW5j+Lz3Gf3loK6Qh5OymTYGqva5b0+r2QxxMkzP88wrHO1+Yu+LY2Wth7QHew/eEHuGWrJfQQAAAF8BnwpqQn8AAo9v4GumK4UcREJWm+g9FBwAECt6IlHQfQYimhcC2CrnvTWY8NISyqb1nhT+ZbLqbjuIErjd6EPuILTW0brdT+CPLHkyetTxvX1Xo1F8A28lDmwDm/JDcAAAAKRBmw9JqEFsmUwIb//+p4QAAAMAAE+VU84R5XfYLGM+I/eQUL4AP4vx85fnWAqtU7lAf1R62n2vn3OTsYEW3/Tq83C0Yo6Xlqz+6z/HtAopoWAeb8+cj+jS9egHWDW8KbgMF59Ce6apbTsoc2Jhasrg+gpb+jhBXVC2GTpWxOr/1/440TQeOA6dTkOo9tEP3eLny6BO6Q/d/4gDGiVnkL2dGIkcCAAAAIpBny1FFSwr/wAB8a9EX66BsJMK0DAnqkCIh0V9M5mUdiFWvgAVJO1bAQC0ya0F3wyHQsqJFnHLiqd/+w1fhVsmbixeo/QBH2zzQ98W5gDp/IFC60QO7J7Q31b4v48FjWLJFDfw28DHCvtqVv42KtF40WjrH0dMtMfIAWNQ0xNUcUcgMRBJfUx+wf8AAACCAZ9MdEJ/AAKOjGr7sbYIj5LIEIAIgYBlEkTJtdHS/V/t6v1FvX2t65bcYYmkoZVv+gfPnGcjShYj4NJjNUvp0f5DyVQaVxVA+IIJrHRY0XBXl6b978ansGjamrYAgHd2AqdpKuwtGdkKyyrThBdYsoYPmyqdYPzYQOeQ3gTQVcaRQQAAAGUBn05qQn8AAo9v4GumK4TnCNcvqPAyxNK3ZAAvmPgQkzSgCclWHvc8iwmULi82pSw23XsttbGZcXMTVyH8yDXUQed9G9OkbCbvrNXaLpQIaa35Zl5Mng3D/+5brpgKURYjc7l6+wAAAMJBm1NJqEFsmUwIb//+p4QAAAMAAE/5l2jm9pPO5fF0GwMMzjo8b6KC79zIzLrSwKtEABuKM5X5licfxMH78HZ24pAVFAXFindPl43IVVmTRYASe4rO0BMn53ht07Yb1+OQvdWlfUtzeEvQwfQ/e6USItYi8xb4jxn8raCsbGoWbaVNXfPtBOHDY/AtLF5hwp6DUyrbnRSqia63OcjmB7h1OnaTnQ7CdSrrE0gisAJ0ycDQZj01pcM3j0a2s0iCfmyKwAAAAINBn3FFFSwr/wAB8a9EX66BsJMK0RmG3urHDIdVtzXgqpmjs6aO2aWMgBLRKVTc7uHZ1lfENmgMvc69VrXU87c4TJeE2xcQzO40uI4fFD1tWcH7HrX7VWY3Af+5hKgWv9xxck1G6p2qb+3YBnKXt/uJX/ZmqSwv3bz40vBuMLhoisenNwAAAGMBn5B0Qn8AAo6MavuxtgilgPD7NeNdi11vOljlwgAsl94bSv/jD3FpJe3rCwDq51d3LGlrmeeZagE7rNVkq9ehaBKflVHBk8zzt1dnF+GPlGvoR29qsKx4lw2fyR2sd1Pu3p0AAAB7AZ+SakJ/AAKPb+BrpiuE5uhPTONaTFr5vQADtDOD8B7EcPfM9FV24tj8FzL/tJ8o/WmHyN6wAAYb8Rw86TM+4x9d/Ce/JmwUY2fMccms7l+A1O+ZVVHlXgVt/MotsUunifo2X2zJp8tM6rLsDH3t9oDIy36PwmkV6iB2AAAA0EGbl0moQWyZTAhv//6nhAAAAwAAHc4TyhMQJt9SKPkzBlr9DAAtdaNyrWOLNv+iPsfQT2oLczOL0+Qdp1DoqwZoHOZj5o6F2N84l1YhrlhzQ6gWqXobPDlezpeYLfiFl53TSrhXQ0RhEsef7fLTLYG/jTvYcf4bw42iQv70BgFzFZ7vX3nlsQ9IcQw56JqrWMdEazBJLa7W3w+RT8pEyBw1i0h5w3RrT4VJZA8MT+ikCfgTJ0maTCCPbupeXJsFCzUAgE/5WCXYY+yrH24CdIAAAACxQZ+1RRUsK/8AAfGvRF+ugbCTCs0vyF0QBMYIrA5gNAA6xsAxZdxYlgUo+dILjcGDr62LlTK72lDZYaQnWaiIuxlfb59piItPyzwt2YDQHh4fk5YziCqCRtMglezpLwhExJNHqAx7cVVsmXY1X0Q0Ln6CF+8r57f9C7XVKAvl/M9cOxilPph2v8CQkECLl7XZBtWQtduAnx96E2s35MpX3mgzQesf80un8mFwpAQvfo/9AAAAagGf1HRCfwACjoxq+7G2A0KXWPUAHM43v+4DJXiaW5fDGEjNKNAzw+aPsW/RZWRtd1yJ96a38SBMMxl0deXukIMgtsqFy9s4aqrc6rtdxYSh34aUjMqwUKkHYg4DofNVKXDqnZvxfogtw7AAAABmAZ/WakJ/AAKPb+BrpiuB2oXY6rs2mh7UmD8uYOABzPK9uuR0PrSIuGmIEpxgjdKrovNBwLA7j/C2+3dQqhURW732SLQFpVQXFW9luOLLwKUR7Av9X8dkBqSlikp1r5/oJ/P2vSr7AAAAwEGb2EmoQWyZTAhv//6nhAAAAwAAS7pvaiD0PhBK4ADaUBnK+uB2p+S8qKWvaxbCXQOqJpF8UWc5WkXCNGfsQ6WIQsuzSbh8KsfTaihFw9plNNxeLQXpG/EF00rMgQaGDjnVLapYHU2Xxixp221MB3HS2d/X0ozT7iqG+zE/e1AvrXWt4oiitV4GmlCqo1+6KZ8y6yzFSFTA5P5SiA0a0LooGcPEiXQ05MMfJNJ6ZjbIOOKZ/ZS7p534OtcXXszo4QAAARJBm/xJ4QpSZTAhv/6nhAAAAwAAS0edyvS1GzEWAFs/4f/8GcQL8ockuPSEDEBa9D8le5goQA02uLw+zgnD4SeSjupwus3JOdTZTnpAIF7bObAx579tgrQixtpozcS/7FQ9dHytgZ419+8aCkbARyR2ldU7pkX2HMmh/cUQKi97cLFO+lY5NvrlXDgAbXUGsWtz886sIK4jXIJYvv48jhk+BCSDiqlf2jbM/NDGJvoJSk7CY2hoZUdPCvJRXj7DvbZ4rtjgZVVAKg6u1P9bMAKQN/mfh89yREMRCgx5JTpkZEad9WjV4sS3Xl11JkUiqVY57Xky0/e9OC2/2dom4qZ2/BSW51p83IBEhX/3R0T1He5gAAAApUGeGkU0TCv/AAHxjdgNesMgZaU2uybsg2ZEAD+edHY2xNHBj9rto1ZeuUClSIvF1JWWX9KNvlBwNPqLn6kQ7565NKV9wKhWfiIzFBBFp2pJ+ZJgygiN96UFmLJ34C96L3eS9SpWjhWSHID0kTu0pAed7xnB4kUGI5xs5ReJTHf8hArE4ZyWJCCOfMErS4mRGOap0koPY+bYdEHCYjBnjkXdD/+GNwAAAIQBnjl0Qn8AAo6MavuxtgfZX1cnUqD5hURlI6Y2c/gA463/yJNJkmSSe5ygKKs0LKgoV2Xie28/YSo/OqakwjrwQXyWibQHgkP5cO322XI6zTe+EC0td3z1dpzwmJTYND4Ai4Nn19tBNCtPeVSdhdH7vJIFwoN+yaWpfBNm3Xv4/C10Ge4AAACJAZ47akJ/AAKPb+BrpiuEtOunExWQMeskZJy0kNOTkombkGAB+MrjUeKTWXhFnkI4CRUiJ1qnGx5YA3LKccSVIy5MKuoJTCH/3OqFlozK3tnC+jU/uUOjQUxtD5UecxVDcqhgfwtDU/X3XErhFbLFhVwxxf9OV7HfkU+b48LICLip9bvsQqSv8mcAAAEEQZogSahBaJlMCG///qeEAAADAABLgAh6KHXMqlvvUgBuh8zlfxnLJ5AcUoHoNal8POvYPBgeamNdmFLq9+UG0E4Ru5j1EPO4+pbPwC7nDnBBuXAARFWduOjTVLhFZ/PSoYpGhwo4qi1FgSwOUOetqpdstsmpaKQLezjTyEpvR0O3yNrR3xpCQLzr+aRaR7gsTr1NfEXnw986izN5YMXW/x0li454Wtq8OW43rTlGN7DIeWlNj7enFd3XZBirAimaL6UwNu5jy7JqTltBIHcaJt7UTvgy2Sf3mQB2DKrvtsOvBv35gBBAm225ilD/BqN9qTF+KG6I6ST3SByHv377gc/d85kAAACpQZ5eRREsK/8AAfGvRF+ugbCTCs9N9H6XTzcTnBwUkAEsdaEp+YlzQP3ggieWj6EDMgVnn2FRv1IFojGDUaNia1pvqJzYeP0dA+NC5EvB9HEAa4jZkZp3sghodjK5J93aHoqFx8S9i28aY7tQrZKoUXYl/m+lj5oHNapGnXSXtlyuKxT6VFITHv6Bu2GaJjWzgjz8llxe3P/hoot1Lhw+guvC8tD3qanvCAAAAIIBnn10Qn8AAo6MavuxtggpnfflErQAQ9PTZPjhZPUqyC0uxCTpBWdvglONZVvQifE0ePlrgGaaVjHDHQYXWc5pESxar4kl989ItWbs+gMnPyxTpY8a6G12E5TkVVR+seDseUH5SeFT6hWE7SQ1b8qfD7mm+KG68uAN04JsvEagFNpAAAAAhAGef2pCfwACj2/ga6YrhJbLJ6Wn9oAIRkeIXTyTq1QMDgLnF2MG3OzcaX1vfkXKFvmgm+7jduKhvlxsMWiGNCXOD/6s5Nh3qebOH4DFpS4GzdSCpgY8hqEf7yFKiuUGSF0av9AmeTGphDPGsdb6qHd5QE4SR3309ldzY+B6ojANj48GNQAAARJBmmRJqEFsmUwIb//+p4QAAAMAAElHje/eSAG6HzOV/fbBwvaQxVQYqkb9l3+tpVOTeF4Zfk9a7C8UFrGRZatYoc0uS89uCLaKToK9bYvQvPil2noOVsy5+mKbGfd8uZpE0mrZhRM6yrBO/53Nx24//KwMOZmO2fv+2JtGLW8x36w59iyskxTtjVr1Tle/IEBMFhgNxHA7R81BRVp6nPSTFwPob3YSzKKWXbwKl4tT0Ds1Ge1AjK4cduk4OpsvtE62SQlJznljar9Cg3kkQ1KUH4GqYfeAn08WWuky9V1pSNRaYhXW35oJo8NiAB3B3cn5fUxraqsDkDYlFSZlMSn4VpOTZ2se51WODmS6Tyym70jcAAAArEGegkUVLCv/AAHxr0RfroGwkwrPINxvepQVvTwITDVRRTTA7Rqj/V5/lw4Q8feYAPe1400t+bWV3jtIrYSDVMswIGn18E/zRY1nupq1jvduHLJL/BuzyQQ4eNi0KVOEYqBpV8hIO0ickfr2q3KS7g88WJ434ZUd8YT+GVG2NMNoiVjjdTbzCvBjBZ0b7nDHi8v45hYsCL5Ka9EB8w5qTWqCIUv3dUR/oAlicgkAAACVAZ6hdEJ/AAKOjGr7sbYIaelYLSgAF9eW/SZzyuAwSqz+C0F+u/zmYZpyDvyiKc6YYyLOJfe/n1VfcV4kSkoOTeLzRdA5hrOPiy7mtQsBjTZkp1CPk/IyYOGwj0ZFlBWDJwOxhfos2ruHbKAqZVVC+/CXbvXeGsNXAxHl6MSeej/DPL5463XUZfrvCBmJtT4Ke5psJpEAAABvAZ6jakJ/AAKPb+BrpiuEkgVd2O04xEDIV64LOi8DmAA4wQdQgj4/nbjau+ybX8kCfJ5e2tgUNlvheUjt0apxiuMz4pEKbEpk0gPkCOKOn/tc6DYAZPqpTwbqGTWMpEYDesQmi7h52AbYkuE07+iBAAABLEGaqEmoQWyZTAhv//6nhAAAAwAAS0lriADooDOVuN265tWqy/cyZUyba9yTIZtqJfXhbFx460YhuZlIVwGwe75hetkGyjhs7ZBHfAbZsCBfhvIjpe/Lopp5Clo1L+/I/jykZOJzzorpwSRpf760aPd4zMEbJ8dqMhrjMTcN+DWyYIxIXA9DD7ZFIM+pxUOk6UvgoNmBRtC1VN1dXc/hYgl41Iq+KgRLHM8FN+A2DtniwJdsIce4QdE4sQvqSXPs80CyHumT8kcvVjWBnwGmzJ7h0zRB1Qw7XPT9FTwS+DrgNpVwFni4CQa4tSQjDFuekEVC5aRoF3TbPQAiCpDp6K4mehF/vUj4y88aOrlMxatoGvUhwrc/H1ll+fb5aYoCDZkmK4f1pSnyUdvbuQAAALBBnsZFFSwr/wAB8a9EX66BsJMKzb56PwERqpHGIVJFJz7VFjlRHxGHiZGCV5/EQAQ3fSQdBacrs93QUwLkIV4tAuY8jjiM3GSsURgWJ+VGZRhDcfl84/IRf/kxpaHMtfvCxA35zW/Nyb1AoDYhcI9D4cUfb1DBXuk/o68stxjRhMHuESYnQ/0J9uoxWp/yQ7CIXNetK4gVqm5SEA1s+4mCXBEDaa/X//uJw2vzs/r0KQAAAIcBnuV0Qn8AAo6Mavuxtggv4g3OjZ3zPNP3waWD0fUBABy0cK3dZkMLaAP0rk4e88cA2nhrFc0ff8l006GSh7lD3vklOUNCrl1nfYylsDnISScOS/TTyOpeX9mgiwQXqzg9ZaqU/74aKJHFmHKbqXLC9J6rj1TWoaCJPmZd3rXY+92M1wQxXWEAAAB1AZ7nakJ/AAKPb+BrpiuElvSWP8LO2l48AAAXyOUolHhq2d0xbbaMcEfHIP7dCZI7MaQFf2h9dx49Du+G59Jbo/+LB94Xl928518wUcnNiWTKw0V1sPx5EZsSZHn+0i5Bx5wcGK3pG7sZJwvf7MKsN7ZFE/UwAAABBEGa7EmoQWyZTAhv//6nhAAAAwAAS1bQ2dFXADVx3VB6YeCwz0fyj7EUB1WXo4HRyVnW5C1feV9tjzi808NH6n8KzDt7z5j8n0aeG/f2Rfud/vI+7AjS9KMXqUURXj8g6f2lVfLzmsNA4mxZuSb+K6OrzXClcqbOGWDD8IJytSLQfGCKbPnIWIrYfcmgN7Ml8W+VLITpXrTkJuTokU0MOZHNXi1J/AGjg3nYx4UkYnrNyZhcspq1YySq7m8d090Zo+q8tj7PCDcTn5kI/PzZvzVfjPQ9dqYK143BNpXRFQ2jPr5jFeBGxkfGNH6R38cdySoGjHbcmAh9hUm1JWL3+Y3j34WAAAAAwkGfCkUVLCv/AAHxr0RfroGwkwrN7W6GkHCEsnQc4I0xABfS0h3tYaFd+xCiGoLOjZ9pAzM+WMizBGCeMSO4lsnSl8Kq1YcSS6tFv4dUXa21e3yWuoEk7LbtsPOdlFd+mvc5my44T9tK7u+4PcJgBEtaS9UJOFz4slPcg6wmUKBX9vr3nYnqGZWIl2krwGhY6vSuB3Nic3UvRZBLRd6izesIy+HWPGs6uXIuQHEYNn3+KHLMGJzwj/mjF0f46oJ41mhJAAAAigGfKXRCfwACjoxq+7G2B+6QCAB1jH47u6LgAo4AMAqbXldGGhtER7DG0CZ3UVW1trzrqcYf2RIIN3rzHuoXX+D7+/WHL5BTFnfJfJfzGacUwGfspfS8i9JOCNmu91FhM/bY1f3L6SLyCs69YS32GIgWqHSYKtk027Ts19obt/Yrg8Bse6qaxCwtzwAAAHoBnytqQn8AAo9v4GumK4S4ltOf7C4AB2gph62xnnBSoCGdpWyb4Ot8CmI8E2ANtrVNu29lsez4m6HgljpPIpKq3+DMyym3NNiulmy0uuMxS0+ktxCeNqxXh4HKNHV9s4hztYoZFJXEKGUuNiCl4MGkb+cZlxBJyequSgAAANBBmzBJqEFsmUwIb//+p4QAAAMAAEdNB0gBb1yXdX63To4wRfDTcnkC00Q3hIyBwm+y7z6XJ4Ty1XoYhZXSxtR+fZxVpQzfbXxtopK+l7nxRjAkxhEJx4U3S0u0SqggFjoUCB8Ub6DbZAv7wim0n4rQkQj25i/txLXCODPseXtQB86Le1XFkcqAjBLt9z4VAunIbolnzHhC6YDXsAW7hIZ4wyKRF5h6pueC+rWyT4meDKz7zckZt5XTwBCbAXNxRzfeoNqolOqc9w3Q6w3n3gydAAAAlUGfTkUVLCv/AAHxr0RfroGwkwrN2WsVw/QAhTuqG4P4qx0XPiN8cWQb9lw1wewPPjcKF+eKSQznDorSbnhG3Y2TmICGMrDQnmU5zqRXuspmZEKuSEz41FljCR4SnhcAnP/Aec3g1jiMWCtKNPS1bpAWbtgjLVbj9U7ZF32rMkOb13J4kFkCACu3tcdOGxiHqcuNsDnHAAAAQQGfbXRCfwACjoxq+7G2CCnpsgAAF8/aSUkmCbZR3PfjKbMhBH0ugPS3QRU4KpeQgJGBzBV/P+9fhfflq2AyReMpAAAAPgGfb2pCfwACj2/ga6YrhLcn2gWAB2bzzYQpj1TN2WDQIkCrthewTIb6bfnBhklVvtLZbnAg5kfA3j5JyTtgAAAA4kGbckmoQWyZTBRMN//+p4QAAAMAAEtTL+KqVvoQ6v+bZAB+v1l/3NdUvZmFf2txmeamg5Vn+Oz948dLIOD1EmDvlHKc9r71IZu983xmt6QFI9Ce7qskiqoCx8LTqAsFSkQbsbBx6fH3s9EBxKyhNo0UHeN6sbfCDIvueXo54ZMnCs+MwPOwfT6Ib6C0va3VG94CtnWXzb3fnixTs0N3zcwdBm1sIg9hXzNBx/yFHAuCP+Ltz9Dar0lrQ/IEDLT62eSwxxLhXRlEG2yuSeZR+Ixeq3zm0pb3YuZvOi6swqzpMgIAAACBAZ+RakJ/AAKP5v3i5UVxUNrW1yYng43YAHMFvBPHTFOEGiLGL7lhxoBTjIbh4Ab63/5XfyAb4Vtr1PDaW8zGma++TxUcOTeHRKHUU7EKOSbQSOWS/3jalrRpp9nGYuMiLz//rwNjTi9PiUXnvU1R20740dT9kzQkMa4eAUDMtAkpAAAAwkGblknhClJlMCG//qeEAAADAABJcK9jd08BegsCABD5POQsN2mOKAmyixVn2Y+sHrh+pgBC2BHLMW7RyC57G7f8xmtZIMQ2GmRD7EqFcn8eaUUaLadrFJweS3e56Ia8vo7vws/cdnOQghlpP0+y0s2lRl2nhG2qHcsIKDEA2huLX6hAgaj5wB7B0tcbAXLxTWKYD2kI7hj4LERGis4m2FpGXUsxAw77LeJTwmgJadAO/MAihY9jRWtb/wzx+Aw+Y6uaAAAAqkGftEU0TCv/AAHxjdgNesMgZaU2LCuQAckGqwypA0Z7Ij21UjmqFuwsQw4iJgm7725OTWBYdbGIBqFqu3HYnkPVPYvjujiR3Yrqgeb5dTu0iLa6xt0uiNrI1H51cAx6B8eMiKJv6LaJpfLhn15zRURLuPoT/qlsi1q8Iyee/yBFu1b+tKLk/JWbEaUuJQz+zbRTlBBUIc4YSpKgz4VHz+oEesQu9IVeotTAAAAAiQGf03RCfwACjoxq+7G2B/ZWgALx07gBaz/djUueOF2KdYXQA4ITWny/bm3sAnxLOZ52mObuRcoW4TRAQGoXsQfyxZHzT/xtDXFBFvX4eOXH2ULQ6iZX88+R4ZvvTGhs1kDorMdJbKv9zfXYfhV+y0joBZCCXbWfWlotEZTmzEX354uPtn7FSkUNAAAAhQGf1WpCfwACj2/ga6YrhJU3FHaeA4LgAAXxsEfofWrNWifHW1N4zsj+hWP/6xQFRCzq/pvv0ESC+jJSnYIWgwIpZEi1XtyassD03+J+usAxWupcEG+9CpszSTjccKutI0lRxWdHfbbd/k29e4GU5RwmxDnRva0fRUexmgc0CCgTRkSw2yAAAAEOQZvaSahBaJlMCG///qeEAAADAABLRybMZ59Y5SjpABtVyXdW37Hhx69BF+e+y7HUaoMAbOwLjSj5PhhyfrFln+CJAtLeOMXheBFp5VLn36cWZtb7VPgJCY2A8kVkzwO8k10wwQYucMgvTrKcNsHewd4kts+Q38KQ8nwKvo+Hl0X3erQ54Jf+ZLVgMN4GZe8EkgPESFx82aYsVl9ywOaybUCg/vnTYEYPU40nuvsXuTbBtedQEKRHWQ+qaFLrXqrJbHNvqkJWT4OgwcS1QZN1w4JJ5Xw04gwkAe32MabZxwUXJrruC5FtLUxJzDFPJhr/jtasOCkuj0vABxs2sPTfnOAbLCK8fakYUGyk4GE5AAAAokGf+EURLCv/AAHxr0RfroGwkwrN7XR4zmFt0A+93pnt714MOHPU8OC2sOJ/Nw/MAAQweSpGJtaLobHbr00hpNi5bydNKdPsVS5mlus0/gqx3Bc8TlQA0Ir0UjY6jdH+4fNxPJKvd/B4C6f2IO7z+qY9zzk+yVJSpC4UDf298ema0aEzNsoBH/YrEk8yfxC0MWjn6VdW2IadHA4qRYvT95ipgQAAAJcBnhd0Qn8AAo6MavuxtgfyRnLHxlBtYAAvd4BvWu4Fi6au7F0/jJ0bNjt7TjjsV/lAz+CGAJtq9jMxK1YLkGdysJRvKqlAVh54YVelyT92GnWE6JM5FCi7K3Ly5yQfzhrhoio4x9zNkXL2pzVr0lHMDkx0k8cfncfQbkL68tZ3tvNSQW07AxY/Y5a75frBOr/6u2tLVXJAAAAAggGeGWpCfwACj2/ga6YrhLVNjhqzKzZMtVCOLIzWceyVQYAOU92dv9ZhGVKKNGZZ+z4l5fqqKT0YP01ZxRzlUE2sdMFoDNWQ78oiauUkT9rLpwbMvnBHQDMZiFVxSWhiB7gCtQnQHvlwaZWC+3otwKno17IrgXJp23NbmpviHHIdW4EAAADWQZoeSahBbJlMCG///qeEAAADAABJZXIbFuZIAObO6+soPtXUHvp9OSyKIHsDHI6NTI42IPTSGMs5XQKZ8Uq04n8HzRTE4wtYMFDzKagDqT8zcpPEldlPhX1zzFFT5hAU47Mymz5xm68dA86DeWoiyu0JlEyH2tq2Satq2sJtgvJ1D5n8EZKIjGnkagySa9lbxbYEkNll2UxVqdL6jCnW43DVMMcS7NZsAZ6fW5NGcZuQprcsRft0ri9cul99orUja2E8JlQ+QMCpmQkfo1GyiN52ImZkRgAAAK5BnjxFFSwr/wAB8a9EX66BsJMKz07uMOxPNSz32QAg/VHXofx07xpZo09VxLcaJus2ZQEjvU7nmhUceDy5m+WIIECEAjXqKLoHo5TaMm5JlhbcCdbp3l5NIZBB3LnyF+mpHJVO3tO/TOZVafKdHRWj8WALVU7yFhMNOVwALPNqPL8LYmzrQsQOg+9m/Nic8hZ9A04mdAYyliWDxJdGltJ3Qrr72dZ3h8PhN+bwO00AAABoAZ5bdEJ/AAKOjGr7sbYH8mKzoDjt8e0kv3vOKaMAvb8iACdutWTlbUnK+0eMVQnh9xBWYG+RivQ8mOjLNntGPcwkeY7I4n1+co0GeUSjt8/8coXmRm5yukxL0cefBoYOfFBanT6TZuEAAACOAZ5dakJ/AAKPb+BrpiuE1yeSI9A7uQAM1bd8gzWkLxl7d2EnyZ0pyT+pe3EHARZONd79SCuNHqaaeIB7foTKLdCt9U6hfY37EIrEanM9NB6CJPSoZ4b2lqp1Bca1aIjd4htqeBJJJQzxCrOQzWwhbUxBtEbPYcw1I7sj0FP+My7evjLFaAegfs6A7nPluAAAAS1BmkJJqEFsmUwIb//+p4QAAAMAAEtIvGcLSJRvNmzb8vuEDYdcm9unhdwAj72YCaOGjUTOr/qa4GsALjkAN+BnB/xOn9fVwFpjZPpvkxgi+T1C9Ydaug0avOGcVKFy3FFAg++/JpmhFpDUo8IeZSjOvyjiC9D8xNl+CbrpMB135LJs+yfYmmFVXK90X+bQNZ3NZs9XAkIqCKklDrGfwiNr3u93yKH0yqOE61aFLN0wrNIvAR0aBEzZ/sRTZtaVSmVlk0VCuJ91J4lZBeib4iBiBkX81vkvTDdQTLVp/dSSs9Uu+atn8tEszyc8Qaw/swohl9S4dbfUQHCgxV/EODpFz3o0gQztz4x7xsdheRHqU8phPGuGAUZN0kxwKWWNLhwE9djEUCZVPboRi+5EAAAAsEGeYEUVLCv/AAHxr0RfroGwkwrPPXIInjE5nk9ookgAldIkny58fwDtrpwOOTeoZgFSNFDdtUVJmxPxwiZ/FsXsiKum9xvfV/gtN8ZAbmmf6tsFkNxT0yJ6ngfjrTcUuiNOk5Ly4MLL0th85EuZFZH/2eQaNv8w9nfUWRufGqU4hqIucwHEUMqfmt45h/3oZx0gnNyw5SfKiM3ZZBxbqssc4FpayOH/CKLkiy82zCQhAAAAgwGen3RCfwACjoxq+7G2B+q8RdY9Yv/7QAQKIAlYPOezs07/0h3GugPQNoGsK2TJpNHFq72g41Zz3vFN9di0WKY0CrFZO7mJaBkUpJXVcVqeY3hEvlgLVr1QAi8fgwx+jWGnRquTs4bxxlymTqEF4WRJeMF+lsgKOYY/6uDO7KJjfuLUAAAAiQGegWpCfwACj2/ga6YrhLb2L9PaBKHpipHZpQy935ABzRW+jOxudkCxa0Qe6oDufGhB+1h45SlotZu0Xgn3rtzuyfWiv5WZP+1WKH5tLhsWzKwnq9Rf8g3yjgQGf0CSEunGpUr//xV/ehxDfL35o1wXZwLoIgB5KG6wTskjkJ23Lsl4s90oEzUxAAABFUGahkmoQWyZTAhv//6nhAAAAwAAS75F92obtIe3IAL5Ox/zg4zfEuz3EeCuJeM9QL7QwamKKKud09WXTY15kMeFAVd6JqqcBEbpeUxOt2f0dlLbLGO3Yu+zl/TvlTmbrxyiJKhzcTftOZ/rfnWml2WUun0NuaGZ17Z64v8Km8XqJWfeWf3UQjXlTc158Uo49MSR9q9h4OfLYi08/mnuL/o7eLEoiWoqdLX/oFdXz/N0YgzNMRS3Il6Se1hO7e5s+Ggh4/qNC7gUjMI/4Bl8+2wo8h9uJkVQknSofoae5KenMmxy/+zX/EyKrBrA5mFrOa5R6tMJ4gjWdH8x9rB6SgtpuU1rKjPAVPpu92HszLCKbxGJUKIAAACeQZ6kRRUsK/8AAfGvRF+ugbCTCs3WI1Dm+QAP550gkrYr30ckyZPYbHBTY4sby7XkfrUltgBfIwOrOjVr7eN2IUoG8P8Mee+OImyKesuyXU9o2UgqsCe3cbkEcmc1YC/z7BAwtd2Dtse1J5nyiTaeZFndy3GSUkwozUlnKOd08OQprmYIvUWI/GWhJdiMtY+9UnIuMSfOjmlfKJmy4xEAAABwAZ7DdEJ/AAKOjGr7sbYIKaAuck2AEKcYiAvip6Biz1Xil23use0BAyX5+rCd9ehtVzbDj4Z6MG9R80uxLWs8pjnGhDV22HEfgbV5ivGGpdlP7jNn15f1ujv6GfIKPEClQNoOtLv1KOlJTb6ofe2TCQAAAJwBnsVqQn8AAo9v4GumK4S1TccsbNp2wAmaIyIsChxp/Kqf2/5JJHasW3StCfnhoETWilVf6B1nyAJEerWRXO0op/tZ3rBUL3fhlwvk33waRXj5sXvkiBlOuARRwXzIIudoAg+AkavkbCSO7VXJOma7+N5kCk0HrnFLP7rLPj84zTL8OVDGyiGOJioJr9nxqS/1zUVrJJDxDpIHMIEAAADtQZrKSahBbJlMCG///qeEAAADAABJvkbAtLFodt7axiAE0GhcpGnsZZSTd/b1f+lHklvAbD6qVgE+AyY0NpypANCxttMAQ/jMHwHGBseov97PX4F3gyUwRnKzpXyJKxILZXFzaOng2sCtlTc71ke0Dd0GZ43JepwkO3ssuf3lYYg2bT/grfmaWqNQR8JdWK4IAFYuQf6SFZCV+wokYrXISdBOHMLXbU4cn/n3tIyOL8alaPL7/WbbDZDhjjTk3mNaAyk/czT9PrXTJzo43FA8Q2adx4+glbw2/jVfD5IYKEdT8ZiTb3e3twkqPV1/AAAAnkGe6EUVLCv/AAHxr0RfroGwkwrOj8jjxNdORYAcbzo7Gm0MNuIWIU0Av3wW/aY25L3PQxfN3fLrdvcYS1AkwG213GG0HwW7thOL2h/2qNN9D8iChaLPfAEIRZFbvIzGdpKIqkOQFOKnF6zvM5SAufyeT1hgghkcjlj5zw4NsdxNeaEA8EXHCdRItrYUF56hmDPZW6JJaDWtZ1IGSCFHAAAAZAGfB3RCfwACjoxq+7G2B+vK+4bHTl3+di9AiDgAdEl+xn8IdRf6SSpt84rK1RIwoYnpx1Joe9HHjkyon71aJZh/l54O8GRiGrT63RAKvZ8fxKbJTp0ee2+7dhuyWtpeE9/Pv0gAAABqAZ8JakJ/AAKPb+BrpiuEhkV1gQAr2ZcAkpOMI57QPt+w6Ug6jLzHti9FOk0hNp+T7GKLXDOWE4pabeWxRAjvEAc70hcROtzola+IN/XxlbLjprCV9kk0Xh3W0QoOkKZiTIGO9BYOOdKtoQAAAN9Bmw5JqEFsmUwIb//+p4QAAAMAAB293nWKi2nRYZnxnZUJNLxqCAG6KBZ2LAoP+J2M/BHX2QDYMns7A7alhi7o7m3fwTfZSIWAmiXi8PtmC0/ZRx3BQ4eku6c/QbJkCJV2vZaq/wdx68ye6ixgCZ7yCaMCLLcx5LnT06yI+PQ/YNH5L2z8WoZPzB/IVIIg7Up6NQuYfo/wCLH1XzYC2+EZMMLNtRjAWbbak9hSPKtqTGAGIs0tBNsOmGM6kO4Lq3WTg81P/qZvgUyhrung83XtNY7VOq8q1x3543jTATpAAAAAekGfLEUVLCv/AAHxr0RfroGwkwrOj8hE1JOnuSPVYQ+TL5mDIATt5vq7VuCuXT0obYY3qMvdW5vfop6OxiFQnSeGCPGFzcLAlQZkeUdb6mK8CcVLtqXujL4vIhJlgsZq4eYaubZt+DVPaTYphEDGQiCo4LLBwJWvCxDcAAAATQGfS3RCfwACjoxq+7G2CGnpJ4u7FUtsMy+o7VUwSOMKFgUADsit+r/vzx+XF428j8IrWR5iDmNRGwQLncI1ds5TnMaseEXe/kE7ykz5AAAASAGfTWpCfwACj2/ga6YrhNcnb9hxyMrrajJKprX51DWAD6SG5Ml3FaqUrHxELxH4iT3qjrIB7Kzvd6TfS8H1WTPNwGbYIegZfQAAAKNBm1JJqEFsmUwIb//+p4QAAAMAAB2gu5hsfNABGVyXbdqM/nLOI0UWRrHFPfklfI6o3Ny0zzRm5I9pfUHPjoMunwdhjhw2nvKmHUJ38/uGeKwOXF7V+ypL4Swo9n70tr46tctuJDWfgFB1tgTAUcEwB5ZxG5/3y6FrO+M2GqTQXNeHZJ4fBj+EL8b6S1oYnZPme2dkLzEfpM74j0tP+qsmHvFBAAAAZEGfcEUVLCv/AAHxr0RfroGwkwrPPdvRwSz4rNaocWfJnaSbjACD9UdjP4Y8WOTnZ1EmN3bJM6Z+cj6BoDess63GygJRDIDyhtARjaBXEXyaHzQFxgACQ7SqaWOjsS2phlx51rIAAAAfAZ+PdEJ/AAKOjGr7sbYIaekni7s4T1Z9GFos1MM4gAAAAE8Bn5FqQn8AAo9v4GumK4TXJ2/YccfkRIplmBtGDC30wv//c4AQnHzbU590kwVNtvz8VJQC4+g22jeOsGJE92XhxiGNr48Eq5CR28nuo7nxAAABAUGblkmoQWyZTAhv//6nhAAAAwAAHaBB7YEgBbBge77Code+siiz49WP+zqsq2xYGq03iKbiOGo3CO/WFF9jsKETcgGBjDcIgolYzahy34+mXBHZEMREiRjBeY55FCKngGGXsoKGdBRqG1HKdbnx64mstOJeN7fKYu4uizlhOR049p37MPZqHm0eAwfiD+sbHgLWwXJrbwddqB6kOXXrplKy0XyZ59xgYI0oBegFGzlbfksgtbihNEmSP+mP9+0cXWIT2WpAjbSE2Kz1kGXqaq2mBXiPDP/IwucsMClRQIx0Ks16HRau+yFvNIELaHxTMT4vStcvgSMlfr1FKGpulnxYAAAAgEGftEUVLCv/AAHxr0RfroGwkwrPPdvRwSqjmR+9Wa6LiTtUAEN6o7EMfSzfPUvPvg8WboDGYBzb+rwmQL6lbVuUJ7EOvePWxoqZCEyirk1oKeYade8kqFYxGLrbnH53r6VE12ts0VGjGsgXN1uummNtGf9p5uOfEUyRQZYa+dB0AAAAQwGf03RCfwACjoxq+7G2CGnbnZ8EhwqguV4lc4LkpifEEMOsAIUdv4xLNi85enIzCQs/mUtbp1bMVYWX1lJIK+EHeUEAAABIAZ/VakJ/AAKPb+BrpiuE1yHrVoKeGj0PoAH88e8WcMiOdQw1zn+N4/2JjezoK3U1LRGn6u3Xwdb+QoIKmFQfGYmLQ0skBRWVAAAA4EGb2kmoQWyZTAhv//6nhAAAAwAAT/pmAASgtJ7ansoINN/9SDw3Z04TZjVR8D+c6hx62/+zmdxs2TrFUPv7qLyoC9z+FcqOMbzXCO23KsfCwY4c2Yc6TjqINBl8zDAuGk1qNJwUVwnBGS8qEGftdjimsrhQ1QOmdmCkSw+jV7e/qdvXdk/74Q8oJsypRT4p2W1+lXH1lWjJGK84JXi5BM7xB7WLC5bDamj88DJomq+8gMnner/EEAOIT2A2hZi6cU0WlgKuQHTXIMSJjgwI3gewIiX0g3ouh1JjWwWjLn5NAAAAaUGf+EUVLCv/AAHxr0RfroGwkwrROFcjbJvPKhzhc9ABls+T119JU5QwDOp2E4aas3weZEeCj4qPaYXa0FD9esiZA+XhsglsdNAw4zp4Qogc+chE73+S+a+QS0zA8ikhOJPVTJ1YA85IgQAAAEwBnhd0Qn8AAo6Mavuxtghp252eohI2pEdjEgDYdXKjfHnWjcj4AIQC0F7pV+b502Q67TqHMPB+G10zGyK53zzIhwWX4X/bIeNNK/D4AAAAPQGeGWpCfwACj2/ga6YrhPqOHFB241OS2pmcDUhpPYQAFz6mWGpguVOt9U8sYERbkobXxoplhycKie3svaEAAAB7QZocSahBbJlMFEw3//6nhAAAAwAAT/mXag37Y8AN1kPgjNAtBA021776GVtost5+fBqEl4jCg5K2DDgOK1IZ58kZBT9/zi//Tsq2kyUaWrECRicPAHYkadgN7LKE1c140YyZecCsACG6Owl84KZCoG0lgbyWs8mex/2AAAAAOgGeO2pCfwACj+b94uVFcVDa29MvKtmAAma9Fo48oAF1tPD3WTEH3pfwB8zTt702SJ6/j04LOlpy+QMAAACzQZogSeEKUmUwIb/+p4QAAAMAAB2+EqtMcALKW+74koOPRfMbijfFnFcSYPBH/eMwBVqaBpoZf/DtncChtJOdxrElWLB+6xKi3lGR8rmtS8nOehqfdH9GlTpyoabYHgonWfpBg2GK6i7a0q5Goa95MckwxTeKg/K8dh/es71hWaflT/YWyTbI2j3U2Hw28n6rsq+wHBIWSOidJOO1ms8LLXFTheNOBCB8gO6qpORWav/LSOEAAABLQZ5eRTRMK/8AAfGN2A16wyBlpTdEhNao9U1TLSetWAE0qOZyrieTYwyQjyq9IWWCIqEdBoiryHdpsndtcUJTUTaUNz7VE1HuqVE3AAAAQgGefXRCfwACjoxq+7G2CGnbnZ6UVamHeCR+Id4AJjNY5TgjqN1023j/avN/sfgwTL7UG4zxfKTJh5nDsI/0A18tVAAAAEcBnn9qQn8AAo9v4GumK4TXIetWjnEv5iESLT/CEauAAOuVHx373GOavQmH89ISTCOAJOpAuS3E1caFHalbWNzTfqt4ffTcgQAAALxBmmNJqEFomUwIb//+p4QAAAMAAB203LonkgBaa0lb5pN+C3HQDl/Fb/dFKtLxMcqViik/8VUYMMfkMWNheygN4jNmYkdktgnuhAnHvkYwRDJXLEuXTIqoccBfmU7uQzGPv+F1ZqvuN759wYLLruWQVMfHeMn3VEhiz4hD5fnGtnyycgeh03dqn4lQYO5XOuJAi2K1sITtXd3JWNmxp+LEVnP+tB6P3Grug2a7A5sCFX8rWaPNUINvC87PiwAAAGdBnoFFESwr/wAB8a9EX66BsJMK0PH6SVSVr0N+aUygxpL7ZAATq4ZMb4qn0ubqVaiU4c6FFQSkIy9MFFHIplZ5Gmgm2ZiiOeO5waAMmrR9HNLacITPyg4K1Oij40q1XEp9qPT7712jAAAASgGeompCfwACj2/ga6YrhNch61aCwts1FWR8wgAmrKcFXropNLwlHDJDWdR6vWPCfdXTxNMzn6Qq3KgdkJvJfe6Gx8j/QCRRtn73AAAA2EGap0moQWyZTAhv//6nhAAAAwAAHc4TyQpdJPTQD0AABxa1mv+Pji72YbTi6QymPaYdsON32XfAHcppQqW+8Tlj4F9bTg1kjeBog164MQ5rJrVWVNGK2AvGcuxk40x19wo/puPFB+8ic4S7bL2/kwgrrLo91N6Wt5PkaOJ1AQAXFWiJCI/k4eK39a0EgbGuRBueJNPrD5NUwEzCm8vU43aMablsgq563IKhLYgOC28zoFoCd6/VQ3jtWBzWh3cAFNl2sicPhfYi5euQWq0Rd3l7r+mJ6zJ0gQAAAJtBnsVFFSwr/wAB8a9EX66BsJMKzz3b0cFB5eCso2wASyVAuDpcG7FRrcDRgADHD+fkSmtCRarA4hgaiSKZ9uS10Pz995P/LZh6uaBIPVDAYIqpFB4jYi39JyQJp3op9rTy1Mp6Ihma1TxfUsgX8Yw++DRzGzYZPT7Sgxeyjzy+uZBJIpa1H4mQF3oPtQi/y67QqugnH/cCXwjuQQAAAEgBnuR0Qn8AAo6Mavuxtghp252fA33HaQUyaqi3ItGq83wABqabPSOLk9vg5E2eSkjoy4VbpaPB7m3EGF/BVFyisJVgoX5+z2UAAACHAZ7makJ/AAKPb+BrpiuE1yHrVoLRtAATt5b9YaIFx6ZaU2RyQDe1iS1PDLnSArv6y1Dr+0TspN30+nd3twEWQqgAN62ieUeriP0y7IkjVaJ5YP6LmYAANAauOxkQcO1ODTZAPOc/mkAPB2cqqlIXZpR5RM9KyRdptz9LKgm2qbkEfb7Rf1ezAAAAy0Ga60moQWyZTAhv//6nhAAAAwAASX9grkwBWJAC3rku6vyBTt2JGmeWqVBAacevXdapCQAVUPehc0jgO0NDMo6cYt2ByQhLJq/oNAvNYrplQhlqBoyl9G0SCmVSKsNGVT6kUsH5znmjUAP3XB0k9mqEsws3LtL4SBGlLmd8VBtFHoh7Sd/U6RnNvcVlmtda4q+AEsMarw6dtolbFEGd+E+8bYQ/V3Wq3YHqwZMLwrNodTH74YX1NnukS7ib6Zg0R1fs2x4yMNVn0udIAAAAmkGfCUUVLCv/AAHxr0RfroGwkwrPPfWIWIlACwENlbqpQNCaWLRxAJOFd7bxKON1YPY15uS5JkW+/9zG5bpotORSPwH+L6217lABlddUs1CWNP/9z+2cOirsg7tZuPMluwpc8bkEvdGahjUmn02TTXtdS6E0vpGFGkXdMpqdvWXYOz+tfQH8iydsZSosTw0boTaYjcYvloyUWagAAABhAZ8odEJ/AAKOjGr7sbYIaeklR69XccgAarN9GWflDQD7MeZ94tl5/jQvl8VomZ9ArMN2FfiweZFfmPd19D2XkyrG/at9zFNLj1g5NNcBVsh9qlsiIDsxSGWeHGcefr88wQAAAGgBnypqQn8AAo9v4GumK4TXJ1AD7u4m13W6eWJMM6nXzDPSwizC/rzQAbUZ3OLsB0yk+GN2fUVmDT68JRAerBO38xTr5JSedL2B3kaFA3ZKm9YxnOl7Dy6c9gr0lanhdeDPbNXT/doS0AAAAJNBmy9JqEFsmUwIb//+p4QAAAMAAElUHtl4Ty0YB6oyABuKM5X95/vNRgMPNblRHal8PXGTS/8yVe4xd/AECkzFwSo3UCDhk5p4rNPNu6Uiy0WxzMhND7XC35922YNbDDYp6dFkbDeu+7HaJQHKXd9Pz9aODT0uqunj1IvvJ3689GecEkgRasqbFafj20LGMm3d5MAAAABKQZ9NRRUsK/8AAfGvRF+ugbCTCs89+DB/g4+V+pTAAEN6FNwPleeDcpeoNWW6Zq9qHbl8R+n/q8rK8CmHPlRNLR1RZh5ZYmxFjx8AAABHAZ9sdEJ/AAKOjGr7sbYIaccLqVsgAXy3bxN7Xd6CcYAtN2nUXjhJDd4z22DDL2pREaCIf1YGfVNyZmKirffwDtoHCd50uTMAAAByAZ9uakJ/AAKPb+BrpiuE1ya/r34Pluf3nMAB2QvWRPresLVwgf798gyPaDNXsBWWwsaM+3/C93obJGje9QYYBCiiK6w0RE1i10FiZOTdEqX5ceEGeNh0VLJvAM4RaKg3ku7Gpg7w+TVaRU9THg0K+RKhAAAAO0Gbc0moQWyZTAhv//6nhAAAAwAAHRH7n5U2y9ut2iQAfyW/DhXN29cFEJ9LG0PKQG5CILPPJLmtBIVAAAAAb0GfkUUVLCv/AAHxr0RfroGwkwrPPfaagXDANQxc1QATOrK0tNzC3tWOGZAEimIX/lCeiMm1HC/l///+sglnUnSbFFzLMHJEoKKD/pvHfoSdoUznWGYEmNKcd1PT9nW3Fjo1j8uBqKkkn7emyjw6kAAAAB0Bn7B0Qn8AAo6Mavuxtghp53SLOJP7iYzqU8fRmQAAADUBn7JqQn8AAo9v4GumK4TXJs7/uBfcABH9x+AEJzp1hMUCGhS7wWjFFZKXA4/jhOyzShiDzAAAACVBm7VJqEFsmUwUTDf//qeEAAADAAAbmPDoAEP1rVqv2Vh0dYyWAAAANwGf1GpCfwACj+b94uVFcVDa2aWCbOZ4x5hl6AA1Wb6M7G+E0OpdfdjBR76SpCQkl0JAY6oRTmkAAADsQZvZSeEKUmUwIb/+p4QAAAMAAElyxO7mA0gBbQKsCoW6UvUfGlFZ0Cse4rLATuZGYWg6Of8ICb9mqnW7eDktEsewOyaRj31A1Cl1gLy17Sf/EFyzbVkc3zUh3LBaZe1auMg4x44WFFGt4BiamfFa3nS8gvQNGPOeXaOK9rvEGBcu/XZKDevACNx2UW4f9XRDWdVbz/rGG+PGvjRT2mAUSYndjZmLQTHxYYP5lRfpSiPKwH5KFqKqbSEglFafeR4ZvP5Y5/vYGI+Am5w9tvIoxpYXX32XwJWD6imzZwX11DEm23rNJaxlfj6yRxYAAAB7QZ/3RTRMK/8AAfGN2A16wyBlpTdEjQG5WKVUha2KBy6FHBX6mQAUrQlQyi6yqV33O1kFSIengtwRQiGioW1kc+xBu/RXByeLvRpFjEnXqnErnEW+vgPtjLQZ7g3oAZdoKoK7dVn5S5V1C/X4bbqFvFHBRfVtE73f26alAAAAOAGeFnRCfwACjoxq+7G2CGnobh1VAAAHZC9ZE+t6gV2w27LDuefQ8D94H3abhQqDIwBIHzbtRqCBAAAARAGeGGpCfwACj2/ga6YrhNcnbmhEYixvd+fIbjDviQ7GSKS7UIqADk40+cMYcgmmAMW2llrJZPUvorvAOWg2TpgmQ+ZIAAAAp0GaHUmoQWiZTAhv//6nhAAAAwAASX9i1CUtzzo2omOlHLvABOrYj/+MIgjPV+DqGG33LjBPjb/sJlmZy+ArYdb612f5D/H7Ti1rIboDf1XOJ09ioyhqcBVIlhD8hp4bKUNfpPNKo4hGUe+MzgO0gzcuRFLV5epZbWQksTZIEjhPOo/LZCz7mm8wIDTXNa6adczb6ckNLa4JWB7hkN1N2UasqLW7cNKTAAAAT0GeO0URLCv/AAHxr0RfroGwkwrPPfjBJlEbhW39ZwWfzXtHlMneelPwsGL5ABqdyvhmMpt4NoVckZ/0XbxQ9mCXAh89ieO1nVCZbBSPYMAAAAAkAZ5adEJ/AAKOjGr7sbYIaeklkU1P3tCeDAu31E4WDu+UZL0xAAAASwGeXGpCfwACj2/ga6YrhNcVqTZkABzRW+jOo/2RZIsTkXiYSEdm3+5cCXBxuuTYTIx5Lq8VMdxqedvpFMdO472wAVc20iFsoQfHgQAAAJBBmkFJqEFsmUwIZ//+nhAAAAMAAR2STNxLkARIa1SXiXt9t4A+RZsvrEh3kzyIF3eGPmaEJZDsfc0dhyuaQJmtUxJM9dgTaucZnDf2k2fA9tJGsGEAbXL2dlwfs4YTMoP3lt+Ic5vX5dKf7JQSA6wY1woOYHyNLG84lGfC4/7LlB/nYsd4u9a3+eo7f/0EdIAAAAByQZ5/RRUsK/8AAfGvRF+ugbCTCs899yT4tITSGOzCPqbboANoLo7FeHMifvvo3izkDrjLLST3AafGZbgOzeM3x+2wV+RGNcyoxkpJF8w3a9OKVrMlVo58Kc/02zuffeFtpc5utU16TEymS5/TAXy7L1jwAAAAagGennRCfwACjoxq+7G2CGnoc8JMJxxGPrQEfInZQAcc5NpKN67K74d//WdrQnZTiwF8MOcMDLeJ2Co9Vg5UAf2CAwT1EE+ms83+KEOh4uY/wBHvR8aJT15HxiQzY5mQqZnsGdTpIw8v2IkAAABAAZ6AakJ/AAKPb+BrpiuE1ydZjIsVUxzjMfh+UgwAHWYQIaPl3yoiYCh8HX3Nt+a3lVsvcFuDSFgmd/QK8ZWIgAAAAIJBmoVJqEFsmUwIX//+jLAAAAMAASCXBeC1PfhtejHGltgBBhNeF3Qck/yi3nxaMp9kT57mMQFo/+MArHOH+4gngdzIEmftG+kQKUADD/cd5CzzKcEWfuLL9963xt5vPgX+sdDJ5BqndqXHmGrywNFz04HrcKXnbsjIBmlfvtqv/huTAAAAZ0Geo0UVLCv/AAHxr0RfroGwkwrPPfjBJlEbhRcde5kVMgAqQvEbglwt9xKJi7dY8JG/NIxCwU2/1aNEkB0+YLNgMsa/72VJlhveNWXYUP5/kG4tNtKIKEvJ3EuBpJkBsS+ohaHSU0gAAAAwAZ7CdEJ/AAKOjGr7sbYH8ns2SvKmS+5RTnFDkVXZoKvQAF6z2JZNcYLVZ1hB39pnAAAANAGexGpCfwACj2/ga6YrhMiNsSvVBIq0zAA6y/yw6zEEExXets/RvaSHCF/3VmFB+J6mZrkAAABZQZrISahBbJlMCE///fEAAAMAAArHzg0JMjcqiSy1q3XHIX6mABdaw6niwhP77aZGjMAjoA17O+kSacgkNOKyvVWO1VEE3e5MjYvr2oGabEqxaolxSyzp1EcAAAA+QZ7mRRUsK/8AAfGvRF+ugbCTCs6PyOZGyd98qmRXCQxuEA61n5G6X6/ABoIWP9yqZW6uiHu+VpAQx3prNIEAAAArAZ8HakJ/AAKPb+BrpiuE1xjWU7+IdPwpl2MP8/l4AHZo9zP9iDgvTklkkgAADF9tb292AAAAbG12aGQAAAAAAAAAAAAAAAAAAAPoAAAaLAABAAABAAAAAAAAAAAAAAAAAQAAAAAAAAAAAAAAAAAAAAEAAAAAAAAAAAAAAAAAAEAAAAAAAAAAAAAAAAAAAAAAAAAAAAAAAAAAAAAAAAACAAALiXRyYWsAAABcdGtoZAAAAAMAAAAAAAAAAAAAAAEAAAAAAAAaLAAAAAAAAAAAAAAAAAAAAAAAAQAAAAAAAAAAAAAAAAAAAAEAAAAAAAAAAAAAAAAAAEAAAAACWAAAAZAAAAAAACRlZHRzAAAAHGVsc3QAAAAAAAAAAQAAGiwAAAQAAAEAAAAACwFtZGlhAAAAIG1kaGQAAAAAAAAAAAAAAAAAADwAAAGSAFXEAAAAAAAtaGRscgAAAAAAAAAAdmlkZQAAAAAAAAAAAAAAAFZpZGVvSGFuZGxlcgAAAAqsbWluZgAAABR2bWhkAAAAAQAAAAAAAAAAAAAAJGRpbmYAAAAcZHJlZgAAAAAAAAABAAAADHVybCAAAAABAAAKbHN0YmwAAACYc3RzZAAAAAAAAAABAAAAiGF2YzEAAAAAAAAAAQAAAAAAAAAAAAAAAAAAAAACWAGQAEgAAABIAAAAAAAAAAEAAAAAAAAAAAAAAAAAAAAAAAAAAAAAAAAAAAAAAAAAAAAY//8AAAAyYXZjQwFkAB7/4QAZZ2QAHqzZQJgz5eEAAAMAAQAAAwA8DxYtlgEABmjr48siwAAAABhzdHRzAAAAAAAAAAEAAADJAAACAAAAABRzdHNzAAAAAAAAAAEAAAABAAAGOGN0dHMAAAAAAAAAxQAAAAEAAAQAAAAAAQAACgAAAAABAAAEAAAAAAEAAAAAAAAAAQAAAgAAAAABAAAKAAAAAAEAAAQAAAAAAQAAAAAAAAABAAACAAAAAAEAAAoAAAAAAQAABAAAAAABAAAAAAAAAAEAAAIAAAAAAQAABgAAAAABAAACAAAAAAEAAAgAAAAAAgAAAgAAAAABAAAKAAAAAAEAAAQAAAAAAQAAAAAAAAABAAACAAAAAAEAAAYAAAAAAQAAAgAAAAABAAAKAAAAAAEAAAQAAAAAAQAAAAAAAAABAAACAAAAAAEAAAoAAAAAAQAABAAAAAABAAAAAAAAAAEAAAIAAAAAAQAACgAAAAABAAAEAAAAAAEAAAAAAAAAAQAAAgAAAAABAAAKAAAAAAEAAAQAAAAAAQAAAAAAAAABAAACAAAAAAEAAAoAAAAAAQAABAAAAAABAAAAAAAAAAEAAAIAAAAAAQAACAAAAAACAAACAAAAAAEAAAoAAAAAAQAABAAAAAABAAAAAAAAAAEAAAIAAAAAAQAACgAAAAABAAAEAAAAAAEAAAAAAAAAAQAAAgAAAAABAAAEAAAAAAEAAAoAAAAAAQAABAAAAAABAAAAAAAAAAEAAAIAAAAAAQAACgAAAAABAAAEAAAAAAEAAAAAAAAAAQAAAgAAAAABAAAKAAAAAAEAAAQAAAAAAQAAAAAAAAABAAACAAAAAAEAAAoAAAAAAQAABAAAAAABAAAAAAAAAAEAAAIAAAAAAQAACgAAAAABAAAEAAAAAAEAAAAAAAAAAQAAAgAAAAABAAAKAAAAAAEAAAQAAAAAAQAAAAAAAAABAAACAAAAAAEAAAoAAAAAAQAABAAAAAABAAAAAAAAAAEAAAIAAAAAAQAACgAAAAABAAAEAAAAAAEAAAAAAAAAAQAAAgAAAAABAAAEAAAAAAEAAAoAAAAAAQAABAAAAAABAAAAAAAAAAEAAAIAAAAAAQAACgAAAAABAAAEAAAAAAEAAAAAAAAAAQAAAgAAAAABAAAKAAAAAAEAAAQAAAAAAQAAAAAAAAABAAACAAAAAAEAAAoAAAAAAQAABAAAAAABAAAAAAAAAAEAAAIAAAAAAQAACgAAAAABAAAEAAAAAAEAAAAAAAAAAQAAAgAAAAABAAAKAAAAAAEAAAQAAAAAAQAAAAAAAAABAAACAAAAAAEAAAYAAAAAAQAAAgAAAAABAAAKAAAAAAEAAAQAAAAAAQAAAAAAAAABAAACAAAAAAEAAAoAAAAAAQAABAAAAAABAAAAAAAAAAEAAAIAAAAAAQAACgAAAAABAAAEAAAAAAEAAAAAAAAAAQAAAgAAAAABAAAKAAAAAAEAAAQAAAAAAQAAAAAAAAABAAACAAAAAAEAAAoAAAAAAQAABAAAAAABAAAAAAAAAAEAAAIAAAAAAQAACgAAAAABAAAEAAAAAAEAAAAAAAAAAQAAAgAAAAABAAAKAAAAAAEAAAQAAAAAAQAAAAAAAAABAAACAAAAAAEAAAoAAAAAAQAABAAAAAABAAAAAAAAAAEAAAIAAAAAAQAACgAAAAABAAAEAAAAAAEAAAAAAAAAAQAAAgAAAAABAAAKAAAAAAEAAAQAAAAAAQAAAAAAAAABAAACAAAAAAEAAAYAAAAAAQAAAgAAAAABAAAKAAAAAAEAAAQAAAAAAQAAAAAAAAABAAACAAAAAAEAAAgAAAAAAgAAAgAAAAABAAAKAAAAAAEAAAQAAAAAAQAAAAAAAAABAAACAAAAAAEAAAoAAAAAAQAABAAAAAABAAAAAAAAAAEAAAIAAAAAAQAACgAAAAABAAAEAAAAAAEAAAAAAAAAAQAAAgAAAAABAAAKAAAAAAEAAAQAAAAAAQAAAAAAAAABAAACAAAAAAEAAAYAAAAAAQAAAgAAAAABAAAKAAAAAAEAAAQAAAAAAQAAAAAAAAABAAACAAAAAAEAAAoAAAAAAQAABAAAAAABAAAAAAAAAAEAAAIAAAAAAQAACgAAAAABAAAEAAAAAAEAAAAAAAAAAQAAAgAAAAABAAAKAAAAAAEAAAQAAAAAAQAAAAAAAAABAAACAAAAAAEAAAgAAAAAAgAAAgAAAAAcc3RzYwAAAAAAAAABAAAAAQAAAMkAAAABAAADOHN0c3oAAAAAAAAAAAAAAMkAABOeAAACTgAAALgAAABiAAAAVwAAAN4AAACRAAAANAAAAHYAAADkAAAAkQAAAHAAAABsAAAAywAAAGsAAACpAAAAjAAAAFQAAAD6AAAAkwAAAIYAAACOAAAAzQAAAHYAAADFAAAAogAAAHUAAABYAAAA9wAAAJoAAABnAAAAkwAAARwAAACRAAAAcQAAAGwAAADKAAAAbAAAAGYAAABdAAAA3QAAAFIAAABcAAAAcAAAAPQAAAB+AAAAXwAAAOgAAACnAAAAeQAAAHUAAADeAAAAnQAAAIgAAACEAAAAjgAAAR0AAACUAAAAawAAAIAAAAEEAAAAoAAAAIkAAABlAAAA6wAAAJUAAABsAAAATQAAAKYAAABzAAAAUgAAACMAAACwAAAAWAAAAFQAAABjAAAAqAAAAI4AAACGAAAAaQAAAMYAAACHAAAAZwAAAH8AAADUAAAAtQAAAG4AAABqAAAAxAAAARYAAACpAAAAiAAAAI0AAAEIAAAArQAAAIYAAACIAAABFgAAALAAAACZAAAAcwAAATAAAAC0AAAAiwAAAHkAAAEIAAAAxgAAAI4AAAB+AAAA1AAAAJkAAABFAAAAQgAAAOYAAACFAAAAxgAAAK4AAACNAAAAiQAAARIAAACmAAAAmwAAAIYAAADaAAAAsgAAAGwAAACSAAABMQAAALQAAACHAAAAjQAAARkAAACiAAAAdAAAAKAAAADxAAAAogAAAGgAAABuAAAA4wAAAH4AAABRAAAATAAAAKcAAABoAAAAIwAAAFMAAAEFAAAAhAAAAEcAAABMAAAA5AAAAG0AAABQAAAAQQAAAH8AAAA+AAAAtwAAAE8AAABGAAAASwAAAMAAAABrAAAATgAAANwAAACfAAAATAAAAIsAAADPAAAAngAAAGUAAABsAAAAlwAAAE4AAABLAAAAdgAAAD8AAABzAAAAIQAAADkAAAApAAAAOwAAAPAAAAB/AAAAPAAAAEgAAACrAAAAUwAAACgAAABPAAAAlAAAAHYAAABuAAAARAAAAIYAAABrAAAANAAAADgAAABdAAAAQgAAAC8AAAAUc3RjbwAAAAAAAAABAAAAMAAAAGJ1ZHRhAAAAWm1ldGEAAAAAAAAAIWhkbHIAAAAAAAAAAG1kaXJhcHBsAAAAAAAAAAAAAAAALWlsc3QAAAAlqXRvbwAAAB1kYXRhAAAAAQAAAABMYXZmNTcuODMuMTAw\" type=\"video/mp4\" />\n",
              "                </video><br><video alt=\"video/openaigym.video.0.100.video000027.mp4\" autoplay \n",
              "                    loop controls style=\"height: 400px;\">\n",
              "                    <source src=\"data:video/mp4;base64,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\" type=\"video/mp4\" />\n",
              "                </video><br><video alt=\"video/openaigym.video.0.100.video000125.mp4\" autoplay \n",
              "                    loop controls style=\"height: 400px;\">\n",
              "                    <source src=\"data:video/mp4;base64,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\" type=\"video/mp4\" />\n",
              "                </video><br><video alt=\"video/openaigym.video.0.100.video000064.mp4\" autoplay \n",
              "                    loop controls style=\"height: 400px;\">\n",
              "                    <source src=\"data:video/mp4;base64,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\" type=\"video/mp4\" />\n",
              "                </video><br><video alt=\"video/openaigym.video.0.100.video000000.mp4\" autoplay \n",
              "                    loop controls style=\"height: 400px;\">\n",
              "                    <source src=\"data:video/mp4;base64,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\" type=\"video/mp4\" />\n",
              "                </video><br><video alt=\"video/openaigym.video.0.100.video000216.mp4\" autoplay \n",
              "                    loop controls style=\"height: 400px;\">\n",
              "                    <source src=\"data:video/mp4;base64,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\" type=\"video/mp4\" />\n",
              "                </video><br><video alt=\"video/openaigym.video.0.100.video000729.mp4\" autoplay \n",
              "                    loop controls style=\"height: 400px;\">\n",
              "                    <source src=\"data:video/mp4;base64,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\" type=\"video/mp4\" />\n",
              "                </video><br><video alt=\"video/openaigym.video.0.100.video000008.mp4\" autoplay \n",
              "                    loop controls style=\"height: 400px;\">\n",
              "                    <source src=\"data:video/mp4;base64,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\" type=\"video/mp4\" />\n",
              "                </video><br><video alt=\"video/openaigym.video.0.100.video000512.mp4\" autoplay \n",
              "                    loop controls style=\"height: 400px;\">\n",
              "                    <source src=\"data:video/mp4;base64,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\" type=\"video/mp4\" />\n",
              "                </video>"
            ],
            "text/plain": [
              "<IPython.core.display.HTML object>"
            ]
          },
          "metadata": {
            "tags": []
          }
        }
      ]
    }
  ]
}